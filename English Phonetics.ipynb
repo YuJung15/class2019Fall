{
 "cells": [
  {
   "cell_type": "markdown",
   "metadata": {},
   "source": [
    "# variables"
   ]
  },
  {
   "cell_type": "code",
   "execution_count": 1,
   "metadata": {},
   "outputs": [],
   "source": [
    "a = 1      #'='은 같다는 것이 아니라, 오른쪽에 있는 정보를 왼쪽에 있는 variable로 assign한다. "
   ]
  },
  {
   "cell_type": "code",
   "execution_count": 2,
   "metadata": {},
   "outputs": [
    {
     "name": "stdout",
     "output_type": "stream",
     "text": [
      "1\n"
     ]
    }
   ],
   "source": [
    "print(a)   #print 함수에 변수 a를 입력하면 그 값이 출력된다."
   ]
  },
  {
   "cell_type": "code",
   "execution_count": 3,
   "metadata": {},
   "outputs": [],
   "source": [
    "#cell을 추가하려면 클릭하고 a, 삭제하려면 x\n",
    "#cell by cell로 실행된다.(하고 싶은 것만 실행 가능)"
   ]
  },
  {
   "cell_type": "code",
   "execution_count": 4,
   "metadata": {},
   "outputs": [],
   "source": [
    "a = 2   #variable은 unique하기 때문에, a값은 '1'이 아니라 가장 최근에 저장된 '2'다."
   ]
  },
  {
   "cell_type": "code",
   "execution_count": 5,
   "metadata": {},
   "outputs": [
    {
     "name": "stdout",
     "output_type": "stream",
     "text": [
      "2\n"
     ]
    }
   ],
   "source": [
    "print(a)"
   ]
  },
  {
   "cell_type": "code",
   "execution_count": 6,
   "metadata": {},
   "outputs": [],
   "source": [
    "b = 'love'  #문자를 표현하는 방법은 '' \"\" 인용부호를 사용한다."
   ]
  },
  {
   "cell_type": "code",
   "execution_count": 7,
   "metadata": {},
   "outputs": [
    {
     "name": "stdout",
     "output_type": "stream",
     "text": [
      "love\n"
     ]
    }
   ],
   "source": [
    "print(b)"
   ]
  },
  {
   "cell_type": "code",
   "execution_count": 8,
   "metadata": {},
   "outputs": [],
   "source": [
    "love = 2  #love라는 변수에 숫자 2를 넣는다."
   ]
  },
  {
   "cell_type": "code",
   "execution_count": 9,
   "metadata": {},
   "outputs": [],
   "source": [
    "b = love  #b에 love가 가지고 있는 변수의 내용, 2를 넣는다."
   ]
  },
  {
   "cell_type": "code",
   "execution_count": 10,
   "metadata": {},
   "outputs": [
    {
     "name": "stdout",
     "output_type": "stream",
     "text": [
      "2\n"
     ]
    }
   ],
   "source": [
    "print(b)"
   ]
  },
  {
   "cell_type": "code",
   "execution_count": 11,
   "metadata": {},
   "outputs": [
    {
     "data": {
      "text/plain": [
       "3"
      ]
     },
     "execution_count": 11,
     "metadata": {},
     "output_type": "execute_result"
    }
   ],
   "source": [
    "a = 1\n",
    "b = 2\n",
    "b\n",
    "c = 3\n",
    "c      #제일 마지막에 있는 변수명을 쓰면, 하나는 보여준다."
   ]
  },
  {
   "cell_type": "code",
   "execution_count": 12,
   "metadata": {},
   "outputs": [
    {
     "data": {
      "text/plain": [
       "3"
      ]
     },
     "execution_count": 12,
     "metadata": {},
     "output_type": "execute_result"
    }
   ],
   "source": [
    "c"
   ]
  },
  {
   "cell_type": "code",
   "execution_count": 13,
   "metadata": {},
   "outputs": [],
   "source": [
    "a = 1 ; b = 2 ; c = 3"
   ]
  },
  {
   "cell_type": "code",
   "execution_count": 14,
   "metadata": {},
   "outputs": [
    {
     "name": "stdout",
     "output_type": "stream",
     "text": [
      "1\n",
      "2\n",
      "3\n"
     ]
    }
   ],
   "source": [
    "print(a) ; print(b) ; print(c)  #;을 사용하면 1 line에 적을 수 있다."
   ]
  },
  {
   "cell_type": "code",
   "execution_count": 15,
   "metadata": {},
   "outputs": [],
   "source": [
    "a = [1, 2, 3, 5]   #여러 값을 하나의 변수에 저장하는 것을 list라고 한다."
   ]
  },
  {
   "cell_type": "code",
   "execution_count": 16,
   "metadata": {},
   "outputs": [
    {
     "data": {
      "text/plain": [
       "list"
      ]
     },
     "execution_count": 16,
     "metadata": {},
     "output_type": "execute_result"
    }
   ],
   "source": [
    "type(a)    #()안에는 변수만 사용 가능, type함수는 변수 data의 유형을 출력한다."
   ]
  },
  {
   "cell_type": "code",
   "execution_count": 17,
   "metadata": {},
   "outputs": [
    {
     "data": {
      "text/plain": [
       "int"
      ]
     },
     "execution_count": 17,
     "metadata": {},
     "output_type": "execute_result"
    }
   ],
   "source": [
    "a = 1 ; type(a)   #int는 정수형 숫자"
   ]
  },
  {
   "cell_type": "code",
   "execution_count": 18,
   "metadata": {},
   "outputs": [
    {
     "data": {
      "text/plain": [
       "float"
      ]
     },
     "execution_count": 18,
     "metadata": {},
     "output_type": "execute_result"
    }
   ],
   "source": [
    "a = 1.2 ; type(a)  #float은 실수형 숫자"
   ]
  },
  {
   "cell_type": "code",
   "execution_count": 19,
   "metadata": {},
   "outputs": [
    {
     "data": {
      "text/plain": [
       "str"
      ]
     },
     "execution_count": 19,
     "metadata": {},
     "output_type": "execute_result"
    }
   ],
   "source": [
    "a = 'love' ; type(a)  #str은 문자"
   ]
  },
  {
   "cell_type": "code",
   "execution_count": 20,
   "metadata": {},
   "outputs": [
    {
     "data": {
      "text/plain": [
       "list"
      ]
     },
     "execution_count": 20,
     "metadata": {},
     "output_type": "execute_result"
    }
   ],
   "source": [
    "a = [1,2,3,5,'love'] ; type(a)   #list에 반드시 숫자만 들어갈 필요는 없다. type에 상관없이 여러 값을 저장할 수 있다."
   ]
  },
  {
   "cell_type": "code",
   "execution_count": 21,
   "metadata": {},
   "outputs": [
    {
     "data": {
      "text/plain": [
       "list"
      ]
     },
     "execution_count": 21,
     "metadata": {},
     "output_type": "execute_result"
    }
   ],
   "source": [
    "a = [1, 'love', [1,'bye']] ; type(a)   #list 속에 list가 들어갈 수 있다."
   ]
  },
  {
   "cell_type": "code",
   "execution_count": 22,
   "metadata": {},
   "outputs": [
    {
     "data": {
      "text/plain": [
       "tuple"
      ]
     },
     "execution_count": 22,
     "metadata": {},
     "output_type": "execute_result"
    }
   ],
   "source": [
    "a = (1,'love') ; type(a)\n",
    "\n",
    "#모든 list는 []를 사용해야 한다. list와 동일하지만 ()를 쓰는 건, 튜플!"
   ]
  },
  {
   "cell_type": "code",
   "execution_count": 24,
   "metadata": {},
   "outputs": [
    {
     "data": {
      "text/plain": [
       "dict"
      ]
     },
     "execution_count": 24,
     "metadata": {},
     "output_type": "execute_result"
    }
   ],
   "source": [
    "a = {'a': 'apple', 'b':'banana'} ; type(a)\n",
    "\n",
    "#{}는 dictionary, '표제어:설명' 두 쌍으로 구성된 원리. str만 쓰는 것 아님! \n",
    "#list와 dictionary는 ,로 구분해서 몇 개가 들어있는지 알 수 있다."
   ]
  },
  {
   "cell_type": "markdown",
   "metadata": {},
   "source": [
    "좌측 variable에 우측 content를 assign한다. 정보에 해당하는 부분은 숫자와 문자.\n",
    "숫자는 그냥 적으면 되고, 문자는 '', \"\" 이용해서 적는다.\n",
    "\n",
    "하나의 정보를 넣을 수 있지만 여러 정보를 한꺼번에 넣을 수 있다.\n",
    "[list] - 문자, 숫자, 리스트도 들어갈 수 있고, ','로 구분해준다.\n",
    "(tuple) - 리스트와 동일한데, 보안적인 측면에서 리스트보다 좋다.\n",
    "{dictionary} - 리스트와 동일하게 여러 정보를 넣는데, 리스트는 단편적인 정보를 sequence로 넣었으나, dictionary는 pair로 정보를 입력한다."
   ]
  },
  {
   "cell_type": "code",
   "execution_count": 25,
   "metadata": {},
   "outputs": [],
   "source": [
    "#어떤 variable 속에 정보가 들어있을 때, 정보를 access해서 사용할 수 있어야 한다!\n",
    "a = 1 ; b = 1 ; c = a,b"
   ]
  },
  {
   "cell_type": "code",
   "execution_count": 26,
   "metadata": {},
   "outputs": [
    {
     "data": {
      "text/plain": [
       "(1, 1)"
      ]
     },
     "execution_count": 26,
     "metadata": {},
     "output_type": "execute_result"
    }
   ],
   "source": [
    "c"
   ]
  },
  {
   "cell_type": "code",
   "execution_count": 27,
   "metadata": {},
   "outputs": [
    {
     "name": "stdout",
     "output_type": "stream",
     "text": [
      "(1, 1)\n"
     ]
    }
   ],
   "source": [
    "print(c)    #c와 print(c)의 차이는? c의 값이 왜 튜플로 나오지?"
   ]
  },
  {
   "cell_type": "code",
   "execution_count": 28,
   "metadata": {},
   "outputs": [
    {
     "name": "stdout",
     "output_type": "stream",
     "text": [
      "2\n"
     ]
    }
   ],
   "source": [
    "c = a + b ; print(c)   #c에 a가 1, b가 1, 그리고 c가 2라는 정보를 확인할 수 있다."
   ]
  },
  {
   "cell_type": "code",
   "execution_count": 29,
   "metadata": {},
   "outputs": [
    {
     "data": {
      "text/plain": [
       "4"
      ]
     },
     "execution_count": 29,
     "metadata": {},
     "output_type": "execute_result"
    }
   ],
   "source": [
    "a = [1, 2] ; b = [3, 4]\n",
    "c = a[0] + b[0]\n",
    "c\n",
    "\n",
    "#c[]는 list에서 여러 정보가 있을 때 필요한 정보를 가져올 수 있는 것. 컴퓨터는 0번째부터 시작."
   ]
  },
  {
   "cell_type": "markdown",
   "metadata": {},
   "source": [
    "type : 숫자(int, float), text(str), list, tuple, dictionary"
   ]
  },
  {
   "cell_type": "code",
   "execution_count": 30,
   "metadata": {},
   "outputs": [
    {
     "name": "stdout",
     "output_type": "stream",
     "text": [
      "<class 'int'>\n"
     ]
    }
   ],
   "source": [
    "a = 1; print(type(a))"
   ]
  },
  {
   "cell_type": "code",
   "execution_count": 31,
   "metadata": {},
   "outputs": [
    {
     "name": "stdout",
     "output_type": "stream",
     "text": [
      "<class 'float'>\n"
     ]
    }
   ],
   "source": [
    "a = 1; a = float(a) ; print(type(a))"
   ]
  },
  {
   "cell_type": "code",
   "execution_count": 32,
   "metadata": {},
   "outputs": [
    {
     "name": "stdout",
     "output_type": "stream",
     "text": [
      "<class 'int'>\n"
     ]
    }
   ],
   "source": [
    "a = 1.2; a = int(a) ; print(type(a))"
   ]
  },
  {
   "cell_type": "code",
   "execution_count": 33,
   "metadata": {},
   "outputs": [
    {
     "name": "stdout",
     "output_type": "stream",
     "text": [
      "1\n"
     ]
    }
   ],
   "source": [
    "a = 1.2; a = int(a) ; print(a)"
   ]
  },
  {
   "cell_type": "code",
   "execution_count": 34,
   "metadata": {},
   "outputs": [
    {
     "name": "stdout",
     "output_type": "stream",
     "text": [
      "<class 'str'>\n",
      "2\n"
     ]
    }
   ],
   "source": [
    "a = '123'; print(type(a)); print(a[1])\n",
    "\n",
    "#어떤 variable의 내부 정보를 이용할 때는 반드시 []를 쓰고, [] 내에 index를 쓴다.\n",
    "#2라는 문자를 가져온 것이지, 숫자를 가져온 것이 아니다."
   ]
  },
  {
   "cell_type": "code",
   "execution_count": 46,
   "metadata": {},
   "outputs": [
    {
     "ename": "TypeError",
     "evalue": "'int' object is not subscriptable",
     "output_type": "error",
     "traceback": [
      "\u001b[1;31m---------------------------------------------------------------------------\u001b[0m",
      "\u001b[1;31mTypeError\u001b[0m                                 Traceback (most recent call last)",
      "\u001b[1;32m<ipython-input-46-30b1cf6c98e0>\u001b[0m in \u001b[0;36m<module>\u001b[1;34m\u001b[0m\n\u001b[1;32m----> 1\u001b[1;33m \u001b[0ma\u001b[0m \u001b[1;33m=\u001b[0m \u001b[1;36m123\u001b[0m \u001b[1;33m;\u001b[0m \u001b[0mprint\u001b[0m\u001b[1;33m(\u001b[0m\u001b[0ma\u001b[0m\u001b[1;33m[\u001b[0m\u001b[1;36m1\u001b[0m\u001b[1;33m]\u001b[0m\u001b[1;33m)\u001b[0m\u001b[1;33m\u001b[0m\u001b[1;33m\u001b[0m\u001b[0m\n\u001b[0m",
      "\u001b[1;31mTypeError\u001b[0m: 'int' object is not subscriptable"
     ]
    }
   ],
   "source": [
    "a = 123 ; print(a[1])"
   ]
  },
  {
   "cell_type": "code",
   "execution_count": 49,
   "metadata": {},
   "outputs": [
    {
     "name": "stdout",
     "output_type": "stream",
     "text": [
      "124\n"
     ]
    }
   ],
   "source": [
    "a = [123, 124]; print(a[1])"
   ]
  },
  {
   "cell_type": "code",
   "execution_count": 47,
   "metadata": {
    "scrolled": false
   },
   "outputs": [
    {
     "name": "stdout",
     "output_type": "stream",
     "text": [
      "<class 'list'>\n",
      "['1', '2', '3']\n",
      "3\n"
     ]
    }
   ],
   "source": [
    "a = '123' ; a = list(a)    #str을 하나씩 쪼개서 list화시키는 것.\n",
    "print(type(a)); print(a); print(a[2])"
   ]
  },
  {
   "cell_type": "code",
   "execution_count": 36,
   "metadata": {},
   "outputs": [
    {
     "name": "stdout",
     "output_type": "stream",
     "text": [
      "<class 'list'>\n",
      "1\n",
      "2\n",
      "[3, '4']\n"
     ]
    }
   ],
   "source": [
    "a = [1, '2', [3, '4']]  #list 속에 list가 들어간 사례\n",
    "print(type(a))\n",
    "print(a[0]) #int\n",
    "print(a[1]) #str        #print되면 str, int는 차이가 없다?!\n",
    "print(a[2]) #list"
   ]
  },
  {
   "cell_type": "code",
   "execution_count": 37,
   "metadata": {},
   "outputs": [
    {
     "name": "stdout",
     "output_type": "stream",
     "text": [
      "<class 'tuple'>\n",
      "1\n",
      "2\n",
      "[3, '4']\n"
     ]
    }
   ],
   "source": [
    "a = (1, '2', [3, '4']); print(type(a)); print(a[0]); print(a[1]); print(a[2])\n",
    "\n",
    "#list와 access하는 방법이 동일한 tuple"
   ]
  },
  {
   "cell_type": "code",
   "execution_count": 38,
   "metadata": {
    "scrolled": true
   },
   "outputs": [
    {
     "name": "stdout",
     "output_type": "stream",
     "text": [
      "<class 'dict'>\n",
      "apple\n"
     ]
    }
   ],
   "source": [
    "a = {\"a\": \"apple\", \"b\": \"orange\", \"c\":2014}\n",
    "print(type(a))\n",
    "print(a[\"a\"])\n",
    "\n",
    "#여러 정보가 한꺼번에 담겨있다는 측면에서 list와 동일하나, 정보가 pair로 들어간다.\n",
    "#dict access: pair set에서 앞 부분을 access의 index의 수단으로 쓴다.\n",
    "#print(a[\"a\"]): a의 \"a\"정보를 가져와라.\n",
    "#사전은 '표제어:내용'의 pair 구성인데, 표제어로 indexing, access해서 내용을 출력한다.\n",
    "\n",
    "#표제어가 지금 다 str인데, int로 해도 가능할까? print(a[1]) 출력되나? Yes!"
   ]
  },
  {
   "cell_type": "code",
   "execution_count": 50,
   "metadata": {},
   "outputs": [
    {
     "name": "stdout",
     "output_type": "stream",
     "text": [
      "<class 'list'>\n"
     ]
    },
    {
     "data": {
      "text/plain": [
       "[(1, 2, 3), (3, 8, 0)]"
      ]
     },
     "execution_count": 50,
     "metadata": {},
     "output_type": "execute_result"
    }
   ],
   "source": [
    "a = [(1,2,3), (3,8,0)]\n",
    "print(type(a))\n",
    "a                #a는 전체적으로 list지만 내부적으로 정보는 tuple이다."
   ]
  },
  {
   "cell_type": "code",
   "execution_count": 51,
   "metadata": {},
   "outputs": [
    {
     "data": {
      "text/plain": [
       "(1, 2, 3)"
      ]
     },
     "execution_count": 51,
     "metadata": {},
     "output_type": "execute_result"
    }
   ],
   "source": [
    "a[0]"
   ]
  },
  {
   "cell_type": "code",
   "execution_count": 52,
   "metadata": {},
   "outputs": [
    {
     "data": {
      "text/plain": [
       "tuple"
      ]
     },
     "execution_count": 52,
     "metadata": {},
     "output_type": "execute_result"
    }
   ],
   "source": [
    "type(a[0])      #각각의 variable에 대한 type을 물어볼 수도 있다."
   ]
  },
  {
   "cell_type": "markdown",
   "metadata": {},
   "source": [
    "# string"
   ]
  },
  {
   "cell_type": "code",
   "execution_count": 53,
   "metadata": {},
   "outputs": [
    {
     "name": "stdout",
     "output_type": "stream",
     "text": [
      "<class 'str'>\n",
      "a f f a\n",
      "bc bcdef abc abcdef\n"
     ]
    }
   ],
   "source": [
    "s = 'abcdef'\n",
    "print(type(s))\n",
    "print(s[0], s[5], s[-1], s[-6])      #index: 순방향(0부터), 역방향(-1부터)\n",
    "print(s[1:3], s[1:], s[:3], s[:])    #range해서 여러 정보를 담을 수 있는 slicing':'\n",
    "#[1:3]은 1에서 3 직전까지, [1:]는 1에서 끝까지, [:3]는 처음부터 3 직전까지, [:]는 전체"
   ]
  },
  {
   "cell_type": "code",
   "execution_count": 54,
   "metadata": {},
   "outputs": [
    {
     "name": "stdout",
     "output_type": "stream",
     "text": [
      "100 300 300 100\n",
      "[200] [200, 300] [100, 200] [100, 200, 300]\n"
     ]
    }
   ],
   "source": [
    "#str과 list의 정보 access 방식이 동일하다.\n",
    "n = [100, 200, 300]\n",
    "print(n[0], n[2], n[-1], n[-3])\n",
    "print(n[1:2], n[1:], n[:2], n[:])"
   ]
  },
  {
   "cell_type": "code",
   "execution_count": 55,
   "metadata": {},
   "outputs": [
    {
     "data": {
      "text/plain": [
       "6"
      ]
     },
     "execution_count": 55,
     "metadata": {},
     "output_type": "execute_result"
    }
   ],
   "source": [
    "len(s)  #len함수는 variable 내에 있는 정보의 개수, 길이"
   ]
  },
  {
   "cell_type": "code",
   "execution_count": 56,
   "metadata": {},
   "outputs": [
    {
     "data": {
      "text/plain": [
       "3"
      ]
     },
     "execution_count": 56,
     "metadata": {},
     "output_type": "execute_result"
    }
   ],
   "source": [
    "len(n)"
   ]
  },
  {
   "cell_type": "code",
   "execution_count": 57,
   "metadata": {},
   "outputs": [
    {
     "data": {
      "text/plain": [
       "'bdefefefefefefefefefef'"
      ]
     },
     "execution_count": 57,
     "metadata": {},
     "output_type": "execute_result"
    }
   ],
   "source": [
    "s[1]+s[3]+s[4:]*10"
   ]
  },
  {
   "cell_type": "code",
   "execution_count": 58,
   "metadata": {},
   "outputs": [
    {
     "data": {
      "text/plain": [
       "'ABCDEF'"
      ]
     },
     "execution_count": 58,
     "metadata": {},
     "output_type": "execute_result"
    }
   ],
   "source": [
    "s.upper()   #upper함수는 s를 upper시키는, 대문자화하는 함수."
   ]
  },
  {
   "cell_type": "code",
   "execution_count": 59,
   "metadata": {},
   "outputs": [
    {
     "data": {
      "text/plain": [
       "' this is a house built this year.\\n'"
      ]
     },
     "execution_count": 59,
     "metadata": {},
     "output_type": "execute_result"
    }
   ],
   "source": [
    "s = ' this is a house built this year.\\n'\n",
    "s\n",
    "\n",
    "#s라는 variable에 str 문장 입력.\n",
    "#text analysis 기본 유형(access) -> 관련 연구: nlp(nature language process) 자연어처리"
   ]
  },
  {
   "cell_type": "markdown",
   "metadata": {},
   "source": [
    "variable.함수() 라고 적으면 함수가 실행이 된다!\n",
    "\n",
    "'.함수()'가 이미 정의돼 있는 것."
   ]
  },
  {
   "cell_type": "code",
   "execution_count": 60,
   "metadata": {},
   "outputs": [
    {
     "data": {
      "text/plain": [
       "11"
      ]
     },
     "execution_count": 60,
     "metadata": {},
     "output_type": "execute_result"
    }
   ],
   "source": [
    "result = s.find('house')   #index of first instance of string t inside s (-1 if not found)\n",
    "result\n",
    "\n",
    "#find 함수는 s라는 str variable에서 'house'를 찾아라!\n",
    "#11번째에서 'house'가 시작되는 것. space 포함해서 11번째 위치."
   ]
  },
  {
   "cell_type": "code",
   "execution_count": 61,
   "metadata": {},
   "outputs": [
    {
     "data": {
      "text/plain": [
       "1"
      ]
     },
     "execution_count": 61,
     "metadata": {},
     "output_type": "execute_result"
    }
   ],
   "source": [
    "result = s.find('this')   #index of last instance of string t inside s (-1 if not found)\n",
    "result\n",
    "\n",
    "#space가 문장 앞에 있으면 문장 첫 단어의 위치는 1, 그렇지 않으면 0."
   ]
  },
  {
   "cell_type": "code",
   "execution_count": 62,
   "metadata": {},
   "outputs": [
    {
     "data": {
      "text/plain": [
       "23"
      ]
     },
     "execution_count": 62,
     "metadata": {},
     "output_type": "execute_result"
    }
   ],
   "source": [
    "result = s.rindex('this')   #like s.find(t) except it raises ValueError if not found\n",
    "result\n",
    "\n",
    "#r은 right 오른쪽에서 count한다는 것.\n",
    "#rindex는 여러 개 찾아졌을 때 제일 오른쪽 마지막 것을 count해라!(last index)"
   ]
  },
  {
   "cell_type": "code",
   "execution_count": 63,
   "metadata": {},
   "outputs": [
    {
     "data": {
      "text/plain": [
       "'this is a house built this year.'"
      ]
     },
     "execution_count": 63,
     "metadata": {},
     "output_type": "execute_result"
    }
   ],
   "source": [
    "s = s.strip()   #a copy of s without leading or trailing whitespace\n",
    "s\n",
    "\n",
    "#strip 함수는 좌우공백 제거하고 순수한 text만 남겨주는 함수."
   ]
  },
  {
   "cell_type": "code",
   "execution_count": 64,
   "metadata": {},
   "outputs": [
    {
     "data": {
      "text/plain": [
       "['this', 'is', 'a', 'house', 'built', 'this', 'year.']"
      ]
     },
     "execution_count": 64,
     "metadata": {},
     "output_type": "execute_result"
    }
   ],
   "source": [
    "tokens = s.split(' ')   #split s into a list wherever a t is found (whitespace by default)\n",
    "tokens\n",
    "\n",
    "#변수 s에는 str 문장이 들어 있는데, 단어별로 쪼개서 list로 만들고 싶을 때 split함수를 사용한다.\n",
    "#space를 기준으로 단어를 쪼개 list로 만드는 것. 단어들이 ,로 이루어졌다면 ','를 쓰면 된다!"
   ]
  },
  {
   "cell_type": "code",
   "execution_count": 65,
   "metadata": {},
   "outputs": [
    {
     "data": {
      "text/plain": [
       "'this is a house built this year.'"
      ]
     },
     "execution_count": 65,
     "metadata": {},
     "output_type": "execute_result"
    }
   ],
   "source": [
    "s= ' '.join(tokens)   #combine the words of the text into a string using s as the glue\n",
    "s\n",
    "\n",
    "#split과 join함수는 pair로 잘 쓰인다. split함수로 list를 만든 것을, 복구시키고 싶을 때 join함수 사용!\n",
    "#'(space)'를 이용해서 token에 있던 list들을 join시킨다."
   ]
  },
  {
   "cell_type": "code",
   "execution_count": 66,
   "metadata": {},
   "outputs": [
    {
     "data": {
      "text/plain": [
       "'this,is,a,house,built,this,year.'"
      ]
     },
     "execution_count": 66,
     "metadata": {},
     "output_type": "execute_result"
    }
   ],
   "source": [
    "s=','.join(tokens)\n",
    "s"
   ]
  },
  {
   "cell_type": "code",
   "execution_count": 67,
   "metadata": {},
   "outputs": [
    {
     "data": {
      "text/plain": [
       "'that,is,a,house,built,that,year.'"
      ]
     },
     "execution_count": 67,
     "metadata": {},
     "output_type": "execute_result"
    }
   ],
   "source": [
    "s = s.replace('this', 'that')   #replace instance of t with u inside s\n",
    "s\n",
    "\n",
    "#str문장 내 모든 'this'를 'that'으로 바꿔라!"
   ]
  },
  {
   "cell_type": "markdown",
   "metadata": {},
   "source": [
    "# syntax"
   ]
  },
  {
   "cell_type": "markdown",
   "metadata": {},
   "source": [
    "review\n",
    "\n",
    "variable assignment '=' 이용해서 정의\n",
    "variable 종류: number(int, float), str, list, tuple, dictionary<pair>\n",
    "function은 입력이 들어가고 출력이 나오는 것 (print, len, type)\n",
    "str과 list는 성격이 비슷하다.\n",
    "\n",
    "<syntax 문법>\n",
    "for roof, if condtion."
   ]
  },
  {
   "cell_type": "code",
   "execution_count": 68,
   "metadata": {},
   "outputs": [
    {
     "name": "stdout",
     "output_type": "stream",
     "text": [
      "1\n",
      "2\n",
      "3\n",
      "4\n"
     ]
    }
   ],
   "source": [
    "a = [1, 2, 3, 4]\n",
    "for i in a:   #for_in_: (in에 있는 a를 1회씩 'for roof' 돌려서 i에 입력)\n",
    "    print(i)  #조건문 => indent가 반드시 있어야 한다!"
   ]
  },
  {
   "cell_type": "code",
   "execution_count": 69,
   "metadata": {},
   "outputs": [
    {
     "name": "stdout",
     "output_type": "stream",
     "text": [
      "1\n",
      "2\n",
      "3\n",
      "4\n"
     ]
    }
   ],
   "source": [
    "a = [1, 2, 3, 4]\n",
    "for i in range(len(a)):  #len(a)=4, range(4) => 0-3까지 list 생성[index 4개]\n",
    "    print(a[i])"
   ]
  },
  {
   "cell_type": "code",
   "execution_count": 70,
   "metadata": {},
   "outputs": [
    {
     "name": "stdout",
     "output_type": "stream",
     "text": [
      "0\n",
      "1\n",
      "2\n",
      "3\n"
     ]
    }
   ],
   "source": [
    "a = [1, 2, 3, 4]\n",
    "for i in range(4):\n",
    "    print(i)\n",
    "\n",
    "#range(4)는 0부터 4개의 index를 만드는 것. 우리가 4라고 적은 것은 random하게 적은것\n",
    "#a의 길이를 적어주면 list의 길이가 바뀜에 따라서, match brown?이 될 수 있으니까 일반적으로 len(a)라고 적는다."
   ]
  },
  {
   "cell_type": "markdown",
   "metadata": {},
   "source": [
    "for roof\n",
    "1. list를 그대로 주는 방법 : in 다음에 있는 list가 들어있는 개수만큼 roof를 돌리는 것. 각각의 element들을 in 앞의 variable에 담아준다. for roof가 돌면서 for 다음의 variable이 계속 바뀐다.\n",
    "2. for 다음에 in 하고 list를 그대로 쓰는 게 아니라, range 함수 사용. range함수는 index를 만들어준다. 그것을 i가 받아서 for roof의 print문이 실행된다."
   ]
  },
  {
   "cell_type": "code",
   "execution_count": 71,
   "metadata": {},
   "outputs": [
    {
     "name": "stdout",
     "output_type": "stream",
     "text": [
      "red\n",
      "green\n",
      "blue\n",
      "purple\n"
     ]
    }
   ],
   "source": [
    "a = ['red', 'green', 'blue', 'purple']\n",
    "print(a[0])\n",
    "print(a[1])\n",
    "print(a[2])\n",
    "print(a[3])\n",
    "\n",
    "#for roof를 사용하지 않고 각각의 원소를 출력하는 법. 비효율적!!"
   ]
  },
  {
   "cell_type": "code",
   "execution_count": 72,
   "metadata": {},
   "outputs": [
    {
     "name": "stdout",
     "output_type": "stream",
     "text": [
      "red\n",
      "green\n",
      "blue\n",
      "purple\n"
     ]
    }
   ],
   "source": [
    "a = ['red', 'green', 'blue', 'purple']   #str list\n",
    "for i in a:\n",
    "    print(i)"
   ]
  },
  {
   "cell_type": "code",
   "execution_count": 73,
   "metadata": {},
   "outputs": [
    {
     "name": "stdout",
     "output_type": "stream",
     "text": [
      "red\n",
      "green\n",
      "blue\n",
      "purple\n"
     ]
    }
   ],
   "source": [
    "a = ['red', 'green', 'blue', 'purple']\n",
    "for i in range(len(a)):\n",
    "    print(a[i])\n",
    "\n",
    "#range 함수를 쓰면 무엇이 바뀌게 될까?"
   ]
  },
  {
   "cell_type": "code",
   "execution_count": 74,
   "metadata": {
    "scrolled": true
   },
   "outputs": [
    {
     "name": "stdout",
     "output_type": "stream",
     "text": [
      "red: 20.0%\n",
      "green: 30.0%\n",
      "blue: 10.0%\n",
      "purple: 40.0%\n"
     ]
    }
   ],
   "source": [
    "a = ['red', 'green', 'blue', 'purple']\n",
    "b = [0.2, 0.3, 0.1, 0.4]\n",
    "for i, j in enumerate(a):\n",
    "    print(\"{}: {}%\".format(j, b[i]*100))\n",
    "    \n",
    "#enumerate: for roof 반복- i에는 index, j는 각각 list의 값들을 받는다.\n",
    "#format 함수 내 2개가 앞의 {} 안에 입력이 된다."
   ]
  },
  {
   "cell_type": "markdown",
   "metadata": {},
   "source": [
    "enumerate 함수\n",
    "\n",
    "a가 list 4개인 variable인데, 그 list에 번호를 추가로 매겨준다.\n",
    "for roof에 variable 2개가 있는데, enumberate가 a인데, 번호까지 pair로 있다.\n",
    "그것을 i,j로 받는다. 첫번째 roof에서 i는 번호를 매겨준 0, j는 red.\n",
    "    \n",
    "output 값이 자기자신 list도 되지만, 그것에 대한 번호도 매겨준다.\n",
    "in 다음에 그냥 a가 있었더라면 i,j말고 1개의 변수만 사용할 수 있다.\n",
    "enumerate가 번호까지 2개의 변수를 요구한다."
   ]
  },
  {
   "cell_type": "code",
   "execution_count": 83,
   "metadata": {},
   "outputs": [
    {
     "name": "stdout",
     "output_type": "stream",
     "text": [
      "red: 20.0%\n",
      "green: 30.0%\n",
      "blue: 10.0%\n",
      "purple: 40.0%\n"
     ]
    }
   ],
   "source": [
    "a = ['red', 'green', 'blue', 'purple']\n",
    "b = [0.2, 0.3, 0.1, 0.4]\n",
    "for i, j in zip(a, b):   #a, b는 반드시 길이가 같은 list가 돼야 한다. zip은 pair set를 만든다.\n",
    "    print(\"{}: {}%\".format(i, j*100))"
   ]
  },
  {
   "cell_type": "markdown",
   "metadata": {},
   "source": [
    "if condition"
   ]
  },
  {
   "cell_type": "code",
   "execution_count": 89,
   "metadata": {},
   "outputs": [
    {
     "name": "stdout",
     "output_type": "stream",
     "text": [
      "yay!\n",
      "let's go\n"
     ]
    }
   ],
   "source": [
    "a = 0\n",
    "if a == 0:        #equal sign 2개 == '등호'의 의미와 동일.\n",
    "    print(\"yay!\")\n",
    "    print(\"let's go\")    #print의 갯수는 상관없다."
   ]
  },
  {
   "cell_type": "code",
   "execution_count": 88,
   "metadata": {},
   "outputs": [],
   "source": [
    "a = 0\n",
    "if a != 0:        #a!=0 (a가 0이 아닌 경우) // 성립하지 않으면 출력되지 않는다.\n",
    "    print(\"yay!\")"
   ]
  },
  {
   "cell_type": "code",
   "execution_count": 90,
   "metadata": {},
   "outputs": [
    {
     "name": "stdout",
     "output_type": "stream",
     "text": [
      "yay!\n"
     ]
    }
   ],
   "source": [
    "a = 0\n",
    "if a >= 0:        #(부등호)(equal sign) 순서로 작성, 그렇지 않으면 Error.\n",
    "    print(\"yay!\")"
   ]
  },
  {
   "cell_type": "code",
   "execution_count": 91,
   "metadata": {},
   "outputs": [
    {
     "ename": "SyntaxError",
     "evalue": "invalid syntax (<ipython-input-91-00932fae8254>, line 2)",
     "output_type": "error",
     "traceback": [
      "\u001b[1;36m  File \u001b[1;32m\"<ipython-input-91-00932fae8254>\"\u001b[1;36m, line \u001b[1;32m2\u001b[0m\n\u001b[1;33m    if a =< 0:\u001b[0m\n\u001b[1;37m         ^\u001b[0m\n\u001b[1;31mSyntaxError\u001b[0m\u001b[1;31m:\u001b[0m invalid syntax\n"
     ]
    }
   ],
   "source": [
    "a = 0\n",
    "if a =< 0:       \n",
    "    print(\"yay!\")"
   ]
  },
  {
   "cell_type": "code",
   "execution_count": 92,
   "metadata": {},
   "outputs": [
    {
     "name": "stdout",
     "output_type": "stream",
     "text": [
      "no\n"
     ]
    }
   ],
   "source": [
    "a = 0\n",
    "if a != 0: \n",
    "    print(\"yay!\")\n",
    "    print(\"let's go\")\n",
    "else:\n",
    "    print(\"no\")"
   ]
  },
  {
   "cell_type": "code",
   "execution_count": 85,
   "metadata": {},
   "outputs": [
    {
     "name": "stdout",
     "output_type": "stream",
     "text": [
      "0\n"
     ]
    }
   ],
   "source": [
    "a = 0\n",
    "if a == 0:\n",
    "    print(a)\n",
    "else:              \n",
    "    print(a+1)"
   ]
  },
  {
   "cell_type": "markdown",
   "metadata": {},
   "source": [
    "100번의 roof 실행,\n",
    "각 roof에 대해서 50번의 roof가 또 실행된다.\n",
    "\n",
    "그러면 총 100*50 = 5,000번의 roof가 실행."
   ]
  },
  {
   "cell_type": "code",
   "execution_count": 94,
   "metadata": {},
   "outputs": [
    {
     "name": "stdout",
     "output_type": "stream",
     "text": [
      "3\n",
      "4\n",
      "6\n",
      "8\n"
     ]
    }
   ],
   "source": [
    "for i in range(1, 3):\n",
    "    for j in range(3, 5):\n",
    "        print(i*j) "
   ]
  },
  {
   "cell_type": "code",
   "execution_count": 93,
   "metadata": {},
   "outputs": [
    {
     "name": "stdout",
     "output_type": "stream",
     "text": [
      "1\n",
      "3\n",
      "4\n",
      "2\n",
      "6\n",
      "8\n"
     ]
    }
   ],
   "source": [
    "for i in range(1, 3):\n",
    "    print(i)         #print 함수는 총 2번 실행.\n",
    "    for j in range(3, 5):\n",
    "        print(i*j)   #print함수는 총 4번 실행. <for roof 실행 횟수 확인>\n",
    "\n",
    "\n",
    "#range(n): 0부터 n-1까지 index 생성.\n",
    "#range(a,b): a부터 b-1까지 index 생성. \n",
    "#indent를 잘 보면 for roof 내 for roof 내 명령 실행\n",
    "#1번째 for roof는 range= 1,2(2회) -> 2번째 for roof= 3,4(2회) => 총 4회 실행"
   ]
  },
  {
   "cell_type": "code",
   "execution_count": 77,
   "metadata": {},
   "outputs": [
    {
     "name": "stdout",
     "output_type": "stream",
     "text": [
      "4\n",
      "8\n"
     ]
    }
   ],
   "source": [
    "for i in range(1, 3):\n",
    "    for j in range(3, 5):\n",
    "        if j >=4:\n",
    "            print(i*j)\n",
    "            \n",
    "\n",
    "#j가 4보다 같거나 클 때 for roof 실행. j=3: roof 미실행 => 총 2회 실행\n",
    "#1번째 for roof: 1,2(2회) => 2번째 for roof: 3,4(2회)\n",
    "#j가 if 조건 만족 못하면, 4회 실행 아닌, 2회 실행 (j=3)"
   ]
  },
  {
   "cell_type": "code",
   "execution_count": 95,
   "metadata": {},
   "outputs": [
    {
     "ename": "IndentationError",
     "evalue": "expected an indented block (<ipython-input-95-2775b37429d7>, line 3)",
     "output_type": "error",
     "traceback": [
      "\u001b[1;36m  File \u001b[1;32m\"<ipython-input-95-2775b37429d7>\"\u001b[1;36m, line \u001b[1;32m3\u001b[0m\n\u001b[1;33m    for j in range(3, 5):\u001b[0m\n\u001b[1;37m      ^\u001b[0m\n\u001b[1;31mIndentationError\u001b[0m\u001b[1;31m:\u001b[0m expected an indented block\n"
     ]
    }
   ],
   "source": [
    "for i in range(1, 3):\n",
    "    if i >=3:\n",
    "    for j in range(3, 5):\n",
    "            print(i*j)"
   ]
  },
  {
   "cell_type": "code",
   "execution_count": 97,
   "metadata": {},
   "outputs": [],
   "source": [
    "for i in range(1, 3):\n",
    "    if i >=3:\n",
    "        for j in range(3, 5):\n",
    "            print(i*j)\n",
    "            \n",
    "#i= 1,2 / if 조건문 불만족 -> for roof 미실행\n",
    "#print out되지 않는 경우와 Error의 경우는 어떻게 다른가?"
   ]
  },
  {
   "cell_type": "markdown",
   "metadata": {},
   "source": [
    "# Mid-term Review"
   ]
  },
  {
   "cell_type": "code",
   "execution_count": 1,
   "metadata": {},
   "outputs": [
    {
     "name": "stdout",
     "output_type": "stream",
     "text": [
      "6\n"
     ]
    }
   ],
   "source": [
    "a = [[1],[2,3],[4,5,6]]\n",
    "n = 0\n",
    "for b in a:\n",
    "    for d in b:\n",
    "        n+=1\n",
    "print(n)"
   ]
  },
  {
   "cell_type": "code",
   "execution_count": 2,
   "metadata": {},
   "outputs": [
    {
     "name": "stdout",
     "output_type": "stream",
     "text": [
      "0\n",
      "1\n",
      "2\n",
      "3\n"
     ]
    }
   ],
   "source": [
    "n = [1,2,3,4]\n",
    "for i in range(len(n)):\n",
    "    print(i)\n",
    "    \n",
    "#총 3개의 unique한 함수가 있고, 함수는 6번 실행된다.(len, range까지 2번, print는 4번)"
   ]
  },
  {
   "cell_type": "code",
   "execution_count": 3,
   "metadata": {},
   "outputs": [
    {
     "name": "stdout",
     "output_type": "stream",
     "text": [
      "4\n"
     ]
    }
   ],
   "source": [
    "a = [1,2,[3,4]]\n",
    "print(a[-1][-1])"
   ]
  },
  {
   "cell_type": "code",
   "execution_count": 4,
   "metadata": {},
   "outputs": [
    {
     "name": "stdout",
     "output_type": "stream",
     "text": [
      "9\n"
     ]
    }
   ],
   "source": [
    "b = [1, 'a', {'a':[3,6],'b':[9]}, 'b']\n",
    "print(b[-2]['b'][-1])"
   ]
  },
  {
   "cell_type": "code",
   "execution_count": 6,
   "metadata": {},
   "outputs": [
    {
     "name": "stdout",
     "output_type": "stream",
     "text": [
      "e\n"
     ]
    }
   ],
   "source": [
    "c = [1, 'a', {'a':'abc','b':'def'}]\n",
    "print(c[-1]['b'][-2])"
   ]
  },
  {
   "cell_type": "code",
   "execution_count": 7,
   "metadata": {},
   "outputs": [
    {
     "name": "stdout",
     "output_type": "stream",
     "text": [
      "k\n"
     ]
    }
   ],
   "source": [
    "e = [1, 1.2, 'k', [1, [2], {'a':'apple'}]]\n",
    "for x in e:\n",
    "    if type(x) == 'dict':\n",
    "        print(x)\n",
    "    else:\n",
    "        if x == 'k':\n",
    "            print(x)"
   ]
  },
  {
   "cell_type": "code",
   "execution_count": 11,
   "metadata": {},
   "outputs": [
    {
     "name": "stdout",
     "output_type": "stream",
     "text": [
      "14\n"
     ]
    }
   ],
   "source": [
    "t = 0\n",
    "for p in range(3):\n",
    "    if p <=1:\n",
    "        for q in range(4):\n",
    "            t+=q\n",
    "        for r in range(2):\n",
    "            t+=r\n",
    "print(t*r)"
   ]
  },
  {
   "cell_type": "code",
   "execution_count": 9,
   "metadata": {},
   "outputs": [
    {
     "name": "stdout",
     "output_type": "stream",
     "text": [
      "1\n"
     ]
    }
   ],
   "source": [
    "a = [1,2,3,4]\n",
    "if len(a) == 3:\n",
    "    print(0)\n",
    "else:\n",
    "    print(1)"
   ]
  },
  {
   "cell_type": "code",
   "execution_count": 18,
   "metadata": {},
   "outputs": [
    {
     "ename": "SyntaxError",
     "evalue": "invalid syntax (<ipython-input-18-a66cce9ad7a6>, line 2)",
     "output_type": "error",
     "traceback": [
      "\u001b[1;36m  File \u001b[1;32m\"<ipython-input-18-a66cce9ad7a6>\"\u001b[1;36m, line \u001b[1;32m2\u001b[0m\n\u001b[1;33m    print(int(a[2][-1][0]))\u001b[0m\n\u001b[1;37m        ^\u001b[0m\n\u001b[1;31mSyntaxError\u001b[0m\u001b[1;31m:\u001b[0m invalid syntax\n"
     ]
    }
   ],
   "source": [
    "a = (5.2, {1:'apple', 'k':4.9}, (9.1, [10,12.1])\n",
    "print(int(a[2][-1][0]))\n",
    "\n",
    "#10"
   ]
  },
  {
   "cell_type": "markdown",
   "metadata": {},
   "source": [
    "# NumPy basics"
   ]
  },
  {
   "cell_type": "markdown",
   "metadata": {},
   "source": [
    "# 1. Creation"
   ]
  },
  {
   "cell_type": "markdown",
   "metadata": {},
   "source": [
    "#데이터, 소리는 반드시 숫자화가 되어야 한다. 데이터라고 하면 4가지 정도로 요약되는데, 소리 데이터, 이미지(영상) 데이터, 텍스트 데이터, 그냥 숫자 데이터[주식, 날씨, 온도]. 숫자화되지 않은 데이터들은 어떻게 숫자화가 되는가? 숫자의 열로 표현이 되어야 한다. 그런 숫자의 열을 벡터라고 한다, 행렬\n",
    "\n",
    "세가지 데이터에 대해서 설명을 한다.\n",
    "검정: 0, 흰색: 10, 회색:0~10\n",
    "영상을 확대해보면 그 사이 사이의 회색이 많은 것을 확인할 수 있다.\n",
    "\n",
    "- 영상:\n",
    "가로 행, 세로 열. 행과 열을 직사각형 속에 넣어놓은 것을 행렬이라고 한다.\n",
    "사진을 찍는 순간 행렬이 만들어진다. 숫자 행을 왜 한줄로 펼쳐놓는 걸까? 숫자들이 길게 나열된 형태, 모든 데이터는 벡터의 형태로 되어야 한다. 행렬은 벡터가 아니니까, 길게 만들어 한줄씩 따서 벡터화하면 된다. 그런 식으로 이미지는 행렬이고, 그것을 길게 쭉 늘여놓은 것을 벡터화한다, vectorlized한다. 모든 데이터는 벡터의 상태로 했을 때 다루기가 쉽다.\n",
    "\n",
    "동영상은 시간별로 color가 계속 있는 것, 차원으로 이야기를 하자면 영상이 있는데 영상, 이미지는 행과 열의 2차원이다. color 이미지는 3차원이다. \n",
    "\n",
    "- 소리: \n",
    "waveform을 확대해보면 각각의 district한 값으로 구성됐고, 결국 아래 숫자값들의 데이터로 구성됐다.\n",
    "\n",
    "- 텍스트:\n",
    "50000개의 0과 1로 구성해, 각 순차적인 단어를 구성한다.\n",
    "\n",
    "\n",
    "모든 데이터는 벡터화시킨다! 우리가 벡터와 행렬이라는 개념을 어느 정도 소개를 했다."
   ]
  },
  {
   "cell_type": "markdown",
   "metadata": {},
   "source": [
    "#우리가 library를 import할 것이다. 처음에 아나콘다를 다운받았을 때, 필요한 library를 저절로 설치하는 것. 기본적인 파이썬은 라이브러리들이 많은 것이 필요하지 않다. 라이브러리는 우리가 쓰기 좋게 함수들을 누군가 만들어서, 추가해서 우리가 쓸 때 라이브러리들을 불러서 사용하는 것이다. 중요한 라이브러리들이 있는데, 제일 중요한 것을 NumPy(넘피/넘파이)라고 한다.\n",
    "\n",
    "리스트 안에 숫자가 들어갈 때, 숫자가 들어간 것이지 어떠한 수학적 계산이 이루어지진 않는다. 벡터라이즈된 데이터들은 수학적 처리를 해야 하는데, 수학적 처리가 안되는데, 이것을 가능하게 해주는 게 NumPy다."
   ]
  },
  {
   "cell_type": "code",
   "execution_count": 21,
   "metadata": {},
   "outputs": [
    {
     "data": {
      "text/plain": [
       "[1, 3, 5, 2, 4, 6]"
      ]
     },
     "execution_count": 21,
     "metadata": {},
     "output_type": "execute_result"
    }
   ],
   "source": [
    "a = [1, 3, 5]\n",
    "b = [2, 4, 6]\n",
    "c = a + b\n",
    "c"
   ]
  },
  {
   "cell_type": "code",
   "execution_count": 22,
   "metadata": {},
   "outputs": [],
   "source": [
    "import numpy"
   ]
  },
  {
   "cell_type": "code",
   "execution_count": 24,
   "metadata": {},
   "outputs": [
    {
     "data": {
      "text/plain": [
       "array([ 3,  7, 11])"
      ]
     },
     "execution_count": 24,
     "metadata": {},
     "output_type": "execute_result"
    }
   ],
   "source": [
    "A = numpy.array(a)\n",
    "B = numpy.array(b)\n",
    "A + B\n",
    "#array는 리스트를 계산 가능한 행렬, 벡터로 만들어주는 것. 원래 리스트 상태에서는 계산이 불가했는데, 계산 가능한 데이터 구조로 변경."
   ]
  },
  {
   "cell_type": "code",
   "execution_count": 28,
   "metadata": {},
   "outputs": [
    {
     "data": {
      "text/plain": [
       "array([ 3,  7, 11])"
      ]
     },
     "execution_count": 28,
     "metadata": {},
     "output_type": "execute_result"
    }
   ],
   "source": [
    "import numpy as np\n",
    "\n",
    "#계속 numpy를 사용할 것이기에, np로 축약할 수 있다.\n",
    "\n",
    "A = np.array(a)\n",
    "B = np.array(b)\n",
    "A + B"
   ]
  },
  {
   "cell_type": "code",
   "execution_count": 29,
   "metadata": {},
   "outputs": [],
   "source": [
    "X = np.array([[1,2,3],[4,5,6]])"
   ]
  },
  {
   "cell_type": "code",
   "execution_count": 30,
   "metadata": {},
   "outputs": [
    {
     "data": {
      "text/plain": [
       "array([[1, 2, 3],\n",
       "       [4, 5, 6]])"
      ]
     },
     "execution_count": 30,
     "metadata": {},
     "output_type": "execute_result"
    }
   ],
   "source": [
    "X     #행렬"
   ]
  },
  {
   "cell_type": "code",
   "execution_count": 31,
   "metadata": {},
   "outputs": [
    {
     "data": {
      "text/plain": [
       "(2, 3)"
      ]
     },
     "execution_count": 31,
     "metadata": {},
     "output_type": "execute_result"
    }
   ],
   "source": [
    "X.shape   #차원(2*3): 2행 3열의 matrix"
   ]
  },
  {
   "cell_type": "markdown",
   "metadata": {},
   "source": [
    "#import numpy라고 불렀으면 numpy 내부에 있는 것을 다 사용할 수 있다!\n",
    "1. numpy.A.D.f: numpy가 상위 패키지, A, D, 그 내부의 함수 f\n",
    "2. from numpy import A : numpy에 있는 A를 불러오자.\n",
    "   A.D.f  //from numpy import A.D도 가능하다."
   ]
  },
  {
   "cell_type": "code",
   "execution_count": 20,
   "metadata": {},
   "outputs": [],
   "source": [
    "import numpy as np   #as 이하에 축약해서 사용할 라이브러리명 입력.\n",
    "import matplotlib.pyplot as plt   #plotting (matplotlib 내에 포함된 subset pyplot)\n",
    "##[시험문제]from matplotlib import pyplot as plt   #.이라는 것은 라이브러리에 포함관계."
   ]
  },
  {
   "cell_type": "markdown",
   "metadata": {},
   "source": [
    "numpy는 list와 아주 비슷한데, 수학적 연산도 가능하다.\n",
    "앞으로 쓰게 될 모든 데이터 처리는 list처리를 하지 않고, numpy 처리를 할 것이다!"
   ]
  },
  {
   "cell_type": "code",
   "execution_count": 2,
   "metadata": {},
   "outputs": [
    {
     "data": {
      "text/plain": [
       "array([[         0, 1072168960,          0],\n",
       "       [1072168960,          0,          0]])"
      ]
     },
     "execution_count": 2,
     "metadata": {},
     "output_type": "execute_result"
    }
   ],
   "source": [
    "np.empty([2,3], dtype='int')\n",
    "#empty는 함수, 함수는 괄호로 그 뒤에 input을 받는다.\n",
    "#numpy라는 제일 큰 library 내의 첫 단에 있는 함수다. 함수 내  subset을 포함하지 않고 최상단에 empty라고 있구나!\n",
    "#입력이 list로 들어간다. data type을 integer로 만드는 것."
   ]
  },
  {
   "cell_type": "code",
   "execution_count": 3,
   "metadata": {},
   "outputs": [
    {
     "data": {
      "text/plain": [
       "array([[0., 0., 0.],\n",
       "       [0., 0., 0.]])"
      ]
     },
     "execution_count": 3,
     "metadata": {},
     "output_type": "execute_result"
    }
   ],
   "source": [
    "np.zeros([2,3])\n",
    "#np library 속에 있는 zeros 함수(0으로 채워진)를 이용하는데, 그 입력에 2x3의 matrix 생성."
   ]
  },
  {
   "cell_type": "code",
   "execution_count": 25,
   "metadata": {},
   "outputs": [
    {
     "data": {
      "text/plain": [
       "array([[1., 1., 1.],\n",
       "       [1., 1., 1.]])"
      ]
     },
     "execution_count": 25,
     "metadata": {},
     "output_type": "execute_result"
    }
   ],
   "source": [
    "np.ones([2,3])   #뒤에 .이 있는 것은 int가 아닌 float. 아마도 zeros, ones 함수 default는 float 형태."
   ]
  },
  {
   "cell_type": "code",
   "execution_count": 26,
   "metadata": {},
   "outputs": [
    {
     "data": {
      "text/plain": [
       "array([[1, 1, 1],\n",
       "       [1, 1, 1]])"
      ]
     },
     "execution_count": 26,
     "metadata": {},
     "output_type": "execute_result"
    }
   ],
   "source": [
    "np.ones([2,3], dtype='int')  #(dtype='int'로 적어주면 변경 가능)"
   ]
  },
  {
   "cell_type": "code",
   "execution_count": 23,
   "metadata": {},
   "outputs": [
    {
     "data": {
      "text/plain": [
       "array([[0, 0, 0],\n",
       "       [0, 0, 0]])"
      ]
     },
     "execution_count": 23,
     "metadata": {},
     "output_type": "execute_result"
    }
   ],
   "source": [
    "[0, 0, 0]   #그냥 vector\n",
    "[[0,0,0], [0,0,0]]   #2x3의 list지만, 계산이 안된다."
   ]
  },
  {
   "cell_type": "code",
   "execution_count": 24,
   "metadata": {},
   "outputs": [
    {
     "data": {
      "text/plain": [
       "array([[0, 0, 0],\n",
       "       [0, 0, 0]])"
      ]
     },
     "execution_count": 24,
     "metadata": {},
     "output_type": "execute_result"
    }
   ],
   "source": [
    "#계산이 될 수 있는 array로 만드는 방법이 np.array().\n",
    "np.array([[0,0,0], [0,0,0]])"
   ]
  },
  {
   "cell_type": "code",
   "execution_count": 27,
   "metadata": {},
   "outputs": [
    {
     "data": {
      "text/plain": [
       "array([0, 1, 2, 3, 4])"
      ]
     },
     "execution_count": 27,
     "metadata": {},
     "output_type": "execute_result"
    }
   ],
   "source": [
    "np.arange(5)\n",
    "#for 루프의 range함수와 유사. arange는 계산이 되는 array로 만드는 것.\n",
    "#0부터 index 5개가 만들어지는 것."
   ]
  },
  {
   "cell_type": "code",
   "execution_count": 28,
   "metadata": {},
   "outputs": [
    {
     "data": {
      "text/plain": [
       "array([0, 1, 2, 3, 4, 5, 6, 7, 8, 9])"
      ]
     },
     "execution_count": 28,
     "metadata": {},
     "output_type": "execute_result"
    }
   ],
   "source": [
    "np.arange(0,10)   #range를 정할 수도 있다."
   ]
  },
  {
   "cell_type": "code",
   "execution_count": 4,
   "metadata": {},
   "outputs": [
    {
     "data": {
      "text/plain": [
       "array([0., 2., 4., 6., 8.])"
      ]
     },
     "execution_count": 4,
     "metadata": {},
     "output_type": "execute_result"
    }
   ],
   "source": [
    "np.arange(0, 10, 2, dtype='float64')\n",
    "#float도 종류가 있는데, 소수점 몇째자리까지 할까에 대한 정의.(정교하게)\n",
    "#[중요하다!] 0부터 10까지(10 미만), 2만큼 증가분 incliment로 출력."
   ]
  },
  {
   "cell_type": "code",
   "execution_count": 5,
   "metadata": {},
   "outputs": [
    {
     "data": {
      "text/plain": [
       "array([ 0.,  2.,  4.,  6.,  8., 10.])"
      ]
     },
     "execution_count": 5,
     "metadata": {},
     "output_type": "execute_result"
    }
   ],
   "source": [
    "np.linspace(0, 10, 6, dtype= float)\n",
    "#linear space. 0부터 10까지(10 포함) 처음, 끝을 포함해 동일한 간격의 6개."
   ]
  },
  {
   "cell_type": "code",
   "execution_count": 37,
   "metadata": {},
   "outputs": [
    {
     "data": {
      "text/plain": [
       "array([[1, 2, 3],\n",
       "       [4, 5, 6]])"
      ]
     },
     "execution_count": 37,
     "metadata": {},
     "output_type": "execute_result"
    }
   ],
   "source": [
    "X= np.array([[1,2,3],[4,5,6]])   #2x3의 matrix\n",
    "X"
   ]
  },
  {
   "cell_type": "code",
   "execution_count": 31,
   "metadata": {},
   "outputs": [
    {
     "data": {
      "text/plain": [
       "array([[1, 2],\n",
       "       [3, 4],\n",
       "       [5, 6]])"
      ]
     },
     "execution_count": 31,
     "metadata": {},
     "output_type": "execute_result"
    }
   ],
   "source": [
    "S= np.array([[1,2],[3,4],[5,6]])  #3x2\n",
    "S\n",
    "\n",
    "#벡터는 1차원, 직사각형의 matrix는 2차원, 직육면체는 3차원.\n",
    "#2차원까지 list, array로 표현했는데, 3차원도 표현이 가능하다.\n",
    "#[대괄호]가 2개 나오면 2차원, 3개가 나오면 3차원"
   ]
  },
  {
   "cell_type": "code",
   "execution_count": 32,
   "metadata": {},
   "outputs": [
    {
     "data": {
      "text/plain": [
       "array([[[ 1,  2],\n",
       "        [ 3,  4],\n",
       "        [ 5,  6]],\n",
       "\n",
       "       [[ 7,  8],\n",
       "        [ 9, 10],\n",
       "        [11, 12]]])"
      ]
     },
     "execution_count": 32,
     "metadata": {},
     "output_type": "execute_result"
    }
   ],
   "source": [
    "K= np.array([[[1,2],[3,4],[5,6]],[[7,8],[9,10],[11,12]]])\n",
    "K   #3차원=2차원 2개"
   ]
  },
  {
   "cell_type": "code",
   "execution_count": 33,
   "metadata": {},
   "outputs": [
    {
     "data": {
      "text/plain": [
       "3"
      ]
     },
     "execution_count": 33,
     "metadata": {},
     "output_type": "execute_result"
    }
   ],
   "source": [
    "K.ndim   #3차원"
   ]
  },
  {
   "cell_type": "code",
   "execution_count": 34,
   "metadata": {},
   "outputs": [
    {
     "data": {
      "text/plain": [
       "(2, 3, 2)"
      ]
     },
     "execution_count": 34,
     "metadata": {},
     "output_type": "execute_result"
    }
   ],
   "source": [
    "K.shape   #2x3x2 차원\n",
    "#제일 큰 괄호 2개, 괄호 내에 3개의 대괄호, 가장 작은 괄호 내 2개 원소."
   ]
  },
  {
   "cell_type": "code",
   "execution_count": 35,
   "metadata": {},
   "outputs": [
    {
     "data": {
      "text/plain": [
       "dtype('int32')"
      ]
     },
     "execution_count": 35,
     "metadata": {},
     "output_type": "execute_result"
    }
   ],
   "source": [
    "K.dtype   #data type 확인"
   ]
  },
  {
   "cell_type": "code",
   "execution_count": 38,
   "metadata": {},
   "outputs": [
    {
     "data": {
      "text/plain": [
       "dtype('int32')"
      ]
     },
     "execution_count": 38,
     "metadata": {},
     "output_type": "execute_result"
    }
   ],
   "source": [
    "X.dtype"
   ]
  },
  {
   "cell_type": "code",
   "execution_count": 8,
   "metadata": {},
   "outputs": [
    {
     "data": {
      "text/plain": [
       "array([[1., 2., 3.],\n",
       "       [4., 5., 6.]])"
      ]
     },
     "execution_count": 8,
     "metadata": {},
     "output_type": "execute_result"
    }
   ],
   "source": [
    "X.astype(np.float64)   #data type 변경"
   ]
  },
  {
   "cell_type": "code",
   "execution_count": 9,
   "metadata": {},
   "outputs": [
    {
     "data": {
      "text/plain": [
       "array([[0, 0, 0],\n",
       "       [0, 0, 0]])"
      ]
     },
     "execution_count": 9,
     "metadata": {},
     "output_type": "execute_result"
    }
   ],
   "source": [
    "np.zeros_like(X)\n",
    "#np 내 zeros_like 함수. 모든 형태를 유지한 채, 숫자를 0으로만 변경."
   ]
  },
  {
   "cell_type": "code",
   "execution_count": 39,
   "metadata": {
    "scrolled": true
   },
   "outputs": [
    {
     "data": {
      "text/plain": [
       "array([[0, 0, 0],\n",
       "       [0, 0, 0]])"
      ]
     },
     "execution_count": 39,
     "metadata": {},
     "output_type": "execute_result"
    }
   ],
   "source": [
    "X*0   #계산이 가능하니까, X라는 array에 *10을 하면 결과가 동일하다."
   ]
  },
  {
   "cell_type": "code",
   "execution_count": 10,
   "metadata": {
    "scrolled": false
   },
   "outputs": [
    {
     "name": "stdout",
     "output_type": "stream",
     "text": [
      "[-2.76570684e-01  1.60807782e+00  2.09375849e+00  1.18392719e+00\n",
      "  1.39357076e+00  9.08436634e-01 -1.89687527e+00  1.86466202e+00\n",
      "  6.37766654e-01  9.74248941e-01  7.22079787e-01  1.39314180e+00\n",
      " -1.27908735e+00 -1.09534282e+00 -4.98789465e-01  5.68400871e-01\n",
      " -7.19666890e-01 -1.28871492e-03 -2.61280440e+00  4.08751245e-01\n",
      "  3.01357125e-01  1.62603523e+00  1.02387132e+00  2.98737956e-01\n",
      "  1.03770804e+00  3.81837290e-01 -7.25589664e-01 -1.08619141e+00\n",
      "  9.41298529e-02 -1.13514885e+00 -3.94930282e-01  1.12505431e+00\n",
      "  1.31066852e+00 -6.30083974e-01 -4.72886526e-01 -2.63881846e-01\n",
      " -1.45768114e+00  8.83516097e-01 -1.64772442e-01  5.51193501e-01\n",
      "  9.39462097e-01  1.61083259e+00 -3.29208620e-01 -1.73363000e-01\n",
      " -7.65435557e-01  9.96110884e-01 -5.06679578e-01 -7.51656481e-01\n",
      "  2.02492627e-01 -2.00401353e-01  7.46198064e-01 -1.08215922e+00\n",
      "  5.99644558e-01  1.40202322e-02  5.13085588e-01  1.06081526e+00\n",
      "  3.83924370e-01 -3.01322956e-01 -3.49313060e-01  9.81728471e-01\n",
      "  8.47051261e-01  5.94621598e-01 -4.69737754e-01  4.40009389e-01\n",
      "  6.30366901e-01 -4.32850708e-01 -1.88230784e+00 -5.40701933e-01\n",
      "  1.20733307e+00  1.13371823e+00 -7.13424661e-01 -1.72218564e+00\n",
      " -2.31342363e+00 -8.43084018e-01  3.12319216e+00  1.22890132e+00\n",
      " -2.34989236e-03 -8.45318931e-02 -9.42379350e-01  2.17733278e-01\n",
      " -2.71294497e-01  1.13820006e-02 -1.95138673e+00  4.57196560e-02\n",
      " -1.25914928e+00 -2.10758536e+00  6.33139999e-01  6.19296107e-02\n",
      "  3.27536526e-01 -8.98672461e-01 -6.71149866e-02 -1.25045502e+00\n",
      " -1.27288406e+00 -2.99284879e-01  1.01771046e+00  3.43995908e-01\n",
      "  6.38076750e-01  1.59649288e+00 -1.42771841e+00  1.07722473e+00]\n"
     ]
    },
    {
     "data": {
      "image/png": "[encoded data removed]",
      "text/plain": [
       "<Figure size 432x288 with 1 Axes>"
      ]
     },
     "metadata": {
      "needs_background": "light"
     },
     "output_type": "display_data"
    }
   ],
   "source": [
    "#plotting. library 내 sub package가 있다.\n",
    "#np library 내 random sub package, normal function\n",
    "#normal함수는 정규분포 데이터 생성. 평균, 표준편차 값 필요.\n",
    "#평균 0, 표준편차 1, 100개의 random data를 생성하라!\n",
    "\n",
    "data= np.random.normal(0, 1, 100)\n",
    "print(data)\n",
    "\n",
    "#plt는 matplotlib 내 pyplot sub package를 import.\n",
    "#hist 함수를 쓸 것인데 numpy array data를 입력하고, 히스토그램 생성.\n",
    "#(bins 바구니를 몇 개로 할 것인지 정하는 것):x축에 10개 바구니 속에 데이터 축적. y축은 0을 포함한 자연수값.\n",
    "##[시험문제] 값들을 모두 합하면? 100개\n",
    "plt.hist(data, bins=10)\n",
    "plt.show()"
   ]
  },
  {
   "cell_type": "code",
   "execution_count": 41,
   "metadata": {},
   "outputs": [
    {
     "data": {
      "text/plain": [
       "1"
      ]
     },
     "execution_count": 41,
     "metadata": {},
     "output_type": "execute_result"
    }
   ],
   "source": [
    "data.ndim   #1차원"
   ]
  },
  {
   "cell_type": "code",
   "execution_count": 42,
   "metadata": {},
   "outputs": [
    {
     "data": {
      "text/plain": [
       "(100,)"
      ]
     },
     "execution_count": 42,
     "metadata": {},
     "output_type": "execute_result"
    }
   ],
   "source": [
    "data.shape   #100개"
   ]
  },
  {
   "cell_type": "markdown",
   "metadata": {},
   "source": [
    "# 2. Manipulation"
   ]
  },
  {
   "cell_type": "code",
   "execution_count": 11,
   "metadata": {},
   "outputs": [
    {
     "data": {
      "text/plain": [
       "array([[[1., 1., 1., 1.],\n",
       "        [1., 1., 1., 1.],\n",
       "        [1., 1., 1., 1.]],\n",
       "\n",
       "       [[1., 1., 1., 1.],\n",
       "        [1., 1., 1., 1.],\n",
       "        [1., 1., 1., 1.]]])"
      ]
     },
     "execution_count": 11,
     "metadata": {},
     "output_type": "execute_result"
    }
   ],
   "source": [
    "X= np.ones([2,3,4])\n",
    "X    #2x3x4의 24개 원소의 3차원 행렬. 대괄호의 갯수와 차원의 수가 동일하다."
   ]
  },
  {
   "cell_type": "code",
   "execution_count": 12,
   "metadata": {},
   "outputs": [
    {
     "data": {
      "text/plain": [
       "array([[[1., 1.],\n",
       "        [1., 1.],\n",
       "        [1., 1.]],\n",
       "\n",
       "       [[1., 1.],\n",
       "        [1., 1.],\n",
       "        [1., 1.]],\n",
       "\n",
       "       [[1., 1.],\n",
       "        [1., 1.],\n",
       "        [1., 1.]],\n",
       "\n",
       "       [[1., 1.],\n",
       "        [1., 1.],\n",
       "        [1., 1.]]])"
      ]
     },
     "execution_count": 12,
     "metadata": {},
     "output_type": "execute_result"
    }
   ],
   "source": [
    "Y= X.reshape(-1, 3, 2)\n",
    "Y   #reshape은 만들어진 array의 shape 변경하는 함수.\n",
    "#reshape은 원소 갯수가 동일해야만 가능, 그렇지 않으면 error.\n",
    "#-1의 자리에 4를 적어도 동일한 값이 나온다. 어떤 값을 넣어야 할지 모를때 -1."
   ]
  },
  {
   "cell_type": "code",
   "execution_count": 13,
   "metadata": {},
   "outputs": [
    {
     "data": {
      "text/plain": [
       "True"
      ]
     },
     "execution_count": 13,
     "metadata": {},
     "output_type": "execute_result"
    }
   ],
   "source": [
    "np.allclose(X.reshape(-1, 3, 2), Y)  #reshape한 것이 Y와 동일한지."
   ]
  },
  {
   "cell_type": "markdown",
   "metadata": {},
   "source": [
    "# 3. NumPy I/O"
   ]
  },
  {
   "cell_type": "code",
   "execution_count": 57,
   "metadata": {},
   "outputs": [],
   "source": [
    "a = np.random.randint(0, 10, [2, 3])\n",
    "b = np.random.random([2,3])\n",
    "np.savez(\"test\", a, b)\n",
    "\n",
    "#random이라는 np 내 sub package, randint 함수. 0부터 10 사이에서 2x3 행렬 생성.\n",
    "#sub package 내 random하게 2x3 행렬 생성.\n",
    "#np package 내 savez 함수는, 데이터를 실제 파일로 저장. variable a,b."
   ]
  },
  {
   "cell_type": "code",
   "execution_count": 58,
   "metadata": {},
   "outputs": [],
   "source": [
    "del a, b\n",
    "%who   #Print all interactive variables\n",
    "\n",
    "#who는 지금 available한 variable이 어떤 것이 있는가. \n",
    "#그런데 a,b를 delete해서 'No variables match your requested type.'"
   ]
  },
  {
   "cell_type": "code",
   "execution_count": 59,
   "metadata": {},
   "outputs": [
    {
     "data": {
      "text/plain": [
       "['arr_0', 'arr_1']"
      ]
     },
     "execution_count": 59,
     "metadata": {},
     "output_type": "execute_result"
    }
   ],
   "source": [
    "npzfiles = np.load(\"test.npz\")\n",
    "npzfiles.files\n",
    "\n",
    "#variable들을 담아서 저장한 npz 파일을 불러오는 것.\n",
    "#npzfiles는 변수라서, a로 적어도 무관하다."
   ]
  },
  {
   "cell_type": "code",
   "execution_count": 60,
   "metadata": {},
   "outputs": [
    {
     "data": {
      "text/plain": [
       "array([[5, 0, 3],\n",
       "       [6, 1, 0]])"
      ]
     },
     "execution_count": 60,
     "metadata": {},
     "output_type": "execute_result"
    }
   ],
   "source": [
    "npzfiles['arr_0']   #variable a"
   ]
  },
  {
   "cell_type": "code",
   "execution_count": 62,
   "metadata": {},
   "outputs": [
    {
     "data": {
      "text/plain": [
       "array([( 3.3  , 1.7  ), ( 4.4  , 2.76 ), ( 5.5  , 2.09 ), ( 6.71 , 3.19 ),\n",
       "       ( 6.93 , 1.694), ( 4.168, 1.573), ( 9.779, 3.366), ( 6.182, 2.596),\n",
       "       ( 7.59 , 2.53 ), ( 2.167, 1.221), ( 7.042, 2.827), (10.791, 3.465),\n",
       "       ( 5.313, 1.65 ), ( 7.997, 2.904), ( 5.654, 2.42 ), ( 9.27 , 2.94 ),\n",
       "       ( 3.1  , 1.3  )], dtype=[('X', '<f4'), ('Y', '<f4')])"
      ]
     },
     "execution_count": 62,
     "metadata": {},
     "output_type": "execute_result"
    }
   ],
   "source": [
    "data = np.loadtxt(\"regression.csv\", delimiter=\",\", skiprows=1, dtype={'names':(\"X\", \"Y\"), 'formats':('f','f')})\n",
    "data\n",
    "\n",
    "#csv=comma seperated values (data를 file로 전달할 때/제일 많이 사용할 형식)\n",
    "#csv 파일을 불러오고, delimiter는 ,로 분리되는 것이고, skiprowa는 첫번째 것이 제목이라 사용하지 않을 것.\n",
    "#dtype은 첫번째 x, 두번째 y로 하고, formats은 두개 다 float으로 하겠다."
   ]
  },
  {
   "cell_type": "code",
   "execution_count": 63,
   "metadata": {},
   "outputs": [],
   "source": [
    "np.savetxt(\"regression_saved.csv\", data, delimiter=\",\")\n",
    "\n",
    "#역으로 데이터가 있을 때, 그 데이터를 저장하는 방법.(저장될 파일명, data, delimiter)"
   ]
  },
  {
   "cell_type": "markdown",
   "metadata": {},
   "source": [
    "# 4. Inspecting"
   ]
  },
  {
   "cell_type": "code",
   "execution_count": 64,
   "metadata": {},
   "outputs": [],
   "source": [
    "arr = np.random.random([5,2,3])\n",
    "#np 내 random sub package 내 random 함수. 3차원의 5x2x3의 행렬."
   ]
  },
  {
   "cell_type": "code",
   "execution_count": 65,
   "metadata": {},
   "outputs": [
    {
     "name": "stdout",
     "output_type": "stream",
     "text": [
      "<class 'numpy.ndarray'>\n",
      "5\n",
      "(5, 2, 3)\n",
      "3\n",
      "30\n",
      "float64\n"
     ]
    }
   ],
   "source": [
    "print(type(arr))\n",
    "print(len(arr))   #첫번째 논항\n",
    "print(arr.shape)  #논항 그대로\n",
    "print(arr.ndim)   #3차원\n",
    "print(arr.size)   #총 원소의 개수\n",
    "print(arr.dtype)  #default"
   ]
  },
  {
   "cell_type": "markdown",
   "metadata": {},
   "source": [
    "# 5. Operations"
   ]
  },
  {
   "cell_type": "markdown",
   "metadata": {},
   "source": [
    "5.1 Arithmetic"
   ]
  },
  {
   "cell_type": "code",
   "execution_count": 66,
   "metadata": {},
   "outputs": [],
   "source": [
    "a = np.arange(1, 5)      #1부터 5 직전까지 index 생성.\n",
    "b = np.arange(9, 5, -1)  #9부터 5까지 -1의 차이로 index 생성"
   ]
  },
  {
   "cell_type": "code",
   "execution_count": 67,
   "metadata": {},
   "outputs": [
    {
     "name": "stdout",
     "output_type": "stream",
     "text": [
      "[-8 -6 -4 -2]\n",
      "[ 9 16 21 24]\n"
     ]
    }
   ],
   "source": [
    "print(a - b)\n",
    "print(a * b)    #numpy array로 계산이 가능하다."
   ]
  },
  {
   "cell_type": "code",
   "execution_count": 68,
   "metadata": {},
   "outputs": [],
   "source": [
    "a = np.matrix(a)\n",
    "b = np.matrix(b)"
   ]
  },
  {
   "cell_type": "code",
   "execution_count": 69,
   "metadata": {},
   "outputs": [
    {
     "data": {
      "text/plain": [
       "matrix([[70]])"
      ]
     },
     "execution_count": 69,
     "metadata": {},
     "output_type": "execute_result"
    }
   ],
   "source": [
    "a * b.T"
   ]
  },
  {
   "cell_type": "code",
   "execution_count": 70,
   "metadata": {},
   "outputs": [
    {
     "data": {
      "text/plain": [
       "matrix([[ 9,  8,  7,  6],\n",
       "        [18, 16, 14, 12],\n",
       "        [27, 24, 21, 18],\n",
       "        [36, 32, 28, 24]])"
      ]
     },
     "execution_count": 70,
     "metadata": {},
     "output_type": "execute_result"
    }
   ],
   "source": [
    "a.T * b"
   ]
  },
  {
   "cell_type": "markdown",
   "metadata": {},
   "source": [
    "5.2 Comparison"
   ]
  },
  {
   "cell_type": "code",
   "execution_count": 71,
   "metadata": {},
   "outputs": [
    {
     "name": "stdout",
     "output_type": "stream",
     "text": [
      "[[1 2 3]\n",
      " [4 5 6]\n",
      " [7 8 9]]\n",
      "[[9 8 7]\n",
      " [6 5 4]\n",
      " [3 2 1]]\n"
     ]
    }
   ],
   "source": [
    "a = np.arange(1,10).reshape(3,3)    #1부터 9까지의 1차원을 reshape으로 2차원으로 변경.\n",
    "b = np.arange(9,0,-1).reshape(3,3)  #9부터 0까지 -1의 차이만큼의 1차원을, 2차원으로 변경\n",
    "print(a)\n",
    "print(b)"
   ]
  },
  {
   "cell_type": "code",
   "execution_count": 72,
   "metadata": {},
   "outputs": [
    {
     "data": {
      "text/plain": [
       "array([[False, False, False],\n",
       "       [False,  True, False],\n",
       "       [False, False, False]])"
      ]
     },
     "execution_count": 72,
     "metadata": {},
     "output_type": "execute_result"
    }
   ],
   "source": [
    "a == b   #비교할 때 두개의 dimension이 완전히 동일해야 한다."
   ]
  },
  {
   "cell_type": "code",
   "execution_count": 73,
   "metadata": {},
   "outputs": [
    {
     "data": {
      "text/plain": [
       "array([[False, False, False],\n",
       "       [False, False,  True],\n",
       "       [ True,  True,  True]])"
      ]
     },
     "execution_count": 73,
     "metadata": {},
     "output_type": "execute_result"
    }
   ],
   "source": [
    "a > b"
   ]
  },
  {
   "cell_type": "markdown",
   "metadata": {},
   "source": [
    "5.3  Aggregate (sum, min, max, mean, median, std)"
   ]
  },
  {
   "cell_type": "code",
   "execution_count": 74,
   "metadata": {},
   "outputs": [
    {
     "data": {
      "text/plain": [
       "(45, 45)"
      ]
     },
     "execution_count": 74,
     "metadata": {},
     "output_type": "execute_result"
    }
   ],
   "source": [
    "#[아주 중요하다!] sum은 원소 총합.\n",
    "#1. a가 numpy가 만들어낸 object라서 바로 사용 가능. 함수니까 괄호 필요.\n",
    "#2. numpy 내 sum 함수를 사용해서 a를 sum한다.    -> np가 만들어내서 a 사용 가능\n",
    "\n",
    "a.sum(), np.sum(a)"
   ]
  },
  {
   "cell_type": "code",
   "execution_count": 75,
   "metadata": {},
   "outputs": [
    {
     "data": {
      "text/plain": [
       "(array([12, 15, 18]), array([12, 15, 18]))"
      ]
     },
     "execution_count": 75,
     "metadata": {},
     "output_type": "execute_result"
    }
   ],
   "source": [
    "a.sum(axis=0), np.sum(a, axis=0)\n",
    "\n",
    "#axis는 몇 번째 차원에서 우리가 sum을 할 건가.\n",
    "#2차원의 첫 번째 차원은 열, 두 번째 차원은 행. 첫번째 차원의 관점에서 sum을 해라!"
   ]
  },
  {
   "cell_type": "code",
   "execution_count": 76,
   "metadata": {},
   "outputs": [
    {
     "data": {
      "text/plain": [
       "(array([ 6, 15, 24]), array([ 6, 15, 24]))"
      ]
     },
     "execution_count": 76,
     "metadata": {},
     "output_type": "execute_result"
    }
   ],
   "source": [
    "a.sum(axis=1), np.sum(a, axis=1)\n",
    "\n",
    "#axis=1은 두 번째 차원을 의미하는, 가로행."
   ]
  },
  {
   "cell_type": "markdown",
   "metadata": {},
   "source": [
    "# Broadcasting"
   ]
  },
  {
   "cell_type": "code",
   "execution_count": 77,
   "metadata": {},
   "outputs": [
    {
     "data": {
      "text/plain": [
       "array([[ 1,  2,  3,  4,  5,  6],\n",
       "       [ 7,  8,  9, 10, 11, 12],\n",
       "       [13, 14, 15, 16, 17, 18],\n",
       "       [19, 20, 21, 22, 23, 24]])"
      ]
     },
     "execution_count": 77,
     "metadata": {},
     "output_type": "execute_result"
    }
   ],
   "source": [
    "a = np.arange(1, 25).reshape(4,6)\n",
    "a   #reshape이 broadcasting. 사용하는 방법을 잘 봐! 1부터 25 직전까지의 원소들을 4x6 행렬로 생성."
   ]
  },
  {
   "cell_type": "code",
   "execution_count": 78,
   "metadata": {},
   "outputs": [
    {
     "data": {
      "text/plain": [
       "array([[101, 102, 103, 104, 105, 106],\n",
       "       [107, 108, 109, 110, 111, 112],\n",
       "       [113, 114, 115, 116, 117, 118],\n",
       "       [119, 120, 121, 122, 123, 124]])"
      ]
     },
     "execution_count": 78,
     "metadata": {},
     "output_type": "execute_result"
    }
   ],
   "source": [
    "a + 100"
   ]
  },
  {
   "cell_type": "code",
   "execution_count": 79,
   "metadata": {},
   "outputs": [
    {
     "data": {
      "text/plain": [
       "array([0, 1, 2, 3, 4, 5])"
      ]
     },
     "execution_count": 79,
     "metadata": {},
     "output_type": "execute_result"
    }
   ],
   "source": [
    "b = np.arange(6)\n",
    "b"
   ]
  },
  {
   "cell_type": "code",
   "execution_count": 80,
   "metadata": {},
   "outputs": [
    {
     "data": {
      "text/plain": [
       "array([[ 1,  3,  5,  7,  9, 11],\n",
       "       [ 7,  9, 11, 13, 15, 17],\n",
       "       [13, 15, 17, 19, 21, 23],\n",
       "       [19, 21, 23, 25, 27, 29]])"
      ]
     },
     "execution_count": 80,
     "metadata": {},
     "output_type": "execute_result"
    }
   ],
   "source": [
    "a + b  #열이 동일해서, 각 행마다 b값이 더해지는 것."
   ]
  },
  {
   "cell_type": "code",
   "execution_count": 81,
   "metadata": {},
   "outputs": [
    {
     "data": {
      "text/plain": [
       "array([[0],\n",
       "       [1],\n",
       "       [2],\n",
       "       [3]])"
      ]
     },
     "execution_count": 81,
     "metadata": {},
     "output_type": "execute_result"
    }
   ],
   "source": [
    "c = np.arange(4).reshape([4,1])\n",
    "c"
   ]
  },
  {
   "cell_type": "code",
   "execution_count": 82,
   "metadata": {},
   "outputs": [
    {
     "data": {
      "text/plain": [
       "array([[ 1,  2,  3,  4,  5,  6],\n",
       "       [ 8,  9, 10, 11, 12, 13],\n",
       "       [15, 16, 17, 18, 19, 20],\n",
       "       [22, 23, 24, 25, 26, 27]])"
      ]
     },
     "execution_count": 82,
     "metadata": {},
     "output_type": "execute_result"
    }
   ],
   "source": [
    "a + c"
   ]
  }
 ],
 "metadata": {
  "kernelspec": {
   "display_name": "Python 3",
   "language": "python",
   "name": "python3"
  },
  "language_info": {
   "codemirror_mode": {
    "name": "ipython",
    "version": 3
   },
   "file_extension": ".py",
   "mimetype": "text/x-python",
   "name": "python",
   "nbconvert_exporter": "python",
   "pygments_lexer": "ipython3",
   "version": "3.7.3"
  }
 },
 "nbformat": 4,
 "nbformat_minor": 2
}
