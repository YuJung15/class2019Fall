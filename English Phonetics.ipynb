{
 "cells": [
  {
   "cell_type": "markdown",
   "metadata": {},
   "source": [
    "# variables"
   ]
  },
  {
   "cell_type": "code",
   "execution_count": 1,
   "metadata": {},
   "outputs": [],
   "source": [
    "a = 1      #'='은 같다는 것이 아니라, 오른쪽에 있는 정보를 왼쪽에 있는 variable로 assign한다. "
   ]
  },
  {
   "cell_type": "code",
   "execution_count": 2,
   "metadata": {},
   "outputs": [
    {
     "name": "stdout",
     "output_type": "stream",
     "text": [
      "1\n"
     ]
    }
   ],
   "source": [
    "print(a)   #print 함수에 변수 a를 입력하면 그 값이 출력된다."
   ]
  },
  {
   "cell_type": "code",
   "execution_count": 3,
   "metadata": {},
   "outputs": [],
   "source": [
    "#cell을 추가하려면 클릭하고 a, 삭제하려면 x\n",
    "#cell by cell로 실행된다.(하고 싶은 것만 실행 가능)"
   ]
  },
  {
   "cell_type": "code",
   "execution_count": 4,
   "metadata": {},
   "outputs": [],
   "source": [
    "a = 2   #variable은 unique하기 때문에, a값은 '1'이 아니라 가장 최근에 저장된 '2'다."
   ]
  },
  {
   "cell_type": "code",
   "execution_count": 5,
   "metadata": {},
   "outputs": [
    {
     "name": "stdout",
     "output_type": "stream",
     "text": [
      "2\n"
     ]
    }
   ],
   "source": [
    "print(a)"
   ]
  },
  {
   "cell_type": "code",
   "execution_count": 6,
   "metadata": {},
   "outputs": [],
   "source": [
    "b = 'love'  #문자를 표현하는 방법은 '' \"\" 인용부호를 사용한다."
   ]
  },
  {
   "cell_type": "code",
   "execution_count": 7,
   "metadata": {},
   "outputs": [
    {
     "name": "stdout",
     "output_type": "stream",
     "text": [
      "love\n"
     ]
    }
   ],
   "source": [
    "print(b)"
   ]
  },
  {
   "cell_type": "code",
   "execution_count": 8,
   "metadata": {},
   "outputs": [],
   "source": [
    "love = 2  #love라는 변수에 숫자 2를 넣는다."
   ]
  },
  {
   "cell_type": "code",
   "execution_count": 9,
   "metadata": {},
   "outputs": [],
   "source": [
    "b = love  #b에 love가 가지고 있는 변수의 내용, 2를 넣는다."
   ]
  },
  {
   "cell_type": "code",
   "execution_count": 10,
   "metadata": {},
   "outputs": [
    {
     "name": "stdout",
     "output_type": "stream",
     "text": [
      "2\n"
     ]
    }
   ],
   "source": [
    "print(b)"
   ]
  },
  {
   "cell_type": "code",
   "execution_count": 11,
   "metadata": {},
   "outputs": [
    {
     "data": {
      "text/plain": [
       "3"
      ]
     },
     "execution_count": 11,
     "metadata": {},
     "output_type": "execute_result"
    }
   ],
   "source": [
    "a = 1\n",
    "b = 2\n",
    "b\n",
    "c = 3\n",
    "c      #제일 마지막에 있는 변수명을 쓰면, 하나는 보여준다."
   ]
  },
  {
   "cell_type": "code",
   "execution_count": 12,
   "metadata": {},
   "outputs": [
    {
     "data": {
      "text/plain": [
       "3"
      ]
     },
     "execution_count": 12,
     "metadata": {},
     "output_type": "execute_result"
    }
   ],
   "source": [
    "c"
   ]
  },
  {
   "cell_type": "code",
   "execution_count": 13,
   "metadata": {},
   "outputs": [],
   "source": [
    "a = 1 ; b = 2 ; c = 3"
   ]
  },
  {
   "cell_type": "code",
   "execution_count": 14,
   "metadata": {},
   "outputs": [
    {
     "name": "stdout",
     "output_type": "stream",
     "text": [
      "1\n",
      "2\n",
      "3\n"
     ]
    }
   ],
   "source": [
    "print(a) ; print(b) ; print(c)  #;을 사용하면 1 line에 적을 수 있다."
   ]
  },
  {
   "cell_type": "code",
   "execution_count": 15,
   "metadata": {},
   "outputs": [],
   "source": [
    "a = [1, 2, 3, 5]   #여러 값을 하나의 변수에 저장하는 것을 list라고 한다."
   ]
  },
  {
   "cell_type": "code",
   "execution_count": 16,
   "metadata": {},
   "outputs": [
    {
     "data": {
      "text/plain": [
       "list"
      ]
     },
     "execution_count": 16,
     "metadata": {},
     "output_type": "execute_result"
    }
   ],
   "source": [
    "type(a)    #()안에는 변수만 사용 가능, type함수는 변수 data의 유형을 출력한다."
   ]
  },
  {
   "cell_type": "code",
   "execution_count": 17,
   "metadata": {},
   "outputs": [
    {
     "data": {
      "text/plain": [
       "int"
      ]
     },
     "execution_count": 17,
     "metadata": {},
     "output_type": "execute_result"
    }
   ],
   "source": [
    "a = 1 ; type(a)   #int는 정수형 숫자"
   ]
  },
  {
   "cell_type": "code",
   "execution_count": 18,
   "metadata": {},
   "outputs": [
    {
     "data": {
      "text/plain": [
       "float"
      ]
     },
     "execution_count": 18,
     "metadata": {},
     "output_type": "execute_result"
    }
   ],
   "source": [
    "a = 1.2 ; type(a)  #float은 실수형 숫자"
   ]
  },
  {
   "cell_type": "code",
   "execution_count": 19,
   "metadata": {},
   "outputs": [
    {
     "data": {
      "text/plain": [
       "str"
      ]
     },
     "execution_count": 19,
     "metadata": {},
     "output_type": "execute_result"
    }
   ],
   "source": [
    "a = 'love' ; type(a)  #str은 문자"
   ]
  },
  {
   "cell_type": "code",
   "execution_count": 20,
   "metadata": {},
   "outputs": [
    {
     "data": {
      "text/plain": [
       "list"
      ]
     },
     "execution_count": 20,
     "metadata": {},
     "output_type": "execute_result"
    }
   ],
   "source": [
    "a = [1,2,3,5,'love'] ; type(a)   #list에 반드시 숫자만 들어갈 필요는 없다. type에 상관없이 여러 값을 저장할 수 있다."
   ]
  },
  {
   "cell_type": "code",
   "execution_count": 21,
   "metadata": {},
   "outputs": [
    {
     "data": {
      "text/plain": [
       "list"
      ]
     },
     "execution_count": 21,
     "metadata": {},
     "output_type": "execute_result"
    }
   ],
   "source": [
    "a = [1, 'love', [1,'bye']] ; type(a)   #list 속에 list가 들어갈 수 있다."
   ]
  },
  {
   "cell_type": "code",
   "execution_count": 22,
   "metadata": {},
   "outputs": [
    {
     "data": {
      "text/plain": [
       "tuple"
      ]
     },
     "execution_count": 22,
     "metadata": {},
     "output_type": "execute_result"
    }
   ],
   "source": [
    "a = (1,'love') ; type(a)\n",
    "\n",
    "#모든 list는 []를 사용해야 한다. list와 동일하지만 ()를 쓰는 건, 튜플!"
   ]
  },
  {
   "cell_type": "code",
   "execution_count": 24,
   "metadata": {},
   "outputs": [
    {
     "data": {
      "text/plain": [
       "dict"
      ]
     },
     "execution_count": 24,
     "metadata": {},
     "output_type": "execute_result"
    }
   ],
   "source": [
    "a = {'a': 'apple', 'b':'banana'} ; type(a)\n",
    "\n",
    "#{}는 dictionary, '표제어:설명' 두 쌍으로 구성된 원리. str만 쓰는 것 아님! \n",
    "#list와 dictionary는 ,로 구분해서 몇 개가 들어있는지 알 수 있다."
   ]
  },
  {
   "cell_type": "markdown",
   "metadata": {},
   "source": [
    "좌측 variable에 우측 content를 assign한다. 정보에 해당하는 부분은 숫자와 문자.\n",
    "숫자는 그냥 적으면 되고, 문자는 '', \"\" 이용해서 적는다.\n",
    "\n",
    "하나의 정보를 넣을 수 있지만 여러 정보를 한꺼번에 넣을 수 있다.\n",
    "[list] - 문자, 숫자, 리스트도 들어갈 수 있고, ','로 구분해준다.\n",
    "(tuple) - 리스트와 동일한데, 보안적인 측면에서 리스트보다 좋다.\n",
    "{dictionary} - 리스트와 동일하게 여러 정보를 넣는데, 리스트는 단편적인 정보를 sequence로 넣었으나, dictionary는 pair로 정보를 입력한다."
   ]
  },
  {
   "cell_type": "code",
   "execution_count": 25,
   "metadata": {},
   "outputs": [],
   "source": [
    "#어떤 variable 속에 정보가 들어있을 때, 정보를 access해서 사용할 수 있어야 한다!\n",
    "a = 1 ; b = 1 ; c = a,b"
   ]
  },
  {
   "cell_type": "code",
   "execution_count": 26,
   "metadata": {},
   "outputs": [
    {
     "data": {
      "text/plain": [
       "(1, 1)"
      ]
     },
     "execution_count": 26,
     "metadata": {},
     "output_type": "execute_result"
    }
   ],
   "source": [
    "c"
   ]
  },
  {
   "cell_type": "code",
   "execution_count": 27,
   "metadata": {},
   "outputs": [
    {
     "name": "stdout",
     "output_type": "stream",
     "text": [
      "(1, 1)\n"
     ]
    }
   ],
   "source": [
    "print(c)    #c와 print(c)의 차이는? c의 값이 왜 튜플로 나오지?"
   ]
  },
  {
   "cell_type": "code",
   "execution_count": 28,
   "metadata": {},
   "outputs": [
    {
     "name": "stdout",
     "output_type": "stream",
     "text": [
      "2\n"
     ]
    }
   ],
   "source": [
    "c = a + b ; print(c)   #c에 a가 1, b가 1, 그리고 c가 2라는 정보를 확인할 수 있다."
   ]
  },
  {
   "cell_type": "code",
   "execution_count": 29,
   "metadata": {},
   "outputs": [
    {
     "data": {
      "text/plain": [
       "4"
      ]
     },
     "execution_count": 29,
     "metadata": {},
     "output_type": "execute_result"
    }
   ],
   "source": [
    "a = [1, 2] ; b = [3, 4]\n",
    "c = a[0] + b[0]\n",
    "c\n",
    "\n",
    "#c[]는 list에서 여러 정보가 있을 때 필요한 정보를 가져올 수 있는 것. 컴퓨터는 0번째부터 시작."
   ]
  },
  {
   "cell_type": "markdown",
   "metadata": {},
   "source": [
    "type : 숫자(int, float), text(str), list, tuple, dictionary"
   ]
  },
  {
   "cell_type": "code",
   "execution_count": 30,
   "metadata": {},
   "outputs": [
    {
     "name": "stdout",
     "output_type": "stream",
     "text": [
      "<class 'int'>\n"
     ]
    }
   ],
   "source": [
    "a = 1; print(type(a))"
   ]
  },
  {
   "cell_type": "code",
   "execution_count": 31,
   "metadata": {},
   "outputs": [
    {
     "name": "stdout",
     "output_type": "stream",
     "text": [
      "<class 'float'>\n"
     ]
    }
   ],
   "source": [
    "a = 1; a = float(a) ; print(type(a))"
   ]
  },
  {
   "cell_type": "code",
   "execution_count": 32,
   "metadata": {},
   "outputs": [
    {
     "name": "stdout",
     "output_type": "stream",
     "text": [
      "<class 'int'>\n"
     ]
    }
   ],
   "source": [
    "a = 1.2; a = int(a) ; print(type(a))"
   ]
  },
  {
   "cell_type": "code",
   "execution_count": 33,
   "metadata": {},
   "outputs": [
    {
     "name": "stdout",
     "output_type": "stream",
     "text": [
      "1\n"
     ]
    }
   ],
   "source": [
    "a = 1.2; a = int(a) ; print(a)"
   ]
  },
  {
   "cell_type": "code",
   "execution_count": 34,
   "metadata": {},
   "outputs": [
    {
     "name": "stdout",
     "output_type": "stream",
     "text": [
      "<class 'str'>\n",
      "2\n"
     ]
    }
   ],
   "source": [
    "a = '123'; print(type(a)); print(a[1])\n",
    "\n",
    "#어떤 variable의 내부 정보를 이용할 때는 반드시 []를 쓰고, [] 내에 index를 쓴다.\n",
    "#2라는 문자를 가져온 것이지, 숫자를 가져온 것이 아니다."
   ]
  },
  {
   "cell_type": "code",
   "execution_count": 46,
   "metadata": {},
   "outputs": [
    {
     "ename": "TypeError",
     "evalue": "'int' object is not subscriptable",
     "output_type": "error",
     "traceback": [
      "\u001b[1;31m---------------------------------------------------------------------------\u001b[0m",
      "\u001b[1;31mTypeError\u001b[0m                                 Traceback (most recent call last)",
      "\u001b[1;32m<ipython-input-46-30b1cf6c98e0>\u001b[0m in \u001b[0;36m<module>\u001b[1;34m\u001b[0m\n\u001b[1;32m----> 1\u001b[1;33m \u001b[0ma\u001b[0m \u001b[1;33m=\u001b[0m \u001b[1;36m123\u001b[0m \u001b[1;33m;\u001b[0m \u001b[0mprint\u001b[0m\u001b[1;33m(\u001b[0m\u001b[0ma\u001b[0m\u001b[1;33m[\u001b[0m\u001b[1;36m1\u001b[0m\u001b[1;33m]\u001b[0m\u001b[1;33m)\u001b[0m\u001b[1;33m\u001b[0m\u001b[1;33m\u001b[0m\u001b[0m\n\u001b[0m",
      "\u001b[1;31mTypeError\u001b[0m: 'int' object is not subscriptable"
     ]
    }
   ],
   "source": [
    "a = 123 ; print(a[1])"
   ]
  },
  {
   "cell_type": "code",
   "execution_count": 49,
   "metadata": {},
   "outputs": [
    {
     "name": "stdout",
     "output_type": "stream",
     "text": [
      "124\n"
     ]
    }
   ],
   "source": [
    "a = [123, 124]; print(a[1])"
   ]
  },
  {
   "cell_type": "code",
   "execution_count": 47,
   "metadata": {
    "scrolled": false
   },
   "outputs": [
    {
     "name": "stdout",
     "output_type": "stream",
     "text": [
      "<class 'list'>\n",
      "['1', '2', '3']\n",
      "3\n"
     ]
    }
   ],
   "source": [
    "a = '123' ; a = list(a)    #str을 하나씩 쪼개서 list화시키는 것.\n",
    "print(type(a)); print(a); print(a[2])"
   ]
  },
  {
   "cell_type": "code",
   "execution_count": 36,
   "metadata": {},
   "outputs": [
    {
     "name": "stdout",
     "output_type": "stream",
     "text": [
      "<class 'list'>\n",
      "1\n",
      "2\n",
      "[3, '4']\n"
     ]
    }
   ],
   "source": [
    "a = [1, '2', [3, '4']]  #list 속에 list가 들어간 사례\n",
    "print(type(a))\n",
    "print(a[0]) #int\n",
    "print(a[1]) #str        #print되면 str, int는 차이가 없다?!\n",
    "print(a[2]) #list"
   ]
  },
  {
   "cell_type": "code",
   "execution_count": 37,
   "metadata": {},
   "outputs": [
    {
     "name": "stdout",
     "output_type": "stream",
     "text": [
      "<class 'tuple'>\n",
      "1\n",
      "2\n",
      "[3, '4']\n"
     ]
    }
   ],
   "source": [
    "a = (1, '2', [3, '4']); print(type(a)); print(a[0]); print(a[1]); print(a[2])\n",
    "\n",
    "#list와 access하는 방법이 동일한 tuple"
   ]
  },
  {
   "cell_type": "code",
   "execution_count": 38,
   "metadata": {
    "scrolled": true
   },
   "outputs": [
    {
     "name": "stdout",
     "output_type": "stream",
     "text": [
      "<class 'dict'>\n",
      "apple\n"
     ]
    }
   ],
   "source": [
    "a = {\"a\": \"apple\", \"b\": \"orange\", \"c\":2014}\n",
    "print(type(a))\n",
    "print(a[\"a\"])\n",
    "\n",
    "#여러 정보가 한꺼번에 담겨있다는 측면에서 list와 동일하나, 정보가 pair로 들어간다.\n",
    "#dict access: pair set에서 앞 부분을 access의 index의 수단으로 쓴다.\n",
    "#print(a[\"a\"]): a의 \"a\"정보를 가져와라.\n",
    "#사전은 '표제어:내용'의 pair 구성인데, 표제어로 indexing, access해서 내용을 출력한다.\n",
    "\n",
    "#표제어가 지금 다 str인데, int로 해도 가능할까? print(a[1]) 출력되나? Yes!"
   ]
  },
  {
   "cell_type": "code",
   "execution_count": 50,
   "metadata": {},
   "outputs": [
    {
     "name": "stdout",
     "output_type": "stream",
     "text": [
      "<class 'list'>\n"
     ]
    },
    {
     "data": {
      "text/plain": [
       "[(1, 2, 3), (3, 8, 0)]"
      ]
     },
     "execution_count": 50,
     "metadata": {},
     "output_type": "execute_result"
    }
   ],
   "source": [
    "a = [(1,2,3), (3,8,0)]\n",
    "print(type(a))\n",
    "a                #a는 전체적으로 list지만 내부적으로 정보는 tuple이다."
   ]
  },
  {
   "cell_type": "code",
   "execution_count": 51,
   "metadata": {},
   "outputs": [
    {
     "data": {
      "text/plain": [
       "(1, 2, 3)"
      ]
     },
     "execution_count": 51,
     "metadata": {},
     "output_type": "execute_result"
    }
   ],
   "source": [
    "a[0]"
   ]
  },
  {
   "cell_type": "code",
   "execution_count": 52,
   "metadata": {},
   "outputs": [
    {
     "data": {
      "text/plain": [
       "tuple"
      ]
     },
     "execution_count": 52,
     "metadata": {},
     "output_type": "execute_result"
    }
   ],
   "source": [
    "type(a[0])      #각각의 variable에 대한 type을 물어볼 수도 있다."
   ]
  },
  {
   "cell_type": "markdown",
   "metadata": {},
   "source": [
    "# string"
   ]
  },
  {
   "cell_type": "code",
   "execution_count": 53,
   "metadata": {},
   "outputs": [
    {
     "name": "stdout",
     "output_type": "stream",
     "text": [
      "<class 'str'>\n",
      "a f f a\n",
      "bc bcdef abc abcdef\n"
     ]
    }
   ],
   "source": [
    "s = 'abcdef'\n",
    "print(type(s))\n",
    "print(s[0], s[5], s[-1], s[-6])      #index: 순방향(0부터), 역방향(-1부터)\n",
    "print(s[1:3], s[1:], s[:3], s[:])    #range해서 여러 정보를 담을 수 있는 slicing':'\n",
    "#[1:3]은 1에서 3 직전까지, [1:]는 1에서 끝까지, [:3]는 처음부터 3 직전까지, [:]는 전체"
   ]
  },
  {
   "cell_type": "code",
   "execution_count": 54,
   "metadata": {},
   "outputs": [
    {
     "name": "stdout",
     "output_type": "stream",
     "text": [
      "100 300 300 100\n",
      "[200] [200, 300] [100, 200] [100, 200, 300]\n"
     ]
    }
   ],
   "source": [
    "#str과 list의 정보 access 방식이 동일하다.\n",
    "n = [100, 200, 300]\n",
    "print(n[0], n[2], n[-1], n[-3])\n",
    "print(n[1:2], n[1:], n[:2], n[:])"
   ]
  },
  {
   "cell_type": "code",
   "execution_count": 55,
   "metadata": {},
   "outputs": [
    {
     "data": {
      "text/plain": [
       "6"
      ]
     },
     "execution_count": 55,
     "metadata": {},
     "output_type": "execute_result"
    }
   ],
   "source": [
    "len(s)  #len함수는 variable 내에 있는 정보의 개수, 길이"
   ]
  },
  {
   "cell_type": "code",
   "execution_count": 56,
   "metadata": {},
   "outputs": [
    {
     "data": {
      "text/plain": [
       "3"
      ]
     },
     "execution_count": 56,
     "metadata": {},
     "output_type": "execute_result"
    }
   ],
   "source": [
    "len(n)"
   ]
  },
  {
   "cell_type": "code",
   "execution_count": 57,
   "metadata": {},
   "outputs": [
    {
     "data": {
      "text/plain": [
       "'bdefefefefefefefefefef'"
      ]
     },
     "execution_count": 57,
     "metadata": {},
     "output_type": "execute_result"
    }
   ],
   "source": [
    "s[1]+s[3]+s[4:]*10"
   ]
  },
  {
   "cell_type": "code",
   "execution_count": 58,
   "metadata": {},
   "outputs": [
    {
     "data": {
      "text/plain": [
       "'ABCDEF'"
      ]
     },
     "execution_count": 58,
     "metadata": {},
     "output_type": "execute_result"
    }
   ],
   "source": [
    "s.upper()   #upper함수는 s를 upper시키는, 대문자화하는 함수."
   ]
  },
  {
   "cell_type": "code",
   "execution_count": 59,
   "metadata": {},
   "outputs": [
    {
     "data": {
      "text/plain": [
       "' this is a house built this year.\\n'"
      ]
     },
     "execution_count": 59,
     "metadata": {},
     "output_type": "execute_result"
    }
   ],
   "source": [
    "s = ' this is a house built this year.\\n'\n",
    "s\n",
    "\n",
    "#s라는 variable에 str 문장 입력.\n",
    "#text analysis 기본 유형(access) -> 관련 연구: nlp(nature language process) 자연어처리"
   ]
  },
  {
   "cell_type": "markdown",
   "metadata": {},
   "source": [
    "variable.함수() 라고 적으면 함수가 실행이 된다!\n",
    "\n",
    "'.함수()'가 이미 정의돼 있는 것."
   ]
  },
  {
   "cell_type": "code",
   "execution_count": 60,
   "metadata": {},
   "outputs": [
    {
     "data": {
      "text/plain": [
       "11"
      ]
     },
     "execution_count": 60,
     "metadata": {},
     "output_type": "execute_result"
    }
   ],
   "source": [
    "result = s.find('house')   #index of first instance of string t inside s (-1 if not found)\n",
    "result\n",
    "\n",
    "#find 함수는 s라는 str variable에서 'house'를 찾아라!\n",
    "#11번째에서 'house'가 시작되는 것. space 포함해서 11번째 위치."
   ]
  },
  {
   "cell_type": "code",
   "execution_count": 61,
   "metadata": {},
   "outputs": [
    {
     "data": {
      "text/plain": [
       "1"
      ]
     },
     "execution_count": 61,
     "metadata": {},
     "output_type": "execute_result"
    }
   ],
   "source": [
    "result = s.find('this')   #index of last instance of string t inside s (-1 if not found)\n",
    "result\n",
    "\n",
    "#space가 문장 앞에 있으면 문장 첫 단어의 위치는 1, 그렇지 않으면 0."
   ]
  },
  {
   "cell_type": "code",
   "execution_count": 62,
   "metadata": {},
   "outputs": [
    {
     "data": {
      "text/plain": [
       "23"
      ]
     },
     "execution_count": 62,
     "metadata": {},
     "output_type": "execute_result"
    }
   ],
   "source": [
    "result = s.rindex('this')   #like s.find(t) except it raises ValueError if not found\n",
    "result\n",
    "\n",
    "#r은 right 오른쪽에서 count한다는 것.\n",
    "#rindex는 여러 개 찾아졌을 때 제일 오른쪽 마지막 것을 count해라!(last index)"
   ]
  },
  {
   "cell_type": "code",
   "execution_count": 63,
   "metadata": {},
   "outputs": [
    {
     "data": {
      "text/plain": [
       "'this is a house built this year.'"
      ]
     },
     "execution_count": 63,
     "metadata": {},
     "output_type": "execute_result"
    }
   ],
   "source": [
    "s = s.strip()   #a copy of s without leading or trailing whitespace\n",
    "s\n",
    "\n",
    "#strip 함수는 좌우공백 제거하고 순수한 text만 남겨주는 함수."
   ]
  },
  {
   "cell_type": "code",
   "execution_count": 64,
   "metadata": {},
   "outputs": [
    {
     "data": {
      "text/plain": [
       "['this', 'is', 'a', 'house', 'built', 'this', 'year.']"
      ]
     },
     "execution_count": 64,
     "metadata": {},
     "output_type": "execute_result"
    }
   ],
   "source": [
    "tokens = s.split(' ')   #split s into a list wherever a t is found (whitespace by default)\n",
    "tokens\n",
    "\n",
    "#변수 s에는 str 문장이 들어 있는데, 단어별로 쪼개서 list로 만들고 싶을 때 split함수를 사용한다.\n",
    "#space를 기준으로 단어를 쪼개 list로 만드는 것. 단어들이 ,로 이루어졌다면 ','를 쓰면 된다!"
   ]
  },
  {
   "cell_type": "code",
   "execution_count": 65,
   "metadata": {},
   "outputs": [
    {
     "data": {
      "text/plain": [
       "'this is a house built this year.'"
      ]
     },
     "execution_count": 65,
     "metadata": {},
     "output_type": "execute_result"
    }
   ],
   "source": [
    "s= ' '.join(tokens)   #combine the words of the text into a string using s as the glue\n",
    "s\n",
    "\n",
    "#split과 join함수는 pair로 잘 쓰인다. split함수로 list를 만든 것을, 복구시키고 싶을 때 join함수 사용!\n",
    "#'(space)'를 이용해서 token에 있던 list들을 join시킨다."
   ]
  },
  {
   "cell_type": "code",
   "execution_count": 66,
   "metadata": {},
   "outputs": [
    {
     "data": {
      "text/plain": [
       "'this,is,a,house,built,this,year.'"
      ]
     },
     "execution_count": 66,
     "metadata": {},
     "output_type": "execute_result"
    }
   ],
   "source": [
    "s=','.join(tokens)\n",
    "s"
   ]
  },
  {
   "cell_type": "code",
   "execution_count": 67,
   "metadata": {},
   "outputs": [
    {
     "data": {
      "text/plain": [
       "'that,is,a,house,built,that,year.'"
      ]
     },
     "execution_count": 67,
     "metadata": {},
     "output_type": "execute_result"
    }
   ],
   "source": [
    "s = s.replace('this', 'that')   #replace instance of t with u inside s\n",
    "s\n",
    "\n",
    "#str문장 내 모든 'this'를 'that'으로 바꿔라!"
   ]
  },
  {
   "cell_type": "markdown",
   "metadata": {},
   "source": [
    "# syntax"
   ]
  },
  {
   "cell_type": "markdown",
   "metadata": {},
   "source": [
    "review\n",
    "\n",
    "variable assignment '=' 이용해서 정의\n",
    "variable 종류: number(int, float), str, list, tuple, dictionary<pair>\n",
    "function은 입력이 들어가고 출력이 나오는 것 (print, len, type)\n",
    "str과 list는 성격이 비슷하다.\n",
    "\n",
    "<syntax 문법>\n",
    "for roof, if condtion."
   ]
  },
  {
   "cell_type": "code",
   "execution_count": 68,
   "metadata": {},
   "outputs": [
    {
     "name": "stdout",
     "output_type": "stream",
     "text": [
      "1\n",
      "2\n",
      "3\n",
      "4\n"
     ]
    }
   ],
   "source": [
    "a = [1, 2, 3, 4]\n",
    "for i in a:   #for_in_: (in에 있는 a를 1회씩 'for roof' 돌려서 i에 입력)\n",
    "    print(i)  #조건문 => indent가 반드시 있어야 한다!"
   ]
  },
  {
   "cell_type": "code",
   "execution_count": 69,
   "metadata": {},
   "outputs": [
    {
     "name": "stdout",
     "output_type": "stream",
     "text": [
      "1\n",
      "2\n",
      "3\n",
      "4\n"
     ]
    }
   ],
   "source": [
    "a = [1, 2, 3, 4]\n",
    "for i in range(len(a)):  #len(a)=4, range(4) => 0-3까지 list 생성[index 4개]\n",
    "    print(a[i])"
   ]
  },
  {
   "cell_type": "code",
   "execution_count": 70,
   "metadata": {},
   "outputs": [
    {
     "name": "stdout",
     "output_type": "stream",
     "text": [
      "0\n",
      "1\n",
      "2\n",
      "3\n"
     ]
    }
   ],
   "source": [
    "a = [1, 2, 3, 4]\n",
    "for i in range(4):\n",
    "    print(i)\n",
    "\n",
    "#range(4)는 0부터 4개의 index를 만드는 것. 우리가 4라고 적은 것은 random하게 적은것\n",
    "#a의 길이를 적어주면 list의 길이가 바뀜에 따라서, match brown?이 될 수 있으니까 일반적으로 len(a)라고 적는다."
   ]
  },
  {
   "cell_type": "markdown",
   "metadata": {},
   "source": [
    "for roof\n",
    "1. list를 그대로 주는 방법 : in 다음에 있는 list가 들어있는 개수만큼 roof를 돌리는 것. 각각의 element들을 in 앞의 variable에 담아준다. for roof가 돌면서 for 다음의 variable이 계속 바뀐다.\n",
    "2. for 다음에 in 하고 list를 그대로 쓰는 게 아니라, range 함수 사용. range함수는 index를 만들어준다. 그것을 i가 받아서 for roof의 print문이 실행된다."
   ]
  },
  {
   "cell_type": "code",
   "execution_count": 71,
   "metadata": {},
   "outputs": [
    {
     "name": "stdout",
     "output_type": "stream",
     "text": [
      "red\n",
      "green\n",
      "blue\n",
      "purple\n"
     ]
    }
   ],
   "source": [
    "a = ['red', 'green', 'blue', 'purple']\n",
    "print(a[0])\n",
    "print(a[1])\n",
    "print(a[2])\n",
    "print(a[3])\n",
    "\n",
    "#for roof를 사용하지 않고 각각의 원소를 출력하는 법. 비효율적!!"
   ]
  },
  {
   "cell_type": "code",
   "execution_count": 72,
   "metadata": {},
   "outputs": [
    {
     "name": "stdout",
     "output_type": "stream",
     "text": [
      "red\n",
      "green\n",
      "blue\n",
      "purple\n"
     ]
    }
   ],
   "source": [
    "a = ['red', 'green', 'blue', 'purple']   #str list\n",
    "for i in a:\n",
    "    print(i)"
   ]
  },
  {
   "cell_type": "code",
   "execution_count": 73,
   "metadata": {},
   "outputs": [
    {
     "name": "stdout",
     "output_type": "stream",
     "text": [
      "red\n",
      "green\n",
      "blue\n",
      "purple\n"
     ]
    }
   ],
   "source": [
    "a = ['red', 'green', 'blue', 'purple']\n",
    "for i in range(len(a)):\n",
    "    print(a[i])\n",
    "\n",
    "#range 함수를 쓰면 무엇이 바뀌게 될까?"
   ]
  },
  {
   "cell_type": "code",
   "execution_count": 74,
   "metadata": {
    "scrolled": true
   },
   "outputs": [
    {
     "name": "stdout",
     "output_type": "stream",
     "text": [
      "red: 20.0%\n",
      "green: 30.0%\n",
      "blue: 10.0%\n",
      "purple: 40.0%\n"
     ]
    }
   ],
   "source": [
    "a = ['red', 'green', 'blue', 'purple']\n",
    "b = [0.2, 0.3, 0.1, 0.4]\n",
    "for i, j in enumerate(a):\n",
    "    print(\"{}: {}%\".format(j, b[i]*100))\n",
    "    \n",
    "#enumerate: for roof 반복- i에는 index, j는 각각 list의 값들을 받는다.\n",
    "#format 함수 내 2개가 앞의 {} 안에 입력이 된다."
   ]
  },
  {
   "cell_type": "markdown",
   "metadata": {},
   "source": [
    "enumerate 함수\n",
    "\n",
    "a가 list 4개인 variable인데, 그 list에 번호를 추가로 매겨준다.\n",
    "for roof에 variable 2개가 있는데, enumberate가 a인데, 번호까지 pair로 있다.\n",
    "그것을 i,j로 받는다. 첫번째 roof에서 i는 번호를 매겨준 0, j는 red.\n",
    "    \n",
    "output 값이 자기자신 list도 되지만, 그것에 대한 번호도 매겨준다.\n",
    "in 다음에 그냥 a가 있었더라면 i,j말고 1개의 변수만 사용할 수 있다.\n",
    "enumerate가 번호까지 2개의 변수를 요구한다."
   ]
  },
  {
   "cell_type": "code",
   "execution_count": 83,
   "metadata": {},
   "outputs": [
    {
     "name": "stdout",
     "output_type": "stream",
     "text": [
      "red: 20.0%\n",
      "green: 30.0%\n",
      "blue: 10.0%\n",
      "purple: 40.0%\n"
     ]
    }
   ],
   "source": [
    "a = ['red', 'green', 'blue', 'purple']\n",
    "b = [0.2, 0.3, 0.1, 0.4]\n",
    "for i, j in zip(a, b):   #a, b는 반드시 길이가 같은 list가 돼야 한다. zip은 pair set를 만든다.\n",
    "    print(\"{}: {}%\".format(i, j*100))"
   ]
  },
  {
   "cell_type": "markdown",
   "metadata": {},
   "source": [
    "if condition"
   ]
  },
  {
   "cell_type": "code",
   "execution_count": 89,
   "metadata": {},
   "outputs": [
    {
     "name": "stdout",
     "output_type": "stream",
     "text": [
      "yay!\n",
      "let's go\n"
     ]
    }
   ],
   "source": [
    "a = 0\n",
    "if a == 0:        #equal sign 2개 == '등호'의 의미와 동일.\n",
    "    print(\"yay!\")\n",
    "    print(\"let's go\")    #print의 갯수는 상관없다."
   ]
  },
  {
   "cell_type": "code",
   "execution_count": 88,
   "metadata": {},
   "outputs": [],
   "source": [
    "a = 0\n",
    "if a != 0:        #a!=0 (a가 0이 아닌 경우) // 성립하지 않으면 출력되지 않는다.\n",
    "    print(\"yay!\")"
   ]
  },
  {
   "cell_type": "code",
   "execution_count": 90,
   "metadata": {},
   "outputs": [
    {
     "name": "stdout",
     "output_type": "stream",
     "text": [
      "yay!\n"
     ]
    }
   ],
   "source": [
    "a = 0\n",
    "if a >= 0:        #(부등호)(equal sign) 순서로 작성, 그렇지 않으면 Error.\n",
    "    print(\"yay!\")"
   ]
  },
  {
   "cell_type": "code",
   "execution_count": 91,
   "metadata": {},
   "outputs": [
    {
     "ename": "SyntaxError",
     "evalue": "invalid syntax (<ipython-input-91-00932fae8254>, line 2)",
     "output_type": "error",
     "traceback": [
      "\u001b[1;36m  File \u001b[1;32m\"<ipython-input-91-00932fae8254>\"\u001b[1;36m, line \u001b[1;32m2\u001b[0m\n\u001b[1;33m    if a =< 0:\u001b[0m\n\u001b[1;37m         ^\u001b[0m\n\u001b[1;31mSyntaxError\u001b[0m\u001b[1;31m:\u001b[0m invalid syntax\n"
     ]
    }
   ],
   "source": [
    "a = 0\n",
    "if a =< 0:       \n",
    "    print(\"yay!\")"
   ]
  },
  {
   "cell_type": "code",
   "execution_count": 92,
   "metadata": {},
   "outputs": [
    {
     "name": "stdout",
     "output_type": "stream",
     "text": [
      "no\n"
     ]
    }
   ],
   "source": [
    "a = 0\n",
    "if a != 0: \n",
    "    print(\"yay!\")\n",
    "    print(\"let's go\")\n",
    "else:\n",
    "    print(\"no\")"
   ]
  },
  {
   "cell_type": "code",
   "execution_count": 85,
   "metadata": {},
   "outputs": [
    {
     "name": "stdout",
     "output_type": "stream",
     "text": [
      "0\n"
     ]
    }
   ],
   "source": [
    "a = 0\n",
    "if a == 0:\n",
    "    print(a)\n",
    "else:              \n",
    "    print(a+1)"
   ]
  },
  {
   "cell_type": "markdown",
   "metadata": {},
   "source": [
    "100번의 roof 실행,\n",
    "각 roof에 대해서 50번의 roof가 또 실행된다.\n",
    "\n",
    "그러면 총 100*50 = 5,000번의 roof가 실행."
   ]
  },
  {
   "cell_type": "code",
   "execution_count": 94,
   "metadata": {},
   "outputs": [
    {
     "name": "stdout",
     "output_type": "stream",
     "text": [
      "3\n",
      "4\n",
      "6\n",
      "8\n"
     ]
    }
   ],
   "source": [
    "for i in range(1, 3):\n",
    "    for j in range(3, 5):\n",
    "        print(i*j) "
   ]
  },
  {
   "cell_type": "code",
   "execution_count": 93,
   "metadata": {},
   "outputs": [
    {
     "name": "stdout",
     "output_type": "stream",
     "text": [
      "1\n",
      "3\n",
      "4\n",
      "2\n",
      "6\n",
      "8\n"
     ]
    }
   ],
   "source": [
    "for i in range(1, 3):\n",
    "    print(i)         #print 함수는 총 2번 실행.\n",
    "    for j in range(3, 5):\n",
    "        print(i*j)   #print함수는 총 4번 실행. <for roof 실행 횟수 확인>\n",
    "\n",
    "\n",
    "#range(n): 0부터 n-1까지 index 생성.\n",
    "#range(a,b): a부터 b-1까지 index 생성. \n",
    "#indent를 잘 보면 for roof 내 for roof 내 명령 실행\n",
    "#1번째 for roof는 range= 1,2(2회) -> 2번째 for roof= 3,4(2회) => 총 4회 실행"
   ]
  },
  {
   "cell_type": "code",
   "execution_count": 77,
   "metadata": {},
   "outputs": [
    {
     "name": "stdout",
     "output_type": "stream",
     "text": [
      "4\n",
      "8\n"
     ]
    }
   ],
   "source": [
    "for i in range(1, 3):\n",
    "    for j in range(3, 5):\n",
    "        if j >=4:\n",
    "            print(i*j)\n",
    "            \n",
    "\n",
    "#j가 4보다 같거나 클 때 for roof 실행. j=3: roof 미실행 => 총 2회 실행\n",
    "#1번째 for roof: 1,2(2회) => 2번째 for roof: 3,4(2회)\n",
    "#j가 if 조건 만족 못하면, 4회 실행 아닌, 2회 실행 (j=3)"
   ]
  },
  {
   "cell_type": "code",
   "execution_count": 95,
   "metadata": {},
   "outputs": [
    {
     "ename": "IndentationError",
     "evalue": "expected an indented block (<ipython-input-95-2775b37429d7>, line 3)",
     "output_type": "error",
     "traceback": [
      "\u001b[1;36m  File \u001b[1;32m\"<ipython-input-95-2775b37429d7>\"\u001b[1;36m, line \u001b[1;32m3\u001b[0m\n\u001b[1;33m    for j in range(3, 5):\u001b[0m\n\u001b[1;37m      ^\u001b[0m\n\u001b[1;31mIndentationError\u001b[0m\u001b[1;31m:\u001b[0m expected an indented block\n"
     ]
    }
   ],
   "source": [
    "for i in range(1, 3):\n",
    "    if i >=3:\n",
    "    for j in range(3, 5):\n",
    "            print(i*j)"
   ]
  },
  {
   "cell_type": "code",
   "execution_count": 97,
   "metadata": {},
   "outputs": [],
   "source": [
    "for i in range(1, 3):\n",
    "    if i >=3:\n",
    "        for j in range(3, 5):\n",
    "            print(i*j)\n",
    "            \n",
    "#i= 1,2 / if 조건문 불만족 -> for roof 미실행\n",
    "#print out되지 않는 경우와 Error의 경우는 어떻게 다른가?"
   ]
  },
  {
   "cell_type": "markdown",
   "metadata": {},
   "source": [
    "# Mid-term Review"
   ]
  },
  {
   "cell_type": "code",
   "execution_count": 1,
   "metadata": {},
   "outputs": [
    {
     "name": "stdout",
     "output_type": "stream",
     "text": [
      "6\n"
     ]
    }
   ],
   "source": [
    "a = [[1],[2,3],[4,5,6]]\n",
    "n = 0\n",
    "for b in a:\n",
    "    for d in b:\n",
    "        n+=1\n",
    "print(n)"
   ]
  },
  {
   "cell_type": "code",
   "execution_count": 2,
   "metadata": {},
   "outputs": [
    {
     "name": "stdout",
     "output_type": "stream",
     "text": [
      "0\n",
      "1\n",
      "2\n",
      "3\n"
     ]
    }
   ],
   "source": [
    "n = [1,2,3,4]\n",
    "for i in range(len(n)):\n",
    "    print(i)\n",
    "    \n",
    "#총 3개의 unique한 함수가 있고, 함수는 6번 실행된다.(len, range까지 2번, print는 4번)"
   ]
  },
  {
   "cell_type": "code",
   "execution_count": 3,
   "metadata": {},
   "outputs": [
    {
     "name": "stdout",
     "output_type": "stream",
     "text": [
      "4\n"
     ]
    }
   ],
   "source": [
    "a = [1,2,[3,4]]\n",
    "print(a[-1][-1])"
   ]
  },
  {
   "cell_type": "code",
   "execution_count": 4,
   "metadata": {},
   "outputs": [
    {
     "name": "stdout",
     "output_type": "stream",
     "text": [
      "9\n"
     ]
    }
   ],
   "source": [
    "b = [1, 'a', {'a':[3,6],'b':[9]}, 'b']\n",
    "print(b[-2]['b'][-1])"
   ]
  },
  {
   "cell_type": "code",
   "execution_count": 6,
   "metadata": {},
   "outputs": [
    {
     "name": "stdout",
     "output_type": "stream",
     "text": [
      "e\n"
     ]
    }
   ],
   "source": [
    "c = [1, 'a', {'a':'abc','b':'def'}]\n",
    "print(c[-1]['b'][-2])"
   ]
  },
  {
   "cell_type": "code",
   "execution_count": 7,
   "metadata": {},
   "outputs": [
    {
     "name": "stdout",
     "output_type": "stream",
     "text": [
      "k\n"
     ]
    }
   ],
   "source": [
    "e = [1, 1.2, 'k', [1, [2], {'a':'apple'}]]\n",
    "for x in e:\n",
    "    if type(x) == 'dict':\n",
    "        print(x)\n",
    "    else:\n",
    "        if x == 'k':\n",
    "            print(x)"
   ]
  },
  {
   "cell_type": "code",
   "execution_count": 11,
   "metadata": {},
   "outputs": [
    {
     "name": "stdout",
     "output_type": "stream",
     "text": [
      "14\n"
     ]
    }
   ],
   "source": [
    "t = 0\n",
    "for p in range(3):\n",
    "    if p <=1:\n",
    "        for q in range(4):\n",
    "            t+=q\n",
    "        for r in range(2):\n",
    "            t+=r\n",
    "print(t*r)"
   ]
  },
  {
   "cell_type": "code",
   "execution_count": 9,
   "metadata": {},
   "outputs": [
    {
     "name": "stdout",
     "output_type": "stream",
     "text": [
      "1\n"
     ]
    }
   ],
   "source": [
    "a = [1,2,3,4]\n",
    "if len(a) == 3:\n",
    "    print(0)\n",
    "else:\n",
    "    print(1)"
   ]
  },
  {
   "cell_type": "code",
   "execution_count": 18,
   "metadata": {},
   "outputs": [
    {
     "ename": "SyntaxError",
     "evalue": "invalid syntax (<ipython-input-18-a66cce9ad7a6>, line 2)",
     "output_type": "error",
     "traceback": [
      "\u001b[1;36m  File \u001b[1;32m\"<ipython-input-18-a66cce9ad7a6>\"\u001b[1;36m, line \u001b[1;32m2\u001b[0m\n\u001b[1;33m    print(int(a[2][-1][0]))\u001b[0m\n\u001b[1;37m        ^\u001b[0m\n\u001b[1;31mSyntaxError\u001b[0m\u001b[1;31m:\u001b[0m invalid syntax\n"
     ]
    }
   ],
   "source": [
    "a = (5.2, {1:'apple', 'k':4.9}, (9.1, [10,12.1])\n",
    "print(int(a[2][-1][0]))\n",
    "\n",
    "#10"
   ]
  },
  {
   "cell_type": "markdown",
   "metadata": {},
   "source": [
    "# NumPy basics"
   ]
  },
  {
   "cell_type": "markdown",
   "metadata": {},
   "source": [
    "# 1. Creation"
   ]
  },
  {
   "cell_type": "markdown",
   "metadata": {},
   "source": [
    "@데이터, 소리는 반드시 숫자화가 되어야 한다. 데이터라고 하면 4가지 정도로 요약되는데, 소리 데이터, 이미지(영상) 데이터, 텍스트 데이터, 그냥 숫자 데이터[주식, 날씨, 온도]. 숫자화되지 않은 데이터들은 어떻게 숫자화가 되는가? 숫자의 열로 표현이 되어야 한다. 그런 숫자의 열을 벡터라고 한다, 행렬\n",
    "\n",
    "세가지 데이터에 대해서 설명을 한다.\n",
    "검정: 0, 흰색: 10, 회색:0~10\n",
    "영상을 확대해보면 그 사이 사이의 회색이 많은 것을 확인할 수 있다.\n",
    "\n",
    "- 영상:\n",
    "가로 행, 세로 열. 행과 열을 직사각형 속에 넣어놓은 것을 행렬이라고 한다.\n",
    "사진을 찍는 순간 행렬이 만들어진다. 숫자 행을 왜 한줄로 펼쳐놓는 걸까? 숫자들이 길게 나열된 형태, 모든 데이터는 벡터의 형태로 되어야 한다. 행렬은 벡터가 아니니까, 길게 만들어 한줄씩 따서 벡터화하면 된다. 그런 식으로 이미지는 행렬이고, 그것을 길게 쭉 늘여놓은 것을 벡터화한다, vectorlized한다. 모든 데이터는 벡터의 상태로 했을 때 다루기가 쉽다.\n",
    "\n",
    "동영상은 시간별로 color가 계속 있는 것, 차원으로 이야기를 하자면 영상이 있는데 영상, 이미지는 행과 열의 2차원이다. color 이미지는 3차원이다. \n",
    "\n",
    "- 소리: \n",
    "waveform을 확대해보면 각각의 district한 값으로 구성됐고, 결국 아래 숫자값들의 데이터로 구성됐다.\n",
    "\n",
    "- 텍스트:\n",
    "50000개의 0과 1로 구성해, 각 순차적인 단어를 구성한다.\n",
    "\n",
    "\n",
    "모든 데이터는 벡터화시킨다! 우리가 벡터와 행렬이라는 개념을 어느 정도 소개를 했다."
   ]
  },
  {
   "cell_type": "markdown",
   "metadata": {},
   "source": [
    "\n",
    "@우리가 library를 import할 것이다. 처음에 아나콘다를 다운받았을 때, 필요한 library를 저절로 설치하는 것. 기본적인 파이썬은 라이브러리들이 많은 것이 필요하지 않다. 라이브러리는 우리가 쓰기 좋게 함수들을 누군가 만들어서, 추가해서 우리가 쓸 때 라이브러리들을 불러서 사용하는 것이다. 중요한 라이브러리들이 있는데, 제일 중요한 것을 NumPy(넘피/넘파이)라고 한다.\n",
    "\n",
    "리스트 안에 숫자가 들어갈 때, 숫자가 들어간 것이지 어떠한 수학적 계산이 이루어지진 않는다. 벡터라이즈된 데이터들은 수학적 처리를 해야 하는데, 수학적 처리가 안되는데, 이것을 가능하게 해주는 게 NumPy다."
   ]
  },
  {
   "cell_type": "code",
   "execution_count": 21,
   "metadata": {},
   "outputs": [
    {
     "data": {
      "text/plain": [
       "[1, 3, 5, 2, 4, 6]"
      ]
     },
     "execution_count": 21,
     "metadata": {},
     "output_type": "execute_result"
    }
   ],
   "source": [
    "a = [1, 3, 5]\n",
    "b = [2, 4, 6]\n",
    "c = a + b\n",
    "c"
   ]
  },
  {
   "cell_type": "code",
   "execution_count": 22,
   "metadata": {},
   "outputs": [],
   "source": [
    "import numpy"
   ]
  },
  {
   "cell_type": "code",
   "execution_count": 24,
   "metadata": {},
   "outputs": [
    {
     "data": {
      "text/plain": [
       "array([ 3,  7, 11])"
      ]
     },
     "execution_count": 24,
     "metadata": {},
     "output_type": "execute_result"
    }
   ],
   "source": [
    "A = numpy.array(a)\n",
    "B = numpy.array(b)\n",
    "A + B\n",
    "#array는 리스트를 계산 가능한 행렬, 벡터로 만들어주는 것. 원래 리스트 상태에서는 계산이 불가했는데, 계산 가능한 데이터 구조로 변경."
   ]
  },
  {
   "cell_type": "code",
   "execution_count": 28,
   "metadata": {},
   "outputs": [
    {
     "data": {
      "text/plain": [
       "array([ 3,  7, 11])"
      ]
     },
     "execution_count": 28,
     "metadata": {},
     "output_type": "execute_result"
    }
   ],
   "source": [
    "import numpy as np\n",
    "\n",
    "#계속 numpy를 사용할 것이기에, np로 축약할 수 있다.\n",
    "\n",
    "A = np.array(a)\n",
    "B = np.array(b)\n",
    "A + B"
   ]
  },
  {
   "cell_type": "code",
   "execution_count": 29,
   "metadata": {},
   "outputs": [],
   "source": [
    "X = np.array([[1,2,3],[4,5,6]])"
   ]
  },
  {
   "cell_type": "code",
   "execution_count": 30,
   "metadata": {},
   "outputs": [
    {
     "data": {
      "text/plain": [
       "array([[1, 2, 3],\n",
       "       [4, 5, 6]])"
      ]
     },
     "execution_count": 30,
     "metadata": {},
     "output_type": "execute_result"
    }
   ],
   "source": [
    "X     #행렬"
   ]
  },
  {
   "cell_type": "code",
   "execution_count": 31,
   "metadata": {},
   "outputs": [
    {
     "data": {
      "text/plain": [
       "(2, 3)"
      ]
     },
     "execution_count": 31,
     "metadata": {},
     "output_type": "execute_result"
    }
   ],
   "source": [
    "X.shape   #차원(2*3): 2행 3열의 matrix"
   ]
  },
  {
   "cell_type": "markdown",
   "metadata": {},
   "source": [
    "@import numpy라고 불렀으면 numpy 내부에 있는 것을 다 사용할 수 있다!\n",
    "1. numpy.A.D.f: numpy가 상위 패키지, A, D, 그 내부의 함수 f\n",
    "2. from numpy import A : numpy에 있는 A를 불러오자.\n",
    "   A.D.f  //from numpy import A.D도 가능하다."
   ]
  },
  {
   "cell_type": "code",
   "execution_count": 20,
   "metadata": {},
   "outputs": [],
   "source": [
    "import numpy as np   #as 이하에 축약해서 사용할 라이브러리명 입력.\n",
    "import matplotlib.pyplot as plt   #plotting (matplotlib 내에 포함된 subset pyplot)\n",
    "##[시험문제]from matplotlib import pyplot as plt   #.이라는 것은 라이브러리에 포함관계."
   ]
  },
  {
   "cell_type": "markdown",
   "metadata": {},
   "source": [
    "numpy는 list와 아주 비슷한데, 수학적 연산도 가능하다.\n",
    "앞으로 쓰게 될 모든 데이터 처리는 list처리를 하지 않고, numpy 처리를 할 것이다!"
   ]
  },
  {
   "cell_type": "code",
   "execution_count": 2,
   "metadata": {},
   "outputs": [
    {
     "data": {
      "text/plain": [
       "array([[         0, 1072168960,          0],\n",
       "       [1072168960,          0,          0]])"
      ]
     },
     "execution_count": 2,
     "metadata": {},
     "output_type": "execute_result"
    }
   ],
   "source": [
    "np.empty([2,3], dtype='int')\n",
    "#empty는 함수, 함수는 괄호로 그 뒤에 input을 받는다.\n",
    "#numpy라는 제일 큰 library 내의 첫 단에 있는 함수다. 함수 내  subset을 포함하지 않고 최상단에 empty라고 있구나!\n",
    "#입력이 list로 들어간다. data type을 integer로 만드는 것."
   ]
  },
  {
   "cell_type": "code",
   "execution_count": 3,
   "metadata": {},
   "outputs": [
    {
     "data": {
      "text/plain": [
       "array([[0., 0., 0.],\n",
       "       [0., 0., 0.]])"
      ]
     },
     "execution_count": 3,
     "metadata": {},
     "output_type": "execute_result"
    }
   ],
   "source": [
    "np.zeros([2,3])\n",
    "#np library 속에 있는 zeros 함수(0으로 채워진)를 이용하는데, 그 입력에 2x3의 matrix 생성."
   ]
  },
  {
   "cell_type": "code",
   "execution_count": 25,
   "metadata": {},
   "outputs": [
    {
     "data": {
      "text/plain": [
       "array([[1., 1., 1.],\n",
       "       [1., 1., 1.]])"
      ]
     },
     "execution_count": 25,
     "metadata": {},
     "output_type": "execute_result"
    }
   ],
   "source": [
    "np.ones([2,3])   #뒤에 .이 있는 것은 int가 아닌 float. 아마도 zeros, ones 함수 default는 float 형태."
   ]
  },
  {
   "cell_type": "code",
   "execution_count": 26,
   "metadata": {},
   "outputs": [
    {
     "data": {
      "text/plain": [
       "array([[1, 1, 1],\n",
       "       [1, 1, 1]])"
      ]
     },
     "execution_count": 26,
     "metadata": {},
     "output_type": "execute_result"
    }
   ],
   "source": [
    "np.ones([2,3], dtype='int')  #(dtype='int'로 적어주면 변경 가능)"
   ]
  },
  {
   "cell_type": "code",
   "execution_count": 23,
   "metadata": {},
   "outputs": [
    {
     "data": {
      "text/plain": [
       "array([[0, 0, 0],\n",
       "       [0, 0, 0]])"
      ]
     },
     "execution_count": 23,
     "metadata": {},
     "output_type": "execute_result"
    }
   ],
   "source": [
    "[0, 0, 0]   #그냥 vector\n",
    "[[0,0,0], [0,0,0]]   #2x3의 list지만, 계산이 안된다."
   ]
  },
  {
   "cell_type": "code",
   "execution_count": 24,
   "metadata": {},
   "outputs": [
    {
     "data": {
      "text/plain": [
       "array([[0, 0, 0],\n",
       "       [0, 0, 0]])"
      ]
     },
     "execution_count": 24,
     "metadata": {},
     "output_type": "execute_result"
    }
   ],
   "source": [
    "#계산이 될 수 있는 array로 만드는 방법이 np.array().\n",
    "np.array([[0,0,0], [0,0,0]])"
   ]
  },
  {
   "cell_type": "code",
   "execution_count": 27,
   "metadata": {},
   "outputs": [
    {
     "data": {
      "text/plain": [
       "array([0, 1, 2, 3, 4])"
      ]
     },
     "execution_count": 27,
     "metadata": {},
     "output_type": "execute_result"
    }
   ],
   "source": [
    "np.arange(5)\n",
    "#for 루프의 range함수와 유사. arange는 계산이 되는 array로 만드는 것.\n",
    "#0부터 index 5개가 만들어지는 것."
   ]
  },
  {
   "cell_type": "code",
   "execution_count": 28,
   "metadata": {},
   "outputs": [
    {
     "data": {
      "text/plain": [
       "array([0, 1, 2, 3, 4, 5, 6, 7, 8, 9])"
      ]
     },
     "execution_count": 28,
     "metadata": {},
     "output_type": "execute_result"
    }
   ],
   "source": [
    "np.arange(0,10)   #range를 정할 수도 있다."
   ]
  },
  {
   "cell_type": "code",
   "execution_count": 4,
   "metadata": {},
   "outputs": [
    {
     "data": {
      "text/plain": [
       "array([0., 2., 4., 6., 8.])"
      ]
     },
     "execution_count": 4,
     "metadata": {},
     "output_type": "execute_result"
    }
   ],
   "source": [
    "np.arange(0, 10, 2, dtype='float64')\n",
    "#float도 종류가 있는데, 소수점 몇째자리까지 할까에 대한 정의.(정교하게)\n",
    "#[중요하다!] 0부터 10까지(10 미만), 2만큼 증가분 incliment로 출력."
   ]
  },
  {
   "cell_type": "code",
   "execution_count": 5,
   "metadata": {},
   "outputs": [
    {
     "data": {
      "text/plain": [
       "array([ 0.,  2.,  4.,  6.,  8., 10.])"
      ]
     },
     "execution_count": 5,
     "metadata": {},
     "output_type": "execute_result"
    }
   ],
   "source": [
    "np.linspace(0, 10, 6, dtype= float)\n",
    "#linear space. 0부터 10까지(10 포함) 처음, 끝을 포함해 동일한 간격의 6개."
   ]
  },
  {
   "cell_type": "code",
   "execution_count": 37,
   "metadata": {},
   "outputs": [
    {
     "data": {
      "text/plain": [
       "array([[1, 2, 3],\n",
       "       [4, 5, 6]])"
      ]
     },
     "execution_count": 37,
     "metadata": {},
     "output_type": "execute_result"
    }
   ],
   "source": [
    "X= np.array([[1,2,3],[4,5,6]])   #2x3의 matrix\n",
    "X"
   ]
  },
  {
   "cell_type": "code",
   "execution_count": 31,
   "metadata": {},
   "outputs": [
    {
     "data": {
      "text/plain": [
       "array([[1, 2],\n",
       "       [3, 4],\n",
       "       [5, 6]])"
      ]
     },
     "execution_count": 31,
     "metadata": {},
     "output_type": "execute_result"
    }
   ],
   "source": [
    "S= np.array([[1,2],[3,4],[5,6]])  #3x2\n",
    "S\n",
    "\n",
    "#벡터는 1차원, 직사각형의 matrix는 2차원, 직육면체는 3차원.\n",
    "#2차원까지 list, array로 표현했는데, 3차원도 표현이 가능하다.\n",
    "#[대괄호]가 2개 나오면 2차원, 3개가 나오면 3차원"
   ]
  },
  {
   "cell_type": "code",
   "execution_count": 32,
   "metadata": {},
   "outputs": [
    {
     "data": {
      "text/plain": [
       "array([[[ 1,  2],\n",
       "        [ 3,  4],\n",
       "        [ 5,  6]],\n",
       "\n",
       "       [[ 7,  8],\n",
       "        [ 9, 10],\n",
       "        [11, 12]]])"
      ]
     },
     "execution_count": 32,
     "metadata": {},
     "output_type": "execute_result"
    }
   ],
   "source": [
    "K= np.array([[[1,2],[3,4],[5,6]],[[7,8],[9,10],[11,12]]])\n",
    "K   #3차원=2차원 2개"
   ]
  },
  {
   "cell_type": "code",
   "execution_count": 33,
   "metadata": {},
   "outputs": [
    {
     "data": {
      "text/plain": [
       "3"
      ]
     },
     "execution_count": 33,
     "metadata": {},
     "output_type": "execute_result"
    }
   ],
   "source": [
    "K.ndim   #3차원"
   ]
  },
  {
   "cell_type": "code",
   "execution_count": 34,
   "metadata": {},
   "outputs": [
    {
     "data": {
      "text/plain": [
       "(2, 3, 2)"
      ]
     },
     "execution_count": 34,
     "metadata": {},
     "output_type": "execute_result"
    }
   ],
   "source": [
    "K.shape   #2x3x2 차원\n",
    "#제일 큰 괄호 2개, 괄호 내에 3개의 대괄호, 가장 작은 괄호 내 2개 원소."
   ]
  },
  {
   "cell_type": "code",
   "execution_count": 35,
   "metadata": {},
   "outputs": [
    {
     "data": {
      "text/plain": [
       "dtype('int32')"
      ]
     },
     "execution_count": 35,
     "metadata": {},
     "output_type": "execute_result"
    }
   ],
   "source": [
    "K.dtype   #data type 확인"
   ]
  },
  {
   "cell_type": "code",
   "execution_count": 38,
   "metadata": {},
   "outputs": [
    {
     "data": {
      "text/plain": [
       "dtype('int32')"
      ]
     },
     "execution_count": 38,
     "metadata": {},
     "output_type": "execute_result"
    }
   ],
   "source": [
    "X.dtype"
   ]
  },
  {
   "cell_type": "code",
   "execution_count": 8,
   "metadata": {},
   "outputs": [
    {
     "data": {
      "text/plain": [
       "array([[1., 2., 3.],\n",
       "       [4., 5., 6.]])"
      ]
     },
     "execution_count": 8,
     "metadata": {},
     "output_type": "execute_result"
    }
   ],
   "source": [
    "X.astype(np.float64)   #data type 변경"
   ]
  },
  {
   "cell_type": "code",
   "execution_count": 9,
   "metadata": {},
   "outputs": [
    {
     "data": {
      "text/plain": [
       "array([[0, 0, 0],\n",
       "       [0, 0, 0]])"
      ]
     },
     "execution_count": 9,
     "metadata": {},
     "output_type": "execute_result"
    }
   ],
   "source": [
    "np.zeros_like(X)\n",
    "#np 내 zeros_like 함수. 모든 형태를 유지한 채, 숫자를 0으로만 변경."
   ]
  },
  {
   "cell_type": "code",
   "execution_count": 39,
   "metadata": {
    "scrolled": true
   },
   "outputs": [
    {
     "data": {
      "text/plain": [
       "array([[0, 0, 0],\n",
       "       [0, 0, 0]])"
      ]
     },
     "execution_count": 39,
     "metadata": {},
     "output_type": "execute_result"
    }
   ],
   "source": [
    "X*0   #계산이 가능하니까, X라는 array에 *10을 하면 결과가 동일하다."
   ]
  },
  {
   "cell_type": "code",
   "execution_count": 10,
   "metadata": {
    "scrolled": false
   },
   "outputs": [
    {
     "name": "stdout",
     "output_type": "stream",
     "text": [
      "[-2.76570684e-01  1.60807782e+00  2.09375849e+00  1.18392719e+00\n",
      "  1.39357076e+00  9.08436634e-01 -1.89687527e+00  1.86466202e+00\n",
      "  6.37766654e-01  9.74248941e-01  7.22079787e-01  1.39314180e+00\n",
      " -1.27908735e+00 -1.09534282e+00 -4.98789465e-01  5.68400871e-01\n",
      " -7.19666890e-01 -1.28871492e-03 -2.61280440e+00  4.08751245e-01\n",
      "  3.01357125e-01  1.62603523e+00  1.02387132e+00  2.98737956e-01\n",
      "  1.03770804e+00  3.81837290e-01 -7.25589664e-01 -1.08619141e+00\n",
      "  9.41298529e-02 -1.13514885e+00 -3.94930282e-01  1.12505431e+00\n",
      "  1.31066852e+00 -6.30083974e-01 -4.72886526e-01 -2.63881846e-01\n",
      " -1.45768114e+00  8.83516097e-01 -1.64772442e-01  5.51193501e-01\n",
      "  9.39462097e-01  1.61083259e+00 -3.29208620e-01 -1.73363000e-01\n",
      " -7.65435557e-01  9.96110884e-01 -5.06679578e-01 -7.51656481e-01\n",
      "  2.02492627e-01 -2.00401353e-01  7.46198064e-01 -1.08215922e+00\n",
      "  5.99644558e-01  1.40202322e-02  5.13085588e-01  1.06081526e+00\n",
      "  3.83924370e-01 -3.01322956e-01 -3.49313060e-01  9.81728471e-01\n",
      "  8.47051261e-01  5.94621598e-01 -4.69737754e-01  4.40009389e-01\n",
      "  6.30366901e-01 -4.32850708e-01 -1.88230784e+00 -5.40701933e-01\n",
      "  1.20733307e+00  1.13371823e+00 -7.13424661e-01 -1.72218564e+00\n",
      " -2.31342363e+00 -8.43084018e-01  3.12319216e+00  1.22890132e+00\n",
      " -2.34989236e-03 -8.45318931e-02 -9.42379350e-01  2.17733278e-01\n",
      " -2.71294497e-01  1.13820006e-02 -1.95138673e+00  4.57196560e-02\n",
      " -1.25914928e+00 -2.10758536e+00  6.33139999e-01  6.19296107e-02\n",
      "  3.27536526e-01 -8.98672461e-01 -6.71149866e-02 -1.25045502e+00\n",
      " -1.27288406e+00 -2.99284879e-01  1.01771046e+00  3.43995908e-01\n",
      "  6.38076750e-01  1.59649288e+00 -1.42771841e+00  1.07722473e+00]\n"
     ]
    },
    {
     "data": {
      "image/png": "[encoded data removed]",
      "text/plain": [
       "<Figure size 432x288 with 1 Axes>"
      ]
     },
     "metadata": {
      "needs_background": "light"
     },
     "output_type": "display_data"
    }
   ],
   "source": [
    "#plotting. library 내 sub package가 있다.\n",
    "#np library 내 random sub package, normal function\n",
    "#normal함수는 정규분포 데이터 생성. 평균, 표준편차 값 필요.\n",
    "#평균 0, 표준편차 1, 100개의 random data를 생성하라!\n",
    "\n",
    "data= np.random.normal(0, 1, 100)\n",
    "print(data)\n",
    "\n",
    "#plt는 matplotlib 내 pyplot sub package를 import.\n",
    "#hist 함수를 쓸 것인데 numpy array data를 입력하고, 히스토그램 생성.\n",
    "#(bins 바구니를 몇 개로 할 것인지 정하는 것):x축에 10개 바구니 속에 데이터 축적. y축은 0을 포함한 자연수값.\n",
    "##[시험문제] 값들을 모두 합하면? 100개\n",
    "plt.hist(data, bins=10)\n",
    "plt.show()"
   ]
  },
  {
   "cell_type": "code",
   "execution_count": 41,
   "metadata": {},
   "outputs": [
    {
     "data": {
      "text/plain": [
       "1"
      ]
     },
     "execution_count": 41,
     "metadata": {},
     "output_type": "execute_result"
    }
   ],
   "source": [
    "data.ndim   #1차원"
   ]
  },
  {
   "cell_type": "code",
   "execution_count": 42,
   "metadata": {},
   "outputs": [
    {
     "data": {
      "text/plain": [
       "(100,)"
      ]
     },
     "execution_count": 42,
     "metadata": {},
     "output_type": "execute_result"
    }
   ],
   "source": [
    "data.shape   #100개"
   ]
  },
  {
   "cell_type": "markdown",
   "metadata": {},
   "source": [
    "# 2. Manipulation"
   ]
  },
  {
   "cell_type": "code",
   "execution_count": 11,
   "metadata": {},
   "outputs": [
    {
     "data": {
      "text/plain": [
       "array([[[1., 1., 1., 1.],\n",
       "        [1., 1., 1., 1.],\n",
       "        [1., 1., 1., 1.]],\n",
       "\n",
       "       [[1., 1., 1., 1.],\n",
       "        [1., 1., 1., 1.],\n",
       "        [1., 1., 1., 1.]]])"
      ]
     },
     "execution_count": 11,
     "metadata": {},
     "output_type": "execute_result"
    }
   ],
   "source": [
    "X= np.ones([2,3,4])\n",
    "X    #2x3x4의 24개 원소의 3차원 행렬. 대괄호의 갯수와 차원의 수가 동일하다."
   ]
  },
  {
   "cell_type": "code",
   "execution_count": 12,
   "metadata": {},
   "outputs": [
    {
     "data": {
      "text/plain": [
       "array([[[1., 1.],\n",
       "        [1., 1.],\n",
       "        [1., 1.]],\n",
       "\n",
       "       [[1., 1.],\n",
       "        [1., 1.],\n",
       "        [1., 1.]],\n",
       "\n",
       "       [[1., 1.],\n",
       "        [1., 1.],\n",
       "        [1., 1.]],\n",
       "\n",
       "       [[1., 1.],\n",
       "        [1., 1.],\n",
       "        [1., 1.]]])"
      ]
     },
     "execution_count": 12,
     "metadata": {},
     "output_type": "execute_result"
    }
   ],
   "source": [
    "Y= X.reshape(-1, 3, 2)\n",
    "Y   #reshape은 만들어진 array의 shape 변경하는 함수.\n",
    "#reshape은 원소 갯수가 동일해야만 가능, 그렇지 않으면 error.\n",
    "#-1의 자리에 4를 적어도 동일한 값이 나온다. 어떤 값을 넣어야 할지 모를때 -1."
   ]
  },
  {
   "cell_type": "code",
   "execution_count": 13,
   "metadata": {},
   "outputs": [
    {
     "data": {
      "text/plain": [
       "True"
      ]
     },
     "execution_count": 13,
     "metadata": {},
     "output_type": "execute_result"
    }
   ],
   "source": [
    "np.allclose(X.reshape(-1, 3, 2), Y)  #reshape한 것이 Y와 동일한지."
   ]
  },
  {
   "cell_type": "markdown",
   "metadata": {},
   "source": [
    "# 3. NumPy I/O"
   ]
  },
  {
   "cell_type": "code",
   "execution_count": 57,
   "metadata": {},
   "outputs": [],
   "source": [
    "a = np.random.randint(0, 10, [2, 3])\n",
    "b = np.random.random([2,3])\n",
    "np.savez(\"test\", a, b)\n",
    "\n",
    "#random이라는 np 내 sub package, randint 함수. 0부터 10 사이에서 2x3 행렬 생성.\n",
    "#sub package 내 random하게 2x3 행렬 생성.\n",
    "#np package 내 savez 함수는, 데이터를 실제 파일로 저장. variable a,b."
   ]
  },
  {
   "cell_type": "code",
   "execution_count": 58,
   "metadata": {},
   "outputs": [],
   "source": [
    "del a, b\n",
    "%who   #Print all interactive variables\n",
    "\n",
    "#who는 지금 available한 variable이 어떤 것이 있는가. \n",
    "#그런데 a,b를 delete해서 'No variables match your requested type.'"
   ]
  },
  {
   "cell_type": "code",
   "execution_count": 59,
   "metadata": {},
   "outputs": [
    {
     "data": {
      "text/plain": [
       "['arr_0', 'arr_1']"
      ]
     },
     "execution_count": 59,
     "metadata": {},
     "output_type": "execute_result"
    }
   ],
   "source": [
    "npzfiles = np.load(\"test.npz\")\n",
    "npzfiles.files\n",
    "\n",
    "#variable들을 담아서 저장한 npz 파일을 불러오는 것.\n",
    "#npzfiles는 변수라서, a로 적어도 무관하다."
   ]
  },
  {
   "cell_type": "code",
   "execution_count": 60,
   "metadata": {},
   "outputs": [
    {
     "data": {
      "text/plain": [
       "array([[5, 0, 3],\n",
       "       [6, 1, 0]])"
      ]
     },
     "execution_count": 60,
     "metadata": {},
     "output_type": "execute_result"
    }
   ],
   "source": [
    "npzfiles['arr_0']   #variable a"
   ]
  },
  {
   "cell_type": "code",
   "execution_count": 62,
   "metadata": {},
   "outputs": [
    {
     "data": {
      "text/plain": [
       "array([( 3.3  , 1.7  ), ( 4.4  , 2.76 ), ( 5.5  , 2.09 ), ( 6.71 , 3.19 ),\n",
       "       ( 6.93 , 1.694), ( 4.168, 1.573), ( 9.779, 3.366), ( 6.182, 2.596),\n",
       "       ( 7.59 , 2.53 ), ( 2.167, 1.221), ( 7.042, 2.827), (10.791, 3.465),\n",
       "       ( 5.313, 1.65 ), ( 7.997, 2.904), ( 5.654, 2.42 ), ( 9.27 , 2.94 ),\n",
       "       ( 3.1  , 1.3  )], dtype=[('X', '<f4'), ('Y', '<f4')])"
      ]
     },
     "execution_count": 62,
     "metadata": {},
     "output_type": "execute_result"
    }
   ],
   "source": [
    "data = np.loadtxt(\"regression.csv\", delimiter=\",\", skiprows=1, dtype={'names':(\"X\", \"Y\"), 'formats':('f','f')})\n",
    "data\n",
    "\n",
    "#csv=comma seperated values (data를 file로 전달할 때/제일 많이 사용할 형식)\n",
    "#csv 파일을 불러오고, delimiter는 ,로 분리되는 것이고, skiprowa는 첫번째 것이 제목이라 사용하지 않을 것.\n",
    "#dtype은 첫번째 x, 두번째 y로 하고, formats은 두개 다 float으로 하겠다."
   ]
  },
  {
   "cell_type": "code",
   "execution_count": 63,
   "metadata": {},
   "outputs": [],
   "source": [
    "np.savetxt(\"regression_saved.csv\", data, delimiter=\",\")\n",
    "\n",
    "#역으로 데이터가 있을 때, 그 데이터를 저장하는 방법.(저장될 파일명, data, delimiter)"
   ]
  },
  {
   "cell_type": "markdown",
   "metadata": {},
   "source": [
    "# 4. Inspecting"
   ]
  },
  {
   "cell_type": "code",
   "execution_count": 64,
   "metadata": {},
   "outputs": [],
   "source": [
    "arr = np.random.random([5,2,3])\n",
    "#np 내 random sub package 내 random 함수. 3차원의 5x2x3의 행렬."
   ]
  },
  {
   "cell_type": "code",
   "execution_count": 65,
   "metadata": {},
   "outputs": [
    {
     "name": "stdout",
     "output_type": "stream",
     "text": [
      "<class 'numpy.ndarray'>\n",
      "5\n",
      "(5, 2, 3)\n",
      "3\n",
      "30\n",
      "float64\n"
     ]
    }
   ],
   "source": [
    "print(type(arr))\n",
    "print(len(arr))   #첫번째 논항\n",
    "print(arr.shape)  #논항 그대로\n",
    "print(arr.ndim)   #3차원\n",
    "print(arr.size)   #총 원소의 개수\n",
    "print(arr.dtype)  #default"
   ]
  },
  {
   "cell_type": "markdown",
   "metadata": {},
   "source": [
    "# 5. Operations"
   ]
  },
  {
   "cell_type": "markdown",
   "metadata": {},
   "source": [
    "5.1 Arithmetic"
   ]
  },
  {
   "cell_type": "code",
   "execution_count": 66,
   "metadata": {},
   "outputs": [],
   "source": [
    "a = np.arange(1, 5)      #1부터 5 직전까지 index 생성.\n",
    "b = np.arange(9, 5, -1)  #9부터 5까지 -1의 차이로 index 생성"
   ]
  },
  {
   "cell_type": "code",
   "execution_count": 67,
   "metadata": {},
   "outputs": [
    {
     "name": "stdout",
     "output_type": "stream",
     "text": [
      "[-8 -6 -4 -2]\n",
      "[ 9 16 21 24]\n"
     ]
    }
   ],
   "source": [
    "print(a - b)\n",
    "print(a * b)    #numpy array로 계산이 가능하다."
   ]
  },
  {
   "cell_type": "code",
   "execution_count": 68,
   "metadata": {},
   "outputs": [],
   "source": [
    "a = np.matrix(a)\n",
    "b = np.matrix(b)"
   ]
  },
  {
   "cell_type": "code",
   "execution_count": 69,
   "metadata": {},
   "outputs": [
    {
     "data": {
      "text/plain": [
       "matrix([[70]])"
      ]
     },
     "execution_count": 69,
     "metadata": {},
     "output_type": "execute_result"
    }
   ],
   "source": [
    "a * b.T"
   ]
  },
  {
   "cell_type": "code",
   "execution_count": 70,
   "metadata": {},
   "outputs": [
    {
     "data": {
      "text/plain": [
       "matrix([[ 9,  8,  7,  6],\n",
       "        [18, 16, 14, 12],\n",
       "        [27, 24, 21, 18],\n",
       "        [36, 32, 28, 24]])"
      ]
     },
     "execution_count": 70,
     "metadata": {},
     "output_type": "execute_result"
    }
   ],
   "source": [
    "a.T * b"
   ]
  },
  {
   "cell_type": "markdown",
   "metadata": {},
   "source": [
    "5.2 Comparison"
   ]
  },
  {
   "cell_type": "code",
   "execution_count": 71,
   "metadata": {},
   "outputs": [
    {
     "name": "stdout",
     "output_type": "stream",
     "text": [
      "[[1 2 3]\n",
      " [4 5 6]\n",
      " [7 8 9]]\n",
      "[[9 8 7]\n",
      " [6 5 4]\n",
      " [3 2 1]]\n"
     ]
    }
   ],
   "source": [
    "a = np.arange(1,10).reshape(3,3)    #1부터 9까지의 1차원을 reshape으로 2차원으로 변경.\n",
    "b = np.arange(9,0,-1).reshape(3,3)  #9부터 0까지 -1의 차이만큼의 1차원을, 2차원으로 변경\n",
    "print(a)\n",
    "print(b)"
   ]
  },
  {
   "cell_type": "code",
   "execution_count": 72,
   "metadata": {},
   "outputs": [
    {
     "data": {
      "text/plain": [
       "array([[False, False, False],\n",
       "       [False,  True, False],\n",
       "       [False, False, False]])"
      ]
     },
     "execution_count": 72,
     "metadata": {},
     "output_type": "execute_result"
    }
   ],
   "source": [
    "a == b   #비교할 때 두개의 dimension이 완전히 동일해야 한다."
   ]
  },
  {
   "cell_type": "code",
   "execution_count": 73,
   "metadata": {},
   "outputs": [
    {
     "data": {
      "text/plain": [
       "array([[False, False, False],\n",
       "       [False, False,  True],\n",
       "       [ True,  True,  True]])"
      ]
     },
     "execution_count": 73,
     "metadata": {},
     "output_type": "execute_result"
    }
   ],
   "source": [
    "a > b"
   ]
  },
  {
   "cell_type": "markdown",
   "metadata": {},
   "source": [
    "5.3  Aggregate (sum, min, max, mean, median, std)"
   ]
  },
  {
   "cell_type": "code",
   "execution_count": 74,
   "metadata": {},
   "outputs": [
    {
     "data": {
      "text/plain": [
       "(45, 45)"
      ]
     },
     "execution_count": 74,
     "metadata": {},
     "output_type": "execute_result"
    }
   ],
   "source": [
    "#[아주 중요하다!] sum은 원소 총합.\n",
    "#1. a가 numpy가 만들어낸 object라서 바로 사용 가능. 함수니까 괄호 필요.\n",
    "#2. numpy 내 sum 함수를 사용해서 a를 sum한다.    -> np가 만들어내서 a 사용 가능\n",
    "\n",
    "a.sum(), np.sum(a)"
   ]
  },
  {
   "cell_type": "code",
   "execution_count": 75,
   "metadata": {},
   "outputs": [
    {
     "data": {
      "text/plain": [
       "(array([12, 15, 18]), array([12, 15, 18]))"
      ]
     },
     "execution_count": 75,
     "metadata": {},
     "output_type": "execute_result"
    }
   ],
   "source": [
    "a.sum(axis=0), np.sum(a, axis=0)\n",
    "\n",
    "#axis는 몇 번째 차원에서 우리가 sum을 할 건가.\n",
    "#2차원의 첫 번째 차원은 열, 두 번째 차원은 행. 첫번째 차원의 관점에서 sum을 해라!"
   ]
  },
  {
   "cell_type": "code",
   "execution_count": 76,
   "metadata": {},
   "outputs": [
    {
     "data": {
      "text/plain": [
       "(array([ 6, 15, 24]), array([ 6, 15, 24]))"
      ]
     },
     "execution_count": 76,
     "metadata": {},
     "output_type": "execute_result"
    }
   ],
   "source": [
    "a.sum(axis=1), np.sum(a, axis=1)\n",
    "\n",
    "#axis=1은 두 번째 차원을 의미하는, 가로행."
   ]
  },
  {
   "cell_type": "markdown",
   "metadata": {},
   "source": [
    "# Broadcasting"
   ]
  },
  {
   "cell_type": "code",
   "execution_count": 77,
   "metadata": {},
   "outputs": [
    {
     "data": {
      "text/plain": [
       "array([[ 1,  2,  3,  4,  5,  6],\n",
       "       [ 7,  8,  9, 10, 11, 12],\n",
       "       [13, 14, 15, 16, 17, 18],\n",
       "       [19, 20, 21, 22, 23, 24]])"
      ]
     },
     "execution_count": 77,
     "metadata": {},
     "output_type": "execute_result"
    }
   ],
   "source": [
    "a = np.arange(1, 25).reshape(4,6)\n",
    "a   #reshape이 broadcasting. 사용하는 방법을 잘 봐! 1부터 25 직전까지의 원소들을 4x6 행렬로 생성."
   ]
  },
  {
   "cell_type": "code",
   "execution_count": 78,
   "metadata": {},
   "outputs": [
    {
     "data": {
      "text/plain": [
       "array([[101, 102, 103, 104, 105, 106],\n",
       "       [107, 108, 109, 110, 111, 112],\n",
       "       [113, 114, 115, 116, 117, 118],\n",
       "       [119, 120, 121, 122, 123, 124]])"
      ]
     },
     "execution_count": 78,
     "metadata": {},
     "output_type": "execute_result"
    }
   ],
   "source": [
    "a + 100"
   ]
  },
  {
   "cell_type": "code",
   "execution_count": 79,
   "metadata": {},
   "outputs": [
    {
     "data": {
      "text/plain": [
       "array([0, 1, 2, 3, 4, 5])"
      ]
     },
     "execution_count": 79,
     "metadata": {},
     "output_type": "execute_result"
    }
   ],
   "source": [
    "b = np.arange(6)\n",
    "b"
   ]
  },
  {
   "cell_type": "code",
   "execution_count": 80,
   "metadata": {},
   "outputs": [
    {
     "data": {
      "text/plain": [
       "array([[ 1,  3,  5,  7,  9, 11],\n",
       "       [ 7,  9, 11, 13, 15, 17],\n",
       "       [13, 15, 17, 19, 21, 23],\n",
       "       [19, 21, 23, 25, 27, 29]])"
      ]
     },
     "execution_count": 80,
     "metadata": {},
     "output_type": "execute_result"
    }
   ],
   "source": [
    "a + b  #열이 동일해서, 각 행마다 b값이 더해지는 것."
   ]
  },
  {
   "cell_type": "code",
   "execution_count": 81,
   "metadata": {},
   "outputs": [
    {
     "data": {
      "text/plain": [
       "array([[0],\n",
       "       [1],\n",
       "       [2],\n",
       "       [3]])"
      ]
     },
     "execution_count": 81,
     "metadata": {},
     "output_type": "execute_result"
    }
   ],
   "source": [
    "c = np.arange(4).reshape([4,1])\n",
    "c"
   ]
  },
  {
   "cell_type": "code",
   "execution_count": 82,
   "metadata": {},
   "outputs": [
    {
     "data": {
      "text/plain": [
       "array([[ 1,  2,  3,  4,  5,  6],\n",
       "       [ 8,  9, 10, 11, 12, 13],\n",
       "       [15, 16, 17, 18, 19, 20],\n",
       "       [22, 23, 24, 25, 26, 27]])"
      ]
     },
     "execution_count": 82,
     "metadata": {},
     "output_type": "execute_result"
    }
   ],
   "source": [
    "a + c"
   ]
  },
  {
   "cell_type": "markdown",
   "metadata": {},
   "source": [
    "# Sound"
   ]
  },
  {
   "cell_type": "markdown",
   "metadata": {},
   "source": [
    "sound라는 게 continous한 wave지만 컴퓨터에서는 하나하나의 값들로 담긴다.\n",
    "간격은 동일한데 얼마나 빽빽하게 듬성듬성하게 담을 건지를 sampling rate라고 한다. 만약 sampling rate를 10,000으로 한다면 1초 동안 총 1만개의 숫자를 담을 것이다.\n",
    "\n",
    "44,100은 우리가 귀로 구분할 수 있는 최고의 음질이다. 1초를 표현하는데 숫자의 갯수가 4만4천1백개의 data가 있다. sine wave를 그린다고 할 때 19만 2천개의 숫자로도 표현할 수 있고, 30개의 숫자로도 표현할 수 있다. 1초에 얼마인지 이야기 할 때, 1초에 몇 번 떨리느냐를 Hz(헤르츠) 단위를 사용한다.\n",
    "\n",
    "초당(per)이 쓰이면 반드시 Hz를 사용한다!"
   ]
  },
  {
   "cell_type": "code",
   "execution_count": 7,
   "metadata": {},
   "outputs": [],
   "source": [
    "from matplotlib import pyplot as plt\n",
    "from mpl_toolkits.mplot3d import Axes3D\n",
    "from mpl_toolkits.axes_grid1 import make_axes_locatable\n",
    "import IPython.display as ipd\n",
    "import numpy as np\n",
    "%matplotlib notebook\n",
    "from scipy.signal import lfilter"
   ]
  },
  {
   "cell_type": "markdown",
   "metadata": {},
   "source": [
    "# Phasor"
   ]
  },
  {
   "cell_type": "code",
   "execution_count": 8,
   "metadata": {},
   "outputs": [],
   "source": [
    "# parameter setting\n",
    "amp = 1       # range [0.0, 1.0]\n",
    "sr = 10000    # sampling rate, Hz\n",
    "dur = 0.5     # in seconds\n",
    "freq = 100.0  # sine frequency, Hz"
   ]
  },
  {
   "cell_type": "code",
   "execution_count": 9,
   "metadata": {},
   "outputs": [],
   "source": [
    "# generate time\n",
    "t = np.arange(1, sr * dur+1)/sr"
   ]
  },
  {
   "cell_type": "code",
   "execution_count": 10,
   "metadata": {},
   "outputs": [],
   "source": [
    "# generate phase\n",
    "theta = t * 2*np.pi * freq"
   ]
  },
  {
   "cell_type": "code",
   "execution_count": 11,
   "metadata": {},
   "outputs": [],
   "source": [
    "# generate signal by cosine-phasor\n",
    "s = np.sin(theta)"
   ]
  },
  {
   "cell_type": "code",
   "execution_count": 12,
   "metadata": {},
   "outputs": [
    {
     "data": {
      "application/javascript": [
       "/* Put everything inside the global mpl namespace */\n",
       "window.mpl = {};\n",
       "\n",
       "\n",
       "mpl.get_websocket_type = function() {\n",
       "    if (typeof(WebSocket) !== 'undefined') {\n",
       "        return WebSocket;\n",
       "    } else if (typeof(MozWebSocket) !== 'undefined') {\n",
       "        return MozWebSocket;\n",
       "    } else {\n",
       "        alert('Your browser does not have WebSocket support. ' +\n",
       "              'Please try Chrome, Safari or Firefox ≥ 6. ' +\n",
       "              'Firefox 4 and 5 are also supported but you ' +\n",
       "              'have to enable WebSockets in about:config.');\n",
       "    };\n",
       "}\n",
       "\n",
       "mpl.figure = function(figure_id, websocket, ondownload, parent_element) {\n",
       "    this.id = figure_id;\n",
       "\n",
       "    this.ws = websocket;\n",
       "\n",
       "    this.supports_binary = (this.ws.binaryType != undefined);\n",
       "\n",
       "    if (!this.supports_binary) {\n",
       "        var warnings = document.getElementById(\"mpl-warnings\");\n",
       "        if (warnings) {\n",
       "            warnings.style.display = 'block';\n",
       "            warnings.textContent = (\n",
       "                \"This browser does not support binary websocket messages. \" +\n",
       "                    \"Performance may be slow.\");\n",
       "        }\n",
       "    }\n",
       "\n",
       "    this.imageObj = new Image();\n",
       "\n",
       "    this.context = undefined;\n",
       "    this.message = undefined;\n",
       "    this.canvas = undefined;\n",
       "    this.rubberband_canvas = undefined;\n",
       "    this.rubberband_context = undefined;\n",
       "    this.format_dropdown = undefined;\n",
       "\n",
       "    this.image_mode = 'full';\n",
       "\n",
       "    this.root = $('<div/>');\n",
       "    this._root_extra_style(this.root)\n",
       "    this.root.attr('style', 'display: inline-block');\n",
       "\n",
       "    $(parent_element).append(this.root);\n",
       "\n",
       "    this._init_header(this);\n",
       "    this._init_canvas(this);\n",
       "    this._init_toolbar(this);\n",
       "\n",
       "    var fig = this;\n",
       "\n",
       "    this.waiting = false;\n",
       "\n",
       "    this.ws.onopen =  function () {\n",
       "            fig.send_message(\"supports_binary\", {value: fig.supports_binary});\n",
       "            fig.send_message(\"send_image_mode\", {});\n",
       "            if (mpl.ratio != 1) {\n",
       "                fig.send_message(\"set_dpi_ratio\", {'dpi_ratio': mpl.ratio});\n",
       "            }\n",
       "            fig.send_message(\"refresh\", {});\n",
       "        }\n",
       "\n",
       "    this.imageObj.onload = function() {\n",
       "            if (fig.image_mode == 'full') {\n",
       "                // Full images could contain transparency (where diff images\n",
       "                // almost always do), so we need to clear the canvas so that\n",
       "                // there is no ghosting.\n",
       "                fig.context.clearRect(0, 0, fig.canvas.width, fig.canvas.height);\n",
       "            }\n",
       "            fig.context.drawImage(fig.imageObj, 0, 0);\n",
       "        };\n",
       "\n",
       "    this.imageObj.onunload = function() {\n",
       "        fig.ws.close();\n",
       "    }\n",
       "\n",
       "    this.ws.onmessage = this._make_on_message_function(this);\n",
       "\n",
       "    this.ondownload = ondownload;\n",
       "}\n",
       "\n",
       "mpl.figure.prototype._init_header = function() {\n",
       "    var titlebar = $(\n",
       "        '<div class=\"ui-dialog-titlebar ui-widget-header ui-corner-all ' +\n",
       "        'ui-helper-clearfix\"/>');\n",
       "    var titletext = $(\n",
       "        '<div class=\"ui-dialog-title\" style=\"width: 100%; ' +\n",
       "        'text-align: center; padding: 3px;\"/>');\n",
       "    titlebar.append(titletext)\n",
       "    this.root.append(titlebar);\n",
       "    this.header = titletext[0];\n",
       "}\n",
       "\n",
       "\n",
       "\n",
       "mpl.figure.prototype._canvas_extra_style = function(canvas_div) {\n",
       "\n",
       "}\n",
       "\n",
       "\n",
       "mpl.figure.prototype._root_extra_style = function(canvas_div) {\n",
       "\n",
       "}\n",
       "\n",
       "mpl.figure.prototype._init_canvas = function() {\n",
       "    var fig = this;\n",
       "\n",
       "    var canvas_div = $('<div/>');\n",
       "\n",
       "    canvas_div.attr('style', 'position: relative; clear: both; outline: 0');\n",
       "\n",
       "    function canvas_keyboard_event(event) {\n",
       "        return fig.key_event(event, event['data']);\n",
       "    }\n",
       "\n",
       "    canvas_div.keydown('key_press', canvas_keyboard_event);\n",
       "    canvas_div.keyup('key_release', canvas_keyboard_event);\n",
       "    this.canvas_div = canvas_div\n",
       "    this._canvas_extra_style(canvas_div)\n",
       "    this.root.append(canvas_div);\n",
       "\n",
       "    var canvas = $('<canvas/>');\n",
       "    canvas.addClass('mpl-canvas');\n",
       "    canvas.attr('style', \"left: 0; top: 0; z-index: 0; outline: 0\")\n",
       "\n",
       "    this.canvas = canvas[0];\n",
       "    this.context = canvas[0].getContext(\"2d\");\n",
       "\n",
       "    var backingStore = this.context.backingStorePixelRatio ||\n",
       "\tthis.context.webkitBackingStorePixelRatio ||\n",
       "\tthis.context.mozBackingStorePixelRatio ||\n",
       "\tthis.context.msBackingStorePixelRatio ||\n",
       "\tthis.context.oBackingStorePixelRatio ||\n",
       "\tthis.context.backingStorePixelRatio || 1;\n",
       "\n",
       "    mpl.ratio = (window.devicePixelRatio || 1) / backingStore;\n",
       "\n",
       "    var rubberband = $('<canvas/>');\n",
       "    rubberband.attr('style', \"position: absolute; left: 0; top: 0; z-index: 1;\")\n",
       "\n",
       "    var pass_mouse_events = true;\n",
       "\n",
       "    canvas_div.resizable({\n",
       "        start: function(event, ui) {\n",
       "            pass_mouse_events = false;\n",
       "        },\n",
       "        resize: function(event, ui) {\n",
       "            fig.request_resize(ui.size.width, ui.size.height);\n",
       "        },\n",
       "        stop: function(event, ui) {\n",
       "            pass_mouse_events = true;\n",
       "            fig.request_resize(ui.size.width, ui.size.height);\n",
       "        },\n",
       "    });\n",
       "\n",
       "    function mouse_event_fn(event) {\n",
       "        if (pass_mouse_events)\n",
       "            return fig.mouse_event(event, event['data']);\n",
       "    }\n",
       "\n",
       "    rubberband.mousedown('button_press', mouse_event_fn);\n",
       "    rubberband.mouseup('button_release', mouse_event_fn);\n",
       "    // Throttle sequential mouse events to 1 every 20ms.\n",
       "    rubberband.mousemove('motion_notify', mouse_event_fn);\n",
       "\n",
       "    rubberband.mouseenter('figure_enter', mouse_event_fn);\n",
       "    rubberband.mouseleave('figure_leave', mouse_event_fn);\n",
       "\n",
       "    canvas_div.on(\"wheel\", function (event) {\n",
       "        event = event.originalEvent;\n",
       "        event['data'] = 'scroll'\n",
       "        if (event.deltaY < 0) {\n",
       "            event.step = 1;\n",
       "        } else {\n",
       "            event.step = -1;\n",
       "        }\n",
       "        mouse_event_fn(event);\n",
       "    });\n",
       "\n",
       "    canvas_div.append(canvas);\n",
       "    canvas_div.append(rubberband);\n",
       "\n",
       "    this.rubberband = rubberband;\n",
       "    this.rubberband_canvas = rubberband[0];\n",
       "    this.rubberband_context = rubberband[0].getContext(\"2d\");\n",
       "    this.rubberband_context.strokeStyle = \"#000000\";\n",
       "\n",
       "    this._resize_canvas = function(width, height) {\n",
       "        // Keep the size of the canvas, canvas container, and rubber band\n",
       "        // canvas in synch.\n",
       "        canvas_div.css('width', width)\n",
       "        canvas_div.css('height', height)\n",
       "\n",
       "        canvas.attr('width', width * mpl.ratio);\n",
       "        canvas.attr('height', height * mpl.ratio);\n",
       "        canvas.attr('style', 'width: ' + width + 'px; height: ' + height + 'px;');\n",
       "\n",
       "        rubberband.attr('width', width);\n",
       "        rubberband.attr('height', height);\n",
       "    }\n",
       "\n",
       "    // Set the figure to an initial 600x600px, this will subsequently be updated\n",
       "    // upon first draw.\n",
       "    this._resize_canvas(600, 600);\n",
       "\n",
       "    // Disable right mouse context menu.\n",
       "    $(this.rubberband_canvas).bind(\"contextmenu\",function(e){\n",
       "        return false;\n",
       "    });\n",
       "\n",
       "    function set_focus () {\n",
       "        canvas.focus();\n",
       "        canvas_div.focus();\n",
       "    }\n",
       "\n",
       "    window.setTimeout(set_focus, 100);\n",
       "}\n",
       "\n",
       "mpl.figure.prototype._init_toolbar = function() {\n",
       "    var fig = this;\n",
       "\n",
       "    var nav_element = $('<div/>');\n",
       "    nav_element.attr('style', 'width: 100%');\n",
       "    this.root.append(nav_element);\n",
       "\n",
       "    // Define a callback function for later on.\n",
       "    function toolbar_event(event) {\n",
       "        return fig.toolbar_button_onclick(event['data']);\n",
       "    }\n",
       "    function toolbar_mouse_event(event) {\n",
       "        return fig.toolbar_button_onmouseover(event['data']);\n",
       "    }\n",
       "\n",
       "    for(var toolbar_ind in mpl.toolbar_items) {\n",
       "        var name = mpl.toolbar_items[toolbar_ind][0];\n",
       "        var tooltip = mpl.toolbar_items[toolbar_ind][1];\n",
       "        var image = mpl.toolbar_items[toolbar_ind][2];\n",
       "        var method_name = mpl.toolbar_items[toolbar_ind][3];\n",
       "\n",
       "        if (!name) {\n",
       "            // put a spacer in here.\n",
       "            continue;\n",
       "        }\n",
       "        var button = $('<button/>');\n",
       "        button.addClass('ui-button ui-widget ui-state-default ui-corner-all ' +\n",
       "                        'ui-button-icon-only');\n",
       "        button.attr('role', 'button');\n",
       "        button.attr('aria-disabled', 'false');\n",
       "        button.click(method_name, toolbar_event);\n",
       "        button.mouseover(tooltip, toolbar_mouse_event);\n",
       "\n",
       "        var icon_img = $('<span/>');\n",
       "        icon_img.addClass('ui-button-icon-primary ui-icon');\n",
       "        icon_img.addClass(image);\n",
       "        icon_img.addClass('ui-corner-all');\n",
       "\n",
       "        var tooltip_span = $('<span/>');\n",
       "        tooltip_span.addClass('ui-button-text');\n",
       "        tooltip_span.html(tooltip);\n",
       "\n",
       "        button.append(icon_img);\n",
       "        button.append(tooltip_span);\n",
       "\n",
       "        nav_element.append(button);\n",
       "    }\n",
       "\n",
       "    var fmt_picker_span = $('<span/>');\n",
       "\n",
       "    var fmt_picker = $('<select/>');\n",
       "    fmt_picker.addClass('mpl-toolbar-option ui-widget ui-widget-content');\n",
       "    fmt_picker_span.append(fmt_picker);\n",
       "    nav_element.append(fmt_picker_span);\n",
       "    this.format_dropdown = fmt_picker[0];\n",
       "\n",
       "    for (var ind in mpl.extensions) {\n",
       "        var fmt = mpl.extensions[ind];\n",
       "        var option = $(\n",
       "            '<option/>', {selected: fmt === mpl.default_extension}).html(fmt);\n",
       "        fmt_picker.append(option);\n",
       "    }\n",
       "\n",
       "    // Add hover states to the ui-buttons\n",
       "    $( \".ui-button\" ).hover(\n",
       "        function() { $(this).addClass(\"ui-state-hover\");},\n",
       "        function() { $(this).removeClass(\"ui-state-hover\");}\n",
       "    );\n",
       "\n",
       "    var status_bar = $('<span class=\"mpl-message\"/>');\n",
       "    nav_element.append(status_bar);\n",
       "    this.message = status_bar[0];\n",
       "}\n",
       "\n",
       "mpl.figure.prototype.request_resize = function(x_pixels, y_pixels) {\n",
       "    // Request matplotlib to resize the figure. Matplotlib will then trigger a resize in the client,\n",
       "    // which will in turn request a refresh of the image.\n",
       "    this.send_message('resize', {'width': x_pixels, 'height': y_pixels});\n",
       "}\n",
       "\n",
       "mpl.figure.prototype.send_message = function(type, properties) {\n",
       "    properties['type'] = type;\n",
       "    properties['figure_id'] = this.id;\n",
       "    this.ws.send(JSON.stringify(properties));\n",
       "}\n",
       "\n",
       "mpl.figure.prototype.send_draw_message = function() {\n",
       "    if (!this.waiting) {\n",
       "        this.waiting = true;\n",
       "        this.ws.send(JSON.stringify({type: \"draw\", figure_id: this.id}));\n",
       "    }\n",
       "}\n",
       "\n",
       "\n",
       "mpl.figure.prototype.handle_save = function(fig, msg) {\n",
       "    var format_dropdown = fig.format_dropdown;\n",
       "    var format = format_dropdown.options[format_dropdown.selectedIndex].value;\n",
       "    fig.ondownload(fig, format);\n",
       "}\n",
       "\n",
       "\n",
       "mpl.figure.prototype.handle_resize = function(fig, msg) {\n",
       "    var size = msg['size'];\n",
       "    if (size[0] != fig.canvas.width || size[1] != fig.canvas.height) {\n",
       "        fig._resize_canvas(size[0], size[1]);\n",
       "        fig.send_message(\"refresh\", {});\n",
       "    };\n",
       "}\n",
       "\n",
       "mpl.figure.prototype.handle_rubberband = function(fig, msg) {\n",
       "    var x0 = msg['x0'] / mpl.ratio;\n",
       "    var y0 = (fig.canvas.height - msg['y0']) / mpl.ratio;\n",
       "    var x1 = msg['x1'] / mpl.ratio;\n",
       "    var y1 = (fig.canvas.height - msg['y1']) / mpl.ratio;\n",
       "    x0 = Math.floor(x0) + 0.5;\n",
       "    y0 = Math.floor(y0) + 0.5;\n",
       "    x1 = Math.floor(x1) + 0.5;\n",
       "    y1 = Math.floor(y1) + 0.5;\n",
       "    var min_x = Math.min(x0, x1);\n",
       "    var min_y = Math.min(y0, y1);\n",
       "    var width = Math.abs(x1 - x0);\n",
       "    var height = Math.abs(y1 - y0);\n",
       "\n",
       "    fig.rubberband_context.clearRect(\n",
       "        0, 0, fig.canvas.width, fig.canvas.height);\n",
       "\n",
       "    fig.rubberband_context.strokeRect(min_x, min_y, width, height);\n",
       "}\n",
       "\n",
       "mpl.figure.prototype.handle_figure_label = function(fig, msg) {\n",
       "    // Updates the figure title.\n",
       "    fig.header.textContent = msg['label'];\n",
       "}\n",
       "\n",
       "mpl.figure.prototype.handle_cursor = function(fig, msg) {\n",
       "    var cursor = msg['cursor'];\n",
       "    switch(cursor)\n",
       "    {\n",
       "    case 0:\n",
       "        cursor = 'pointer';\n",
       "        break;\n",
       "    case 1:\n",
       "        cursor = 'default';\n",
       "        break;\n",
       "    case 2:\n",
       "        cursor = 'crosshair';\n",
       "        break;\n",
       "    case 3:\n",
       "        cursor = 'move';\n",
       "        break;\n",
       "    }\n",
       "    fig.rubberband_canvas.style.cursor = cursor;\n",
       "}\n",
       "\n",
       "mpl.figure.prototype.handle_message = function(fig, msg) {\n",
       "    fig.message.textContent = msg['message'];\n",
       "}\n",
       "\n",
       "mpl.figure.prototype.handle_draw = function(fig, msg) {\n",
       "    // Request the server to send over a new figure.\n",
       "    fig.send_draw_message();\n",
       "}\n",
       "\n",
       "mpl.figure.prototype.handle_image_mode = function(fig, msg) {\n",
       "    fig.image_mode = msg['mode'];\n",
       "}\n",
       "\n",
       "mpl.figure.prototype.updated_canvas_event = function() {\n",
       "    // Called whenever the canvas gets updated.\n",
       "    this.send_message(\"ack\", {});\n",
       "}\n",
       "\n",
       "// A function to construct a web socket function for onmessage handling.\n",
       "// Called in the figure constructor.\n",
       "mpl.figure.prototype._make_on_message_function = function(fig) {\n",
       "    return function socket_on_message(evt) {\n",
       "        if (evt.data instanceof Blob) {\n",
       "            /* FIXME: We get \"Resource interpreted as Image but\n",
       "             * transferred with MIME type text/plain:\" errors on\n",
       "             * Chrome.  But how to set the MIME type?  It doesn't seem\n",
       "             * to be part of the websocket stream */\n",
       "            evt.data.type = \"image/png\";\n",
       "\n",
       "            /* Free the memory for the previous frames */\n",
       "            if (fig.imageObj.src) {\n",
       "                (window.URL || window.webkitURL).revokeObjectURL(\n",
       "                    fig.imageObj.src);\n",
       "            }\n",
       "\n",
       "            fig.imageObj.src = (window.URL || window.webkitURL).createObjectURL(\n",
       "                evt.data);\n",
       "            fig.updated_canvas_event();\n",
       "            fig.waiting = false;\n",
       "            return;\n",
       "        }\n",
       "        else if (typeof evt.data === 'string' && evt.data.slice(0, 21) == \"data:image/png;base64\") {\n",
       "            fig.imageObj.src = evt.data;\n",
       "            fig.updated_canvas_event();\n",
       "            fig.waiting = false;\n",
       "            return;\n",
       "        }\n",
       "\n",
       "        var msg = JSON.parse(evt.data);\n",
       "        var msg_type = msg['type'];\n",
       "\n",
       "        // Call the  \"handle_{type}\" callback, which takes\n",
       "        // the figure and JSON message as its only arguments.\n",
       "        try {\n",
       "            var callback = fig[\"handle_\" + msg_type];\n",
       "        } catch (e) {\n",
       "            console.log(\"No handler for the '\" + msg_type + \"' message type: \", msg);\n",
       "            return;\n",
       "        }\n",
       "\n",
       "        if (callback) {\n",
       "            try {\n",
       "                // console.log(\"Handling '\" + msg_type + \"' message: \", msg);\n",
       "                callback(fig, msg);\n",
       "            } catch (e) {\n",
       "                console.log(\"Exception inside the 'handler_\" + msg_type + \"' callback:\", e, e.stack, msg);\n",
       "            }\n",
       "        }\n",
       "    };\n",
       "}\n",
       "\n",
       "// from http://stackoverflow.com/questions/1114465/getting-mouse-location-in-canvas\n",
       "mpl.findpos = function(e) {\n",
       "    //this section is from http://www.quirksmode.org/js/events_properties.html\n",
       "    var targ;\n",
       "    if (!e)\n",
       "        e = window.event;\n",
       "    if (e.target)\n",
       "        targ = e.target;\n",
       "    else if (e.srcElement)\n",
       "        targ = e.srcElement;\n",
       "    if (targ.nodeType == 3) // defeat Safari bug\n",
       "        targ = targ.parentNode;\n",
       "\n",
       "    // jQuery normalizes the pageX and pageY\n",
       "    // pageX,Y are the mouse positions relative to the document\n",
       "    // offset() returns the position of the element relative to the document\n",
       "    var x = e.pageX - $(targ).offset().left;\n",
       "    var y = e.pageY - $(targ).offset().top;\n",
       "\n",
       "    return {\"x\": x, \"y\": y};\n",
       "};\n",
       "\n",
       "/*\n",
       " * return a copy of an object with only non-object keys\n",
       " * we need this to avoid circular references\n",
       " * http://stackoverflow.com/a/24161582/3208463\n",
       " */\n",
       "function simpleKeys (original) {\n",
       "  return Object.keys(original).reduce(function (obj, key) {\n",
       "    if (typeof original[key] !== 'object')\n",
       "        obj[key] = original[key]\n",
       "    return obj;\n",
       "  }, {});\n",
       "}\n",
       "\n",
       "mpl.figure.prototype.mouse_event = function(event, name) {\n",
       "    var canvas_pos = mpl.findpos(event)\n",
       "\n",
       "    if (name === 'button_press')\n",
       "    {\n",
       "        this.canvas.focus();\n",
       "        this.canvas_div.focus();\n",
       "    }\n",
       "\n",
       "    var x = canvas_pos.x * mpl.ratio;\n",
       "    var y = canvas_pos.y * mpl.ratio;\n",
       "\n",
       "    this.send_message(name, {x: x, y: y, button: event.button,\n",
       "                             step: event.step,\n",
       "                             guiEvent: simpleKeys(event)});\n",
       "\n",
       "    /* This prevents the web browser from automatically changing to\n",
       "     * the text insertion cursor when the button is pressed.  We want\n",
       "     * to control all of the cursor setting manually through the\n",
       "     * 'cursor' event from matplotlib */\n",
       "    event.preventDefault();\n",
       "    return false;\n",
       "}\n",
       "\n",
       "mpl.figure.prototype._key_event_extra = function(event, name) {\n",
       "    // Handle any extra behaviour associated with a key event\n",
       "}\n",
       "\n",
       "mpl.figure.prototype.key_event = function(event, name) {\n",
       "\n",
       "    // Prevent repeat events\n",
       "    if (name == 'key_press')\n",
       "    {\n",
       "        if (event.which === this._key)\n",
       "            return;\n",
       "        else\n",
       "            this._key = event.which;\n",
       "    }\n",
       "    if (name == 'key_release')\n",
       "        this._key = null;\n",
       "\n",
       "    var value = '';\n",
       "    if (event.ctrlKey && event.which != 17)\n",
       "        value += \"ctrl+\";\n",
       "    if (event.altKey && event.which != 18)\n",
       "        value += \"alt+\";\n",
       "    if (event.shiftKey && event.which != 16)\n",
       "        value += \"shift+\";\n",
       "\n",
       "    value += 'k';\n",
       "    value += event.which.toString();\n",
       "\n",
       "    this._key_event_extra(event, name);\n",
       "\n",
       "    this.send_message(name, {key: value,\n",
       "                             guiEvent: simpleKeys(event)});\n",
       "    return false;\n",
       "}\n",
       "\n",
       "mpl.figure.prototype.toolbar_button_onclick = function(name) {\n",
       "    if (name == 'download') {\n",
       "        this.handle_save(this, null);\n",
       "    } else {\n",
       "        this.send_message(\"toolbar_button\", {name: name});\n",
       "    }\n",
       "};\n",
       "\n",
       "mpl.figure.prototype.toolbar_button_onmouseover = function(tooltip) {\n",
       "    this.message.textContent = tooltip;\n",
       "};\n",
       "mpl.toolbar_items = [[\"Home\", \"Reset original view\", \"fa fa-home icon-home\", \"home\"], [\"Back\", \"Back to previous view\", \"fa fa-arrow-left icon-arrow-left\", \"back\"], [\"Forward\", \"Forward to next view\", \"fa fa-arrow-right icon-arrow-right\", \"forward\"], [\"\", \"\", \"\", \"\"], [\"Pan\", \"Pan axes with left mouse, zoom with right\", \"fa fa-arrows icon-move\", \"pan\"], [\"Zoom\", \"Zoom to rectangle\", \"fa fa-square-o icon-check-empty\", \"zoom\"], [\"\", \"\", \"\", \"\"], [\"Download\", \"Download plot\", \"fa fa-floppy-o icon-save\", \"download\"]];\n",
       "\n",
       "mpl.extensions = [\"eps\", \"jpeg\", \"pdf\", \"png\", \"ps\", \"raw\", \"svg\", \"tif\"];\n",
       "\n",
       "mpl.default_extension = \"png\";var comm_websocket_adapter = function(comm) {\n",
       "    // Create a \"websocket\"-like object which calls the given IPython comm\n",
       "    // object with the appropriate methods. Currently this is a non binary\n",
       "    // socket, so there is still some room for performance tuning.\n",
       "    var ws = {};\n",
       "\n",
       "    ws.close = function() {\n",
       "        comm.close()\n",
       "    };\n",
       "    ws.send = function(m) {\n",
       "        //console.log('sending', m);\n",
       "        comm.send(m);\n",
       "    };\n",
       "    // Register the callback with on_msg.\n",
       "    comm.on_msg(function(msg) {\n",
       "        //console.log('receiving', msg['content']['data'], msg);\n",
       "        // Pass the mpl event to the overridden (by mpl) onmessage function.\n",
       "        ws.onmessage(msg['content']['data'])\n",
       "    });\n",
       "    return ws;\n",
       "}\n",
       "\n",
       "mpl.mpl_figure_comm = function(comm, msg) {\n",
       "    // This is the function which gets called when the mpl process\n",
       "    // starts-up an IPython Comm through the \"matplotlib\" channel.\n",
       "\n",
       "    var id = msg.content.data.id;\n",
       "    // Get hold of the div created by the display call when the Comm\n",
       "    // socket was opened in Python.\n",
       "    var element = $(\"#\" + id);\n",
       "    var ws_proxy = comm_websocket_adapter(comm)\n",
       "\n",
       "    function ondownload(figure, format) {\n",
       "        window.open(figure.imageObj.src);\n",
       "    }\n",
       "\n",
       "    var fig = new mpl.figure(id, ws_proxy,\n",
       "                           ondownload,\n",
       "                           element.get(0));\n",
       "\n",
       "    // Call onopen now - mpl needs it, as it is assuming we've passed it a real\n",
       "    // web socket which is closed, not our websocket->open comm proxy.\n",
       "    ws_proxy.onopen();\n",
       "\n",
       "    fig.parent_element = element.get(0);\n",
       "    fig.cell_info = mpl.find_output_cell(\"<div id='\" + id + \"'></div>\");\n",
       "    if (!fig.cell_info) {\n",
       "        console.error(\"Failed to find cell for figure\", id, fig);\n",
       "        return;\n",
       "    }\n",
       "\n",
       "    var output_index = fig.cell_info[2]\n",
       "    var cell = fig.cell_info[0];\n",
       "\n",
       "};\n",
       "\n",
       "mpl.figure.prototype.handle_close = function(fig, msg) {\n",
       "    var width = fig.canvas.width/mpl.ratio\n",
       "    fig.root.unbind('remove')\n",
       "\n",
       "    // Update the output cell to use the data from the current canvas.\n",
       "    fig.push_to_output();\n",
       "    var dataURL = fig.canvas.toDataURL();\n",
       "    // Re-enable the keyboard manager in IPython - without this line, in FF,\n",
       "    // the notebook keyboard shortcuts fail.\n",
       "    IPython.keyboard_manager.enable()\n",
       "    $(fig.parent_element).html('<img src=\"' + dataURL + '\" width=\"' + width + '\">');\n",
       "    fig.close_ws(fig, msg);\n",
       "}\n",
       "\n",
       "mpl.figure.prototype.close_ws = function(fig, msg){\n",
       "    fig.send_message('closing', msg);\n",
       "    // fig.ws.close()\n",
       "}\n",
       "\n",
       "mpl.figure.prototype.push_to_output = function(remove_interactive) {\n",
       "    // Turn the data on the canvas into data in the output cell.\n",
       "    var width = this.canvas.width/mpl.ratio\n",
       "    var dataURL = this.canvas.toDataURL();\n",
       "    this.cell_info[1]['text/html'] = '<img src=\"' + dataURL + '\" width=\"' + width + '\">';\n",
       "}\n",
       "\n",
       "mpl.figure.prototype.updated_canvas_event = function() {\n",
       "    // Tell IPython that the notebook contents must change.\n",
       "    IPython.notebook.set_dirty(true);\n",
       "    this.send_message(\"ack\", {});\n",
       "    var fig = this;\n",
       "    // Wait a second, then push the new image to the DOM so\n",
       "    // that it is saved nicely (might be nice to debounce this).\n",
       "    setTimeout(function () { fig.push_to_output() }, 1000);\n",
       "}\n",
       "\n",
       "mpl.figure.prototype._init_toolbar = function() {\n",
       "    var fig = this;\n",
       "\n",
       "    var nav_element = $('<div/>');\n",
       "    nav_element.attr('style', 'width: 100%');\n",
       "    this.root.append(nav_element);\n",
       "\n",
       "    // Define a callback function for later on.\n",
       "    function toolbar_event(event) {\n",
       "        return fig.toolbar_button_onclick(event['data']);\n",
       "    }\n",
       "    function toolbar_mouse_event(event) {\n",
       "        return fig.toolbar_button_onmouseover(event['data']);\n",
       "    }\n",
       "\n",
       "    for(var toolbar_ind in mpl.toolbar_items){\n",
       "        var name = mpl.toolbar_items[toolbar_ind][0];\n",
       "        var tooltip = mpl.toolbar_items[toolbar_ind][1];\n",
       "        var image = mpl.toolbar_items[toolbar_ind][2];\n",
       "        var method_name = mpl.toolbar_items[toolbar_ind][3];\n",
       "\n",
       "        if (!name) { continue; };\n",
       "\n",
       "        var button = $('<button class=\"btn btn-default\" href=\"#\" title=\"' + name + '\"><i class=\"fa ' + image + ' fa-lg\"></i></button>');\n",
       "        button.click(method_name, toolbar_event);\n",
       "        button.mouseover(tooltip, toolbar_mouse_event);\n",
       "        nav_element.append(button);\n",
       "    }\n",
       "\n",
       "    // Add the status bar.\n",
       "    var status_bar = $('<span class=\"mpl-message\" style=\"text-align:right; float: right;\"/>');\n",
       "    nav_element.append(status_bar);\n",
       "    this.message = status_bar[0];\n",
       "\n",
       "    // Add the close button to the window.\n",
       "    var buttongrp = $('<div class=\"btn-group inline pull-right\"></div>');\n",
       "    var button = $('<button class=\"btn btn-mini btn-primary\" href=\"#\" title=\"Stop Interaction\"><i class=\"fa fa-power-off icon-remove icon-large\"></i></button>');\n",
       "    button.click(function (evt) { fig.handle_close(fig, {}); } );\n",
       "    button.mouseover('Stop Interaction', toolbar_mouse_event);\n",
       "    buttongrp.append(button);\n",
       "    var titlebar = this.root.find($('.ui-dialog-titlebar'));\n",
       "    titlebar.prepend(buttongrp);\n",
       "}\n",
       "\n",
       "mpl.figure.prototype._root_extra_style = function(el){\n",
       "    var fig = this\n",
       "    el.on(\"remove\", function(){\n",
       "\tfig.close_ws(fig, {});\n",
       "    });\n",
       "}\n",
       "\n",
       "mpl.figure.prototype._canvas_extra_style = function(el){\n",
       "    // this is important to make the div 'focusable\n",
       "    el.attr('tabindex', 0)\n",
       "    // reach out to IPython and tell the keyboard manager to turn it's self\n",
       "    // off when our div gets focus\n",
       "\n",
       "    // location in version 3\n",
       "    if (IPython.notebook.keyboard_manager) {\n",
       "        IPython.notebook.keyboard_manager.register_events(el);\n",
       "    }\n",
       "    else {\n",
       "        // location in version 2\n",
       "        IPython.keyboard_manager.register_events(el);\n",
       "    }\n",
       "\n",
       "}\n",
       "\n",
       "mpl.figure.prototype._key_event_extra = function(event, name) {\n",
       "    var manager = IPython.notebook.keyboard_manager;\n",
       "    if (!manager)\n",
       "        manager = IPython.keyboard_manager;\n",
       "\n",
       "    // Check for shift+enter\n",
       "    if (event.shiftKey && event.which == 13) {\n",
       "        this.canvas_div.blur();\n",
       "        event.shiftKey = false;\n",
       "        // Send a \"J\" for go to next cell\n",
       "        event.which = 74;\n",
       "        event.keyCode = 74;\n",
       "        manager.command_mode();\n",
       "        manager.handle_keydown(event);\n",
       "    }\n",
       "}\n",
       "\n",
       "mpl.figure.prototype.handle_save = function(fig, msg) {\n",
       "    fig.ondownload(fig, null);\n",
       "}\n",
       "\n",
       "\n",
       "mpl.find_output_cell = function(html_output) {\n",
       "    // Return the cell and output element which can be found *uniquely* in the notebook.\n",
       "    // Note - this is a bit hacky, but it is done because the \"notebook_saving.Notebook\"\n",
       "    // IPython event is triggered only after the cells have been serialised, which for\n",
       "    // our purposes (turning an active figure into a static one), is too late.\n",
       "    var cells = IPython.notebook.get_cells();\n",
       "    var ncells = cells.length;\n",
       "    for (var i=0; i<ncells; i++) {\n",
       "        var cell = cells[i];\n",
       "        if (cell.cell_type === 'code'){\n",
       "            for (var j=0; j<cell.output_area.outputs.length; j++) {\n",
       "                var data = cell.output_area.outputs[j];\n",
       "                if (data.data) {\n",
       "                    // IPython >= 3 moved mimebundle to data attribute of output\n",
       "                    data = data.data;\n",
       "                }\n",
       "                if (data['text/html'] == html_output) {\n",
       "                    return [cell, data, j];\n",
       "                }\n",
       "            }\n",
       "        }\n",
       "    }\n",
       "}\n",
       "\n",
       "// Register the function which deals with the matplotlib target/channel.\n",
       "// The kernel may be null if the page has been refreshed.\n",
       "if (IPython.notebook.kernel != null) {\n",
       "    IPython.notebook.kernel.comm_manager.register_target('matplotlib', mpl.mpl_figure_comm);\n",
       "}\n"
      ],
      "text/plain": [
       "<IPython.core.display.Javascript object>"
      ]
     },
     "metadata": {},
     "output_type": "display_data"
    },
    {
     "data": {
      "text/html": [
       "<img src=\"data:image/png;base64,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\" width=\"640\">"
      ],
      "text/plain": [
       "<IPython.core.display.HTML object>"
      ]
     },
     "metadata": {},
     "output_type": "display_data"
    },
    {
     "data": {
      "text/plain": [
       "Text(0, 0.5, 'real')"
      ]
     },
     "execution_count": 12,
     "metadata": {},
     "output_type": "execute_result"
    }
   ],
   "source": [
    "fig = plt.figure()\n",
    "ax = fig.add_subplot(111)\n",
    "ax.plot(t[0:1000], s[0:1000], '.')\n",
    "ax.set_xlabel('time(s)')\n",
    "ax.set_ylabel('real')"
   ]
  },
  {
   "cell_type": "code",
   "execution_count": 13,
   "metadata": {},
   "outputs": [],
   "source": [
    "# generate signal by complex-phasor\n",
    "c = np.exp(theta *1j)"
   ]
  },
  {
   "cell_type": "code",
   "execution_count": 14,
   "metadata": {},
   "outputs": [
    {
     "data": {
      "application/javascript": [
       "/* Put everything inside the global mpl namespace */\n",
       "window.mpl = {};\n",
       "\n",
       "\n",
       "mpl.get_websocket_type = function() {\n",
       "    if (typeof(WebSocket) !== 'undefined') {\n",
       "        return WebSocket;\n",
       "    } else if (typeof(MozWebSocket) !== 'undefined') {\n",
       "        return MozWebSocket;\n",
       "    } else {\n",
       "        alert('Your browser does not have WebSocket support. ' +\n",
       "              'Please try Chrome, Safari or Firefox ≥ 6. ' +\n",
       "              'Firefox 4 and 5 are also supported but you ' +\n",
       "              'have to enable WebSockets in about:config.');\n",
       "    };\n",
       "}\n",
       "\n",
       "mpl.figure = function(figure_id, websocket, ondownload, parent_element) {\n",
       "    this.id = figure_id;\n",
       "\n",
       "    this.ws = websocket;\n",
       "\n",
       "    this.supports_binary = (this.ws.binaryType != undefined);\n",
       "\n",
       "    if (!this.supports_binary) {\n",
       "        var warnings = document.getElementById(\"mpl-warnings\");\n",
       "        if (warnings) {\n",
       "            warnings.style.display = 'block';\n",
       "            warnings.textContent = (\n",
       "                \"This browser does not support binary websocket messages. \" +\n",
       "                    \"Performance may be slow.\");\n",
       "        }\n",
       "    }\n",
       "\n",
       "    this.imageObj = new Image();\n",
       "\n",
       "    this.context = undefined;\n",
       "    this.message = undefined;\n",
       "    this.canvas = undefined;\n",
       "    this.rubberband_canvas = undefined;\n",
       "    this.rubberband_context = undefined;\n",
       "    this.format_dropdown = undefined;\n",
       "\n",
       "    this.image_mode = 'full';\n",
       "\n",
       "    this.root = $('<div/>');\n",
       "    this._root_extra_style(this.root)\n",
       "    this.root.attr('style', 'display: inline-block');\n",
       "\n",
       "    $(parent_element).append(this.root);\n",
       "\n",
       "    this._init_header(this);\n",
       "    this._init_canvas(this);\n",
       "    this._init_toolbar(this);\n",
       "\n",
       "    var fig = this;\n",
       "\n",
       "    this.waiting = false;\n",
       "\n",
       "    this.ws.onopen =  function () {\n",
       "            fig.send_message(\"supports_binary\", {value: fig.supports_binary});\n",
       "            fig.send_message(\"send_image_mode\", {});\n",
       "            if (mpl.ratio != 1) {\n",
       "                fig.send_message(\"set_dpi_ratio\", {'dpi_ratio': mpl.ratio});\n",
       "            }\n",
       "            fig.send_message(\"refresh\", {});\n",
       "        }\n",
       "\n",
       "    this.imageObj.onload = function() {\n",
       "            if (fig.image_mode == 'full') {\n",
       "                // Full images could contain transparency (where diff images\n",
       "                // almost always do), so we need to clear the canvas so that\n",
       "                // there is no ghosting.\n",
       "                fig.context.clearRect(0, 0, fig.canvas.width, fig.canvas.height);\n",
       "            }\n",
       "            fig.context.drawImage(fig.imageObj, 0, 0);\n",
       "        };\n",
       "\n",
       "    this.imageObj.onunload = function() {\n",
       "        fig.ws.close();\n",
       "    }\n",
       "\n",
       "    this.ws.onmessage = this._make_on_message_function(this);\n",
       "\n",
       "    this.ondownload = ondownload;\n",
       "}\n",
       "\n",
       "mpl.figure.prototype._init_header = function() {\n",
       "    var titlebar = $(\n",
       "        '<div class=\"ui-dialog-titlebar ui-widget-header ui-corner-all ' +\n",
       "        'ui-helper-clearfix\"/>');\n",
       "    var titletext = $(\n",
       "        '<div class=\"ui-dialog-title\" style=\"width: 100%; ' +\n",
       "        'text-align: center; padding: 3px;\"/>');\n",
       "    titlebar.append(titletext)\n",
       "    this.root.append(titlebar);\n",
       "    this.header = titletext[0];\n",
       "}\n",
       "\n",
       "\n",
       "\n",
       "mpl.figure.prototype._canvas_extra_style = function(canvas_div) {\n",
       "\n",
       "}\n",
       "\n",
       "\n",
       "mpl.figure.prototype._root_extra_style = function(canvas_div) {\n",
       "\n",
       "}\n",
       "\n",
       "mpl.figure.prototype._init_canvas = function() {\n",
       "    var fig = this;\n",
       "\n",
       "    var canvas_div = $('<div/>');\n",
       "\n",
       "    canvas_div.attr('style', 'position: relative; clear: both; outline: 0');\n",
       "\n",
       "    function canvas_keyboard_event(event) {\n",
       "        return fig.key_event(event, event['data']);\n",
       "    }\n",
       "\n",
       "    canvas_div.keydown('key_press', canvas_keyboard_event);\n",
       "    canvas_div.keyup('key_release', canvas_keyboard_event);\n",
       "    this.canvas_div = canvas_div\n",
       "    this._canvas_extra_style(canvas_div)\n",
       "    this.root.append(canvas_div);\n",
       "\n",
       "    var canvas = $('<canvas/>');\n",
       "    canvas.addClass('mpl-canvas');\n",
       "    canvas.attr('style', \"left: 0; top: 0; z-index: 0; outline: 0\")\n",
       "\n",
       "    this.canvas = canvas[0];\n",
       "    this.context = canvas[0].getContext(\"2d\");\n",
       "\n",
       "    var backingStore = this.context.backingStorePixelRatio ||\n",
       "\tthis.context.webkitBackingStorePixelRatio ||\n",
       "\tthis.context.mozBackingStorePixelRatio ||\n",
       "\tthis.context.msBackingStorePixelRatio ||\n",
       "\tthis.context.oBackingStorePixelRatio ||\n",
       "\tthis.context.backingStorePixelRatio || 1;\n",
       "\n",
       "    mpl.ratio = (window.devicePixelRatio || 1) / backingStore;\n",
       "\n",
       "    var rubberband = $('<canvas/>');\n",
       "    rubberband.attr('style', \"position: absolute; left: 0; top: 0; z-index: 1;\")\n",
       "\n",
       "    var pass_mouse_events = true;\n",
       "\n",
       "    canvas_div.resizable({\n",
       "        start: function(event, ui) {\n",
       "            pass_mouse_events = false;\n",
       "        },\n",
       "        resize: function(event, ui) {\n",
       "            fig.request_resize(ui.size.width, ui.size.height);\n",
       "        },\n",
       "        stop: function(event, ui) {\n",
       "            pass_mouse_events = true;\n",
       "            fig.request_resize(ui.size.width, ui.size.height);\n",
       "        },\n",
       "    });\n",
       "\n",
       "    function mouse_event_fn(event) {\n",
       "        if (pass_mouse_events)\n",
       "            return fig.mouse_event(event, event['data']);\n",
       "    }\n",
       "\n",
       "    rubberband.mousedown('button_press', mouse_event_fn);\n",
       "    rubberband.mouseup('button_release', mouse_event_fn);\n",
       "    // Throttle sequential mouse events to 1 every 20ms.\n",
       "    rubberband.mousemove('motion_notify', mouse_event_fn);\n",
       "\n",
       "    rubberband.mouseenter('figure_enter', mouse_event_fn);\n",
       "    rubberband.mouseleave('figure_leave', mouse_event_fn);\n",
       "\n",
       "    canvas_div.on(\"wheel\", function (event) {\n",
       "        event = event.originalEvent;\n",
       "        event['data'] = 'scroll'\n",
       "        if (event.deltaY < 0) {\n",
       "            event.step = 1;\n",
       "        } else {\n",
       "            event.step = -1;\n",
       "        }\n",
       "        mouse_event_fn(event);\n",
       "    });\n",
       "\n",
       "    canvas_div.append(canvas);\n",
       "    canvas_div.append(rubberband);\n",
       "\n",
       "    this.rubberband = rubberband;\n",
       "    this.rubberband_canvas = rubberband[0];\n",
       "    this.rubberband_context = rubberband[0].getContext(\"2d\");\n",
       "    this.rubberband_context.strokeStyle = \"#000000\";\n",
       "\n",
       "    this._resize_canvas = function(width, height) {\n",
       "        // Keep the size of the canvas, canvas container, and rubber band\n",
       "        // canvas in synch.\n",
       "        canvas_div.css('width', width)\n",
       "        canvas_div.css('height', height)\n",
       "\n",
       "        canvas.attr('width', width * mpl.ratio);\n",
       "        canvas.attr('height', height * mpl.ratio);\n",
       "        canvas.attr('style', 'width: ' + width + 'px; height: ' + height + 'px;');\n",
       "\n",
       "        rubberband.attr('width', width);\n",
       "        rubberband.attr('height', height);\n",
       "    }\n",
       "\n",
       "    // Set the figure to an initial 600x600px, this will subsequently be updated\n",
       "    // upon first draw.\n",
       "    this._resize_canvas(600, 600);\n",
       "\n",
       "    // Disable right mouse context menu.\n",
       "    $(this.rubberband_canvas).bind(\"contextmenu\",function(e){\n",
       "        return false;\n",
       "    });\n",
       "\n",
       "    function set_focus () {\n",
       "        canvas.focus();\n",
       "        canvas_div.focus();\n",
       "    }\n",
       "\n",
       "    window.setTimeout(set_focus, 100);\n",
       "}\n",
       "\n",
       "mpl.figure.prototype._init_toolbar = function() {\n",
       "    var fig = this;\n",
       "\n",
       "    var nav_element = $('<div/>');\n",
       "    nav_element.attr('style', 'width: 100%');\n",
       "    this.root.append(nav_element);\n",
       "\n",
       "    // Define a callback function for later on.\n",
       "    function toolbar_event(event) {\n",
       "        return fig.toolbar_button_onclick(event['data']);\n",
       "    }\n",
       "    function toolbar_mouse_event(event) {\n",
       "        return fig.toolbar_button_onmouseover(event['data']);\n",
       "    }\n",
       "\n",
       "    for(var toolbar_ind in mpl.toolbar_items) {\n",
       "        var name = mpl.toolbar_items[toolbar_ind][0];\n",
       "        var tooltip = mpl.toolbar_items[toolbar_ind][1];\n",
       "        var image = mpl.toolbar_items[toolbar_ind][2];\n",
       "        var method_name = mpl.toolbar_items[toolbar_ind][3];\n",
       "\n",
       "        if (!name) {\n",
       "            // put a spacer in here.\n",
       "            continue;\n",
       "        }\n",
       "        var button = $('<button/>');\n",
       "        button.addClass('ui-button ui-widget ui-state-default ui-corner-all ' +\n",
       "                        'ui-button-icon-only');\n",
       "        button.attr('role', 'button');\n",
       "        button.attr('aria-disabled', 'false');\n",
       "        button.click(method_name, toolbar_event);\n",
       "        button.mouseover(tooltip, toolbar_mouse_event);\n",
       "\n",
       "        var icon_img = $('<span/>');\n",
       "        icon_img.addClass('ui-button-icon-primary ui-icon');\n",
       "        icon_img.addClass(image);\n",
       "        icon_img.addClass('ui-corner-all');\n",
       "\n",
       "        var tooltip_span = $('<span/>');\n",
       "        tooltip_span.addClass('ui-button-text');\n",
       "        tooltip_span.html(tooltip);\n",
       "\n",
       "        button.append(icon_img);\n",
       "        button.append(tooltip_span);\n",
       "\n",
       "        nav_element.append(button);\n",
       "    }\n",
       "\n",
       "    var fmt_picker_span = $('<span/>');\n",
       "\n",
       "    var fmt_picker = $('<select/>');\n",
       "    fmt_picker.addClass('mpl-toolbar-option ui-widget ui-widget-content');\n",
       "    fmt_picker_span.append(fmt_picker);\n",
       "    nav_element.append(fmt_picker_span);\n",
       "    this.format_dropdown = fmt_picker[0];\n",
       "\n",
       "    for (var ind in mpl.extensions) {\n",
       "        var fmt = mpl.extensions[ind];\n",
       "        var option = $(\n",
       "            '<option/>', {selected: fmt === mpl.default_extension}).html(fmt);\n",
       "        fmt_picker.append(option);\n",
       "    }\n",
       "\n",
       "    // Add hover states to the ui-buttons\n",
       "    $( \".ui-button\" ).hover(\n",
       "        function() { $(this).addClass(\"ui-state-hover\");},\n",
       "        function() { $(this).removeClass(\"ui-state-hover\");}\n",
       "    );\n",
       "\n",
       "    var status_bar = $('<span class=\"mpl-message\"/>');\n",
       "    nav_element.append(status_bar);\n",
       "    this.message = status_bar[0];\n",
       "}\n",
       "\n",
       "mpl.figure.prototype.request_resize = function(x_pixels, y_pixels) {\n",
       "    // Request matplotlib to resize the figure. Matplotlib will then trigger a resize in the client,\n",
       "    // which will in turn request a refresh of the image.\n",
       "    this.send_message('resize', {'width': x_pixels, 'height': y_pixels});\n",
       "}\n",
       "\n",
       "mpl.figure.prototype.send_message = function(type, properties) {\n",
       "    properties['type'] = type;\n",
       "    properties['figure_id'] = this.id;\n",
       "    this.ws.send(JSON.stringify(properties));\n",
       "}\n",
       "\n",
       "mpl.figure.prototype.send_draw_message = function() {\n",
       "    if (!this.waiting) {\n",
       "        this.waiting = true;\n",
       "        this.ws.send(JSON.stringify({type: \"draw\", figure_id: this.id}));\n",
       "    }\n",
       "}\n",
       "\n",
       "\n",
       "mpl.figure.prototype.handle_save = function(fig, msg) {\n",
       "    var format_dropdown = fig.format_dropdown;\n",
       "    var format = format_dropdown.options[format_dropdown.selectedIndex].value;\n",
       "    fig.ondownload(fig, format);\n",
       "}\n",
       "\n",
       "\n",
       "mpl.figure.prototype.handle_resize = function(fig, msg) {\n",
       "    var size = msg['size'];\n",
       "    if (size[0] != fig.canvas.width || size[1] != fig.canvas.height) {\n",
       "        fig._resize_canvas(size[0], size[1]);\n",
       "        fig.send_message(\"refresh\", {});\n",
       "    };\n",
       "}\n",
       "\n",
       "mpl.figure.prototype.handle_rubberband = function(fig, msg) {\n",
       "    var x0 = msg['x0'] / mpl.ratio;\n",
       "    var y0 = (fig.canvas.height - msg['y0']) / mpl.ratio;\n",
       "    var x1 = msg['x1'] / mpl.ratio;\n",
       "    var y1 = (fig.canvas.height - msg['y1']) / mpl.ratio;\n",
       "    x0 = Math.floor(x0) + 0.5;\n",
       "    y0 = Math.floor(y0) + 0.5;\n",
       "    x1 = Math.floor(x1) + 0.5;\n",
       "    y1 = Math.floor(y1) + 0.5;\n",
       "    var min_x = Math.min(x0, x1);\n",
       "    var min_y = Math.min(y0, y1);\n",
       "    var width = Math.abs(x1 - x0);\n",
       "    var height = Math.abs(y1 - y0);\n",
       "\n",
       "    fig.rubberband_context.clearRect(\n",
       "        0, 0, fig.canvas.width, fig.canvas.height);\n",
       "\n",
       "    fig.rubberband_context.strokeRect(min_x, min_y, width, height);\n",
       "}\n",
       "\n",
       "mpl.figure.prototype.handle_figure_label = function(fig, msg) {\n",
       "    // Updates the figure title.\n",
       "    fig.header.textContent = msg['label'];\n",
       "}\n",
       "\n",
       "mpl.figure.prototype.handle_cursor = function(fig, msg) {\n",
       "    var cursor = msg['cursor'];\n",
       "    switch(cursor)\n",
       "    {\n",
       "    case 0:\n",
       "        cursor = 'pointer';\n",
       "        break;\n",
       "    case 1:\n",
       "        cursor = 'default';\n",
       "        break;\n",
       "    case 2:\n",
       "        cursor = 'crosshair';\n",
       "        break;\n",
       "    case 3:\n",
       "        cursor = 'move';\n",
       "        break;\n",
       "    }\n",
       "    fig.rubberband_canvas.style.cursor = cursor;\n",
       "}\n",
       "\n",
       "mpl.figure.prototype.handle_message = function(fig, msg) {\n",
       "    fig.message.textContent = msg['message'];\n",
       "}\n",
       "\n",
       "mpl.figure.prototype.handle_draw = function(fig, msg) {\n",
       "    // Request the server to send over a new figure.\n",
       "    fig.send_draw_message();\n",
       "}\n",
       "\n",
       "mpl.figure.prototype.handle_image_mode = function(fig, msg) {\n",
       "    fig.image_mode = msg['mode'];\n",
       "}\n",
       "\n",
       "mpl.figure.prototype.updated_canvas_event = function() {\n",
       "    // Called whenever the canvas gets updated.\n",
       "    this.send_message(\"ack\", {});\n",
       "}\n",
       "\n",
       "// A function to construct a web socket function for onmessage handling.\n",
       "// Called in the figure constructor.\n",
       "mpl.figure.prototype._make_on_message_function = function(fig) {\n",
       "    return function socket_on_message(evt) {\n",
       "        if (evt.data instanceof Blob) {\n",
       "            /* FIXME: We get \"Resource interpreted as Image but\n",
       "             * transferred with MIME type text/plain:\" errors on\n",
       "             * Chrome.  But how to set the MIME type?  It doesn't seem\n",
       "             * to be part of the websocket stream */\n",
       "            evt.data.type = \"image/png\";\n",
       "\n",
       "            /* Free the memory for the previous frames */\n",
       "            if (fig.imageObj.src) {\n",
       "                (window.URL || window.webkitURL).revokeObjectURL(\n",
       "                    fig.imageObj.src);\n",
       "            }\n",
       "\n",
       "            fig.imageObj.src = (window.URL || window.webkitURL).createObjectURL(\n",
       "                evt.data);\n",
       "            fig.updated_canvas_event();\n",
       "            fig.waiting = false;\n",
       "            return;\n",
       "        }\n",
       "        else if (typeof evt.data === 'string' && evt.data.slice(0, 21) == \"data:image/png;base64\") {\n",
       "            fig.imageObj.src = evt.data;\n",
       "            fig.updated_canvas_event();\n",
       "            fig.waiting = false;\n",
       "            return;\n",
       "        }\n",
       "\n",
       "        var msg = JSON.parse(evt.data);\n",
       "        var msg_type = msg['type'];\n",
       "\n",
       "        // Call the  \"handle_{type}\" callback, which takes\n",
       "        // the figure and JSON message as its only arguments.\n",
       "        try {\n",
       "            var callback = fig[\"handle_\" + msg_type];\n",
       "        } catch (e) {\n",
       "            console.log(\"No handler for the '\" + msg_type + \"' message type: \", msg);\n",
       "            return;\n",
       "        }\n",
       "\n",
       "        if (callback) {\n",
       "            try {\n",
       "                // console.log(\"Handling '\" + msg_type + \"' message: \", msg);\n",
       "                callback(fig, msg);\n",
       "            } catch (e) {\n",
       "                console.log(\"Exception inside the 'handler_\" + msg_type + \"' callback:\", e, e.stack, msg);\n",
       "            }\n",
       "        }\n",
       "    };\n",
       "}\n",
       "\n",
       "// from http://stackoverflow.com/questions/1114465/getting-mouse-location-in-canvas\n",
       "mpl.findpos = function(e) {\n",
       "    //this section is from http://www.quirksmode.org/js/events_properties.html\n",
       "    var targ;\n",
       "    if (!e)\n",
       "        e = window.event;\n",
       "    if (e.target)\n",
       "        targ = e.target;\n",
       "    else if (e.srcElement)\n",
       "        targ = e.srcElement;\n",
       "    if (targ.nodeType == 3) // defeat Safari bug\n",
       "        targ = targ.parentNode;\n",
       "\n",
       "    // jQuery normalizes the pageX and pageY\n",
       "    // pageX,Y are the mouse positions relative to the document\n",
       "    // offset() returns the position of the element relative to the document\n",
       "    var x = e.pageX - $(targ).offset().left;\n",
       "    var y = e.pageY - $(targ).offset().top;\n",
       "\n",
       "    return {\"x\": x, \"y\": y};\n",
       "};\n",
       "\n",
       "/*\n",
       " * return a copy of an object with only non-object keys\n",
       " * we need this to avoid circular references\n",
       " * http://stackoverflow.com/a/24161582/3208463\n",
       " */\n",
       "function simpleKeys (original) {\n",
       "  return Object.keys(original).reduce(function (obj, key) {\n",
       "    if (typeof original[key] !== 'object')\n",
       "        obj[key] = original[key]\n",
       "    return obj;\n",
       "  }, {});\n",
       "}\n",
       "\n",
       "mpl.figure.prototype.mouse_event = function(event, name) {\n",
       "    var canvas_pos = mpl.findpos(event)\n",
       "\n",
       "    if (name === 'button_press')\n",
       "    {\n",
       "        this.canvas.focus();\n",
       "        this.canvas_div.focus();\n",
       "    }\n",
       "\n",
       "    var x = canvas_pos.x * mpl.ratio;\n",
       "    var y = canvas_pos.y * mpl.ratio;\n",
       "\n",
       "    this.send_message(name, {x: x, y: y, button: event.button,\n",
       "                             step: event.step,\n",
       "                             guiEvent: simpleKeys(event)});\n",
       "\n",
       "    /* This prevents the web browser from automatically changing to\n",
       "     * the text insertion cursor when the button is pressed.  We want\n",
       "     * to control all of the cursor setting manually through the\n",
       "     * 'cursor' event from matplotlib */\n",
       "    event.preventDefault();\n",
       "    return false;\n",
       "}\n",
       "\n",
       "mpl.figure.prototype._key_event_extra = function(event, name) {\n",
       "    // Handle any extra behaviour associated with a key event\n",
       "}\n",
       "\n",
       "mpl.figure.prototype.key_event = function(event, name) {\n",
       "\n",
       "    // Prevent repeat events\n",
       "    if (name == 'key_press')\n",
       "    {\n",
       "        if (event.which === this._key)\n",
       "            return;\n",
       "        else\n",
       "            this._key = event.which;\n",
       "    }\n",
       "    if (name == 'key_release')\n",
       "        this._key = null;\n",
       "\n",
       "    var value = '';\n",
       "    if (event.ctrlKey && event.which != 17)\n",
       "        value += \"ctrl+\";\n",
       "    if (event.altKey && event.which != 18)\n",
       "        value += \"alt+\";\n",
       "    if (event.shiftKey && event.which != 16)\n",
       "        value += \"shift+\";\n",
       "\n",
       "    value += 'k';\n",
       "    value += event.which.toString();\n",
       "\n",
       "    this._key_event_extra(event, name);\n",
       "\n",
       "    this.send_message(name, {key: value,\n",
       "                             guiEvent: simpleKeys(event)});\n",
       "    return false;\n",
       "}\n",
       "\n",
       "mpl.figure.prototype.toolbar_button_onclick = function(name) {\n",
       "    if (name == 'download') {\n",
       "        this.handle_save(this, null);\n",
       "    } else {\n",
       "        this.send_message(\"toolbar_button\", {name: name});\n",
       "    }\n",
       "};\n",
       "\n",
       "mpl.figure.prototype.toolbar_button_onmouseover = function(tooltip) {\n",
       "    this.message.textContent = tooltip;\n",
       "};\n",
       "mpl.toolbar_items = [[\"Home\", \"Reset original view\", \"fa fa-home icon-home\", \"home\"], [\"Back\", \"Back to previous view\", \"fa fa-arrow-left icon-arrow-left\", \"back\"], [\"Forward\", \"Forward to next view\", \"fa fa-arrow-right icon-arrow-right\", \"forward\"], [\"\", \"\", \"\", \"\"], [\"Pan\", \"Pan axes with left mouse, zoom with right\", \"fa fa-arrows icon-move\", \"pan\"], [\"Zoom\", \"Zoom to rectangle\", \"fa fa-square-o icon-check-empty\", \"zoom\"], [\"\", \"\", \"\", \"\"], [\"Download\", \"Download plot\", \"fa fa-floppy-o icon-save\", \"download\"]];\n",
       "\n",
       "mpl.extensions = [\"eps\", \"jpeg\", \"pdf\", \"png\", \"ps\", \"raw\", \"svg\", \"tif\"];\n",
       "\n",
       "mpl.default_extension = \"png\";var comm_websocket_adapter = function(comm) {\n",
       "    // Create a \"websocket\"-like object which calls the given IPython comm\n",
       "    // object with the appropriate methods. Currently this is a non binary\n",
       "    // socket, so there is still some room for performance tuning.\n",
       "    var ws = {};\n",
       "\n",
       "    ws.close = function() {\n",
       "        comm.close()\n",
       "    };\n",
       "    ws.send = function(m) {\n",
       "        //console.log('sending', m);\n",
       "        comm.send(m);\n",
       "    };\n",
       "    // Register the callback with on_msg.\n",
       "    comm.on_msg(function(msg) {\n",
       "        //console.log('receiving', msg['content']['data'], msg);\n",
       "        // Pass the mpl event to the overridden (by mpl) onmessage function.\n",
       "        ws.onmessage(msg['content']['data'])\n",
       "    });\n",
       "    return ws;\n",
       "}\n",
       "\n",
       "mpl.mpl_figure_comm = function(comm, msg) {\n",
       "    // This is the function which gets called when the mpl process\n",
       "    // starts-up an IPython Comm through the \"matplotlib\" channel.\n",
       "\n",
       "    var id = msg.content.data.id;\n",
       "    // Get hold of the div created by the display call when the Comm\n",
       "    // socket was opened in Python.\n",
       "    var element = $(\"#\" + id);\n",
       "    var ws_proxy = comm_websocket_adapter(comm)\n",
       "\n",
       "    function ondownload(figure, format) {\n",
       "        window.open(figure.imageObj.src);\n",
       "    }\n",
       "\n",
       "    var fig = new mpl.figure(id, ws_proxy,\n",
       "                           ondownload,\n",
       "                           element.get(0));\n",
       "\n",
       "    // Call onopen now - mpl needs it, as it is assuming we've passed it a real\n",
       "    // web socket which is closed, not our websocket->open comm proxy.\n",
       "    ws_proxy.onopen();\n",
       "\n",
       "    fig.parent_element = element.get(0);\n",
       "    fig.cell_info = mpl.find_output_cell(\"<div id='\" + id + \"'></div>\");\n",
       "    if (!fig.cell_info) {\n",
       "        console.error(\"Failed to find cell for figure\", id, fig);\n",
       "        return;\n",
       "    }\n",
       "\n",
       "    var output_index = fig.cell_info[2]\n",
       "    var cell = fig.cell_info[0];\n",
       "\n",
       "};\n",
       "\n",
       "mpl.figure.prototype.handle_close = function(fig, msg) {\n",
       "    var width = fig.canvas.width/mpl.ratio\n",
       "    fig.root.unbind('remove')\n",
       "\n",
       "    // Update the output cell to use the data from the current canvas.\n",
       "    fig.push_to_output();\n",
       "    var dataURL = fig.canvas.toDataURL();\n",
       "    // Re-enable the keyboard manager in IPython - without this line, in FF,\n",
       "    // the notebook keyboard shortcuts fail.\n",
       "    IPython.keyboard_manager.enable()\n",
       "    $(fig.parent_element).html('<img src=\"' + dataURL + '\" width=\"' + width + '\">');\n",
       "    fig.close_ws(fig, msg);\n",
       "}\n",
       "\n",
       "mpl.figure.prototype.close_ws = function(fig, msg){\n",
       "    fig.send_message('closing', msg);\n",
       "    // fig.ws.close()\n",
       "}\n",
       "\n",
       "mpl.figure.prototype.push_to_output = function(remove_interactive) {\n",
       "    // Turn the data on the canvas into data in the output cell.\n",
       "    var width = this.canvas.width/mpl.ratio\n",
       "    var dataURL = this.canvas.toDataURL();\n",
       "    this.cell_info[1]['text/html'] = '<img src=\"' + dataURL + '\" width=\"' + width + '\">';\n",
       "}\n",
       "\n",
       "mpl.figure.prototype.updated_canvas_event = function() {\n",
       "    // Tell IPython that the notebook contents must change.\n",
       "    IPython.notebook.set_dirty(true);\n",
       "    this.send_message(\"ack\", {});\n",
       "    var fig = this;\n",
       "    // Wait a second, then push the new image to the DOM so\n",
       "    // that it is saved nicely (might be nice to debounce this).\n",
       "    setTimeout(function () { fig.push_to_output() }, 1000);\n",
       "}\n",
       "\n",
       "mpl.figure.prototype._init_toolbar = function() {\n",
       "    var fig = this;\n",
       "\n",
       "    var nav_element = $('<div/>');\n",
       "    nav_element.attr('style', 'width: 100%');\n",
       "    this.root.append(nav_element);\n",
       "\n",
       "    // Define a callback function for later on.\n",
       "    function toolbar_event(event) {\n",
       "        return fig.toolbar_button_onclick(event['data']);\n",
       "    }\n",
       "    function toolbar_mouse_event(event) {\n",
       "        return fig.toolbar_button_onmouseover(event['data']);\n",
       "    }\n",
       "\n",
       "    for(var toolbar_ind in mpl.toolbar_items){\n",
       "        var name = mpl.toolbar_items[toolbar_ind][0];\n",
       "        var tooltip = mpl.toolbar_items[toolbar_ind][1];\n",
       "        var image = mpl.toolbar_items[toolbar_ind][2];\n",
       "        var method_name = mpl.toolbar_items[toolbar_ind][3];\n",
       "\n",
       "        if (!name) { continue; };\n",
       "\n",
       "        var button = $('<button class=\"btn btn-default\" href=\"#\" title=\"' + name + '\"><i class=\"fa ' + image + ' fa-lg\"></i></button>');\n",
       "        button.click(method_name, toolbar_event);\n",
       "        button.mouseover(tooltip, toolbar_mouse_event);\n",
       "        nav_element.append(button);\n",
       "    }\n",
       "\n",
       "    // Add the status bar.\n",
       "    var status_bar = $('<span class=\"mpl-message\" style=\"text-align:right; float: right;\"/>');\n",
       "    nav_element.append(status_bar);\n",
       "    this.message = status_bar[0];\n",
       "\n",
       "    // Add the close button to the window.\n",
       "    var buttongrp = $('<div class=\"btn-group inline pull-right\"></div>');\n",
       "    var button = $('<button class=\"btn btn-mini btn-primary\" href=\"#\" title=\"Stop Interaction\"><i class=\"fa fa-power-off icon-remove icon-large\"></i></button>');\n",
       "    button.click(function (evt) { fig.handle_close(fig, {}); } );\n",
       "    button.mouseover('Stop Interaction', toolbar_mouse_event);\n",
       "    buttongrp.append(button);\n",
       "    var titlebar = this.root.find($('.ui-dialog-titlebar'));\n",
       "    titlebar.prepend(buttongrp);\n",
       "}\n",
       "\n",
       "mpl.figure.prototype._root_extra_style = function(el){\n",
       "    var fig = this\n",
       "    el.on(\"remove\", function(){\n",
       "\tfig.close_ws(fig, {});\n",
       "    });\n",
       "}\n",
       "\n",
       "mpl.figure.prototype._canvas_extra_style = function(el){\n",
       "    // this is important to make the div 'focusable\n",
       "    el.attr('tabindex', 0)\n",
       "    // reach out to IPython and tell the keyboard manager to turn it's self\n",
       "    // off when our div gets focus\n",
       "\n",
       "    // location in version 3\n",
       "    if (IPython.notebook.keyboard_manager) {\n",
       "        IPython.notebook.keyboard_manager.register_events(el);\n",
       "    }\n",
       "    else {\n",
       "        // location in version 2\n",
       "        IPython.keyboard_manager.register_events(el);\n",
       "    }\n",
       "\n",
       "}\n",
       "\n",
       "mpl.figure.prototype._key_event_extra = function(event, name) {\n",
       "    var manager = IPython.notebook.keyboard_manager;\n",
       "    if (!manager)\n",
       "        manager = IPython.keyboard_manager;\n",
       "\n",
       "    // Check for shift+enter\n",
       "    if (event.shiftKey && event.which == 13) {\n",
       "        this.canvas_div.blur();\n",
       "        event.shiftKey = false;\n",
       "        // Send a \"J\" for go to next cell\n",
       "        event.which = 74;\n",
       "        event.keyCode = 74;\n",
       "        manager.command_mode();\n",
       "        manager.handle_keydown(event);\n",
       "    }\n",
       "}\n",
       "\n",
       "mpl.figure.prototype.handle_save = function(fig, msg) {\n",
       "    fig.ondownload(fig, null);\n",
       "}\n",
       "\n",
       "\n",
       "mpl.find_output_cell = function(html_output) {\n",
       "    // Return the cell and output element which can be found *uniquely* in the notebook.\n",
       "    // Note - this is a bit hacky, but it is done because the \"notebook_saving.Notebook\"\n",
       "    // IPython event is triggered only after the cells have been serialised, which for\n",
       "    // our purposes (turning an active figure into a static one), is too late.\n",
       "    var cells = IPython.notebook.get_cells();\n",
       "    var ncells = cells.length;\n",
       "    for (var i=0; i<ncells; i++) {\n",
       "        var cell = cells[i];\n",
       "        if (cell.cell_type === 'code'){\n",
       "            for (var j=0; j<cell.output_area.outputs.length; j++) {\n",
       "                var data = cell.output_area.outputs[j];\n",
       "                if (data.data) {\n",
       "                    // IPython >= 3 moved mimebundle to data attribute of output\n",
       "                    data = data.data;\n",
       "                }\n",
       "                if (data['text/html'] == html_output) {\n",
       "                    return [cell, data, j];\n",
       "                }\n",
       "            }\n",
       "        }\n",
       "    }\n",
       "}\n",
       "\n",
       "// Register the function which deals with the matplotlib target/channel.\n",
       "// The kernel may be null if the page has been refreshed.\n",
       "if (IPython.notebook.kernel != null) {\n",
       "    IPython.notebook.kernel.comm_manager.register_target('matplotlib', mpl.mpl_figure_comm);\n",
       "}\n"
      ],
      "text/plain": [
       "<IPython.core.display.Javascript object>"
      ]
     },
     "metadata": {},
     "output_type": "display_data"
    },
    {
     "data": {
      "text/html": [
       "<img src=\"data:image/png;base64,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\" width=\"640\">"
      ],
      "text/plain": [
       "<IPython.core.display.HTML object>"
      ]
     },
     "metadata": {},
     "output_type": "display_data"
    },
    {
     "data": {
      "text/plain": [
       "Text(0.5, 0, 'imag')"
      ]
     },
     "execution_count": 14,
     "metadata": {},
     "output_type": "execute_result"
    }
   ],
   "source": [
    "fig = plt.figure()\n",
    "ax = fig.add_subplot(111, projection='3d')\n",
    "ax.plot(t[0:1000], c.real[0:1000], c.imag[0:1000], '.')\n",
    "ax.set_xlabel('time(s)')\n",
    "ax.set_ylabel('real')\n",
    "ax.set_zlabel('imag')"
   ]
  },
  {
   "cell_type": "code",
   "execution_count": 15,
   "metadata": {},
   "outputs": [
    {
     "data": {
      "text/html": [
       "\n",
       "                <audio  controls=\"controls\" >\n",
       "                    <source src=\"data:audio/wav;base64,UklGRjQnAABXQVZFZm10IBAAAAABAAEAECcAACBOAAACABAAZGF0YRAnAAAJCAoQ+xfUH40nHi9/Nqk9lUQ7S5ZRnldOXZ9ijWcSbClw0HMBd7t5+Xu6ffx+vn//f75//H66ffl7u3kBd9BzKXASbI1nn2JOXZ5XllE7S5VEqT1/Nh4vjSfUH/sXChAJCAAA9/f27wXoLOBz2OLQgclXwmu7xbRqrmKosqJhnXOY7pPXjzCM/4hFhgeERoIEgUKAAYBCgASBRoIHhEWG/4gwjNeP7pNzmGGdsqJiqGquxbRru1fCgcni0HPYLOAF6Pbv9/cAAAkIChD7F9QfjSceL382qT2VRDtLllGeV05dn2KNZxJsKXDQcwF3u3n5e7p9/H6+f/9/vn/8frp9+Xu7eQF30HMpcBJsjWefYk5dnleWUTtLlUSpPX82Hi+NJ9Qf+xcKEAkIAAD39/bvBegs4HPY4tCByVfCa7vFtGquYqiyomGdc5juk9ePMIz/iEWGB4RGggSBQoABgEKABIFGggeERYb/iDCM14/uk3OYYZ2yomKoaq7FtGu7V8KByeLQc9gs4AXo9u/39wAACQgKEPsX1B+NJx4vfzapPZVEO0uWUZ5XTl2fYo1nEmwpcNBzAXe7efl7un38fr5//3++f/x+un35e7t5AXfQcylwEmyNZ59iTl2eV5ZRO0uVRKk9fzYeL40n1B/7FwoQCQgAAPf39u8F6Czgc9ji0IHJV8Jru8W0aq5iqLKiYZ1zmO6T148wjP+IRYYHhEaCBIFCgAGAQoAEgUaCB4RFhv+IMIzXj+6Tc5hhnbKiYqhqrsW0a7tXwoHJ4tBz2CzgBej27/f3AAAJCAoQ+xfUH40nHi9/Nqk9lUQ7S5ZRnldOXZ9ijWcSbClw0HMBd7t5+Xu6ffx+vn//f75//H66ffl7u3kBd9BzKXASbI1nn2JOXZ5XllE7S5VEqT1/Nh4vjSfUH/sXChAJCAAA9/f27wXoLOBz2OLQgclXwmu7xbRqrmKosqJhnXOY7pPXjzCM/4hFhgeERoIEgUKAAYBCgASBRoIHhEWG/4gwjNeP7pNzmGGdsqJiqGquxbRru1fCgcni0HPYLOAF6Pbv9/cAAAkIChD7F9QfjSceL382qT2VRDtLllGeV05dn2KNZxJsKXDQcwF3u3n5e7p9/H6+f/9/vn/8frp9+Xu7eQF30HMpcBJsjWefYk5dnleWUTtLlUSpPX82Hi+NJ9Qf+xcKEAkIAAD39/bvBegs4HPY4tCByVfCa7vFtGquYqiyomGdc5juk9ePMIz/iEWGB4RGggSBQoABgEKABIFGggeERYb/iDCM14/uk3OYYZ2yomKoaq7FtGu7V8KByeLQc9gs4AXo9u/39wAACQgKEPsX1B+NJx4vfzapPZVEO0uWUZ5XTl2fYo1nEmwpcNBzAXe7efl7un38fr5//3++f/x+un35e7t5AXfQcylwEmyNZ59iTl2eV5ZRO0uVRKk9fzYeL40n1B/7FwoQCQgAAPf39u8F6Czgc9ji0IHJV8Jru8W0aq5iqLKiYZ1zmO6T148wjP+IRYYHhEaCBIFCgAGAQoAEgUaCB4RFhv+IMIzXj+6Tc5hhnbKiYqhqrsW0a7tXwoHJ4tBz2CzgBej27/f3AAAJCAoQ+xfUH40nHi9/Nqk9lUQ7S5ZRnldOXZ9ijWcSbClw0HMBd7t5+Xu6ffx+vn//f75//H66ffl7u3kBd9BzKXASbI1nn2JOXZ5XllE7S5VEqT1/Nh4vjSfUH/sXChAJCAAA9/f27wXoLOBz2OLQgclXwmu7xbRqrmKosqJhnXOY7pPXjzCM/4hFhgeERoIEgUKAAYBCgASBRoIHhEWG/4gwjNeP7pNzmGGdsqJiqGquxbRru1fCgcni0HPYLOAF6Pbv9/cAAAkIChD7F9QfjSceL382qT2VRDtLllGeV05dn2KNZxJsKXDQcwF3u3n5e7p9/H6+f/9/vn/8frp9+Xu7eQF30HMpcBJsjWefYk5dnleWUTtLlUSpPX82Hi+NJ9Qf+xcKEAkIAAD39/bvBegs4HPY4tCByVfCa7vFtGquYqiyomGdc5juk9ePMIz/iEWGB4RGggSBQoABgEKABIFGggeERYb/iDCM14/uk3OYYZ2yomKoaq7FtGu7V8KByeLQc9gs4AXo9u/39wAACQgKEPsX1B+NJx4vfzapPZVEO0uWUZ5XTl2fYo1nEmwpcNBzAXe7efl7un38fr5//3++f/x+un35e7t5AXfQcylwEmyNZ59iTl2eV5ZRO0uVRKk9fzYeL40n1B/7FwoQCQgAAPf39u8F6Czgc9ji0IHJV8Jru8W0aq5iqLKiYZ1zmO6T148wjP+IRYYHhEaCBIFCgAGAQoAEgUaCB4RFhv+IMIzXj+6Tc5hhnbKiYqhqrsW0a7tXwoHJ4tBz2CzgBej27/f3AAAJCAoQ+xfUH40nHi9/Nqk9lUQ7S5ZRnldOXZ9ijWcSbClw0HMBd7t5+Xu6ffx+vn//f75//H66ffl7u3kBd9BzKXASbI1nn2JOXZ5XllE7S5VEqT1/Nh4vjSfUH/sXChAJCAAA9/f27wXoLOBz2OLQgclXwmu7xbRqrmKosqJhnXOY7pPXjzCM/4hFhgeERoIEgUKAAYBCgASBRoIHhEWG/4gwjNeP7pNzmGGdsqJiqGquxbRru1fCgcni0HPYLOAF6Pbv9/cAAAkIChD7F9QfjSceL382qT2VRDtLllGeV05dn2KNZxJsKXDQcwF3u3n5e7p9/H6+f/9/vn/8frp9+Xu7eQF30HMpcBJsjWefYk5dnleWUTtLlUSpPX82Hi+NJ9Qf+xcKEAkIAAD39/bvBegs4HPY4tCByVfCa7vFtGquYqiyomGdc5juk9ePMIz/iEWGB4RGggSBQoABgEKABIFGggeERYb/iDCM14/uk3OYYZ2yomKoaq7FtGu7V8KByeLQc9gs4AXo9u/39wAACQgKEPsX1B+NJx4vfzapPZVEO0uWUZ5XTl2fYo1nEmwpcNBzAXe7efl7un38fr5//3++f/x+un35e7t5AXfQcylwEmyNZ59iTl2eV5ZRO0uVRKk9fzYeL40n1B/7FwoQCQgAAPf39u8F6Czgc9ji0IHJV8Jru8W0aq5iqLKiYZ1zmO6T148wjP+IRYYHhEaCBIFCgAGAQoAEgUaCB4RFhv+IMIzXj+6Tc5hhnbKiYqhqrsW0a7tXwoHJ4tBz2CzgBej27/f3AAAJCAoQ+xfUH40nHi9/Nqk9lUQ7S5ZRnldOXZ9ijWcSbClw0HMBd7t5+Xu6ffx+vn//f75//H66ffl7u3kBd9BzKXASbI1nn2JOXZ5XllE7S5VEqT1/Nh4vjSfUH/sXChAJCAAA9/f27wXoLOBz2OLQgclXwmu7xbRqrmKosqJhnXOY7pPXjzCM/4hFhgeERoIEgUKAAYBCgASBRoIHhEWG/4gwjNeP7pNzmGGdsqJiqGquxbRru1fCgcni0HPYLOAF6Pbv9/cAAAkIChD7F9QfjSceL382qT2VRDtLllGeV05dn2KNZxJsKXDQcwF3u3n5e7p9/H6+f/9/vn/8frp9+Xu7eQF30HMpcBJsjWefYk5dnleWUTtLlUSpPX82Hi+NJ9Qf+xcKEAkIAAD39/bvBegs4HPY4tCByVfCa7vFtGquYqiyomGdc5juk9ePMIz/iEWGB4RGggSBQoABgEKABIFGggeERYb/iDCM14/uk3OYYZ2yomKoaq7FtGu7V8KByeLQc9gs4AXo9u/39wAACQgKEPsX1B+NJx4vfzapPZVEO0uWUZ5XTl2fYo1nEmwpcNBzAXe7efl7un38fr5//3++f/x+un35e7t5AXfQcylwEmyNZ59iTl2eV5ZRO0uVRKk9fzYeL40n1B/7FwoQCQgAAPf39u8F6Czgc9ji0IHJV8Jru8W0aq5iqLKiYZ1zmO6T148wjP+IRYYHhEaCBIFCgAGAQoAEgUaCB4RFhv+IMIzXj+6Tc5hhnbKiYqhqrsW0a7tXwoHJ4tBz2CzgBej27/f3AAAJCAoQ+xfUH40nHi9/Nqk9lUQ7S5ZRnldOXZ9ijWcSbClw0HMBd7t5+Xu6ffx+vn//f75//H66ffl7u3kBd9BzKXASbI1nn2JOXZ5XllE7S5VEqT1/Nh4vjSfUH/sXChAJCAAA9/f27wXoLOBz2OLQgclXwmu7xbRqrmKosqJhnXOY7pPXjzCM/4hFhgeERoIEgUKAAYBCgASBRoIHhEWG/4gwjNeP7pNzmGGdsqJiqGquxbRru1fCgcni0HPYLOAF6Pbv9/cAAAkIChD7F9QfjSceL382qT2VRDtLllGeV05dn2KNZxJsKXDQcwF3u3n5e7p9/H6+f/9/vn/8frp9+Xu7eQF30HMpcBJsjWefYk5dnleWUTtLlUSpPX82Hi+NJ9Qf+xcKEAkIAAD39/bvBegs4HPY4tCByVfCa7vFtGquYqiyomGdc5juk9ePMIz/iEWGB4RGggSBQoABgEKABIFGggeERYb/iDCM14/uk3OYYZ2yomKoaq7FtGu7V8KByeLQc9gs4AXo9u/39wAACQgKEPsX1B+NJx4vfzapPZVEO0uWUZ5XTl2fYo1nEmwpcNBzAXe7efl7un38fr5//3++f/x+un35e7t5AXfQcylwEmyNZ59iTl2eV5ZRO0uVRKk9fzYeL40n1B/7FwoQCQgAAPf39u8F6Czgc9ji0IHJV8Jru8W0aq5iqLKiYZ1zmO6T148wjP+IRYYHhEaCBIFCgAGAQoAEgUaCB4RFhv+IMIzXj+6Tc5hhnbKiYqhqrsW0a7tXwoHJ4tBz2CzgBej27/f3AAAJCAoQ+xfUH40nHi9/Nqk9lUQ7S5ZRnldOXZ9ijWcSbClw0HMBd7t5+Xu6ffx+vn//f75//H66ffl7u3kBd9BzKXASbI1nn2JOXZ5XllE7S5VEqT1/Nh4vjSfUH/sXChAJCAAA9/f27wXoLOBz2OLQgclXwmu7xbRqrmKosqJhnXOY7pPXjzCM/4hFhgeERoIEgUKAAYBCgASBRoIHhEWG/4gwjNeP7pNzmGGdsqJiqGquxbRru1fCgcni0HPYLOAF6Pbv9/cAAAkIChD7F9QfjSceL382qT2VRDtLllGeV05dn2KNZxJsKXDQcwF3u3n5e7p9/H6+f/9/vn/8frp9+Xu7eQF30HMpcBJsjWefYk5dnleWUTtLlUSpPX82Hi+NJ9Qf+xcKEAkIAAD39/bvBegs4HPY4tCByVfCa7vFtGquYqiyomGdc5juk9ePMIz/iEWGB4RGggSBQoABgEKABIFGggeERYb/iDCM14/uk3OYYZ2yomKoaq7FtGu7V8KByeLQc9gs4AXo9u/39wAACQgKEPsX1B+NJx4vfzapPZVEO0uWUZ5XTl2fYo1nEmwpcNBzAXe7efl7un38fr5//3++f/x+un35e7t5AXfQcylwEmyNZ59iTl2eV5ZRO0uVRKk9fzYeL40n1B/7FwoQCQgAAPf39u8F6Czgc9ji0IHJV8Jru8W0aq5iqLKiYZ1zmO6T148wjP+IRYYHhEaCBIFCgAGAQoAEgUaCB4RFhv+IMIzXj+6Tc5hhnbKiYqhqrsW0a7tXwoHJ4tBz2CzgBej27/f3AAAJCAoQ+xfUH40nHi9/Nqk9lUQ7S5ZRnldOXZ9ijWcSbClw0HMBd7t5+Xu6ffx+vn//f75//H66ffl7u3kBd9BzKXASbI1nn2JOXZ5XllE7S5VEqT1/Nh4vjSfUH/sXChAJCAAA9/f27wXoLOBz2OLQgclXwmu7xbRqrmKosqJhnXOY7pPXjzCM/4hFhgeERoIEgUKAAYBCgASBRoIHhEWG/4gwjNeP7pNzmGGdsqJiqGquxbRru1fCgcni0HPYLOAF6Pbv9/cAAAkIChD7F9QfjSceL382qT2VRDtLllGeV05dn2KNZxJsKXDQcwF3u3n5e7p9/H6+f/9/vn/8frp9+Xu7eQF30HMpcBJsjWefYk5dnleWUTtLlUSpPX82Hi+NJ9Qf+xcKEAkIAAD39/bvBegs4HPY4tCByVfCa7vFtGquYqiyomGdc5juk9ePMIz/iEWGB4RGggSBQoABgEKABIFGggeERYb/iDCM14/uk3OYYZ2yomKoaq7FtGu7V8KByeLQc9gs4AXo9u/39wAACQgKEPsX1B+NJx4vfzapPZVEO0uWUZ5XTl2fYo1nEmwpcNBzAXe7efl7un38fr5//3++f/x+un35e7t5AXfQcylwEmyNZ59iTl2eV5ZRO0uVRKk9fzYeL40n1B/7FwoQCQgAAPf39u8F6Czgc9ji0IHJV8Jru8W0aq5iqLKiYZ1zmO6T148wjP+IRYYHhEaCBIFCgAGAQoAEgUaCB4RFhv+IMIzXj+6Tc5hhnbKiYqhqrsW0a7tXwoHJ4tBz2CzgBej27/f3AAAJCAoQ+xfUH40nHi9/Nqk9lUQ7S5ZRnldOXZ9ijWcSbClw0HMBd7t5+Xu6ffx+vn//f75//H66ffl7u3kBd9BzKXASbI1nn2JOXZ5XllE7S5VEqT1/Nh4vjSfUH/sXChAJCAAA9/f27wXoLOBz2OLQgclXwmu7xbRqrmKosqJhnXOY7pPXjzCM/4hFhgeERoIEgUKAAYBCgASBRoIHhEWG/4gwjNeP7pNzmGGdsqJiqGquxbRru1fCgcni0HPYLOAF6Pbv9/cAAAkIChD7F9QfjSceL382qT2VRDtLllGeV05dn2KNZxJsKXDQcwF3u3n5e7p9/H6+f/9/vn/8frp9+Xu7eQF30HMpcBJsjWefYk5dnleWUTtLlUSpPX82Hi+NJ9Qf+xcKEAkIAAD39/bvBegs4HPY4tCByVfCa7vFtGquYqiyomGdc5juk9ePMIz/iEWGB4RGggSBQoABgEKABIFGggeERYb/iDCM14/uk3OYYZ2yomKoaq7FtGu7V8KByeLQc9gs4AXo9u/39wAACQgKEPsX1B+NJx4vfzapPZVEO0uWUZ5XTl2fYo1nEmwpcNBzAXe7efl7un38fr5//3++f/x+un35e7t5AXfQcylwEmyNZ59iTl2eV5ZRO0uVRKk9fzYeL40n1B/7FwoQCQgAAPf39u8F6Czgc9ji0IHJV8Jru8W0aq5iqLKiYZ1zmO6T148wjP+IRYYHhEaCBIFCgAGAQoAEgUaCB4RFhv+IMIzXj+6Tc5hhnbKiYqhqrsW0a7tXwoHJ4tBz2CzgBej27/f3AAAJCAoQ+xfUH40nHi9/Nqk9lUQ7S5ZRnldOXZ9ijWcSbClw0HMBd7t5+Xu6ffx+vn//f75//H66ffl7u3kBd9BzKXASbI1nn2JOXZ5XllE7S5VEqT1/Nh4vjSfUH/sXChAJCAAA9/f27wXoLOBz2OLQgclXwmu7xbRqrmKosqJhnXOY7pPXjzCM/4hFhgeERoIEgUKAAYBCgASBRoIHhEWG/4gwjNeP7pNzmGGdsqJiqGquxbRru1fCgcni0HPYLOAF6Pbv9/cAAAkIChD7F9QfjSceL382qT2VRDtLllGeV05dn2KNZxJsKXDQcwF3u3n5e7p9/H6+f/9/vn/8frp9+Xu7eQF30HMpcBJsjWefYk5dnleWUTtLlUSpPX82Hi+NJ9Qf+xcKEAkIAAD39/bvBegs4HPY4tCByVfCa7vFtGquYqiyomGdc5juk9ePMIz/iEWGB4RGggSBQoABgEKABIFGggeERYb/iDCM14/uk3OYYZ2yomKoaq7FtGu7V8KByeLQc9gs4AXo9u/39wAACQgKEPsX1B+NJx4vfzapPZVEO0uWUZ5XTl2fYo1nEmwpcNBzAXe7efl7un38fr5//3++f/x+un35e7t5AXfQcylwEmyNZ59iTl2eV5ZRO0uVRKk9fzYeL40n1B/7FwoQCQgAAPf39u8F6Czgc9ji0IHJV8Jru8W0aq5iqLKiYZ1zmO6T148wjP+IRYYHhEaCBIFCgAGAQoAEgUaCB4RFhv+IMIzXj+6Tc5hhnbKiYqhqrsW0a7tXwoHJ4tBz2CzgBej27/f3AAAJCAoQ+xfUH40nHi9/Nqk9lUQ7S5ZRnldOXZ9ijWcSbClw0HMBd7t5+Xu6ffx+vn//f75//H66ffl7u3kBd9BzKXASbI1nn2JOXZ5XllE7S5VEqT1/Nh4vjSfUH/sXChAJCAAA9/f27wXoLOBz2OLQgclXwmu7xbRqrmKosqJhnXOY7pPXjzCM/4hFhgeERoIEgUKAAYBCgASBRoIHhEWG/4gwjNeP7pNzmGGdsqJiqGquxbRru1fCgcni0HPYLOAF6Pbv9/cAAAkIChD7F9QfjSceL382qT2VRDtLllGeV05dn2KNZxJsKXDQcwF3u3n5e7p9/H6+f/9/vn/8frp9+Xu7eQF30HMpcBJsjWefYk5dnleWUTtLlUSpPX82Hi+NJ9Qf+xcKEAkIAAD39/bvBegs4HPY4tCByVfCa7vFtGquYqiyomGdc5juk9ePMIz/iEWGB4RGggSBQoABgEKABIFGggeERYb/iDCM14/uk3OYYZ2yomKoaq7FtGu7V8KByeLQc9gs4AXo9u/39wAACQgKEPsX1B+NJx4vfzapPZVEO0uWUZ5XTl2fYo1nEmwpcNBzAXe7efl7un38fr5//3++f/x+un35e7t5AXfQcylwEmyNZ59iTl2eV5ZRO0uVRKk9fzYeL40n1B/7FwoQCQgAAPf39u8F6Czgc9ji0IHJV8Jru8W0aq5iqLKiYZ1zmO6T148wjP+IRYYHhEaCBIFCgAGAQoAEgUaCB4RFhv+IMIzXj+6Tc5hhnbKiYqhqrsW0a7tXwoHJ4tBz2CzgBej27/f3AAAJCAoQ+xfUH40nHi9/Nqk9lUQ7S5ZRnldOXZ9ijWcSbClw0HMBd7t5+Xu6ffx+vn//f75//H66ffl7u3kBd9BzKXASbI1nn2JOXZ5XllE7S5VEqT1/Nh4vjSfUH/sXChAJCAAA9/f27wXoLOBz2OLQgclXwmu7xbRqrmKosqJhnXOY7pPXjzCM/4hFhgeERoIEgUKAAYBCgASBRoIHhEWG/4gwjNeP7pNzmGGdsqJiqGquxbRru1fCgcni0HPYLOAF6Pbv9/cAAAkIChD7F9QfjSceL382qT2VRDtLllGeV05dn2KNZxJsKXDQcwF3u3n5e7p9/H6+f/9/vn/8frp9+Xu7eQF30HMpcBJsjWefYk5dnleWUTtLlUSpPX82Hi+NJ9Qf+xcKEAkIAAD39/bvBegs4HPY4tCByVfCa7vFtGquYqiyomGdc5juk9ePMIz/iEWGB4RGggSBQoABgEKABIFGggeERYb/iDCM14/uk3OYYZ2yomKoaq7FtGu7V8KByeLQc9gs4AXo9u/39wAACQgKEPsX1B+NJx4vfzapPZVEO0uWUZ5XTl2fYo1nEmwpcNBzAXe7efl7un38fr5//3++f/x+un35e7t5AXfQcylwEmyNZ59iTl2eV5ZRO0uVRKk9fzYeL40n1B/7FwoQCQgAAPf39u8F6Czgc9ji0IHJV8Jru8W0aq5iqLKiYZ1zmO6T148wjP+IRYYHhEaCBIFCgAGAQoAEgUaCB4RFhv+IMIzXj+6Tc5hhnbKiYqhqrsW0a7tXwoHJ4tBz2CzgBej27/f3AAAJCAoQ+xfUH40nHi9/Nqk9lUQ7S5ZRnldOXZ9ijWcSbClw0HMBd7t5+Xu6ffx+vn//f75//H66ffl7u3kBd9BzKXASbI1nn2JOXZ5XllE7S5VEqT1/Nh4vjSfUH/sXChAJCAAA9/f27wXoLOBz2OLQgclXwmu7xbRqrmKosqJhnXOY7pPXjzCM/4hFhgeERoIEgUKAAYBCgASBRoIHhEWG/4gwjNeP7pNzmGGdsqJiqGquxbRru1fCgcni0HPYLOAF6Pbv9/cAAAkIChD7F9QfjSceL382qT2VRDtLllGeV05dn2KNZxJsKXDQcwF3u3n5e7p9/H6+f/9/vn/8frp9+Xu7eQF30HMpcBJsjWefYk5dnleWUTtLlUSpPX82Hi+NJ9Qf+xcKEAkIAAD39/bvBegs4HPY4tCByVfCa7vFtGquYqiyomGdc5juk9ePMIz/iEWGB4RGggSBQoABgEKABIFGggeERYb/iDCM14/uk3OYYZ2yomKoaq7FtGu7V8KByeLQc9gs4AXo9u/39wAACQgKEPsX1B+NJx4vfzapPZVEO0uWUZ5XTl2fYo1nEmwpcNBzAXe7efl7un38fr5//3++f/x+un35e7t5AXfQcylwEmyNZ59iTl2eV5ZRO0uVRKk9fzYeL40n1B/7FwoQCQgAAPf39u8F6Czgc9ji0IHJV8Jru8W0aq5iqLKiYZ1zmO6T148wjP+IRYYHhEaCBIFCgAGAQoAEgUaCB4RFhv+IMIzXj+6Tc5hhnbKiYqhqrsW0a7tXwoHJ4tBz2CzgBej27/f3AAAJCAoQ+xfUH40nHi9/Nqk9lUQ7S5ZRnldOXZ9ijWcSbClw0HMBd7t5+Xu6ffx+vn//f75//H66ffl7u3kBd9BzKXASbI1nn2JOXZ5XllE7S5VEqT1/Nh4vjSfUH/sXChAJCAAA9/f27wXoLOBz2OLQgclXwmu7xbRqrmKosqJhnXOY7pPXjzCM/4hFhgeERoIEgUKAAYBCgASBRoIHhEWG/4gwjNeP7pNzmGGdsqJiqGquxbRru1fCgcni0HPYLOAF6Pbv9/cAAAkIChD7F9QfjSceL382qT2VRDtLllGeV05dn2KNZxJsKXDQcwF3u3n5e7p9/H6+f/9/vn/8frp9+Xu7eQF30HMpcBJsjWefYk5dnleWUTtLlUSpPX82Hi+NJ9Qf+xcKEAkIAAD39/bvBegs4HPY4tCByVfCa7vFtGquYqiyomGdc5juk9ePMIz/iEWGB4RGggSBQoABgEKABIFGggeERYb/iDCM14/uk3OYYZ2yomKoaq7FtGu7V8KByeLQc9gs4AXo9u/39wAACQgKEPsX1B+NJx4vfzapPZVEO0uWUZ5XTl2fYo1nEmwpcNBzAXe7efl7un38fr5//3++f/x+un35e7t5AXfQcylwEmyNZ59iTl2eV5ZRO0uVRKk9fzYeL40n1B/7FwoQCQgAAPf39u8F6Czgc9ji0IHJV8Jru8W0aq5iqLKiYZ1zmO6T148wjP+IRYYHhEaCBIFCgAGAQoAEgUaCB4RFhv+IMIzXj+6Tc5hhnbKiYqhqrsW0a7tXwoHJ4tBz2CzgBej27/f3AAAJCAoQ+xfUH40nHi9/Nqk9lUQ7S5ZRnldOXZ9ijWcSbClw0HMBd7t5+Xu6ffx+vn//f75//H66ffl7u3kBd9BzKXASbI1nn2JOXZ5XllE7S5VEqT1/Nh4vjSfUH/sXChAJCAAA9/f27wXoLOBz2OLQgclXwmu7xbRqrmKosqJhnXOY7pPXjzCM/4hFhgeERoIEgUKAAYBCgASBRoIHhEWG/4gwjNeP7pNzmGGdsqJiqGquxbRru1fCgcni0HPYLOAF6Pbv9/cAAAkIChD7F9QfjSceL382qT2VRDtLllGeV05dn2KNZxJsKXDQcwF3u3n5e7p9/H6+f/9/vn/8frp9+Xu7eQF30HMpcBJsjWefYk5dnleWUTtLlUSpPX82Hi+NJ9Qf+xcKEAkIAAD39/bvBegs4HPY4tCByVfCa7vFtGquYqiyomGdc5juk9ePMIz/iEWGB4RGggSBQoABgEKABIFGggeERYb/iDCM14/uk3OYYZ2yomKoaq7FtGu7V8KByeLQc9gs4AXo9u/39wAACQgKEPsX1B+NJx4vfzapPZVEO0uWUZ5XTl2fYo1nEmwpcNBzAXe7efl7un38fr5//3++f/x+un35e7t5AXfQcylwEmyNZ59iTl2eV5ZRO0uVRKk9fzYeL40n1B/7FwoQCQgAAPf39u8F6Czgc9ji0IHJV8Jru8W0aq5iqLKiYZ1zmO6T148wjP+IRYYHhEaCBIFCgAGAQoAEgUaCB4RFhv+IMIzXj+6Tc5hhnbKiYqhqrsW0a7tXwoHJ4tBz2CzgBej27/f3AAAJCAoQ+xfUH40nHi9/Nqk9lUQ7S5ZRnldOXZ9ijWcSbClw0HMBd7t5+Xu6ffx+vn//f75//H66ffl7u3kBd9BzKXASbI1nn2JOXZ5XllE7S5VEqT1/Nh4vjSfUH/sXChAJCAAA9/f27wXoLOBz2OLQgclXwmu7xbRqrmKosqJhnXOY7pPXjzCM/4hFhgeERoIEgUKAAYBCgASBRoIHhEWG/4gwjNeP7pNzmGGdsqJiqGquxbRru1fCgcni0HPYLOAF6Pbv9/cAAAkIChD7F9QfjSceL382qT2VRDtLllGeV05dn2KNZxJsKXDQcwF3u3n5e7p9/H6+f/9/vn/8frp9+Xu7eQF30HMpcBJsjWefYk5dnleWUTtLlUSpPX82Hi+NJ9Qf+xcKEAkIAAD39/bvBegs4HPY4tCByVfCa7vFtGquYqiyomGdc5juk9ePMIz/iEWGB4RGggSBQoABgEKABIFGggeERYb/iDCM14/uk3OYYZ2yomKoaq7FtGu7V8KByeLQc9gs4AXo9u/39wAACQgKEPsX1B+NJx4vfzapPZVEO0uWUZ5XTl2fYo1nEmwpcNBzAXe7efl7un38fr5//3++f/x+un35e7t5AXfQcylwEmyNZ59iTl2eV5ZRO0uVRKk9fzYeL40n1B/7FwoQCQgAAPf39u8F6Czgc9ji0IHJV8Jru8W0aq5iqLKiYZ1zmO6T148wjP+IRYYHhEaCBIFCgAGAQoAEgUaCB4RFhv+IMIzXj+6Tc5hhnbKiYqhqrsW0a7tXwoHJ4tBz2CzgBej27/f3AAAJCAoQ+xfUH40nHi9/Nqk9lUQ7S5ZRnldOXZ9ijWcSbClw0HMBd7t5+Xu6ffx+vn//f75//H66ffl7u3kBd9BzKXASbI1nn2JOXZ5XllE7S5VEqT1/Nh4vjSfUH/sXChAJCAAA9/f27wXoLOBz2OLQgclXwmu7xbRqrmKosqJhnXOY7pPXjzCM/4hFhgeERoIEgUKAAYBCgASBRoIHhEWG/4gwjNeP7pNzmGGdsqJiqGquxbRru1fCgcni0HPYLOAF6Pbv9/cAAAkIChD7F9QfjSceL382qT2VRDtLllGeV05dn2KNZxJsKXDQcwF3u3n5e7p9/H6+f/9/vn/8frp9+Xu7eQF30HMpcBJsjWefYk5dnleWUTtLlUSpPX82Hi+NJ9Qf+xcKEAkIAAD39/bvBegs4HPY4tCByVfCa7vFtGquYqiyomGdc5juk9ePMIz/iEWGB4RGggSBQoABgEKABIFGggeERYb/iDCM14/uk3OYYZ2yomKoaq7FtGu7V8KByeLQc9gs4AXo9u/39wAA\" type=\"audio/wav\" />\n",
       "                    Your browser does not support the audio element.\n",
       "                </audio>\n",
       "              "
      ],
      "text/plain": [
       "<IPython.lib.display.Audio object>"
      ]
     },
     "execution_count": 15,
     "metadata": {},
     "output_type": "execute_result"
    }
   ],
   "source": [
    "ipd.Audio(s, rate=sr)"
   ]
  },
  {
   "cell_type": "markdown",
   "metadata": {},
   "source": [
    "# Generate pulse train"
   ]
  },
  {
   "cell_type": "code",
   "execution_count": 16,
   "metadata": {},
   "outputs": [
    {
     "data": {
      "application/javascript": [
       "/* Put everything inside the global mpl namespace */\n",
       "window.mpl = {};\n",
       "\n",
       "\n",
       "mpl.get_websocket_type = function() {\n",
       "    if (typeof(WebSocket) !== 'undefined') {\n",
       "        return WebSocket;\n",
       "    } else if (typeof(MozWebSocket) !== 'undefined') {\n",
       "        return MozWebSocket;\n",
       "    } else {\n",
       "        alert('Your browser does not have WebSocket support. ' +\n",
       "              'Please try Chrome, Safari or Firefox ≥ 6. ' +\n",
       "              'Firefox 4 and 5 are also supported but you ' +\n",
       "              'have to enable WebSockets in about:config.');\n",
       "    };\n",
       "}\n",
       "\n",
       "mpl.figure = function(figure_id, websocket, ondownload, parent_element) {\n",
       "    this.id = figure_id;\n",
       "\n",
       "    this.ws = websocket;\n",
       "\n",
       "    this.supports_binary = (this.ws.binaryType != undefined);\n",
       "\n",
       "    if (!this.supports_binary) {\n",
       "        var warnings = document.getElementById(\"mpl-warnings\");\n",
       "        if (warnings) {\n",
       "            warnings.style.display = 'block';\n",
       "            warnings.textContent = (\n",
       "                \"This browser does not support binary websocket messages. \" +\n",
       "                    \"Performance may be slow.\");\n",
       "        }\n",
       "    }\n",
       "\n",
       "    this.imageObj = new Image();\n",
       "\n",
       "    this.context = undefined;\n",
       "    this.message = undefined;\n",
       "    this.canvas = undefined;\n",
       "    this.rubberband_canvas = undefined;\n",
       "    this.rubberband_context = undefined;\n",
       "    this.format_dropdown = undefined;\n",
       "\n",
       "    this.image_mode = 'full';\n",
       "\n",
       "    this.root = $('<div/>');\n",
       "    this._root_extra_style(this.root)\n",
       "    this.root.attr('style', 'display: inline-block');\n",
       "\n",
       "    $(parent_element).append(this.root);\n",
       "\n",
       "    this._init_header(this);\n",
       "    this._init_canvas(this);\n",
       "    this._init_toolbar(this);\n",
       "\n",
       "    var fig = this;\n",
       "\n",
       "    this.waiting = false;\n",
       "\n",
       "    this.ws.onopen =  function () {\n",
       "            fig.send_message(\"supports_binary\", {value: fig.supports_binary});\n",
       "            fig.send_message(\"send_image_mode\", {});\n",
       "            if (mpl.ratio != 1) {\n",
       "                fig.send_message(\"set_dpi_ratio\", {'dpi_ratio': mpl.ratio});\n",
       "            }\n",
       "            fig.send_message(\"refresh\", {});\n",
       "        }\n",
       "\n",
       "    this.imageObj.onload = function() {\n",
       "            if (fig.image_mode == 'full') {\n",
       "                // Full images could contain transparency (where diff images\n",
       "                // almost always do), so we need to clear the canvas so that\n",
       "                // there is no ghosting.\n",
       "                fig.context.clearRect(0, 0, fig.canvas.width, fig.canvas.height);\n",
       "            }\n",
       "            fig.context.drawImage(fig.imageObj, 0, 0);\n",
       "        };\n",
       "\n",
       "    this.imageObj.onunload = function() {\n",
       "        fig.ws.close();\n",
       "    }\n",
       "\n",
       "    this.ws.onmessage = this._make_on_message_function(this);\n",
       "\n",
       "    this.ondownload = ondownload;\n",
       "}\n",
       "\n",
       "mpl.figure.prototype._init_header = function() {\n",
       "    var titlebar = $(\n",
       "        '<div class=\"ui-dialog-titlebar ui-widget-header ui-corner-all ' +\n",
       "        'ui-helper-clearfix\"/>');\n",
       "    var titletext = $(\n",
       "        '<div class=\"ui-dialog-title\" style=\"width: 100%; ' +\n",
       "        'text-align: center; padding: 3px;\"/>');\n",
       "    titlebar.append(titletext)\n",
       "    this.root.append(titlebar);\n",
       "    this.header = titletext[0];\n",
       "}\n",
       "\n",
       "\n",
       "\n",
       "mpl.figure.prototype._canvas_extra_style = function(canvas_div) {\n",
       "\n",
       "}\n",
       "\n",
       "\n",
       "mpl.figure.prototype._root_extra_style = function(canvas_div) {\n",
       "\n",
       "}\n",
       "\n",
       "mpl.figure.prototype._init_canvas = function() {\n",
       "    var fig = this;\n",
       "\n",
       "    var canvas_div = $('<div/>');\n",
       "\n",
       "    canvas_div.attr('style', 'position: relative; clear: both; outline: 0');\n",
       "\n",
       "    function canvas_keyboard_event(event) {\n",
       "        return fig.key_event(event, event['data']);\n",
       "    }\n",
       "\n",
       "    canvas_div.keydown('key_press', canvas_keyboard_event);\n",
       "    canvas_div.keyup('key_release', canvas_keyboard_event);\n",
       "    this.canvas_div = canvas_div\n",
       "    this._canvas_extra_style(canvas_div)\n",
       "    this.root.append(canvas_div);\n",
       "\n",
       "    var canvas = $('<canvas/>');\n",
       "    canvas.addClass('mpl-canvas');\n",
       "    canvas.attr('style', \"left: 0; top: 0; z-index: 0; outline: 0\")\n",
       "\n",
       "    this.canvas = canvas[0];\n",
       "    this.context = canvas[0].getContext(\"2d\");\n",
       "\n",
       "    var backingStore = this.context.backingStorePixelRatio ||\n",
       "\tthis.context.webkitBackingStorePixelRatio ||\n",
       "\tthis.context.mozBackingStorePixelRatio ||\n",
       "\tthis.context.msBackingStorePixelRatio ||\n",
       "\tthis.context.oBackingStorePixelRatio ||\n",
       "\tthis.context.backingStorePixelRatio || 1;\n",
       "\n",
       "    mpl.ratio = (window.devicePixelRatio || 1) / backingStore;\n",
       "\n",
       "    var rubberband = $('<canvas/>');\n",
       "    rubberband.attr('style', \"position: absolute; left: 0; top: 0; z-index: 1;\")\n",
       "\n",
       "    var pass_mouse_events = true;\n",
       "\n",
       "    canvas_div.resizable({\n",
       "        start: function(event, ui) {\n",
       "            pass_mouse_events = false;\n",
       "        },\n",
       "        resize: function(event, ui) {\n",
       "            fig.request_resize(ui.size.width, ui.size.height);\n",
       "        },\n",
       "        stop: function(event, ui) {\n",
       "            pass_mouse_events = true;\n",
       "            fig.request_resize(ui.size.width, ui.size.height);\n",
       "        },\n",
       "    });\n",
       "\n",
       "    function mouse_event_fn(event) {\n",
       "        if (pass_mouse_events)\n",
       "            return fig.mouse_event(event, event['data']);\n",
       "    }\n",
       "\n",
       "    rubberband.mousedown('button_press', mouse_event_fn);\n",
       "    rubberband.mouseup('button_release', mouse_event_fn);\n",
       "    // Throttle sequential mouse events to 1 every 20ms.\n",
       "    rubberband.mousemove('motion_notify', mouse_event_fn);\n",
       "\n",
       "    rubberband.mouseenter('figure_enter', mouse_event_fn);\n",
       "    rubberband.mouseleave('figure_leave', mouse_event_fn);\n",
       "\n",
       "    canvas_div.on(\"wheel\", function (event) {\n",
       "        event = event.originalEvent;\n",
       "        event['data'] = 'scroll'\n",
       "        if (event.deltaY < 0) {\n",
       "            event.step = 1;\n",
       "        } else {\n",
       "            event.step = -1;\n",
       "        }\n",
       "        mouse_event_fn(event);\n",
       "    });\n",
       "\n",
       "    canvas_div.append(canvas);\n",
       "    canvas_div.append(rubberband);\n",
       "\n",
       "    this.rubberband = rubberband;\n",
       "    this.rubberband_canvas = rubberband[0];\n",
       "    this.rubberband_context = rubberband[0].getContext(\"2d\");\n",
       "    this.rubberband_context.strokeStyle = \"#000000\";\n",
       "\n",
       "    this._resize_canvas = function(width, height) {\n",
       "        // Keep the size of the canvas, canvas container, and rubber band\n",
       "        // canvas in synch.\n",
       "        canvas_div.css('width', width)\n",
       "        canvas_div.css('height', height)\n",
       "\n",
       "        canvas.attr('width', width * mpl.ratio);\n",
       "        canvas.attr('height', height * mpl.ratio);\n",
       "        canvas.attr('style', 'width: ' + width + 'px; height: ' + height + 'px;');\n",
       "\n",
       "        rubberband.attr('width', width);\n",
       "        rubberband.attr('height', height);\n",
       "    }\n",
       "\n",
       "    // Set the figure to an initial 600x600px, this will subsequently be updated\n",
       "    // upon first draw.\n",
       "    this._resize_canvas(600, 600);\n",
       "\n",
       "    // Disable right mouse context menu.\n",
       "    $(this.rubberband_canvas).bind(\"contextmenu\",function(e){\n",
       "        return false;\n",
       "    });\n",
       "\n",
       "    function set_focus () {\n",
       "        canvas.focus();\n",
       "        canvas_div.focus();\n",
       "    }\n",
       "\n",
       "    window.setTimeout(set_focus, 100);\n",
       "}\n",
       "\n",
       "mpl.figure.prototype._init_toolbar = function() {\n",
       "    var fig = this;\n",
       "\n",
       "    var nav_element = $('<div/>');\n",
       "    nav_element.attr('style', 'width: 100%');\n",
       "    this.root.append(nav_element);\n",
       "\n",
       "    // Define a callback function for later on.\n",
       "    function toolbar_event(event) {\n",
       "        return fig.toolbar_button_onclick(event['data']);\n",
       "    }\n",
       "    function toolbar_mouse_event(event) {\n",
       "        return fig.toolbar_button_onmouseover(event['data']);\n",
       "    }\n",
       "\n",
       "    for(var toolbar_ind in mpl.toolbar_items) {\n",
       "        var name = mpl.toolbar_items[toolbar_ind][0];\n",
       "        var tooltip = mpl.toolbar_items[toolbar_ind][1];\n",
       "        var image = mpl.toolbar_items[toolbar_ind][2];\n",
       "        var method_name = mpl.toolbar_items[toolbar_ind][3];\n",
       "\n",
       "        if (!name) {\n",
       "            // put a spacer in here.\n",
       "            continue;\n",
       "        }\n",
       "        var button = $('<button/>');\n",
       "        button.addClass('ui-button ui-widget ui-state-default ui-corner-all ' +\n",
       "                        'ui-button-icon-only');\n",
       "        button.attr('role', 'button');\n",
       "        button.attr('aria-disabled', 'false');\n",
       "        button.click(method_name, toolbar_event);\n",
       "        button.mouseover(tooltip, toolbar_mouse_event);\n",
       "\n",
       "        var icon_img = $('<span/>');\n",
       "        icon_img.addClass('ui-button-icon-primary ui-icon');\n",
       "        icon_img.addClass(image);\n",
       "        icon_img.addClass('ui-corner-all');\n",
       "\n",
       "        var tooltip_span = $('<span/>');\n",
       "        tooltip_span.addClass('ui-button-text');\n",
       "        tooltip_span.html(tooltip);\n",
       "\n",
       "        button.append(icon_img);\n",
       "        button.append(tooltip_span);\n",
       "\n",
       "        nav_element.append(button);\n",
       "    }\n",
       "\n",
       "    var fmt_picker_span = $('<span/>');\n",
       "\n",
       "    var fmt_picker = $('<select/>');\n",
       "    fmt_picker.addClass('mpl-toolbar-option ui-widget ui-widget-content');\n",
       "    fmt_picker_span.append(fmt_picker);\n",
       "    nav_element.append(fmt_picker_span);\n",
       "    this.format_dropdown = fmt_picker[0];\n",
       "\n",
       "    for (var ind in mpl.extensions) {\n",
       "        var fmt = mpl.extensions[ind];\n",
       "        var option = $(\n",
       "            '<option/>', {selected: fmt === mpl.default_extension}).html(fmt);\n",
       "        fmt_picker.append(option);\n",
       "    }\n",
       "\n",
       "    // Add hover states to the ui-buttons\n",
       "    $( \".ui-button\" ).hover(\n",
       "        function() { $(this).addClass(\"ui-state-hover\");},\n",
       "        function() { $(this).removeClass(\"ui-state-hover\");}\n",
       "    );\n",
       "\n",
       "    var status_bar = $('<span class=\"mpl-message\"/>');\n",
       "    nav_element.append(status_bar);\n",
       "    this.message = status_bar[0];\n",
       "}\n",
       "\n",
       "mpl.figure.prototype.request_resize = function(x_pixels, y_pixels) {\n",
       "    // Request matplotlib to resize the figure. Matplotlib will then trigger a resize in the client,\n",
       "    // which will in turn request a refresh of the image.\n",
       "    this.send_message('resize', {'width': x_pixels, 'height': y_pixels});\n",
       "}\n",
       "\n",
       "mpl.figure.prototype.send_message = function(type, properties) {\n",
       "    properties['type'] = type;\n",
       "    properties['figure_id'] = this.id;\n",
       "    this.ws.send(JSON.stringify(properties));\n",
       "}\n",
       "\n",
       "mpl.figure.prototype.send_draw_message = function() {\n",
       "    if (!this.waiting) {\n",
       "        this.waiting = true;\n",
       "        this.ws.send(JSON.stringify({type: \"draw\", figure_id: this.id}));\n",
       "    }\n",
       "}\n",
       "\n",
       "\n",
       "mpl.figure.prototype.handle_save = function(fig, msg) {\n",
       "    var format_dropdown = fig.format_dropdown;\n",
       "    var format = format_dropdown.options[format_dropdown.selectedIndex].value;\n",
       "    fig.ondownload(fig, format);\n",
       "}\n",
       "\n",
       "\n",
       "mpl.figure.prototype.handle_resize = function(fig, msg) {\n",
       "    var size = msg['size'];\n",
       "    if (size[0] != fig.canvas.width || size[1] != fig.canvas.height) {\n",
       "        fig._resize_canvas(size[0], size[1]);\n",
       "        fig.send_message(\"refresh\", {});\n",
       "    };\n",
       "}\n",
       "\n",
       "mpl.figure.prototype.handle_rubberband = function(fig, msg) {\n",
       "    var x0 = msg['x0'] / mpl.ratio;\n",
       "    var y0 = (fig.canvas.height - msg['y0']) / mpl.ratio;\n",
       "    var x1 = msg['x1'] / mpl.ratio;\n",
       "    var y1 = (fig.canvas.height - msg['y1']) / mpl.ratio;\n",
       "    x0 = Math.floor(x0) + 0.5;\n",
       "    y0 = Math.floor(y0) + 0.5;\n",
       "    x1 = Math.floor(x1) + 0.5;\n",
       "    y1 = Math.floor(y1) + 0.5;\n",
       "    var min_x = Math.min(x0, x1);\n",
       "    var min_y = Math.min(y0, y1);\n",
       "    var width = Math.abs(x1 - x0);\n",
       "    var height = Math.abs(y1 - y0);\n",
       "\n",
       "    fig.rubberband_context.clearRect(\n",
       "        0, 0, fig.canvas.width, fig.canvas.height);\n",
       "\n",
       "    fig.rubberband_context.strokeRect(min_x, min_y, width, height);\n",
       "}\n",
       "\n",
       "mpl.figure.prototype.handle_figure_label = function(fig, msg) {\n",
       "    // Updates the figure title.\n",
       "    fig.header.textContent = msg['label'];\n",
       "}\n",
       "\n",
       "mpl.figure.prototype.handle_cursor = function(fig, msg) {\n",
       "    var cursor = msg['cursor'];\n",
       "    switch(cursor)\n",
       "    {\n",
       "    case 0:\n",
       "        cursor = 'pointer';\n",
       "        break;\n",
       "    case 1:\n",
       "        cursor = 'default';\n",
       "        break;\n",
       "    case 2:\n",
       "        cursor = 'crosshair';\n",
       "        break;\n",
       "    case 3:\n",
       "        cursor = 'move';\n",
       "        break;\n",
       "    }\n",
       "    fig.rubberband_canvas.style.cursor = cursor;\n",
       "}\n",
       "\n",
       "mpl.figure.prototype.handle_message = function(fig, msg) {\n",
       "    fig.message.textContent = msg['message'];\n",
       "}\n",
       "\n",
       "mpl.figure.prototype.handle_draw = function(fig, msg) {\n",
       "    // Request the server to send over a new figure.\n",
       "    fig.send_draw_message();\n",
       "}\n",
       "\n",
       "mpl.figure.prototype.handle_image_mode = function(fig, msg) {\n",
       "    fig.image_mode = msg['mode'];\n",
       "}\n",
       "\n",
       "mpl.figure.prototype.updated_canvas_event = function() {\n",
       "    // Called whenever the canvas gets updated.\n",
       "    this.send_message(\"ack\", {});\n",
       "}\n",
       "\n",
       "// A function to construct a web socket function for onmessage handling.\n",
       "// Called in the figure constructor.\n",
       "mpl.figure.prototype._make_on_message_function = function(fig) {\n",
       "    return function socket_on_message(evt) {\n",
       "        if (evt.data instanceof Blob) {\n",
       "            /* FIXME: We get \"Resource interpreted as Image but\n",
       "             * transferred with MIME type text/plain:\" errors on\n",
       "             * Chrome.  But how to set the MIME type?  It doesn't seem\n",
       "             * to be part of the websocket stream */\n",
       "            evt.data.type = \"image/png\";\n",
       "\n",
       "            /* Free the memory for the previous frames */\n",
       "            if (fig.imageObj.src) {\n",
       "                (window.URL || window.webkitURL).revokeObjectURL(\n",
       "                    fig.imageObj.src);\n",
       "            }\n",
       "\n",
       "            fig.imageObj.src = (window.URL || window.webkitURL).createObjectURL(\n",
       "                evt.data);\n",
       "            fig.updated_canvas_event();\n",
       "            fig.waiting = false;\n",
       "            return;\n",
       "        }\n",
       "        else if (typeof evt.data === 'string' && evt.data.slice(0, 21) == \"data:image/png;base64\") {\n",
       "            fig.imageObj.src = evt.data;\n",
       "            fig.updated_canvas_event();\n",
       "            fig.waiting = false;\n",
       "            return;\n",
       "        }\n",
       "\n",
       "        var msg = JSON.parse(evt.data);\n",
       "        var msg_type = msg['type'];\n",
       "\n",
       "        // Call the  \"handle_{type}\" callback, which takes\n",
       "        // the figure and JSON message as its only arguments.\n",
       "        try {\n",
       "            var callback = fig[\"handle_\" + msg_type];\n",
       "        } catch (e) {\n",
       "            console.log(\"No handler for the '\" + msg_type + \"' message type: \", msg);\n",
       "            return;\n",
       "        }\n",
       "\n",
       "        if (callback) {\n",
       "            try {\n",
       "                // console.log(\"Handling '\" + msg_type + \"' message: \", msg);\n",
       "                callback(fig, msg);\n",
       "            } catch (e) {\n",
       "                console.log(\"Exception inside the 'handler_\" + msg_type + \"' callback:\", e, e.stack, msg);\n",
       "            }\n",
       "        }\n",
       "    };\n",
       "}\n",
       "\n",
       "// from http://stackoverflow.com/questions/1114465/getting-mouse-location-in-canvas\n",
       "mpl.findpos = function(e) {\n",
       "    //this section is from http://www.quirksmode.org/js/events_properties.html\n",
       "    var targ;\n",
       "    if (!e)\n",
       "        e = window.event;\n",
       "    if (e.target)\n",
       "        targ = e.target;\n",
       "    else if (e.srcElement)\n",
       "        targ = e.srcElement;\n",
       "    if (targ.nodeType == 3) // defeat Safari bug\n",
       "        targ = targ.parentNode;\n",
       "\n",
       "    // jQuery normalizes the pageX and pageY\n",
       "    // pageX,Y are the mouse positions relative to the document\n",
       "    // offset() returns the position of the element relative to the document\n",
       "    var x = e.pageX - $(targ).offset().left;\n",
       "    var y = e.pageY - $(targ).offset().top;\n",
       "\n",
       "    return {\"x\": x, \"y\": y};\n",
       "};\n",
       "\n",
       "/*\n",
       " * return a copy of an object with only non-object keys\n",
       " * we need this to avoid circular references\n",
       " * http://stackoverflow.com/a/24161582/3208463\n",
       " */\n",
       "function simpleKeys (original) {\n",
       "  return Object.keys(original).reduce(function (obj, key) {\n",
       "    if (typeof original[key] !== 'object')\n",
       "        obj[key] = original[key]\n",
       "    return obj;\n",
       "  }, {});\n",
       "}\n",
       "\n",
       "mpl.figure.prototype.mouse_event = function(event, name) {\n",
       "    var canvas_pos = mpl.findpos(event)\n",
       "\n",
       "    if (name === 'button_press')\n",
       "    {\n",
       "        this.canvas.focus();\n",
       "        this.canvas_div.focus();\n",
       "    }\n",
       "\n",
       "    var x = canvas_pos.x * mpl.ratio;\n",
       "    var y = canvas_pos.y * mpl.ratio;\n",
       "\n",
       "    this.send_message(name, {x: x, y: y, button: event.button,\n",
       "                             step: event.step,\n",
       "                             guiEvent: simpleKeys(event)});\n",
       "\n",
       "    /* This prevents the web browser from automatically changing to\n",
       "     * the text insertion cursor when the button is pressed.  We want\n",
       "     * to control all of the cursor setting manually through the\n",
       "     * 'cursor' event from matplotlib */\n",
       "    event.preventDefault();\n",
       "    return false;\n",
       "}\n",
       "\n",
       "mpl.figure.prototype._key_event_extra = function(event, name) {\n",
       "    // Handle any extra behaviour associated with a key event\n",
       "}\n",
       "\n",
       "mpl.figure.prototype.key_event = function(event, name) {\n",
       "\n",
       "    // Prevent repeat events\n",
       "    if (name == 'key_press')\n",
       "    {\n",
       "        if (event.which === this._key)\n",
       "            return;\n",
       "        else\n",
       "            this._key = event.which;\n",
       "    }\n",
       "    if (name == 'key_release')\n",
       "        this._key = null;\n",
       "\n",
       "    var value = '';\n",
       "    if (event.ctrlKey && event.which != 17)\n",
       "        value += \"ctrl+\";\n",
       "    if (event.altKey && event.which != 18)\n",
       "        value += \"alt+\";\n",
       "    if (event.shiftKey && event.which != 16)\n",
       "        value += \"shift+\";\n",
       "\n",
       "    value += 'k';\n",
       "    value += event.which.toString();\n",
       "\n",
       "    this._key_event_extra(event, name);\n",
       "\n",
       "    this.send_message(name, {key: value,\n",
       "                             guiEvent: simpleKeys(event)});\n",
       "    return false;\n",
       "}\n",
       "\n",
       "mpl.figure.prototype.toolbar_button_onclick = function(name) {\n",
       "    if (name == 'download') {\n",
       "        this.handle_save(this, null);\n",
       "    } else {\n",
       "        this.send_message(\"toolbar_button\", {name: name});\n",
       "    }\n",
       "};\n",
       "\n",
       "mpl.figure.prototype.toolbar_button_onmouseover = function(tooltip) {\n",
       "    this.message.textContent = tooltip;\n",
       "};\n",
       "mpl.toolbar_items = [[\"Home\", \"Reset original view\", \"fa fa-home icon-home\", \"home\"], [\"Back\", \"Back to previous view\", \"fa fa-arrow-left icon-arrow-left\", \"back\"], [\"Forward\", \"Forward to next view\", \"fa fa-arrow-right icon-arrow-right\", \"forward\"], [\"\", \"\", \"\", \"\"], [\"Pan\", \"Pan axes with left mouse, zoom with right\", \"fa fa-arrows icon-move\", \"pan\"], [\"Zoom\", \"Zoom to rectangle\", \"fa fa-square-o icon-check-empty\", \"zoom\"], [\"\", \"\", \"\", \"\"], [\"Download\", \"Download plot\", \"fa fa-floppy-o icon-save\", \"download\"]];\n",
       "\n",
       "mpl.extensions = [\"eps\", \"jpeg\", \"pdf\", \"png\", \"ps\", \"raw\", \"svg\", \"tif\"];\n",
       "\n",
       "mpl.default_extension = \"png\";var comm_websocket_adapter = function(comm) {\n",
       "    // Create a \"websocket\"-like object which calls the given IPython comm\n",
       "    // object with the appropriate methods. Currently this is a non binary\n",
       "    // socket, so there is still some room for performance tuning.\n",
       "    var ws = {};\n",
       "\n",
       "    ws.close = function() {\n",
       "        comm.close()\n",
       "    };\n",
       "    ws.send = function(m) {\n",
       "        //console.log('sending', m);\n",
       "        comm.send(m);\n",
       "    };\n",
       "    // Register the callback with on_msg.\n",
       "    comm.on_msg(function(msg) {\n",
       "        //console.log('receiving', msg['content']['data'], msg);\n",
       "        // Pass the mpl event to the overridden (by mpl) onmessage function.\n",
       "        ws.onmessage(msg['content']['data'])\n",
       "    });\n",
       "    return ws;\n",
       "}\n",
       "\n",
       "mpl.mpl_figure_comm = function(comm, msg) {\n",
       "    // This is the function which gets called when the mpl process\n",
       "    // starts-up an IPython Comm through the \"matplotlib\" channel.\n",
       "\n",
       "    var id = msg.content.data.id;\n",
       "    // Get hold of the div created by the display call when the Comm\n",
       "    // socket was opened in Python.\n",
       "    var element = $(\"#\" + id);\n",
       "    var ws_proxy = comm_websocket_adapter(comm)\n",
       "\n",
       "    function ondownload(figure, format) {\n",
       "        window.open(figure.imageObj.src);\n",
       "    }\n",
       "\n",
       "    var fig = new mpl.figure(id, ws_proxy,\n",
       "                           ondownload,\n",
       "                           element.get(0));\n",
       "\n",
       "    // Call onopen now - mpl needs it, as it is assuming we've passed it a real\n",
       "    // web socket which is closed, not our websocket->open comm proxy.\n",
       "    ws_proxy.onopen();\n",
       "\n",
       "    fig.parent_element = element.get(0);\n",
       "    fig.cell_info = mpl.find_output_cell(\"<div id='\" + id + \"'></div>\");\n",
       "    if (!fig.cell_info) {\n",
       "        console.error(\"Failed to find cell for figure\", id, fig);\n",
       "        return;\n",
       "    }\n",
       "\n",
       "    var output_index = fig.cell_info[2]\n",
       "    var cell = fig.cell_info[0];\n",
       "\n",
       "};\n",
       "\n",
       "mpl.figure.prototype.handle_close = function(fig, msg) {\n",
       "    var width = fig.canvas.width/mpl.ratio\n",
       "    fig.root.unbind('remove')\n",
       "\n",
       "    // Update the output cell to use the data from the current canvas.\n",
       "    fig.push_to_output();\n",
       "    var dataURL = fig.canvas.toDataURL();\n",
       "    // Re-enable the keyboard manager in IPython - without this line, in FF,\n",
       "    // the notebook keyboard shortcuts fail.\n",
       "    IPython.keyboard_manager.enable()\n",
       "    $(fig.parent_element).html('<img src=\"' + dataURL + '\" width=\"' + width + '\">');\n",
       "    fig.close_ws(fig, msg);\n",
       "}\n",
       "\n",
       "mpl.figure.prototype.close_ws = function(fig, msg){\n",
       "    fig.send_message('closing', msg);\n",
       "    // fig.ws.close()\n",
       "}\n",
       "\n",
       "mpl.figure.prototype.push_to_output = function(remove_interactive) {\n",
       "    // Turn the data on the canvas into data in the output cell.\n",
       "    var width = this.canvas.width/mpl.ratio\n",
       "    var dataURL = this.canvas.toDataURL();\n",
       "    this.cell_info[1]['text/html'] = '<img src=\"' + dataURL + '\" width=\"' + width + '\">';\n",
       "}\n",
       "\n",
       "mpl.figure.prototype.updated_canvas_event = function() {\n",
       "    // Tell IPython that the notebook contents must change.\n",
       "    IPython.notebook.set_dirty(true);\n",
       "    this.send_message(\"ack\", {});\n",
       "    var fig = this;\n",
       "    // Wait a second, then push the new image to the DOM so\n",
       "    // that it is saved nicely (might be nice to debounce this).\n",
       "    setTimeout(function () { fig.push_to_output() }, 1000);\n",
       "}\n",
       "\n",
       "mpl.figure.prototype._init_toolbar = function() {\n",
       "    var fig = this;\n",
       "\n",
       "    var nav_element = $('<div/>');\n",
       "    nav_element.attr('style', 'width: 100%');\n",
       "    this.root.append(nav_element);\n",
       "\n",
       "    // Define a callback function for later on.\n",
       "    function toolbar_event(event) {\n",
       "        return fig.toolbar_button_onclick(event['data']);\n",
       "    }\n",
       "    function toolbar_mouse_event(event) {\n",
       "        return fig.toolbar_button_onmouseover(event['data']);\n",
       "    }\n",
       "\n",
       "    for(var toolbar_ind in mpl.toolbar_items){\n",
       "        var name = mpl.toolbar_items[toolbar_ind][0];\n",
       "        var tooltip = mpl.toolbar_items[toolbar_ind][1];\n",
       "        var image = mpl.toolbar_items[toolbar_ind][2];\n",
       "        var method_name = mpl.toolbar_items[toolbar_ind][3];\n",
       "\n",
       "        if (!name) { continue; };\n",
       "\n",
       "        var button = $('<button class=\"btn btn-default\" href=\"#\" title=\"' + name + '\"><i class=\"fa ' + image + ' fa-lg\"></i></button>');\n",
       "        button.click(method_name, toolbar_event);\n",
       "        button.mouseover(tooltip, toolbar_mouse_event);\n",
       "        nav_element.append(button);\n",
       "    }\n",
       "\n",
       "    // Add the status bar.\n",
       "    var status_bar = $('<span class=\"mpl-message\" style=\"text-align:right; float: right;\"/>');\n",
       "    nav_element.append(status_bar);\n",
       "    this.message = status_bar[0];\n",
       "\n",
       "    // Add the close button to the window.\n",
       "    var buttongrp = $('<div class=\"btn-group inline pull-right\"></div>');\n",
       "    var button = $('<button class=\"btn btn-mini btn-primary\" href=\"#\" title=\"Stop Interaction\"><i class=\"fa fa-power-off icon-remove icon-large\"></i></button>');\n",
       "    button.click(function (evt) { fig.handle_close(fig, {}); } );\n",
       "    button.mouseover('Stop Interaction', toolbar_mouse_event);\n",
       "    buttongrp.append(button);\n",
       "    var titlebar = this.root.find($('.ui-dialog-titlebar'));\n",
       "    titlebar.prepend(buttongrp);\n",
       "}\n",
       "\n",
       "mpl.figure.prototype._root_extra_style = function(el){\n",
       "    var fig = this\n",
       "    el.on(\"remove\", function(){\n",
       "\tfig.close_ws(fig, {});\n",
       "    });\n",
       "}\n",
       "\n",
       "mpl.figure.prototype._canvas_extra_style = function(el){\n",
       "    // this is important to make the div 'focusable\n",
       "    el.attr('tabindex', 0)\n",
       "    // reach out to IPython and tell the keyboard manager to turn it's self\n",
       "    // off when our div gets focus\n",
       "\n",
       "    // location in version 3\n",
       "    if (IPython.notebook.keyboard_manager) {\n",
       "        IPython.notebook.keyboard_manager.register_events(el);\n",
       "    }\n",
       "    else {\n",
       "        // location in version 2\n",
       "        IPython.keyboard_manager.register_events(el);\n",
       "    }\n",
       "\n",
       "}\n",
       "\n",
       "mpl.figure.prototype._key_event_extra = function(event, name) {\n",
       "    var manager = IPython.notebook.keyboard_manager;\n",
       "    if (!manager)\n",
       "        manager = IPython.keyboard_manager;\n",
       "\n",
       "    // Check for shift+enter\n",
       "    if (event.shiftKey && event.which == 13) {\n",
       "        this.canvas_div.blur();\n",
       "        event.shiftKey = false;\n",
       "        // Send a \"J\" for go to next cell\n",
       "        event.which = 74;\n",
       "        event.keyCode = 74;\n",
       "        manager.command_mode();\n",
       "        manager.handle_keydown(event);\n",
       "    }\n",
       "}\n",
       "\n",
       "mpl.figure.prototype.handle_save = function(fig, msg) {\n",
       "    fig.ondownload(fig, null);\n",
       "}\n",
       "\n",
       "\n",
       "mpl.find_output_cell = function(html_output) {\n",
       "    // Return the cell and output element which can be found *uniquely* in the notebook.\n",
       "    // Note - this is a bit hacky, but it is done because the \"notebook_saving.Notebook\"\n",
       "    // IPython event is triggered only after the cells have been serialised, which for\n",
       "    // our purposes (turning an active figure into a static one), is too late.\n",
       "    var cells = IPython.notebook.get_cells();\n",
       "    var ncells = cells.length;\n",
       "    for (var i=0; i<ncells; i++) {\n",
       "        var cell = cells[i];\n",
       "        if (cell.cell_type === 'code'){\n",
       "            for (var j=0; j<cell.output_area.outputs.length; j++) {\n",
       "                var data = cell.output_area.outputs[j];\n",
       "                if (data.data) {\n",
       "                    // IPython >= 3 moved mimebundle to data attribute of output\n",
       "                    data = data.data;\n",
       "                }\n",
       "                if (data['text/html'] == html_output) {\n",
       "                    return [cell, data, j];\n",
       "                }\n",
       "            }\n",
       "        }\n",
       "    }\n",
       "}\n",
       "\n",
       "// Register the function which deals with the matplotlib target/channel.\n",
       "// The kernel may be null if the page has been refreshed.\n",
       "if (IPython.notebook.kernel != null) {\n",
       "    IPython.notebook.kernel.comm_manager.register_target('matplotlib', mpl.mpl_figure_comm);\n",
       "}\n"
      ],
      "text/plain": [
       "<IPython.core.display.Javascript object>"
      ]
     },
     "metadata": {},
     "output_type": "display_data"
    },
    {
     "data": {
      "text/html": [
       "<img src=\"data:image/png;base64,iVBORw0KGgoAAAANSUhEUgAAAyAAAAJYCAYAAACadoJwAAAgAElEQVR4XuydZ3gVVdeGH3rvvUNCh9B7KAECCaioiKKCCgrSRFSK9A5RQBDpioKKBRV9LfReQg0l9N5b6CEQAkngu+bwJZyEhFNmss+ePc9cFz9e35k9a+61zjn7ztozk+rRo0ePwI0ESIAESIAESIAESIAESIAEBBBIRQERQJmnIAESIAESIAESIAESIAESsBGggLAQSIAESIAESIAESIAESIAEhBGggAhDzRORAAmQAAmQAAmQAAmQAAlQQFgDJEACJEACJEACJEACJEACwghQQISh5olIgARIgARIgARIgARIgAQoIKwBEiABEiABEiABEiABEiABYQQoIMJQ80QkQAIkQAIkQAIkQAIkQAIUENYACZAACZAACZAACZAACZCAMAIUEGGoeSISIAESIAESIAESIAESIAEKCGuABEiABEiABEiABEiABEhAGAEKiDDUPBEJkAAJkAAJkAAJkAAJkAAFhDVAAiRAAiRAAiRAAiRAAiQgjAAFRBhqnogESIAESIAESIAESIAESIACwhogARIgARIgARIgARIgARIQRoACIgw1T0QCJEACJEACJEACJEACJEABYQ2QAAmQAAmQAAmQAAmQAAkII0ABEYaaJyIBEiABEiABEiABEiABEqCAsAZIgARIgARIgARIgARIgASEEaCACEPNE5EACZAACZAACZAACZAACVBAWAMkQAIkQAIkQAIkQAIkQALCCFBAhKHmiUiABEiABEiABEiABEiABCggrAESIAESIAESIAESIAESIAFhBCggwlDzRCRAAiRAAiRAAiRAAiRAAhQQ1gAJkAAJkAAJkAAJkAAJkIAwAhQQYah5IhIgARIgARIgARIgARIgAQoIa4AESIAESIAESIAESIAESEAYAQqIMNQ8EQmQAAmQAAmQAAmQAAmQAAWENUACJEACJEACJEACJEACJCCMAAVEGGqeiARIgARIgARIgARIgARIgALCGiABEiABEiABEiABEiABEhBGgAIiDDVPRAIkQAIkQAIkQAIkQAIkQAFhDZAACZAACZAACZAACZAACQgjQAERhponIgESIAESIAESIAESIAESoICwBkiABEiABEiABEiABEiABIQRoIAIQ80TkQAJkAAJkAAJkAAJkAAJUEBYAyRAAiRAAiRAAiRAAiRAAsIIUECEoeaJSIAESIAESIAESIAESIAEKCCsARIgARIgARIgARIgARIgAWEEKCDCUPNEJEACJEACJEACJEACJEACFBDWAAmQAAmQAAmQAAmQAAmQgDACFBBhqHkiEiABEiABEiABEiABEiABCghrgARIgARIgARIgARIgARIQBgBCogw1DwRCZAACZAACZAACZAACZAABYQ1QAIkQAIkQAIkQAIkQAIkIIwABUQYap6IBEiABEiABEiABEiABEiAAsIaIAESIAESIAESIAESIAESEEaAAiIMNU9EAiRAAiRAAiRAAiRAAiRAAWENkAAJkAAJkAAJkAAJkAAJCCNAARGGmiciARIgARIgARIgARIgARKggLAGSIAESIAESIAESIAESIAEhBGggAhDzRORAAmQAAmQAAmQAAmQAAlQQFgDJEACJEACJEACJEACJEACwghQQISh5olIgARIgARIgARIgARIgAQoIKwBEiABEiABEiABEiABEiABYQQoIMJQ80QkQAIkQAIkQAIkQAIkQAIUENYACZAACZAACZAACZAACZCAMAIUEGGoeSISIAESIAESIAESIAESIAEKCGuABEiABEiABEiABEiABEhAGAEKiDDUPBEJkAAJkAAJkAAJkAAJkAAFhDVAAiRAAiRAAiRAAiRAAiQgjAAFRBhqnogESIAESIAESIAESIAESIACwhogARIgARIgARIgARIgARIQRoACIgw1T0QCJEACJEACJEACJEACJEABYQ2QAAmQAAmQAAmQAAmQAAkII0ABEYaaJyIBEiABEiABEiABEiABEqCAsAZIgARIgARIgARIgARIgASEEaCACEPNE5EACZAACZAACZAACZAACVBAWAMkQAIkQAIkQAIkQAIkQALCCFBAhKHmiUiABEiABEiABEiABEiABCggrAESIAESIAESIAESIAESIAFhBCggwlA7PtG1a9ewfPlylCxZEpkyZXJ8APcgARIgARIgARIgARIQSuDevXs4ffo0AgICkDdvXqHnVuVkFBCJMvnTTz+hY8eOEkXEUEiABEiABEiABEiABJIisGDBAnTo0IFw3CBAAXEDWkodEhwcjIYNG0Ir6AoVKqTUaTguCZAACZAACZAACZCAmwQOHTpk+4Pxpk2b4Ovr6+Yo1j6MAiJR/nft2oWaNWti586dqFGjhkSRMRQSIAESIAESIAESIAGNAOdr+uuAAqKfoWEjsKANQ8mBSIAESIAESIAESCBFCHC+ph8rBUQ/Q8NGYEEbhpIDkQAJkAAJkAAJkECKEOB8TT9WCoh+hoaNwII2DCUHIgESIAESIAESIIEUIcD5mn6sFBD9DA0bgQVtGEoORAIkQAIkQAIkQAIpQoDzNf1YKSD6GRo2AgvaMJQciARIgARIgARIgARShADna/qxUkD0MzRsBBa0YSg5EAmQAAmQAAmQAAmkCAHO1/RjpYDoZ2jYCCxow1ByIBIgARIgARIgARJIEQKcr+nHSgHRz9CwEVjQhqHkQCRAAiRAAiRAAiSQIgQ4X9OPlQKin6FhI7CgDUPJgUiABEiABEiABEggRQhwvqYfKwVEP0PDRmBBG4aSA5EACZAACZAACZBAihDgfE0/VgqIfoaGjcCCNgwlByIBEiABEiABEiCBFCHA+Zp+rBQQ/QwNG4EFbRhKDkQCJEACJEACJEACKUKA8zX9WCkg+hkaNgIL2jCUHIgESIAESIAESIAEUoQA52v6sVJA9DM0bAQWtGEoORAJkAAJkAAJkAAJpAgBztf0Y6WA6Gdo2AgsaMNQciASIAESIAESIAESSBECnK/px0oB0c/QsBFY0Iah5EAkQAIkQAIkQAIkkCIEOF/Tj5UCop+hYSOILOh7D2IRfPwaHgHwzpcFXvmyGnYdsgz06NEjHLh4G2ULZEP6tKllCcvQOC6HRyH20SMUyZnJ0HFlGSw69iEOX4pApcLZkTp1KlnCMjSOk1fvIFfm9MiVJb2h48oyWOSDGJy5HonyBbMhVSr1cqh9zxy6FIFSebMgU/o0smA3NI4bdx8g/F607RpV3GIfPsLBi7dRoVA2pE2j5m/FuRuRtt/BAtkzqphC4dckcr4m/OIEnZACIgi0M6cRWdDal1GjCWttYfVrWRYfNCvjTIim2uer1ccweeVR+FcogLnv1DJV7M4Ee+V2FBp+vtYmIOv6+aFY7szOHGaqfT78ZTf+Cb2I7k28MbBVeVPF7kywO07fwKuztyBX5nTYMqg5MqZTawKrTc6f+2oTDl66jYntquDVWsWcwWKqfX7dfhYD/9yHKkVz4O9evspJliaQ9YPW2ATkz54NUKN4LlPlx5lgx/53EHM3nULb6kUwuX01Zw4x1T6nr91Fsy/W2eQq+NNmyJctg6nilzFYkfM1Ga/fiJgoIEZQNGgMkQVtLyB9W5RF7+bqCUjJgYvjM3P6s+cMypI8w4z85wDmbz5tC6hN1cL46o3q8gRnUCSq57B+0GpcCo+y0ZrZoQZa+xQyiJwcw2iT14rDlyv9ObSv0ZPjWyvXqftz13l88luoLYdaB2RtPz85isvAKFT/nnn/hxCsOBhmI6bqH3MMLAenhhI5X3MqIBPuRAGRKGkiC/r8zUjbX8+17ZMWZfEhBUSiSnAuFHsBebFaYUx9nQLiHDl59rIXkFkdaqAVBUSe5DgZiZUExCtvFqyhgDhZGfLsZi8gPfy88Wmget1k0bRFztdEX5uo81FARJF24jwiC/rCrXvw/WwNBcSJvMi6CwVE1sw4HxcFxHlWsu5pLyAnxrdGGsXuVbLvgFBAZK3CZ8dFATE+byLna8ZHL8eIFBA58mCLQmRB2wvIx/5l0cefS7AkKgWnQqGAOIVJ6p0oIFKnx6ngKCBOYZJ6JystwWIHxJhSFDlfMyZi+UahgEiUE5EFffHWPTT4/w7IR/5l8JF/WYlIGBOK6j8qFBBj6sSTo1BAPEnfmHPbf88cH9dKuacosQNiTJ14chR2QIynL3K+Znz0coxIAZEjD8I7IJfC79mebKJtfZqXwcctKCASlYJToVBAnMIk9U4UEKnT41Rw9gJybFwrpFPsMa4UEKfKQOqdKCDGp4cCop8pBcSO4aFDhzBq1Cjs3LkTly5dQurUqeHl5YVOnTqhR48eyJDhyaPrYmNjMXHiRMydOxfnzp1DsWLF0KVLF/Tv3x9p0rj3KE2RBa29P6Je0GoKiP7PkMdGoIB4DL1hJ6aAGIbSYwNRQDyG3rATq94tp4AYVirxA4mcrxkfvRwjUkDs8rBixQpMmjQJdevWRdGiRaFJRnBwMH755Rc899xz+Pfff+P37tmzJ2bNmoXOnTujQYMG2Lx5M+bNmwftv8+YMcOt7IosaHsB0Z6ApT0JS7VN9R8VCoj5K5YCYv4c2n/PHB3bSrmXnrIDYv4apYAYn0OR8zXjo5djRAqIE3n44IMPbFJx+PBhlCtXDvv27UPVqlXRu3dvTJ06NX6EPn36YNq0aQgNDYWPj48TIyfcRWRBh92OQt3xjzsgHzYrjU9alnM5XtkPoIDIniHH8ameQ9UF5O79GFQaYZ33gBwZG4gMad3rgDv+NHhmDwqIZ7gbeVYKiJE0H48lcr5mfPRyjEgBcSIPWldEW1q1detWW3dkyJAhGD9+PE6ePIlSpUrFj3Dq1Cnbkq3Bgwdj3LhxTozsOQHR3qJdhwLico5kOoAdEJmy4V4sFBD3uMl0lL0kU0Bkyozzsaj+hw4KiPO14OyeFBBnSSW/HwUkCTaRkZHQ/t29exfbt29Hr169kC5dOhw/fhyZMmVCQECArctx+fLlp44uUKAAqlevjmXLlrmcHZEFbS8gvZuVRl92QFzOl6cPoIB4OgP6z6+6gNy5H4PKFuqAHB4TiIzp2AHR/8kQOwIFRCxvFc4mcr6mAq+kroECkgSVkSNH2m5Gj9u0rsfXX3+NKlWq2P6Ttrwqffr0tpvVE281atRAdHS0bZnWszbtJnftn/2m3QTfsWNH27jaOCm5XYmIQp1xj5dgfdC0NPoFcAlWSvJOibEpIClBVeyYqgtIRFQ0fEauiId6+rPnxAIWcDb7ySsFRADwFDgFBSQFoCo+JAVEf4IpIEkw1JZWaf+uX7+ONWvWYO/evQgKCoKfn59tb29vb2idDu3G88SbdkP6lStXbN2SZ22JJcd+XxECcjXiPmqPW0UB0f8Z8tgIFBCPoTfsxBQQw1B6bCAKiMfQG3ZiCohhKC0zEAVEf6opIE4wnDJlCj799FPbsqsKFSoo0QGxF5BeTb3RP6C8EyTMtYvqPyoUEHPVY1LRqi4gt6OiUcVCHZBDowORKT2XYJntk6n6bwXvATG+Iikg+plSQJxgGBYWhoIFC8bfXK7CPSDX7txHrbGPOyA9/bwxIJAC4kQpSLULBUSqdLgVjOoCEn4vGlVHWWcJ1sHRAcicPq1btSDrQXwKlqyZcT4uCojzrJzdkwLiLKnk96OAOMHw9OnTtqddaS8jnDlzpk1EtCVZZn4K1vU791GTAuJE9uXdhQIib26cjUx5AYmMRtXR1hGQA6MCkCWDWgKyaOd59P091FbSXnmzYE2/x0uRVdpU74B0/SEEKw+G2VLWw88bnyr4B0fR9UgB0U+cAmLHULt3I3/+/E9RHTBggO2t5/Pnz8c777xjW4qlPekqufeA7NmzJ/6GdVdSJLKg7QVE1S8k1X9UKCCufLrk3JcCImdeXInK/nuGAuIKOXn2Vf23ggJifK2JnK8ZH70cI1JA7PLw8ssv22481242L1asGG7duoXly5dj9erVaNiwIdauXYu0aR//dat79+6YM2eO7U3ovr6+tjema29C79atG2bPnu1WdkUW9I27D1BjzMrH19LEGwNbcQmWW0nz4EEUEA/CN+jUqgvIrcgHqDb68feMtqn+FKz9owKQVbEOCJdgGfRh9+AwXIJlPHyR8zXjo5djRAqIXR4WLlxo63JoT726evUqMmTIgPLly6N9+/a2bof2v+O2mJgYTJgwAXPnzsX58+dRtGhRdOnSBVq3JE5SXE2xyIK+efcBqlNAXE2RVPtTQKRKh1vBqC4g9t8zVhCQfSNbIlvGdG7VgqwHUUBkzYzzcVFAnGfl7J4i52vOxmS2/SggEmVMZEHb/2WyWxMvDGpVQSISxoSieludAmJMnXhyFAqIJ+kbc2777xkKiDFMRY+i+m8FBcT4ihI5XzM+ejlGpIDIkQdbFCILOoGANPbCoNYUEIlKwalQKCBOYZJ6J9UFxH6ppxU6IHtHtkR2dkCk/swlFRwFxHQp83jAIudrHr/YFAqAApJCYN0ZVmRBh9s9naYbBcSddHn8GAqIx1OgOwDVBcT+YRdWEJDQES2RIxOXYOn+YAgegAIiGLgCpxM5X1MAV5KXQAGRKLMiC9r++fzvN/bCYHZAJKoE50KhgDjHSea9KCAyZ8e52OwnrxQQ55jJthcFRLaMyB+PyPma/DTci5AC4h63FDlKZEHbC0jXRqUw5LmKKXJNnhxU9R8VCognq8uYc6suIPYvPLVEB2R4S+TIzA6IMZ8OcaOo/lvBe0CMryWR8zXjo5djRAqIHHmwRSGyoG9HRaPKyMcvCOvSsBSGPk8BkagUnAqFAuIUJql3Ul1ArkbcR+1xq+JzoPpjePcMb4GcmdNLXXOuBsenYLlKTL79KSDG50TkfM346OUYkQIiRx6EC0hEVDR8KCASZd/1UCggrjOT7QgKiGwZcT0e+7+eU0Bc5yfDEeyAyJAFc8VAAdGfLwqIfoaGjSCyoO0F5L2GpTCMHRDD8ihqIAqIKNIpdx7VBeRKRBTqjFttmQ7I7mEtkCsLOyAp94lJmZEpICnDVeVRRc7XVOVIAZEosyIL+s79GFQesdx29e/6lsLwF7gES6JScCoUCohTmKTeSXkBuR2FOuOtIyC7hrVAbgqI1J+5pIKjgJguZR4PWOR8zeMXm0IBUEBSCKw7w4os6Lv3Y1CJAuJOmqQ5hgIiTSrcDoQC4jY6aQ60n7zuHOqPPFkzSBObEYHwHhAjKHp2DN4DYjx/kfM146OXY0QKiBx5sEUhsqDtBaSzb0mMeKGSRCSMCUX1v2pRQIypE0+OorqAhN2OQl0LdUAoIJ78NLl/btV/Kygg7tdGckeKnK8ZH70cI1JA5MiDcAGJfBCDisMfL8Hq1KAkRrahgEhUCk6FQgFxCpPUO6kuIJfDo1AvyDpLsEKG+iMvOyBSf+aSCo4CYrqUeTxgCoj+FFBA9DM0bASRBX3vQSwqDF9GATEse+IHooCIZ270GVUXkEvh91A/aE08NtUfw7tjiD/yZVNrCdainefR9/dQWw698mbBmn5+Rn8MPD6e6gLS9YcQrDwYZuPcw88bnwaW9zhzswcgcr5mdlbJxU8BkSizIgs6KjoW5YdRQCRKv8uhUEBcRibdARQQ6VLickD2k1cKiMv4pDiAAiJFGkwVhMj5mqnAuBAsBcQFWCm9q8iCtheQd+qXwKgXK6f05QkfX/UfFQqI8JIy/ISqC8jFW/fQ4DPrdEC2D2mO/NkyGl4nnhyQN6F7kr4x5+Y9IMZwtB9F5HzN+OjlGJECIkcebFGILGgKiESJdzMUCoib4CQ6THUBuXDrHnytJCCDmyN/drUEhEuwJPrCcDMULsFyE9wzDhM5XzM+ejlGpIDIkQfhAnI/Jhblhj5egvV2/RIYzQ6IRJXgXCgUEOc4ybwXBUTm7DgXm32ndTsFxDloku2lerecAmJ8wVFA9DOlgOhnaNgIIgvaXkDeqlcCY17iEizDEiloIAqIINApeBrVBeT8zUg0/HxtPEHVb0LfNrg5CijWAeESrBT8AhA0NJdgGQ9a5HzN+OjlGJECIkcehHdAHsQ8RNmhS23ntYKAnApqjVSpUkmUbf2hUED0M/T0CKoLyLkbkWg0wToCsnVQcxTModYSLAqIp78l9J+fAqKfYeIRKCD6mVJA9DM0bASRBR0d+xBlhjwWkI71imPsSz6GXYcsA9m31SkgsmTFtThUXxpBAXGtHmTc275GKSAyZshxTKp/z1BAHNeAq3uInK+5GptZ9qeASJQpkQVtLyAd6hbHuJfVFpCT41sjdWp2QCQqd6dCUX1iQAFxqgyk3sm+RrcMaoZCOTJJHa+rwbED4iox+fangBifE5HzNeOjl2NECogcebBFIbKgY2IfovT/d0DerFsc4xUXkBPjWyMNBUSiancuFAqIc5xk3evs9Ug0nmidJVibBzZD4ZwUEFnrMbm4VP+eoYAYX5Ei52vGRy/HiBQQOfIgXEBiHz6C9+AltvNaQUCOj2uFtGlSS5Rt/aHwHhD9DD09guodEKsJSPDAZihCAfH0x8rl81NAXEZm+QMoIPpLgAKin6FhI4gsaHsBeaNOcQS1VXsJFgXEsDIVOpDqEwPVBeTM9btoMnFdfM2o/hQsCojQrwfDTqb69ww7IIaVSvxAIudrxkcvx4gUEDnyILwD8vDhI3j9fwfkjTrFENS2ikQkjAnF/kfl2LhWSMcOiDFgBY6i+sRAdQE5fe0u/CZZR0A2fdoURXNlFvgJSflT8R6QlGec0meggBhPmAKinykFRD9Dw0YQWdCPHj1CqUGPl2BZQUCOjm2F9Gm5BMuwYhU0EAVEEOgUOo3VBGTjgKYolpsCkkLllGLDqv49QwExvnREzteMj16OESkgcuRBeAfEXkBer10Mn72idgeEAiJRobsQiuoTA9U7IKeu3UVTC3VAKCAufLgl2lX17xkKiPHFRgHRz5QCop+hYSOILui4L932tYrh83ZqC8iRsYHIkDaNYbmSYSDehC5DFvTFoLqAnLx6B82+WB8PSfV7QCgg+j4PnjqaAuIp8uY9r+j5mnlJJR85BUSirIouaCsJyOExgciYjgIiUbk7FYrqEwPVBeTE1TtobiEB2dC/KYrnUWsJ1qKd59H391Db59Urbxas6efn1GfXTDup/j3T9YcQrDwYZktJDz9vfBpY3kzpkTJW0fM1KSHoDIoCohOgkYeLLuhSgxbj0SPgtVpFMaFdVSMvRYqx7H9UKCBSpMTlIFSfGFBAXC4J6Q6wr1EKiHTpcSog1b9nKCBOlYFLO4mer7kUnEl2poBIlCjRBR0nIK/WLIqJr1JAJCoFp0LhEiynMEm9k+oCcvzKHfhPts4SrPX9/VAiTxapa87V4PgULFeJybc/7wExPiei52vGX4HnR6SAeD4H8RGILmivQYvx8BFgBQE5NDoQmdJzCZZE5e5UKKr/ZVJ9AYmA/+QN8blW/R6Qdf38UDKvWgLCJVhOfVVJvRM7IManR/R8zfgr8PyIFBDP58BjAqK9CV17IWG7mkUxSfEOCAVEokJ3IRQKiAuwJNz1+BUKiIRpcSkkCohLuKTcmQJifFooIPqZUkD0MzRsBNEFHScgr9Qoii9eU3sJ1sHRAcicPq1huZJhINWXYNk/KlrjreJfz1XvgBwLi0CLKdbpgKzt54dSinVAuARLhm97fTFwCZY+fkkdLXq+ZvwVeH5ECojnc+CxDkjpwUsQ8/ARrCAgB0YFIEsGCohE5e4wlIcPH8Fr8OOXZVJAHOKScoejYRFoaSEBWdO3CbzyZZUyF+4GRQFxl5w8x1FAjM8FBUQ/UwqIfoaGjSC6oMsMWYLo2EdoW6MIJr9WzbDrkGUg++U7FBBZsuJ8HBQQ51nJuicFRNbMOB8XBcR5VrLuSQExPjOi52vGX4HnR6SAeD4H8RGILuh4AaleBJPbqy0g+0cFICs7IBJVu+NQtPuTtGWCcRuXYDlmJtseRy5HIOBL6yzBWt23CbzZAZGtDB3Go/q9ZhQQhyXg8g6i52suB2iCAyggEiVJdEGXHbIUD2If4uXqRTBFcQHZN7IlsmVMJ1G29Yei+j0gMbEPUXrIUgqI/lLx2AiHL99G4Jcblc6h/eR11SdNUDo/l2B5rODcPDEFxE1wFj5M9HxNRdQUEImyKrqgyw5digcx1hCQvSNbIjsFRKJqdxwKBcQxI9n3sJ6ANEbp/NlkT4tL8XEJlku4pNyZHRDj0yJ6vmb8FXh+RAqI53MQH4Hogo4TkJeqFcaXr1eXiIQxodj/VYsCYgxTkaNExz5EGXZARCI3/FyHLt1Gq6lW6oBQQAwvIgEDsgMiALJipxA9X1MMn+1yKCASZVV0QZcbuhT3Yx7ixWqFMVVxAQkd0RI5MnEJlkTl7jAUrTunSXLcxntAHCKTboeDF2+j9VfWEZCVHzdGmQLsgEhXiA4CsheQU0GtkSpVKrNdwjPjZQfE+HSKnq8ZfwWeH5EC4vkceKwDUn7YUkRFW0RAhrdEjswUEInK3WEoFBCHiKTfwWoCsuLjxihLAZG+LhMHaC8gJ8e3RurUFBDTJVFwwBQQ/cApIPoZGjaC6IKuMGwZ7kXHok3VwvjqDbWXYIVSQAyrU1ED3Y+JRbmhyyzTAZnZoQZa+xQShVfIeQ5cDMdzX21SOof2k1cKiJCyMvwkFBDDkSo/oOj5mopAKSASZVV0QccJyAtVC2Oa4gKyZ3gL5MycXqJs6w9F9adgRUXHovww6wjIjDdr4LkqagnI/gvheH6adQRk+UeNUa4gl2Dp/3YTO4K9gJwY3xpp2AERmwATnk30fM2EiByGTAFxiEjcDqILuuLwZYh8EAsrCMjuYS2QKwsFRFw16z8TBUQ/Q0+PYDUBWfZRI5QvmN3T2A09/6Kd59H391DbmF55s2BNPz9Dx5dhMHsBOT6uFdKmSS1DWIbF0PWHEKw8GGYbr4efNz4NLG/Y2FYdSPR8TbXV5NAAACAASURBVEXOFBCJsiq6oCsNX4a7D2LxfJVCmP5mDYlIGBOK/Y8KBcQYpiJHsZqATH+zOp6vUlgk4hQ/FwUkxRGn+AkoICmOOMVPQAExHrHo+ZrxV+D5ESkgns9BfASiCzpOQLRlH9ryD9U2ewHZNawFcrMDYqoU33sQiwrDrbMES1sGqXUjVdr2nQ/HC9OtswRraZ9GqFBIrQ6I1d4DcmxcK6RTrAPCp2AZ/60qer5m/BV4fkQKiOdz4DEBqTxiOe7cj7GtO1ddQHYO9UeerBkkyrb+UFS/ByTyQQwqDl8eD0r1x/CqKCB7z99Cm+nBSufQ/g8dSz5shIqF1RIQq3VAjo5thfRpuQRL/y+U2iNQQPTnlwKin6FhI4guaJ8RyxGhCYhPIczooHYHhAJiWJkKG8hqAqI9iU57Ip1KGwXE/NmkgJg/h1yCZXwORc/XjL8Cz49IAfF8DjzWAYkTkNY+BTGzQ02JSBgTiv1fJkOG+iMvOyDGgBU0yt37Mag0wjodkKmvV8OL1YoIoivmNKHnbuHFGdbpgCz+sCEqFc4hBq6gs1hNQI6MDUSGtGkE0RVzGi7BMp4zBUQ/UwqIfoaGjSC6oH1GLkdEVAysICA7hvgjXzYuwTKsWAUMpC0P1JYJxm2qL8FSUUD2nLuFlywkIP/1bojKRdQSkD92nkc/Cz0F6/CYQGRMp5aAsANi/A+W6Pma8Vfg+REpIJ7Pgcc6IFVGLsftqBi0qlwQszqq3QHZPqQ58mfLKFG29Yei+j0gFBD9NeLpESggns6A/vNTQPQz9PQIFBDjM0AB0c+UAqKfoWEjiC7oOAEJrFQQs9+igBiWSEEDqS4gEVHR8Bm5wjIdkC/bV8NL1dVagrX77E28PHOz0jm0X+qpYgfk95Bz6P/HXlsOrfAeEBU7IFyCZfyPsuj5mvFX4PkRKSB2OQgJCcGCBQuwZs0anDp1ClmyZEGlSpUwaNAg+Pv7J8hWbGwsJk6ciLlz5+LcuXMoVqwYunTpgv79+yNNGvfat6ILuuqoFQi/Fw1LCMjg5sifnR0Qz3/lOB/B7ahoVLGQgExpXxUvVy/qPCAT7Lnr7E20tZCA/PtBQ/gUVWsJ1m8h5zDAQgJyaHQgMqV37zdc1o8kBcT4zIierxl/BZ4fkQJil4N27dph/fr1eOWVV1CjRg3cuXMH8+bNw/79+zFz5kz06NEjfu+ePXti1qxZ6Ny5Mxo0aIDNmzfb9tX++4wZM9zKrOiCrjZ6BW5FRiOgUgHMeauWWzHLfJD9Xya3DW6OAhQQmdP1VGwUEFOlK8lgrSYg/3zgiypFc5o/cXZXYDUBOTg6AJnTp1UqhxQQ49Mper5m/BV4fkQKiF0OgoODUatWLWTI8ORm5Xv37qFatWq4evUqrly5grRp02Lfvn2oWrUqevfujalTp8aP0KdPH0ybNg2hoaHw8fFxObuiC7r66BW4GRmNlhUL4Ou3KSAuJ8zDB6i+BEvrzmldurhN9ZvQJ79WFW1rqNUB2XnmJl6ZZZ0lWEoKyI5zGLDIOkuwKCAe/mEzyelFz9dMgsWlMCkgTuDq27cvJk+ejLNnz9qWWg0ZMgTjx4/HyZMnUapUqfgRtGVbXl5eGDx4MMaNG+fEyAl3EV3QcQLSomIBfKO4gGwd1BwFc3AJlstF6cEDwiOjUXW0dQTki1er4pWaqgnIDbwya4vSEmnfaf27ly+qFlOrA7Jwx1l8umifLYdWuAfkwKgAZMnADogHv/pNcWrR8zVTQHExSAqIE8DeeOMN/PHHH7h165btvpCAgABbl+Py5ctPHV2gQAFUr14dy5Ytc2JkzwpIjTErcePuA1hBQLYMaoZCOTK5nBOZD1C+A0IBkbn8nIpt5xlrCcj/evmiGgXEqdqQaSd7idw/KgBZKSAypUfKWCgg+tNCAXHA8NChQ7YlWM8//zwWLVpk21tbXpU+fXrs3LnzqaO1e0eio6Nty7SetV26dAnaP/tNO1fHjh1t42rjpPRWc8xKXL/7AP4VCmDuO2ovwaKApHQ1GT/+rcgHqDZ6ZfzAqi/BmvRqVbRTrAMScvoG2s22TgdERQH5dftZDPzTOh0QCojx3+UqjkgB0Z9VCsgzGIaHh6N+/fo2UdA6HsWLF7ft7e3tDa3Tod14nnjTbkjX7hU5fvz4M7MzcuRIjBo1Ksl9xAtIfsx9p7b+apJsBPu/am0e2AyFc7IDIlmKnhnOzbsPUH2MdQRkYrsqeLVWMTOlyGGsO07fwKsWEpC/ejZA9eK5HHIx0w6/bD+LQRYSkH0jWyJbxnRmSpHDWHkTukNELu9AAXEZ2VMHUECSYajdfK4ttdqxY4dtOVWTJk3i91SlA1Jr7Epcu6N1QNQXkOCBzVCEAqL/G0PgCNryQG2ZYNymegdERQHZfuoGXptjnQ7Inz0boIZiAvLztrMY/Jd1OiB7R7ZEdsUEhC8iNP6HiwKinykFJAmGDx48QJs2bWzvA/nzzz9ty6/sN1XuAak1dhWu3bmP5uXz49tOandAKCD6vyxEj2A1AZnQrgpeU6wDQgER/akx/nwUEOOZih6RAmI8cQqIfqYUkEQMY2JioL0P5N9//8VPP/2E119//SnK2lOugoKCTP8UrDgBaVY+P75TXEA2fdoURXNl1v+JkWgE1W9Cv37nPmqOXWWZDsiEV6rgtdpqLcHadvI62n+9Vekc2i/1XNSjAWqWUGsJ1k/bzmDIX/ttObTCU7BCR7REjkxcgiXRT52UoVBA9KeFAmLH8OHDh3jzzTexcOFCfP311+jatWuShLX7QbQnXSX3HpA9e/agSpUqLmdHdEHXHrcKVyPuwwoCsnFAUxTLTQFxuSg9eIDWndMk2SpLsFQUkK0nr+N1SwlIfdQskduDnxrjT71g6xkM/Z+FBGR4S+TIrJaAsANi/OdC9HzN+Cvw/IgUELscfPLJJ5gyZYrtfo8uXbo8lZ0WLVrYbj7Xtu7du2POnDm2N6H7+vpCe4mh9ib0bt26Yfbs2W5lVnRB1xm3Clci7qNpuXyY17mOWzHLfJD9XyYpIDJnKunYrCYgn7/ig/a1Hz/oQpXNagLyR/f6qFWSAmK2+rX/rdgzvAVyZk5vtkt4ZrwUEOPTKXq+ZvwVeH5ECohdDvz8/LB+/fpks7J27Vpo+2ibtlRrwoQJmDt3Ls6fP4+iRYvapGXAgAG2t6W7s4ku6DgB8SuXD/MpIO6kzKPHqL4ES+vOaV26uE31m9A/a+uD1+uoJSBbTlzHG99YZwmWigLy49YzGGahDoiKAsKnYBn/Uy16vmb8FXh+RAqI53MQH4Hogq47fhXCbt+HFQRkQ/+mKJ6HS7AkKneHoVyJiEKdcaspIA5JybvD5hPX8OY325TOof1fz3/vXh+1FeuA/LjlNIb9fcCWQyvcA7J7WAvkysIOiLzfKnJEJnq+JsdVGxsFBcRYnrpGE13Q9cavxuXbUWhSNh++f1ftJVjr+/uhRJ4suvIj28Gqd0CsJiBBbX3whmIdEKsJyG/d6qNOKbWWYFlNQHYNa4HcFBDZfu6ki0f0fE06AAYERAExAKJRQ4gu6PpBq3EpPAqNy+bDDxQQo9IobBzlBeR2FOqMt04HZPzLPnizrlpLsDYfv4Y351qnA6KigPyw5TSGW6gDoqKAcAmW8T/Loudrxl+B50ekgHg+Bx5bgmUlAVnXzw8l87IDIlG5Owwl7HYU6lpIQMa9XBkd6pZwyMVMOwQfv4YOFhKQhe/XQ12vPGZKkcNYv998GiP+UXcJ1qNHj1Bq0JJ4DjuH+iNP1gwOuZhpBwqI8dmigOhnSgHRz9CwEUQXdIOg1bgYHoVGZfLix/fqGnYdsgxkvzZ7bT8/lKKAyJIap+KggDiFSeqdrCYgv75fD/UoIFLXZOLgEgtIyFB/5KWAmCqHnghW9HzNE9eY0uekgKQ0YRfGF13Qvp+twYVb9yggLuRIpl1VX4J1OTwK9YKsswRr7EuV0bGeWh2QTceuoeO31lmCpaKAzA8+hZH/HrR99al4E/rDh4/gNfhJB4QCItOvnLyxiJ6vyUvC/cgoIO6zM/xI0QUdJyANS+fFgi5qd0DW9G0Cr3xZDc+ZJwdUXUAuhd9D/aA18YhVfwzvmJcq4y3FBGTjsat469vtSufQvtP6S9d6qO+t1hKsecGnMEphAYl9+AjedgKyY4g/8mXjEixP/raZ4dyi52tmYOJqjBQQV4ml4P6iC9pKArK6bxN4U0BSsHqNH5oCYjxT0SNaTUB+7loXDbzzisacouezmoBsH9Ic+bNlTFGmogfnPSDGExc9XzP+Cjw/IgXE8zmIj0B0QTf8fA3O37wH39J58FOXehKRMCYU+79MUkCMYSpylIu37qHBZxbqgLxYCW/VLykScYqfa8PRq3j7O+t0QFQUkO82ncLo/9RdghUT+xClhyyN/yxQQFL8a0GJE4ierykBLdFFUEAkyqrogo4TkAbeefBzV7UFZNUnTVA6P5dgSVTuDkPR7k/SunRxm+pLsEa/WAlvKyYg649exTtWEpAuddGgtFodkG83ncIYhQUkOvYhytgLyODmyJ+dHRCHX9AW30H0fE1F3BQQibIquqAbTViDczfuwRoC0hil82eTKNv6Q1H9HpDzNyPR8PO1FBD9peKxEdYduYJO83YonUP7TutPXerCVzEBmbvxJMYuPmTLoYo3oScWkG2Dm6OAYgLS9YcQrDwYZsthDz9vfBpY3mPfCaqcWPR8TRVu9tdBAZEoq6ILuvGEtTh7IxL1vfLgl/dV74BQQCQqdadCsZqAjGpTCe80UGsJFgXEqVKXeifVBeRBzEOUHfpkCRYFROpylCY40fM1aS7cwEAoIAbC1DuU6IKOE5B6Xrnx6/v19YYv3fH2f5lc+XFjlCnADoh0SXpGQOduRKLRhCcdkFNBrZEqVSozXYLDWONeBqrtOPKFiujkW8rhMWbaYe2RK+hsoQ7IgvfqomEZtZZgqS4g92NiUW7osviP1dZBzVEwB5dgmel7xhOxip6veeIaU/qcFJCUJuzC+KILusnEtThzPRJWEJAVHzdGWQqIC9Xo+V0TC8jJ8a2ROjUFxPOZcT6CtYevoPN86yzB+vG9OmhUJp/zgEyw5zcbTmLcEnWXYCUWkC2DmqFQjkwmyIzzIXIJlvOsnN1T9HzN2bjMtB8FRKJsiS5ov4lrcfp6JOqWyo2F3dTugCz/qDHKFWQHRKJydxhKYgE5Mb410igsICNeqIjOqnVALCYgP7xbB43LUkAcfrgl2iEqOhblhz3pgGwe2AyFc6orIN2beGNgK94DorcERc/X9MYr4/EUEImyIrqg4wSkTqnc+I0CIlElOBeK6jehn70eicYTnyzBUl1Ahj9fEe82VGsJ1prDYXh3fkh8Qav4JDP7pZ4qCsjXG05g/JLDthyqeBO6FQTE/j0g3Zp4YVCrCs79yHCvZAmInq+pmAoKiERZFV3QTSetw6lrd2EFAVn2USOUL5hdomzrD0V1ATlz/S6aTFwXD+r4uFZImya1fnASjWB/D4iKArL6UBje+946AvL9u3XQRLEOyJz1JxC01DoCEjywGYoo3AGhgBjzAyB6vmZM1HKNQgGRKB+iC7rZpHU4qQlIydz4rbvaS7CW9mmECoUoIBKVu8NQEgvIsXGtkE5hARn2fEW8p1gHxGoCMr9zbfiVy++wts20g+oCcu9BLCoMf7IEa9OnTVE0V2YzpchhrPb3gHRr7IVBrdkBcQjNwQ6i52t645XxeAqIRFkRXdDNvliHk1fvonbJXPi9ewOJSBgTiv3SCAqIMUxFjnL62l34TXrSAVFdQIY+VwFdGnmJRJzi51p1MAxdfrBOB0RFAZm9/gQ+U7gDEvkgBhWHL4//LKgoIPZLsN5v7IXBFBDd332i52u6A5ZwAAqIREkRXdBWEpAlHzZCxcLsgEhU7g5D0ZYHassE47ajY1shfVp1l2CpKCDay8+0v77GbarfAzKvc200VawDMmvdCXy+TN0lWHfvx6DSiCcCsnFAUxTLrW4HpGujUhjyXEWH37/c4dkERM/XVMwHBUSirIou6OZfrMOJq3dRq0Qu/NFD7Q7I4g8bolLhHBJlW38oqt8DklhAjowNRIa0afSDk2gE+3tAKCASJcaFUOw7rfM61UbT8motwaKAuFAMku5qvwSLAmJMkkTP14yJWq5RKCAS5UN0QftPXo/jV+6gZolcWEQBkagSnAtFdQE5efUOmn2xPh6G6gIypHUFdG2s1hKsFQcu4/0fd1qnA6KggMxcdxwTlh2x5VDFp2DduR+Dyop3QOyXYHVpWApDn2cHxLlf2eT3Ej1f0xuvjMdTQCTKiuiCjhOQGsVz4s+evhKRMCYU+79M/te7ISoXUasDMuLv/fh+yxkbrBerFcbU16sbA06SUU5cvYPmdgJyeEwgMqZTtwMyuHV5vN/YWxL6xoSx/MBldLOQgHzXqRaalS9gDDxJRpmx9jgmLldXQCKiouEzckU87Q39m6J4HrWWYNkLiPagC+2BF9z0ERA9X9MXrZxHU0Akyovogm4xeT2OXbkDCohEReBCKMP/3o8fFBYQrTunSXLcRgFxoTgk2XXZ/svovsA6HZBv36mF5hUoIJKUn1NhJBaQ9f39UCJPFqeONctO9kuwKCDGZE30fM2YqOUahQIiUT5EF3TLKetxNOwOqhfPib/YAZGoEpwLhQLiHCeZ97K/B2RQq/Lo1kStDggFRObqcy421Tsgt6OiUcWuA6K6gLzrWwrDX2AHxLnqT34v0fM1vfHKeDwFRKKsiC7oOAGpViwn/tdL7SVY/37QED5F1VqCNex/+/HjVnWXYB2/EgH/yRviP6GHRgciU3p1l2ANbFUe3ZUTkEvovmBXfA5VfwrW3Ldrwb+iWh2Q6WuOYdKKo7YcqngPSPi9aFQd9WQJ1rp+fiiZV60OiP0SrM6+JTHihUoSzXzMGYro+Zo5KT07agqIRFkVXdABUzbgSFgEVBSQR48eodSgJfHZ/ecDX1QpmlOibOsPZej/9mHB1rO2gVS8B+RYWARaTHkiIAdHByBz+rT6wUk0gn0HREUBWbrvEnr8ZB0B+ebtWmihmIBMW30MX6y0joCs7eeHUooJiP0SLAqIMT8AoudrxkQt1ygUEInyIbqgA7/cgMOXI1C1WE78rVgHJLGAaNenXadKm9UE5MCoAGTJoK6AfBpYHj381FqCZTUB+fqtmmhZqaBKXzNQXkAio1F19JMOyJq+TeCVL6tSObQXkE4NSmJkG3ZA9CZY9HxNb7wyHk8BkSgrogs6XkCK5sDfHzSUiIT+UB4+fASvwU86ICoKyJC/9uGnbep2QI6GRaClXQdEdQEZEFgOPf1K6y9+iUZYsu8SelqoA6KigHy1+hgmK9wBuRX5ANVGr4z/1KgoIPZLsCggxnxBip6vGRO1XKNQQCTKh+iCVllAYh8+gredgGj3uGhLzVTaBv+1Dz8rLCBHLkcg4MsnS7D2jwpAVoU7ICoKyOK9l9DrZ+sswZrzVk0EKNYBmbrqGKasUncJVmIBWd23CbzZAVHppzJFrkX0fC1FLsLDg1JAPJwA+9OLLuhWUzfi0KXbqFI0B/5RrAOSWED+6tkA1Yvnkijb+kOxmoDsG9kS2TKm0w9OohHs7wHpH1AOvZqq1QGxmoDM7lgTgZXVWoKluoDcvPsA1cc86YCs+qQJSudXdwnWO/VLYNSLlSX6FjRnKKLna+ak9OyoKSASZVV0QbeeuhEHL92GT5Ec+Le3WkuwYmIfovSQpfHZVVFABv25D79sV3cJ1uHLtxH45cb4HFJAJPqycjKU//ZexAc/747fW/WnYKkoIF+uOoovVx2z5VDFp2DduPsANRQXEPslWG/XL4HRFBAnv8GS3030fE13wBIOQAGRKCmiC1plAYmOfYgydgLyZ88GqKFYB2TQn3vxy/ZztgpW8SlYWndO69LFbXtHtkR2dkAk+sZyHMq/oRfR+xcrCUgNBFYu5BiMifaYsvIopq62koA0Run82UyUIceh2t+ETgFxzMuZPUTP15yJyWz7UEAkypjogn7uq404cPE2KhfJjv96N5KIhP5QEgvIoh4NULOEWkuwrCYgoSNaIkcmdZdg9WtZFh80K6O/+CUawWoCMqtDDbTyoYBIVIIOQ7l+5z5qjl0Vv9/KjxujTAF1BeSteiUw5iUuwXJYGA52ED1f0xuvjMdTQCTKiuiCfn7aRuy/cBuVCmfH4g/VEpAHMQ9RduiTJVgqCsjARXvx6w51OyAHL95G66+edEBUF5C+Lcqid3O1BOSf0Iv40EIdEBUFRHsClvYkLG1TcQnWtTv3UUtxAbFfgtWxXnGMfclHopmPOUMRPV8zJ6VnR00BkSirogtaZQG5HxOLckOXxWd3UY/6qFkit0TZ1h/Kp3/sxcIQdQXkwMVwPPfVpnhQocNbIkdmdTsgKgrI33suoM+ve+JzqPo9IDM71EBrxTogk1ccwVdrjltGQFZ83BhlFe6AUED0//ZqI4ierxkTtVyjUEAkyofogn5h2ibsuxCOioWyY0kftTogiQXkj+71UaukugLSpmphfPVGdYmqWX8oiQVkz/AWyJk5vf6BJRrB/ilYn7Qoiw8V64BYTUBmvFkDz1VRawmW6gJyNeI+ao97sgRr+UeNUa6gukuwOtQtjnEvswOi92dA9HxNb7wyHk8BkSgrogu6zfRN2Hs+HBUKZcdSxQQkKjoW5Yc96YCoKCAD/gjFbyHnbRX8QtXCmKaYgOy/EI7npz3pgKguIB/7l0Uff7WWYFFAJPqBcTOUL1YcwTSFOyBXIqJQZ9zqeDoqCoj9Eqw36xbHeAqIm5+GJ4eJnq/pDljCASggEiVFdEFbSUB+714ftRXrgPT/PRS/73wsIM9XKYTpb9aQqJr1h5JYQHYPa4FcWdTtgHzkXwYf+ZfVD06iEf63+wI+WmidJVjT36yO56sUligD+kOZtPwIpq9VdwnWldtRqDP+iYAs+6gRyhfMrh+cRCPYC8gbdYojqC07IHrTI3q+pjdeGY+ngEiUFdEF/eL0TQg9H47yBbNh2UeNJSKhP5R7D2JRYfiTDshv3eqjTim1lmD1+z0UfygsIPvOh+OF6U86ILuGtUBuCoj+D4fAEf7afR4fLwyNP6Pq94BoXUitG6nSNnH5YcxYe8J2SSrehJ5YQLTVANqqAJU2+8fwUkCMyazo+ZoxUcs1CgVEonyILugXZwQj9NwtSwjIwvfroa5XHomyrT8UewHR1p1r689V2hILyM6h/siTNYNKlwj7e0D6NC+Dj1uo1QGxmoBo92Fp92OptKkuIGG3o1DXrgOy5MNGqFhYZQEphqC2VVQqUY9ci+j5mkcuMoVPSgFJYcCuDC+6oOMEpFyBbFj+sVodkMgHMag4fHk8fhUFpO9voVi06/ESrOd8CmFGB7UEZO/5W2gzPTg+h6oLiHYDunYjukrbn7vO45PfrNMBUVFAJiw7jJnr1O2AXA6PQr2gJ0uwVBQQ+yVYr9cuhs9eoYDo/Z4VPV/TG6+Mx1NAJMqK6IJ+aUYw9py7BRUF5O79GFQa8URAfn2/Huop1gH55Lc9+HPXBWUFROvOaZIct4UM9UdehTsgKgrIop3n0fd36wjI1Ner4cVqRST6VdEfyufLDmOWhQRk8YcNUalwDv3gJBrBfgkWBcSYxIierxkTtVyjUEAkyofogn55ZjB2n72FsgWyYsXHTSQioT+UxALyS9d6qO+t1hIsewFp7VMQMzvU1A9OohESC8iOIf7Il03dJVgfNiuNT1qWkygD+kOhgOhn6OkRVBeQS+H3UD9oTTzm/3o3ROUi6gpI+1rF8Hk7dkD0fq5Ez9f0xivj8RQQibIiuqDbzgzGrrO3UCZ/Vqz8RC0BuXM/BpXtOiBKCsjCPfhz9+MOSKvKBTGro1oConXntC5d3Ka6gPRuVhp9FRMQ7SEJ2r1KcZvqN6Gr2AH5bOlhzF6v7hKsi7fuocFnagtIl+9DsOpQmO1j+FqtopjQrqpEMx9zhiJ6vmZOSs+OmgIiUVZFF7TKAhIRFQ2fkSvis/tz17po4J1XomzrD+XjhXvwl8ICsvvsTbw8c3M8qO1DmiN/toz6wUk0gv1N6CoKyO8h59D/j72WEZAv21fDS9XVWoIVtPQQ5qw/acuhik/BsoaA7MCqQ1coIAZ+94uerxkYujRDUUCkSQUguqBfmbUZO8/cROn8WbFKsQ7IUwLSpS4alFZXQAIrFcTst9TqgDwlIIObI392dQXkg6al0S9ArSVYVhOQKe2r4uXqRSX6VdEfiuoCcuHWPfjadUD+/aAhfIqqtQSry/dPBOTVmkUx8VV2QPR+MkTP1/TGK+PxFBCJsiK6oNvN2oyQMzfhnS8LVvf1k4iE/lBuR0Wjin0HREEB+ejX3fjfnos2WAGVCmDOW7X0g5NohF1nb6KtfQdEcQHp1dQb/QPKS5QB/aH8FnIOAyzUAVFSQJYcwpwN6nZAzt+MRMPP18YXu4oC8t78HVh9+HEHpF3NophEAdH95SZ6vqY7YAkHoIBIlBTRBa2ygITfi0bVUU+WYP3UpS58FeuA9Pl1N/5WWEC07pzWpYvbtg1ujgIKd0CUFJAd5zBgkXWWYE1+rSra1lCrAzJ+ySF8bSEB+ecDX1QpmlOimYH+UN6dvwNrKCD6QdqNIHq+ZmjwkgxGAZEkEVoYogv61dmbseP0TXjly4I1inVAEgvIgvfqomEZtZZg2QtIy4oF8PXbanVAEgvI1kHNUTCHukuwevp5Y0CgYh0QiwnIF69WxSs1KSAS/aw6DOXcjUg0mvCkA/J3L19ULaaugLxSoyi+eI1LsBwWhoMdRM/X9MYr4/EUEImyIrqgX5u9BdtP31DyxsLwyGhUHf2kA6KigHz4y278E/p4CVaLigXwjXICcgOvzNoS/wlVXUB6+HnjU8UE7vt2hgAAIABJREFUZOGOs/h00b74HKr+FCwVBWTc4oP4ZuMpWw5VvAndCgLSed52rD1y1ZbDtjWKYPJr1SSa+ZgzFNHzNXNSenbUFBCJsiq6oFUWkFuRD1Bt9Mr47P74Xh00KpNPomzrD6X3L7vxr8ICEnL6BtrNfiIgWwY1Q6EcmfSDk2gE+6dgqSggv24/i4F/WkdAtLX12hp7lbax/x3E3E3WEZD/9fJFNcU6IJ3mbcc6CoihH0vR8zVDg5dkMAqIJInQwhBd0K/N2YLtp26gVN4sWNtPrZvQEwvID+/WQeOy6gqIf4UCmPuOWkuwEgvI5oHNUDinugLSvYk3BrZSawmW1QRkYrsqeLVWMYl+VfSHorqAnL0eicYTnyzB+qtnA1Qvnks/OIlGSCAg1Ytgcnt2QPSmR/R8TW+8Mh5PAUmUlTt37mDSpEnYuXMnQkJCcPnyZbzzzjuYP3/+U/mLjY3FxIkTMXfuXJw7dw7FihVDly5d0L9/f6RJk8blfIsu6PZztmDbqRsolCMjtgxq7nK8Mh9w8+4DVB/zpAPy/bt10EQxAfng5134b+8lWxoalcmLH9+rK3NKXI5tx+kbeNWuA6K6gHRpWApDn6/oMieZD/hl+1kMslAHZEK7KnhNMQEZ899BfPv/HZDCOTJis2K/FWeu30WTieviP0YqCsg7323H+qOPl2A951MIMzrUkPlrwxSxiZ6vmQKKi0FSQBIBO336NEqVKoVChQqhZs2a+O+//5IVkJ49e2LWrFno3LkzGjRogM2bN2PevHnQ/vuMGTNcTIX4DkicgGiBftepFpqVL+ByzLIecOPuA9SwE5BM6dLg0JhAWcN1K65eP+/C4v8XEG2AlR83RpkC2dwaS8aDtO6c1qWL216qVhhfvl5dxlDdjsl+CZY2yN6RLZE9Yzq3x5PtwJ+3ncXgv54swVJxgl5y4OIE2E8FtUaqVKlkS4Xb8Yz+9yC+C368BEvbfn2/Hup55XF7PNkOPH3tLvwmPREQFd+L9fZ327Hh/wVE47/p06YomiuzbKkwVTwUEP3pooAkYnj//n1cu3YNRYoUQUxMDNKlS5ekgOzbtw9Vq1ZF7969MXXq1PhR+vTpg2nTpiE0NBQ+Pj4uZUh0Qb/+9RZsPXkjPkaVbhC9fuc+ao5dlYD//lEByJohrUs5kXnnXj/twuJ9jzsg2lahUHYs7dNI5pBdim3byeto//XWBMeoVKPahSUWENWehPXTtjMY8td+pXOYWEB+714ftUvmdqnWZd551L8HMC/4dHyIqVMBJ4Oekzlkl2JLLCDawap9z7z17TZsPHYtnkvTcvkwr3Mdlzhx54QERM/XVORPAXlGVp8lIEOGDMH48eNx8uRJW8ckbjt16hS8vLwwePBgjBs3zqWaEV3QVhMQ1f66nFhA8mXLgB1D/F2qOZl3tqKAvFWvBMa8VFnmtLgUmxUFRLV3DiUWENUm6Keu3UVTuw6IatenXU9iAdEeM6w9bpib+wREz9fcj1TeIykgbgpIQECArcuh3SOSeCtQoACqV6+OZcuWuZR50QVtvwRLtS/da3fuo1aiDohqAtLzp51Ysu9J/akmIFtPXsfrFuuAqCYgC7aewdD/WasDopqAjPznAOZvftIBUe234uTVO2j2xfoEv9Wqd0AoIC5NzZLcWfR8TX/E8o1AAXFTQLTlVenTp7fdrJ54q1GjBqKjo6Et00puu3TpErR/9tuhQ4fQsWNH25jaGCm9xT2GN+48Kn3pXo24j9rjEi7BUk1AeizYiaX71RWQLSeu441vrLUESzUB+XHrGQyjgKT0V3mKjk8BSVG8QgbvOHcbNh1/sgSLAqIfOwVEP0MKiJsC4u3tDa3Tod14nnjTbki/cuUKjh8/nuzoI0eOxKhRo5L8/0UJSNyb0K0iIKHDWyJHZnVu8KWA6P8C9PQIie8BoYB4OiOunz/xPSDsgLjO0JNHnLh6B80TdUBUe5AABcT4CqOA6GdKAXFTQFTogLwyazN2nrkZT0ClDsiViCjUGbc6QXZ3D2uBXFnS6//USDJC9x93YtkBdTsgm09cw5vfbEtAW6Ua1S5MeQHZchrD/j6gdA4TC8iC9+qiYZm8knxL6A9jxN/78f2WM8rm8PiVO/CfnHAJ1vFxrZA2TWr98CQZocPcrQg+fj0+GnZA9CeGAqKfIQXETQFR4R6Ql2cGY/fZW2oKyO0o1BmfUEB2DvVHnqwZ9H9qJBmh248hWH4gLD4a1e4B2Xz8Gt6cSwGRpNzcCuOHLacxnALiFjtZDhr+9378YDEBOTq2FdKnVUdA3vxmKzafoIAY+ZmigOinSQFxU0C0p1wFBQWZ+ilYL80Ixp5z1hEQ7QlR2iRdlY0CYv5Mqt4BsaKAqLYES30BiYD/5A0JvkwOjwlExnSuv0xY1m8kCojxmaGA6GdKAXFTQLQnYGlPukruPSB79uxBlSpVXMqQ6IJ+cUYwQhUVkLDbUaibqAOyfXBz5M+e0aWcyLzz+z+EYMVBdTsgwcevoQM7IDKXoMPYvt98GiP+UXcJ1qNHj1Bq0JIEHFQTEO0hAtrDBOw3lZZCHguLQIspCQXk0OhAZEqvjoC88fVWbDnJDojDLywXdhA9X3MhNNPsSgFJIlXTp0/HrVu38PDhQ4wYMcImGm3btrXt2aZNm3ix6N69O+bMmWN7E7qvry+Cg4Ntb0Lv1q0bZs+e7XIRiC7oNtM3Ye/58Pg4VfpRuRwehXpBCZdgbR3UHAVzqCMgXX8IwUqFBWTTsWvo+C2XYLn8RSLRAfODT2HkvweVnbxaQUCG/m8fFmw9q2wOkxKQA6MCkEWhl9YmfucX7wHR/yUper6mP2L5RqCAJJGTkiVL4syZhH/xidtNE4xOnTrZ/qf2osIJEyZg7ty5OH/+PIoWLYouXbpgwIABSJvW9Tduiy7oF6Ztwr4L1hGQzQOboXDOTPJ9Ct2MiALiJjiJDlN9CZbqAvLw4SN4DVa7A6K6gBwNi0DLRB2QfSNbIltGdZ6YSAEx/ktf9HzN+Cvw/IgUEM/nID4C0QX9/LSN2H/htpIdkEvh91A/aE2C7G76tCmK5sosUcb1hdLl+xCsOqTuEqyNx67irW+3K/uXV+3CVBeQecGnMErhDkjsw0fwVlxAhvy1Dz9tU7cDcuRyBAK+TLgEK3RES+TIpI6AJH7pMDsg+n57taNFz9f0RyzfCBQQiXIiuqBbT92Ig5fUFJCLt+6hwWcJBWTjgKYollslAdmBVYeuxFewak/B2nD0Kt7+jgIi0VeUy6F8t+kURv+n7hIsKwjI4L/24WeLCcie4S2QM7M6j2x/bc4WbD91I/7zSwFx+avsqQNEz9f0RyzfCBQQiXIiuqBbTd2IQxYSkPX9/VAiTxaJMq4vlC7fU0D0EfT80ap3QFQXkJjYhyg9ZGmCQlLtJnTVBeTw5dsI/HJjghzuGtYCuRV6ZxQFxPjvetHzNeOvwPMjUkA8nwOPLcEK/HIDDl+OUHIJ1oVb9+CbqAOytp8fSuVVR0Dem78Dqw+r2wFZf/Qq3lG8A9IgaDUuhkfFfwZVexP6t5tOYYzCHZDo2Icoo7iADPpzH37Zru4SLO2PcNof4+y3kKH+yKvQO6Nem70F20+zA2LkdI8Cop8mBUQ/Q8NGEF3QAVM24EiYmgJy/mYkGn6+NkFuVvdtAu98WQ3Ll6cHenf+DqxRWEDWHbmCTvN2JMCs0pPatAtTvQMyd+NJjF18SNkcWkNA9uKX7eeUzWFSArJ9SHPkz6bOExNfnb0ZO07f5BIsA3+0Rc/XDAxdmqEoINKkQvxNTS2nrMfRsDtKdkDO3YhEowkJBWTVJ41ROn82iTKuL5TO87Zj7ZGr8YOodg/I2iNX0DmRgJwKao1UqVLpAyfR0RQQiZLhRigPYh6i7NCES7AWvFcXDcvkdWM0OQ8ZuGgvft2hroAcvHgbrb9K2AHZNrg5Cij0zqh2szYj5AwFxMhPGAVEP00KiH6Gho0guqBbTF6PY1esIyDLP2qMcgUpIIYVbAoPlJSAnBjfGmlSU0BSGL1hw6veAbkfE4tyQ5cl4PXje3XQqEw+wxh6eiDVBeTAxXA899WmBJi3DGqGQjnUeWQ7BcT4T5Ho+ZrxV+D5ESkgns9BfASiC9p/8noct5CALO3TCBUKZZco4/pC6TRvO9ap3AE5fAWd5ydcgnVsXCukS5NaHziJjla9A/LNhpMYt0TdJVhR0bEoPyyhgHz/bh00KauOgHz6x14sDFG3A7L/Qjien5ZQQIIHNkMRhd4Z9cqszdjJDoih3/yi52uGBi/JYBQQSRKhhSG6oJt9sQ4nr96NJ6DS+vqz1yPReGLCJViLP2yISoVzSJRxfaFoN2hrN2rHbfmzZcD2If76BpXo6DWHw/Du/JAEER0ZG4gMadNIFKW+UBILyNv1S2D0i5X1DSrR0V9vOIHxSw4niEil75mkBGRe59poWi6/RFnQF8qAP0LxW8h5ZXOYlICo9sj2tjODsevsrfgcViuWE//r5auvMCx+tOj5moq4KSASZVV0QTebtA4nr1lHQP7r3RCVi1BAJCr5Z4aSlIAcHhOIjOkoIGbJoRUF5LtOtdCsfAGzpMhhnFYUkA39m6J4HnXeGUUBcVjmLu8ger7mcoAmOIACIlGSRBe038S1OH09UskOyJnrd9Fk4roE2f3nA19UKZpToozrC0V7SZ/2sr64TbWb0FcfCsN73yfsgBwcHYDM6dPqAyfR0aovwZqz/gSClqrbAbn3IBYVhidcgvXN27XQoqI6AtL/91D8vlPdDsi+8+F4YXrCJViqPbL95ZnB2G3XAeGLCPX/CIier+mPWL4RKCAS5UR0QTeesBZnb6gpIKev3YXfpIQCorWctdazKttb327DxmPXlBWQVQfD0OWHhAKyf1QAsmaggJilhmevP4HPLCYgc96qiYBKBc2SIodx9vs9FH9YTEBUe2T7SzOCsefckyVYFBCHZe9wB9HzNYcBmXAHCohESRNd0I0mrMG5G/eU7IAkJSB/9myAGsVzSZRxfaFYUUD2jmyJ7BnT6QMn0dGqd0BUF5DIBzGoOHx5goqa3bEGAisXkqjK9IWiuoDsPX8LbaYHJ4Ck2iPbKSD6PgNJHS16vmb8FXh+RAqI53MQH4Hogm74+Rqcv6mmgJy6dhdNE3VAFvWoj5olckuUcX2hqC4gKw+GoWuiDkjo8JbIkZkCoq9yxB09a90JfL5M3SVYd+/HoNKIhAIys0MNtPZRR0D6/haKRbvUXYIVeu4WXpyRUEBWfNwYZQuo88h27fq064zb2AHR/x0oer6mP2L5RqCASJQT0QXt+9kaXLilpoCcvHoHzb5YnyC7v3evj9ol1RGQjnO3YdNxdZdgrThwGe//uDNBDncPa4FcWdJL9KnVF0q98atx+XZU/CBv1SuBMS+p8xSsmeuOY8KyIwkgqfQUrKQEZPqb1fF8lcL6CkOioz/5bQ/+3HVB2RwmJSDLPmqE8gXVeWT7i9M3IfR8OAXEwM+V6PmagaFLMxQFRJpUiH8Mb4Og1bgY/mTyo9LEICkBWfh+PdT1yiNRxvWFYkUB2TnUH3myZtAHTqKjKSASJcONUO7cj0HlRB2Qr96ojjZVKSBu4PTIIdq9EdoSJfttyYeNULEwBcQjCTHJSSkg+hNFAdHP0LARRBd04vXnKt08eeLqHTRP1AHJmzU9dgzxR6pUarxJu8PcrQg+fj1B/f37QUP4FFXjUcPLD1xGt0QdkPa1iuHzdlUM+8x5eqC641ch7Pb9BGFsH9wc+bNn9HRohpx/xtrjmLg8YQfk81d80L52cUPG9/QgEVHR8Bm54qkwVHph5icL9+DP3Qk7ICq97X332Zt4eebmBDn0KZID//Zu6OnyMuz8baZvwl67Dog2sGr3uRgGy8mBRM/XnAzLVLtRQCRKl+iCTmryo0oXRHvDu/am98SbSl2QN7/Zis0nEgpItoxpsW9kgERV7X4oy/ZfRvcFCZdgaaOdCmqtjETWGbcKVyISCkhgpYKY/VZN98FJdGRSAqKFp8r3THICoi2j05bTqbB9vHAP/kokICrlMCkB0a5vTd8m8MqXVYUU4oVpm7DvwpMlWNpFlc6fFas+aaLE9XniIkTP1zxxjSl9TgpIShN2YXzRBZ3U5EeViUFyAjK7Y00EVlbjEZlJCYhKE4PkBOT4uFZImya1C58seXdN6jPonS8LVvf1kzdoFyJTXUBuR0WjShIdkF5NvdE/oLwLpOTdVXUB2XX2Jtom6oBo2VCpm5yUgKj0W+GJT4/o+ZonrjGlz0kBSWnCLowvuqBrj1uFq4n++qqOgETAf/KGp+irJCBvfL0VW04m7ICo9KOybP8ldF+w66kcHhkbiAxp1XgbelKfQZUEZPqaY5i04uhTOVTleyb8XjSqjnp6CZZKAvLRr7vxvz0Xlc3hzjM38cqshEuwVBOQ56dtxP4Lt5XNoQvTLMN2FT1fMyxwiQaigEiUDNEFXWvsKly7k3D5hyoTg2NhEWgxRW0Bef3rLdh68oayPypL911Cj5+eFhCV3oae1GdQJQGZtvoYvlhJAZHoZ8blUPr8uht/U0Bc5ibTAc99tREHLlJAjMyJ6PmakbHLMhYFRJZMQPxTsGqOWYnrdx8kIKCKgBwNi0BLxQWk/Zwt2HZKXQFZsu8SeiYhIPtGtkQ2RV5GWGvsSly7k/AzqJKAfLX6GCarLCCR0ag6Wu0OyIe/7MY/oSp3QG7glVlbnpoJqLQEq/XUjTh4iQJi5HSPAqKfJgVEP0PDRhBd0DXGrMQNCohh+RM9kFUFZM/wFsiZWY13gVBARH9qjD3frcgHqDZ65VODqrQES3UBCTl9A+1mU0CM/WSoP5ro+ZqKRCkgEmVVdEFXH70CNyOjleyAHLkcgYAvk1qCVQOBldV4S/Frc7Zgu8IdkMV7L6HXz08vwVLpXSBJdSFV6oBMXXUMU1apuwTr5t0HqD5GbQHp/ctu/KtwB2TH6Rt4VXEBaTV1Iw6xA2LobE/0fM3Q4CUZjAIiSSK0MEQXtHbzpHYTpf2myhKsw5dvI/DLjU9ld3ZHhQRk9hZsP63uEqz/9l7EBz/vfiqHKr0nI6kupEoC8uWqo/hy1bGncqjK94wVBOSDn3fhv72XlM1hcgLyzwe+qFI0p0QzBPdDCfxyAw5fjlA2h+6Tcf9I0fM19yOV90gKiES5EV3QVUYux+2oGAqIRDXgSiivWVRAtgxqhkI5MrmCStp9KSDSpsapwLQlrFoOE28qLcFSXUC0LrLWTU68/a+XL6oVo4A49UGw4E6i52sqIqaASJRV0QXtM2I5Iu6rKSBau1lrOyfeVOqAvDp7M3acvqnsX7W0ZR/a8o/E28YBTVEsd2aJPrnuh5LUMkiVOiBTVh7F1NXqdkCu37mPmmNXKS0g2jJIbTlk4k2VLta2k9fR/uutT13foh71UbNEbvc/3BIdyQ6I8ckQPV8z/go8PyIFxPM5iI9AdEFXGr4Mdx/EJiCgyo/KwYu30fortQWk3azNCDmjroBoT97RboBNvK3v74cSebJI9Ml1P5Rqo1fgVqL7sFQSEO0JWNqTsFSdvFpCQH7ahcX7rCcgv3Wrjzql1BCQgCkbcCSMS7Dc/6Z++kjR8zUjY5dlLAqILJnwwD0gFYcvQ2QiAZnzVk0EVDL/m8KTE5AcmdJh17AWSJM6lUSZdy+U5ARElaUDyQnIi9UKY+rr1d2DJtlRSQmIFqIqXZ7kBGRCuyp4rVYxybLhejjae5S0d7kktR0YFYAsGdK6PqhkR/RKRkB+eLcOGpfNJ1m0roez9eR1vJ5EB6R8wWxY2qcRUqUy/29FcgKy7KNGKF8wu+vQeITwe3ZVRE4BkSiroo26wrBluBedsAOi4VChC3LgYjie+2pTktn9rK0PXq9TXKLMuxeK9vZe7S2+SW0q5PDvPRfQ59c9SV7fqk+aoHT+rO6Bk+iopB4EoYVXtVhO/N3LV6JI3Qtl8ooj+GrNcWVr9GrEfWhvs09qe7+xFwa3ruAeOImO6vnTTizZd1nZHG45cR1vfPP0Eiztgr95uxZaVCwgUTbcC6XllPU4GnbnqYO1P8iFjmjp3qAWP0r0fE1F3BQQibIquqDLDV2K+zEPnyKgwuR1/4VwPD8taQF5p34JjHqxskSZdy+UtjODsevsLWUnBs8SkJ+71kUD77zugZPoqKQeBBEXngqfwy9WHME0iwpI9eI58VdP80tkjwU7sXS/NQVkUKvy6NbEW6JvDPdCaTF5PY5deVpAtNFU+J5xj4q+o0TP1/RFK+fRFBCJ8iK6oMsOXYoHFBCJKsC1UCggFBDXKkb83s8SkJPjWyO1yZdCXomIQp1xq5MESwERX2/unHHziWt485ttSR5KAXGHqDWOET1fU5EqBUSirIou6LJDluJBLDsgEpWAS6G8PDMYuxXugPxv9wV8tDDpJViqdEB8Ri5HRKJHYavUAZm0/Aimr016CdaRsYHIkDaNSzUv285Xbkehzni1BaT7jzux7IC6HZDNx6/hzblqC4j/5PU4zg6IoV8foudrhgYvyWAUEEkSoYUhuqDLDFmC6NhHTxFQoSW773w4Xpie9BKst+uXwGgFlmC9NCMYe86puwTrr93n8fHC0CQ/oT93qYsGpc3fAUnqUdgqCcjE5YcxY+2JJHOowk3aVhCQbj+GYPmBsCRzqMJvhRUEpPkX63Di6l1lc+iJaZzo+ZonrjGlz0kBSWnCLowvuqC9By9B7EPrCchb9UpgzEvmvwfEygLyU5e68KWAuPDt4pldnyUgocNbIkfmdJ4JzKCzht2OQt1kOiDaS+y0J9KZfVNdQIKPX0OHZDogA1uVR3cF7gGhgBj/KRQ9XzP+Cjw/IgXE8zmIj0B0QXsNWowk/APv+pbC8BcqSkTG9VD2nr+FNtODkz1QhbdpvzgjGKHJdEBGtamEdxqUdB2cREf8ues8Pvkt6Q6IFqYKS3gqj1iOO4leBhqXgu861UKz8uZ+As+EZYcxc13SHRDf0nnwU5d6ElWc66FcDo9CvaCkl2Bpo6nwmNP3fwjBioNJd0A+bFYan7Qs5zo4iY7YdOwaOn6b9BIsLcw9w1sgZ+b0EkXseijNvliHk8l0QCa2q4JXFXgktutU9B0her6mL1o5j6aASJQX0QVdatBiPHq6AWIjciqotamff65NzLUJenKbf4UCmPtOLYmy73ooL07fhNDz4ckeaPblEYt2nkff35MXEBUkK6mXgdon1Ow5/HzZYcxKRkC061zdtwm885n3ccqOBKRknsxY17+p6x9uiY7o+kMIViYjIFqYZq9RRwLSoW5xjHvZR6KMuB5Ks0nrcPJa0kuwVMih60T0HyF6vqY/YvlGoIBIlBPRBV1y4OJkr97sf13W7o3Qliglt2nvkNDeJWHmrc30TdirsID8sfM8+j1DQD5oWhr9Asz919ekXgaqkoB8tvQwZq9PugOiXed/vRuicpEcpv0YXgq/h/pBa54Zv9kn6F2+D8GqQ0l3QFSYvG48dhVvfbs92RxqL1vUXrpo5q3ppHU4RQExNIWi52uGBi/JYBQQSRKhhSG6oJ8lIPtHBSCrid/iSwEx/18mKSDmz6HqAnLx1j00+MzaAmL2bvmGo1fx9ncUEImmQqYIRfR8zRRQXAySAuIisJTcXXRBP0tAgtr64A0Tvy1899mbeHnm5memS3sDrPYmWLNuL0zbhH0Xkl+C9Xv3+qhdMrdZLw+/h5xD/z/2Jht/ujSpcGh0INKmSW3aa6wwbBnuRccmG/+qTxqjdP5spr2+oKWHMGf9yWTj79SgJEa2qWTa63NGQLYPbo782TOa9hq7fL8Dqw5dSTZ+s78t3JGAaBd+cHQAMqdPa9oc+k1ci9PXI5ON/+9evqhaLKdpr88TgYuer3niGlP6nBSQlCbswviiC/pZAqKFvW1wcxQw6Q/nrrM30daBgLxasygmvlrVhQzJtevz0zZi/4XbzwzKzMs/fgs5hwHPEBDtwrWnmWlPNTPrVn7YUkRFP/0unrjryZI+DQ6MDjTr5SFoySHM2ZC8gGgXZubJz4Vb9+DroANS3ysPfnnfvDfbvzd/B1YfTl5AtByauWO+/uhVvPOMDoh2fd0ae2FQ6wqm/Rw2mbgWZ54hINqFmfm3whOJET1f88Q1pvQ5KSApTdiF8UUXtCMB+fX9eqjnlceFK5BnV2cExOxfus4IiJmXRzgjIDVL5MKiHg3kKTwXI3EkIGavUWcEZEjrCuja2MtFcnLsfv5mJBp+vtZhMGae3DkjIBsHNEWx3JkdcpBxh3VHrqDTvB3PDC1D2tQ4MraVjOE7FRMFxClMLu0ker7mUnAm2ZkCIlGiRBe0IwEx8/KInWdu4pVZz16CpaV+17AWyJ3FnI9YfO6rjThw8dkdEDO/sO+3HecwYFHyS7DiPrqHxwQiYzpzvlG73NCluB+TfAdEu8YVHzdG2QLmXIY1fskhfO2gA1K+YDYs7dPIlE/dO3cjEo0mOBYQMz/2+935O7DGQQdk9IuV8HZ9cz72e+2RK+jsQEC0z+HekS2RPaM5l+w2nrAWZ28kvwRLuz7tnTXau2u4OUdA9HzNuajMtRcFRKJ8iS5oRwKiofnnA19UKWq+L6WdZ27glVlbHGa3efn8+LZTbYf7ybhD66kbcfDSswXEzD+cC3ecxaeL9jlEb+Z3EZQduhQPHAiImbsg4xYfxDcbTznM4eyONRBYuZDD/WTbwVkB0SRr2UeNZQvfqXg6z9uOtUeuOtx3bT8/lMqbxeF+su3grIC0rVEEk1+rJlv4TsXTaMIanLtxz+G+x8a1QjoT31Pn8AIN3EH0fM3A0KUZigIiTSrkegpWHJb2tYrh83ZVJKLkXCjOCog2mlmXKTkrIL90rYf63uZbSuesgJh5gu6sgJi1y+OsgJTJnxUrTfhYbGcFRKvRE+M7UbcRAAAgAElEQVRbI03qVM59gUm0l7MC0j+gHHo1LS1R5M6FsvbwFXSe/+wlWHEjmfW3wlkBMfNSOueybdxeFBD9LCkg+hkaNoLognamA6JdnBmXgIScvoF2sx13QLTrM+tSs1ZTN+KQEx0Q7RrNuHzg1+1nMfBPxx0Q7frMejN62SFL8SD22UuwtOsrWyArlvVpjNQmm8CO/e8g5m5y3AHRrtGMywXPXo9E44mOl2Bp19fapyBmdqhp2O+FqIE6zduOdU50QLR4ggc2Q5GcmUSFZsh51hwOw7vzQ5way6zd1oafr8H5m447IBoEs/6xw6kEGriT6PmagaFLMxQFRJpUyNkBicNzfFwrUz3udMfpG3jVSQHRrnHzwGYobLIfzsAvN+Dw5QinKrhZ+fz4zmRLzX7ZfhaDnBQQDcKe4S2QM7O57ucpM2QJomMfOZXDmR1qoLWPuZYpjfnvIL51UkDMOPlxRUC061vTtwm8TPbmd+0JUdqTopzZcmZOh11DW5hKlF0REI3B9iHNkT+buR6rrD2pTXtimzPbu76lMPyFis7saul9KCD6008B0c/QsBFEF7SzHRDtAs12k6GrAqL91U77652ZNlcERLsusz3VzFUBaVouH+Z1Ntcbi10REC2HWwc1R8Ec5pn8uCog3Zt4Y2Cr8qb5GJ65fhdNJq5zOt60qVPZnqZkpqVYrgiIBuLL9tXwUvUiTjPx9I6rD4Xhve+d64BosZrxfh5XBES7xsUfNkSlwjk8nRqpzy96viY1DDeDo4C4CS4lDhNd0K4IiHa9C96ri4Zl8qbEpRs+5vZTN/DaHOeWYMWd3GzvBXFVQLTrNNNfYH/edhaD/3JuCVZcDs22Dr304CWIeehcByTuGs30zoXR/x7Ed8HOLcGKu76v3qiONlULG/6dkBIDnr52F36TnBcQLYYaxXPaHh2dKpU57gfR3hKuvazPlU27Pu0R2WbYVh0MQ5cfnBcQ7ZrM1iVwVUC0azTzk9tE1J3o+ZqIaxJ9DgqIaOLPOJ/ognZVQLTQf+tWH3VKyf927W0nr6P911tdzq6ZJCRgygYcCXNuCZY9CLNIyE/bzmDIX/tdzqGZ7gfxHrwEsS4KiAYkdHhL5Mgs/yNBR/17APOCT7ucw7lv14J/xQIuHyf6AHcERIvRK18WrPy4iSk6IW99uw0bj11zGa1ZnqDojoBoMD72L4s+/mVc5uKJAxoErcbF8CiXT23Ge3pcvkg3DxA9X3MzTKkPo4BIlB7RBe2OgGi4vnm7FlpIPjlwV0C069Na7P/1bij9PS/uCoh2jWZ45ru7AqJdX+9mpdG3ZTmJPt1Jh+KugGijmeGJNe4KiHZ9k16tinY1i0qdw1PX7qKpix0Q+ws6MCoAWTKklfoa3RUQ7aJ+fK8OGpXJJ/X1rTwYhq4udkDiLki7t+7bd2pJ381yV0C061z2USOUL5hd6hx6IjjR8zVPXGNKn5MCktKEXRhfdEG7KyDaJfVq6o2+LcpJe7Ph1pPX8bobHRD7dMk+wWs5ZT2Oht1xocIS7jru5croULeE28en9IELtp7B0P+53gGJi0u7r2f5x42RVeIJntegxXCjARKPfl6n2mhaPn9Kp8Lt8Uf+cwDzN7veAYk74Rt1imHMi5Wl/WPAyat30OyL9W7z+T/2zgMsiqON43+7sffeULEDigKCiAUEQY2992jUGDVRo7H3bmLUaDSJiUk0iUZN8pnEFntv2Bv2LigqRQUE9HvmzOHdwcHd7dzu3uy7z+Pz5YOZd2b+7+yyv33fmWEV1Z5vLwVA2PhYWuTgxpVU+5K+7Xw4BqwKleRDtS9M9569Aw9siIDoRfmisxva1lH3xwBJDrShstzvazZ0UfVVCEBU5CK5J7QUANHLtm6QNzwqqC8l69C1x+j6rfUpWKbToZtXOUxoUR25sqvvK2WzBXtw5aHtAMLGyl7OWTSkcrE8KroT3nRl1eFbmCgBQPQDYv5jWy1nVeEBW05j/8Fr65aApPITi9j90NdTlYvTpQKIfrBqjbryABA2xsAaxTG/oxvyv6O+tLoeK45g/1XrU7BMJyqLKtcqrb6FzTwAhI11oF9FDG9WBTmzZVHds7T+rB0Ij7E+BctwIEXz5sD6Qd4oX9jxDpu0h0Pkfl+zxxiUtkkAIsEDycnJmD9/PlasWIE7d+6gbNmy6N+/P0aNGoUsWax/CMk9oXkACJOvVul8WNrNXVUPpoPXItHt2yMSvGtclaWDtKtTWlURn4AFe3BVIoDoR9mmdilMblUTBXOrZxvbVYduYuL/znPz4cq+HmhcpaiqvsTyugeZSOyMgkGNK6kKlif/7xx+PHSLiw+L5MmuAy01vcRee/QM/hIjIIbiTH23JthHDzWdRt19xWEcuPqYiw+9KxbGgs5uKJlfPWeFbD0fjoESIyCG4izpVgctXEqq6jnjNWs7ImISuPiwR/1yGN28GvLlVB8scxmghUbkfl+zsFsOVYwARIK7Bg8ejGXLlqFv377w8fHBwYMHsXLlSrCfL1261GrLck9oni8/bLDlCuXCsh7uqti+jzeA6J05r4Mr2tQujexZM1vtX94VeAKIvm/+1YphauuaKFMwF+/uWm2PN4DoO8C+prNxquFQP973IBtj3wYV8LF/FVUsUucJIHr/5cyWGav6eaFe+YKKv+SxDwDsPuR9TWpZA109y+Gd7NZ/yOLdF54Aou8b+2j1RafacC6el3d3rba35Vw4Bq2WloKVVqOLutTWgYgaIq88AUQ/1ta1S2F8SHUUy+c424JbPTnSqSD3+xrPvqvFFgGIjZ44e/Ys3NzcMHToUCxatCjFykcffYQvv/wSp0+fhouLi1XW5Z7Q9nj50Q+YRQxaupZULBx98Gokuq3gFwExdSTLTR/a1FnRwwv9P9+Na4+eWzXHLC38TrYsYH9A/asXV2ynnp8O3cQkjhEQ07GPaFYFPeqXRyEFoz72vAdrlMyng0klX9Qn/e8cfuIUAUlr7k5vXRPt3MsotpDbXgCiH2tQzeK6r82VFDy8sNu3h3HwGp8IiLkX9eBaJRX7qGMvANGPtZ+vky49S8kXdc+Z2/Ewlk8ExNSHRfLkwGcdXeHnXFQVH3Us/RsntZzc72tS+6vG+gQgNnpl/PjxmDVrFq5fvw4nJ6cUKzdu3EDFihUxbtw4zJw50yrrck9oe7786Afeyq2UbkeiKjJ/6TpwNRLd7Qgg+vGxr7Ez2riApTDJ/aWr6ee7cd1OAGI4cXt7l8f7fhVlj4r8ePAmJm/kl4Jl7mZk61/YOpFGMqdnvX79Gk5jN1n1jLC1MEvP6u1TAYXz5LDVhE312BoetpbH3pdflaL4JLAKXMsUsHdTRvavPoxFwIK9srQ5pVUNdPaQPyrS9ZvDOHTdfgCiF49tgf5B40qynxS/5dwDDFp9wu4+LJw7u+6DQEitkrK/qHvM3I5HdgIQQ+H6+zqhf8OKqlyPxtvBcr+v8e6/GuwRgNjohaCgIF2UIzw8PJWF4sWLo06dOtiyZYtV1uWe0HIAiKEAvbzLw6dSERTIlQ2ZM2XSfVnPnAkpB7GxY7nY4Vzs5+y/2dpc9pJmeLHfszqsPrvYr1+ZlGG/O3Q9ErM2XbJKf6mF2Rdn9rWrZP6cyJY1c0o/E5Nf6/7b9OAx/TlkrL9sNPoxsfEYjlr/O1ae/WPDZf9aLdkvtctW12dRAzbOvDmz6v6IvvFhJrxMeqXr2xsfvhkr+zkbt66/Br5kv9OXM/QjG7WhK9mL6/rQu1b3UUqFhs5FdFu/lvgvrYD5kfU1IekV2CnW+vlnum5cf6Tcm7nLyr2Zl/qxsz4Zjlnvx5ZfyuvDvDmy4pOgqihXOBdyZ8/6Zo7+d7/pD0TU95P1mPUzy3++1PuHjctwLhvej6b3JIuAnL4bLcUlVtdtW6e0blE3i2zpnyfML/o5qu+vfgy2PGOYLmzusjUgH605ZXUfpVQoXzgXPmxcWRd9zZHt7XOGnSeT+mzDNzNTP2ZzzxjDMvq+vZm7r9H92yOITUiS0mWr6w7wq6g7yJAtytc/Y9j/Jia/0tkyvJdSniEmfy9M/1awevp7Ut8hphdbA7J01zWr+yilQu2yBcD+HrK1MGxc+r+FbI7qniEmjtT/X/3fgrdjNn7GpOVH9jO5nzOszTHB1eBcLI9uoxPd+Mz8rWDe1I/f9Pmh1yG9Zwyrc/Pxc939yCL3DSoXkSV1Ue73NSnzTa11CUBs9AxLr8qePTtCQ1Pnjrq7uyMxMREsTcvc9eDBA7B/htfFixfRo0cPnU1mw96X3ABi7/GQfVKAFCAFSAFSgBTQrgL7P20iS7SeAET6HCMAsVHDSpUqgUU62MJz04stSH/48CGuXr1q1vqUKVMwderUNH8vF4BsPH0fw349aaMCVI0UIAVIAVKAFCAFSAH1KEAAoh5fZNQTApCMFDLzexEiIGxol8JjkJT8NnSvT2kyTIV5k1rzJh1D/3vDtCfTdBSW0sBs5siWRRfyZv/N/vdBdBxWHbqFE7ejbFTdtmosrzi4VgmjyvrxGI/J2L4+rYaVYekNbw6MexvyZltlsnHpfvfqNWLik3D81hN8vee6bR21sVbu7FmwZoB3SvqF4ZhMz5jQ+5I1xfpumO71tuxbj7Kw9pty0KWw3I+Kw1e7r4GdAC3nxQ7Cci6WN1XKnT4VRt8XfV/1/1+fXqNP+0rWpUXpfQlkz5JZlwLIfMh+/vTFS2y7EIHfT9yTc3hwKZ0f7GBIdqU1Nw39yLxjmrKn9+Obcm/nKEsbe+tr4HlCEu48eYH5W8N081XOa+OQBrpUC30KoeEzxPAZY9hfvf/0M1Kfpvnmfnxz37HnDCv3JsUqk+68A5a6t/fyIzmHp9umu0+DCiltmvOjaXqlfuxsbr5JEXpTQp++p3/OsLGycT9LSMLFBzH4bNtlWcfHGmNneejmqEEqqGkKrKEv9fcjG5N+3MbPJDYm6Bag633K/l6w58zKgzdw7l6MrGP8tHk1+FYuoks9M7z0vtT7xTRN9s19++ZiNdlY9Pch+xlbH2g4Z6PjEnUL+6Uc0mmLMMXz5QDbBdB0bqaVyszsG6Z6sSHpfa1/zuj10Ke76f0dn5is8+HiHVdxLyrOlq7aXOfAmKZgh9Da+6IIiHSFCUBs1FCENSA2Dl1yNfaHdMv5cLBDyuy1M4dhJ9kZJS1cS0rutzUG2Av68t3XsPb4HWuq2VTW06kQfhvobVNdWyuxPzC/Hb9j112qDPu29WM/VC0h75ad5+5F4/NtYdgVZv8XWXb2w6y21u2aZ6vv9PWePH8JttB/0Y4rUk1ZVP/qzGBZN2pgL737rkRi5j8XERYRa1EfpRRiW+e+5/t2QxIptiyte/fpC6zYd0OWF9kKhXNh96gmlnaNS7mk5FdgkXq2mcHzl8lcbKZn5Kf3PME2NJDzYhsZLNl5FX+eum/3ZgOqF8OK3h52b8ewAQbMvx65jZmbLsrS7sExTWXZnZIARLo7CUBs1JDtcjV79myH3gXLxqFzrfYwNh7f7buBr/faL2rwVXd3hLjICyB6kdiiSbbN41A7prp5ORXCWpkBxHASsNOgP992Gf+cNV7TxHOibBvuJ/tOavr+v3iZpIuITOBwKrs5Tbp7lcNMmQFE3xf2os6iklP/Oo8zdlwwfm1WiGJbOj99/hK/HL2ti/zY65rcqgb6NpAXQPRjYV/Xd4c9xMdrTtltwbhTkdzY9Ulje8mXoV0WQV+66ypWH76dYVlbC6zq54mGzvICiL6vCUnJ+OfMA4z47bSt3c+wXkD14ljRu16G5exVgGVczNl8Cbvt+FGHAMRe3uNvlwDERk3ZDlhspytz54CcOnUKrq6uVlnXMlGzL12bzoXbZU2KkgBiOAHYmQGfrDuNU3f4pqDVr1hIl4Kl9MWiImuP3bHL1rlKAojxi/pT9P7+mC4NhufFThdm2zkrfbHUEPaS940dPghcnxUi+/ajpnqy6OuusIfo9+Nx7lKzbXL7KAQghoNhKS9TN57XpRLyvCoWyY2dCgKIfiws1Y5FRdizlPe1up8XfJ2L8DZrtT2WYvfhLye4b7PerEZxXQqW0hf7qMPOB2Iwwvs6NLYp2O5i9r60/L7GS1sCEAlKDho0CF9//bXuJPQGDRrgwIEDupPQBw4ciOXLl1ttmSb0m213N58Lx+Cf+e3Lvqy7O4IVioCkNQkiYuJ1fzxZegiPSy0Aoh8Lg8lfj97GRI6HCP473E8Vpybrx3j+fjT6/XBct96Ax6UWANGPJe5lMpbvucY1PUsNAKIfnz49q9f3R3m4T2dDLQCiH1DUi5eY/vdFbDjBZytrtQCIfnwMJv88dY9rxEAtAKIfI1uvNeTXkzjN6aOVWgDEECZZGijP9KzDY/1lOYeE3tekPzoJQCRomJSUhHnz5mHFihW4e/cuypQpg/79+2P06NHImjWr1ZZpQr+VjIWjF22/olvwLPVa3sMdzWspk4KVXt/ZS2yLxdLPgfCuWBi/DqgvVSbu9WPiE/Hp+jM6oJR6bR/hh8rF5F0DYkmfd16KwHs/SP+a3rN+eUxv82YRupouBst9Vx7DhQfSFwPfmB2S6nwDpcfKYJmdNzP1rwuSuzL13Zq6wx7VdrEUyTZLD0jedKBi0dzYOVK5FCxzujJYnr35ou6LutTr5/5eunMk1HaF3nqK9stS77hpbT/Z+TjfqCACYtpvliI5bM1JLh/ljozzR/H/znGyVh9rytP7mjVqpV2WAES6htws0IROLWXkswTUm7FdksZqBRA2KPYldvme65i7xfZQtE+lwvjlffUBiN5pLJ0geNE+ST5UK4CwQbH8e7ahgpQTv9mhZNNaqw9A9E5j6wv6rDwmyYc357SQVN+eldnuYOxgz+uPbN/dbVrrmujlrT4A0eu25uhtjPnd/NlUGelbqWhu7FAhgOj7zRbk+87dldEw0v39L/294KNCAGGdZhGfhdsvY/FO89v7ZzT4oJrF8XVP5VOwzPXz5O2naPuVNNAiAMloFqjn9wQg6vEFCEDSdgZ7Sf9g9Qndzlm2XMt71EVzk214bbFjzzoHr0ai24ojNjXRoHJh/NxfvQDCBsVyfl2nbEs59d7agW4f0QiVi+Wxtpqs5f84eRfD19qWl97buzymqhhAmJBsbUGDOTtt1lTNAKIf1OIdV7DgX9u2t53euiZ6qhhA2BjP3I3Cu0sO2ORDdv+x+1DNF/sY0O6rAzht42YKv7zvBZ9K6ouAGGq+42KEzWuYmtcsgeU966rZhWCpg7Wn/WtzH4+O80cxioDYrJ+cFQlA5FQ7g7YIQNIXiC2OtWUXm6971kVQTeNzQFTk9pSusG1fW35pfUqWIwAIGyT7gsfGZ0s6z46RjVCpqLoBhI3R1pQsRwAQNj62SN1t6jabbh9HABA2sF+O3Ma4P6yPFDgCgLDx3Yx8jsaf7bbah44AIPpBsW17bYlIOgKAsDEev/kEHZYfstqHjgAgbFBs98jaU7fZtPXy0fH+KJY3p9XaWFuB3tesVSx1eQIQ6Rpys0ATOmMpZ/5zAd/uu5FxQYMSjgIgrMtshyyWr23NxQ7OWt3fy5oqipVl0ayu3x7G4etPrOqDowAIGxTbSpPtYGPN1cenAqa8W9OaKoqVZelKNSdvtap9djjdjdnqTcEyHQxbgG/tDj1sDQ9by+MIly0Q4lwsD/5VeQTEUPuxv5/Br0etO4fp1/frw7tSYUdwIQ5ei0S3b62LmrMDeZf1UHcERC8+W5/VYO5ORMQkWOUPAhCr5FK0MAGIovIbN04AYpkzWn65z6oTcr/pWReBDhAB0Y/+r9P3rTo3pKFzEazq5xgAwsbIIiHVJm3RnVxt6bVzZCNUdIAIiH48n20Nw5JdludqOxKAsDGy83s8Z+6w1H1gB7JfdyAAYQPr/+NxbL9o+Va2M9rUQg8HARA2Pmu/olcpngfbhqs7Bct0QjactxN3nlh+EveaAfVRv6JjAAgb6+rDt6w6nyjEpQS+6u4YAMLGx7Z2rzZxi8XPGVbw2PgAFM2bw6o6thSm9zVbVDOuQwAiXUNuFmhCWyblo9gEeMy0fGE62/ecbT/oKBd7Qfees8PiLz+OBiDMD9Z+gWUHoLGD0BzlsvYPp6MBCPODNbnojggg0S8S4TbN8nQzRwMQ5sMPVodavEudIwIIO7zQe7bl65YcDUBYlKDy+M0WPxYdDUDYwNhJ8QEL9lo8xuMTAlAkDwGIxYIpWJAAREHxTZsmALHcGWyL3i+2W7ZY1NEAhKkQHh2P+rMt+8LsiADCxshOh2fRHksuRwMQNqYj1x+j8zeHLRke+jaogMmtHCMFSz8glk4Xsng/2C5nGV1ZMmcCOwnd0S52ns1YC3eOmtm2Frp7OUYKlt4P7EDNWham01Utnhdbh/s5mgsx/e8L+G6/ZWm7awfUh5cDRUCYM649egb/z/dY5JcWLiWxtLu7RWXVVKj390ex5/Iji7pEAGKRTKooRACiCje86QQBiOXOYC8/TmM3WVRhRa96CHCgCIh+UN/svYZZmzLentevSlH89J6nRVqoqRDbsabSOMt8uPuTxqjgQBEQvc4hi/ZZtOj+vQZOmNSqhprcY1FfLI30ZM2cCVcdEECYCBXG/GORFrPauqCbVzmLyqqpkKVnTFQrkRdbPnY8ALHmb8VvA73h6VRITe6xqC+WLrpv4VoSS7s5HoBYE+kJnRCAwhQBsWjeKF2IAERpDxi0TwBinTNGrz+N345nfMrvd73rwb+646Rg6VVgp+A2nJfxvvaOCiBsnC0W78P5+xl/Qd8zqjHKF3acFCy9D7dfiED/nzI+qNBRAcTSF3RHBhBLo62OCiCWRkEcFUDYHB3w03Fsu5Dxeh5HBRBLD7V1VABhPmRbgLOtwDO6TkxshkK5s2dUTPLv6X1NsoQgAJGuITcLNKGtkzI2PhEuUzLO0XZUAGFqWHJ4WKMqRfGjA0ZA2PjYSdteszJONXNUAGFfX9muZhmdS9DP1wkTWzpeBIT50JIc7WxZMuHKTMdLwWLjszTKM7udC7p6Ol4EhI3x6I0n6PR1+tu6OjKAsJO260zP+GyJdYO84VHB8SIgzIds1za2e1t6V0vXkljigBEQNiZLP8gRgFj3HqVkaQIQJdU3aZsAxHpnuEzeitiEpHQrft+nHppWc7wICBuUJWtBGlctih/6Ol4Klt5plqS47B3VBOUK57J+gqigxg8HbmDKXxfS7Ul/XydMcFAAsSQKkj1LZlyeGawCb9jWhS7fHMpw6+g57VzQxUEBxBIfVi+ZD5s/amibgCqoZclzZv0gb9RzUACxJJWulVspfNm1jgq8YVsXLPHhyYnNUJAiILYJLHMtAhCZBU+vOQIQ650xf+slLN2V/leflX080KRaMeuNq6BG3MtkVJ+U/jaEjg4gPb87gn1XItNVe9/oJihbyDEBxJIDJh0dQFynbEVMvPkPAY4OIJYsRicAUcEDM50uWHIuiCMDiCW7Qzo6gFiypu7UpGYokItSsNR9N77pHQGIirxEAGK9Myx5QV/Z1wNNqjomgDBFdoU9RN+Vx8yK06RqUax04AiIJX84HRlAmONmb7qIr/deN+vD9xs6YXwLx0zBYoPKaCee7Fkz4/IMx42AsA0T2AnwbL2EuWtuexd09nDMFCw2ptBbT9B+mfk0rBol82GTA0dAYuIT4ZpByu6GD7xRt7xjpmAxH647fgej1p8xO0ffdSuFxQ4cAbkfFQefOelvq3x6UiDy58pm/cuElTXofc1KwdIoTgAiXUNuFmhC2yZl/x+PYfvFh2YrOzqAsIGlF3puWq0Yvu/jYZt4KqmVUWjd0QEkLDwWQQvN72U/wK8ixoVUV4k3bOtGej7MkTUzwhwYQJgiGS1Gn9feFZ08ytomnkpqpefDmqXy4Z9hjpuCxSQOXrQv3W2jN3zgg7rlC6rEG9Z3I6MPcq1rl8KiLo6bgpXR30L2ewIQ6+eNUjUIQJRSPo12CUBsc0ZGAPJDXw80duAISEYPXS0AyP5Pm6BMQcdMwWL+IwAhALHt6SZvLQIQxwaQjLar1QSATA5E/ncoAiLvk8O21ghAbNPNLrUIQGyTdcrG8/jh4E2zldkOUWynKEe+0nsx8K9WDN85eASk2YI9uPLwmVkXHRjTFKULvOOwLsxoB5eBfhUxVuAISM5smXFpuuOmYLGJ98uR2xj3x1mzc3BeB1d0qiduBKRW6Xz4e6hjR0AG/xyKTWfDzfrw98E+cC/nuBGQjD5WtaldCgsdPALiMmUrYtNZb3ZmSiDy5SQAcYQ/lgQgKvISAYhtzoiOS9TlZ5u7RACQ9NI/AqoXw4rejp2CdTkiFoFfmE9RcnQAYXOzz8qj2B2W9mm+AxtVxNhgx07B2h32EH3MrFV6J1sWXJze3LYbXCW1Xia9QpUJm832Zn4HV3R0cABZdfgW2KF2aV0upfPjr6G+KvGGbd14GBMPz3S2/f5jsA/qODiAzPznAr7dl/bJ723rlMYXnWvbJp5Kap2+E4XWSw+Y7Q0BiEocZUE3CEAsEEmuIgQgtiv93f4bmP532ludslPC2WF9jn6Zi4IEVC+OFb3rOfrw0Gn5IRy9+STNcRwc0xSlHDgCwgaV3rk1gxpVwpjgag7vQ3NzNFf2LLgwzbEBhDnn2M0n6Lg87YXan3V0Q4e6ZYT1oWuZ/Ng4xLEBhDmH/Z1gfy/Suv78sAFqly0grA/b1SmNBQ4OIMw56R1KeHZKIPJSBMQh5jABiIrcRABiuzO+338D08wAyKp+nmjoTABiu7ry1GQHobED0dK6Do1tipL5HTcFi40pvQPtCEDkmWNSWyEAcXwAmfH3BawgAJF6Kyha33fuTtx9mvap6OemBiFPjqx27x+9r0mXmABEuobcLNCEtl1KLQNIsxrF8W0vASIgggNIegtEP2hcCZ82FzcCkjt7FpwXIAJy/OYTdDATAaAf7dcAACAASURBVPm8oxvaCxwBcSuTH/8TIAKSHoD878MGcBM5AuJeGgs6OXYKFntLIACx/V1JTTUJQFTkDQIQ252RHoCs7ucFX+cithtXSU1z6S2BNYrjG8EB5PBYf5TIn1MlnrCtG69fv4bT2E1pVh7cuBJGCwwg7Isk+zLp6Fd6ALKgkxvauYubgsVezNkLuqNf6QHIxiEN4FpG3BSs9u5l8HknN0d3YboAcn5qEHJTBMQhfEwAoiI3EYDY7oz0AOTn/l5oUJkAxHZ15amZXgrWkXH+KJ7PsQGEqWgOIglA5JljUlshACEAkTqH5Khv7jmjBQC5MC0IubJTCpYc80xqGwQgUhXkWJ8AxHYx09uBR3QACapZHF/3dPwUrHlbLuGr3dfSnASiA8iHTSphVJDjp2B1XH4Qx24+TeXDvDmy4qwAEZBbj5+j0fzdac7RLzq7oW0dcSMgbHE2W6Tt6Nf60Lv4ZN3pNIfx1xBfuJTJ7+hDNPuhg22SwDZLcPTr0/VnsPb4nTSHQQDiON4lAFGRrwhAbHcGS295d8kBnL0XncrIL/294CNABOTA1Uh0X3Ek1fia1yyB5T3r2i6eSmqmd4rv0XH+KCZABGRD6F2MTOPlZ0iTyvgkqKpKPGF7N+5Fxel2qDG98ubMirNTHD8Fi42Lvbyyl1jTa2Hn2mhTp7Tt4qmk5pm7UbpnqelVp1wB/DHY8QHk1avXqD97Bx7GJqQa499DfVGrtOMDyPYLEej/0/FU4+tYtwzmCwAg0S8S4TYt7a33L05rjneyZ7H73UTva9IlJgCRriE3CzShpUkZeusJ2i9LvUXmL+97waeS46dgMXXSCq2LAiBsfAu3X8bC7VdSTYSj4/1RLK/jp2CZ86EoAMLG13zhXlwKjzXyoUgAYu5QSVEAxNwcFQVA2Ph2XIxAvx9Tv6CLAiDmfCgKgLDxjV5/Gr8dT/0h4NL05siZjQBE2tuUPLUJQOTR2aJWCEAskslsoZO3n6LtVwdT/V50AAmuVQLLejh+BETLADK0aWWMDHT8CIg5AMmXMyvOCBIBuR8VB580ojyLutRG69qOHwEx9/LqXq4AfhcgAqJlAOlUrwzmdXD8FCzmw1HrTmNdGpFIAhBp71Fy1iYAkVPtDNoiAJHmjLN3o9Fqyf5URn59vz68KxWWZlwltdOKgIS4lMBX3cUGkGPjA1A0bw6VeEFaN9Ly4bCmlTFCYADJ/042nJ4cKE04ldQ2d5q26ABSt3xBbPjARyVekNYNcxGQf4b5omYpx0/BMgeRneuVxdwOrtLEU0ltAhCVOEJCNwhAJIjHuyoBiDRFz9+PRovFqQFkzYD6qF+RAESauvLUNpeCdXxCAIrkIQCRxwvSWkkrBUskAIl8loB6M7anEokARNq8kbM2AYicatunLXMAEjajOXJkpRQs+6jO1yoBCF89JVkjAJEkHy4+iEHwon2pjIgOIC1cSmJpd3dp4qmktmYBxN8ZI5pVUYkXpHUjLQApkCsbTk0SIwIS9eIlak/7N5VIi7vWwbtupaSJp5LaaUXp6pUviPWCR0A2DWuIGqXyqcQL0rqRlg+7eJTFnPZiR0AuzwhG9qyZpYlnQW16X7NApAyKEIBI15CbBZrQ0qS8FB6D5gtTA8jaAfXhJXAEpIVrSSztJjaAhE4IQGGBIyAf+TtjuMAAUjBXNpwUBEBi4hPhOiX1Djxfdq2DVgIDiEeFglg3SIwUrJ2XIvDeD6kXoW/+qCGqlxQXQLp6lsXsdmIAiLlF6AQg0t6j5KxNACKn2hm0RQAizRnmAOS3gd7wdCokzbhKaqf1VUsLAHJiYjMUyp1dJV6Q1o20fEgAIk1TOWu/eJmEGpO2pmqSAEROL0hriwBEmn5qqG0OQK7MDEa2LBQBUYOPMuoDAUhGCsn4ewIQaWKbA5B1g7zhUUFcAGnpWhJLBI+AnJzYDAUFBpCPA5zxcYC4KVgMHhlEinDFJyaj2sQtqYaypFsdtHQVNwXLs0Ih/DbIWwQXwhyAbPm4IaqVEDkCUg6z27kI4UNzAHJ1ZjCyEoA4hI8JQFTkJgIQac7QKoCwtA/29VWEy9waENEBZHhAFXwU4CyCC9M8B6Rw7uwIFQRAkpJfofL4zal8xdIgWTRShCutKB2LIrNosgiXOQDZ+rEfqpbIK8IQ0zwzqptXOcxqSwDCw8H0viZdRQIQ6Rpys0ATWpqU5gBk/SBv1BM4AsIWvrIFsCJc5gDk1KRmKJBL3BQstgB9mL+4AFIkT3YcnyBGBOT169dwGrsp1e32VXd3hLiICyBeToWwVnAA2TbcD1WKiwsg3b3KYabgAHJtVgiyZM5k9z+H9L4mXWICEOkacrNAE1qalOZOKN7wgTfqlhc3BUskAFl77DY+3XA21UQ4PSkQ+XNlkzZBVFI7ra/LIgHI0F9P4q/T943UFglA2MDS8qFIAOI+/V88ef7SyIciAciJ20/RLo1DawlAVPKQtKAbX+64gs//vZyq5PVZIchMAGKBgsoXIQBR3gcpPSAAke6Mdl8dwInbUUaGRAKQg1cj0W3FEaPxta5dCou6iBEBMZfeIhKArDt+B6PWnzHy4chmVTBUkAhIWudkiAYgE/88h1WHbxn5cFl3dwQLEgFJ60yl+hULYc0AMVKwWBSrwZyduB8db+TDf4f7wVmQCMj2CxHo/5PxTl896pfDjDZipGCZW4tFACL9PUouCwQgciltQTsEIBaIlEGRsPBYBC3cawIgPmCn+IpymX59bVO7FBYKAiDMR/+ceYAPfzlh5C52ijY7zE6Uy9SHnwRWwZCmYqRgMR9N++sCvj9wI8VdogFIWmeBLO/hjua1xEjBYo5jL+j3ouJSfOhdsTB+HVBflFsQx28+QYflh4zGs32EHyoXEyMFiw3M9DnTs355TG9TSxgfrjl6G2N+N46Y35gdgkyZKAXLEZxMAKIiLxGASHfGlYhYNPvCGEB+H+wD93IEINLVlcfC5rMP8MHPxgByZkog8uUkAJHHA9JbER1AouMS4TbV+CwQAhDp80ZOC6G3nqL9soMEIHKKzrmt347dwegNxtHkm3NacG4lbXP0viZdZgIQ6Rpys0ATWrqUVx8+Q8CCPUaGRAeQtnVK44vOtaWLpxILW86FY9DqUKPeiA4go4Kq4sMmlVXiAendEB1AYuMT4WJyGOHyHnXRvFYJ6eKpxIJpBMSnUmH88r44EZCTt5+irck6kO0jGqFysTwq8YD0bphGQHp5l8e01uJEQNJKZyUAkT5v5LJAACKX0ha0QwBigUgZFLn+6Bmafm4MIH8M9kEdgSMg7eqUxgKBAGTb+XAMWGUMIGenBCKvwBEQAhDp976cFp4nJKHmZOPDCL/uWRdBNcUFkAaVC+Pn/uIAyOk7UWi99IDRtNkxshEqFRUXQHp7l8dUgQBkQ+hdjFx32siHBCByPgmltUUAIk0/rrUJQKTLeTPyORp/ttvI0J8fNkDtsgWkG1eJBdOvWqIBSFqLJ89NDUKeHFlV4gHp3TD1IQGIdE3ltBD3MhnVJxkfRkgAIqcHpLd19m40Wi3ZTwAiXUrFLPx+4i5G/EYAopgDJDZMACJRQJ7VCUCkq3n78Qv4zd+lLQBxL40FncRJwUrrkDDRAWR086oY3JhSsKQ/AeSxkNYOPN/0rItAgSMgvpWLYHV/L3kElqGVc/ei0fJLYwDZObIRKgocAenjUwFT3q0pg7ryNPHHybsYvpYARB61+bdCAMJfU5stEoDYLF1KxbtPX8B3rjGA/O/DBnATOALS3r0MPu/kJl08lVjYHfYQfVYeM+rN+alByC1wBOTT5tXwQeNKKvGA9G5M//sCvtsv7i5YL5NeocoE49PQv+1VD81qFJcunkosmK4BaehcBKv6iQMgF+7HIGTxPiO1d33SGE5FcqvEA9K7YRppJQCRrqneAr2vSdeSAES6htws0ISWLuX9qDj4zNlpZGjjkAZwLSNuCpZoALL38iP0+v6okQ8vTAtCruzipmARgEi/9+W0kNZ5NQQgcnpAeluXwmPQfCEBiHQllbNAERDltOfRMgEIDxU52SAAkS5keHQ86s/eoSkA6VC3DD7rKE4EZP+VSPT4zviwRdEBZExwNQxqJE4ERPRdsF69eo2K4zYZPWdW9KqHAIqASH+Iy2ThckQsAk22bN/9SWNUEDgC0rdBBUxuRSlYPKYYva9JV5EARLqG3CzQhJYu5cOYeHjOMgaQv4b4wqVMfunGVWLBNKzesW4ZzBcIQNI67f3itOZ4J3sWlXhAejdMfTg2uBoGEoBIF1YmC+wkbaexxgDyXe968K8ubgqWX5Wi+Ok9T5kUtn8zVx/GImCB8ZlRe0Y1RvnC4qZgvdfACZNa1bC/uDK1QBEQmYS2UzMEIHYS1hazBCC2qGZc51FsAjxmbjf64d9DfVGrNAGIdHXlsXDo2mN0/fawUWOXpjdHzmwEIPJ4QHorokdAmEKmEEkAIn3eyGkhrS3bCUDk9ID0tv48eQ8frz1lZIi24ZWuq1wWCEDkUtqCdghALBApgyKPnyWg7gxtAUinemUwr4M4KVhHrj9G52+0BSDjQqphgB+lYEl/AshnwRRAvu9TD02riRsBaVSlKH4UKAKS1pbte0c1QbnCueSbRHZuyXSO9vN1wsSW4kRACEDsPIHsbJ4AxM4CW2OeAMQatdIu+/T5S9SZ/q+mIiCd65XF3A6u0sVTiYWjN56g09eHNBUBGR9SHe/7VVSJB6R3I3UEJAeOTwiQblhFFkxf7lb28UCTasVU1ENpXTHdBatx1aL4oa84KVhpbdm+b3QTlC0kLoD093XCBAIQaTfGf7XpfU26jAQg0jXkZoEmtHQpo18kwm3aNiND/wzzRc1S4qZgdfEoizntxQaQsBnNkSOruClYE1pUR/+GIgNIdhyf0Ez6Da4iC6kApK8HmlQVF0CaVC2KlQIByJ0nL9BwnvGW7aIDyPsNnTC+BUVAeDxG6H1NuooEINI15GaBJrR0KWPiE+E6xRhANg1riBql8kk3rhILpi8+WgCQyzOCkT1rZpV4QHo3TH1IACJdU7ktEIDIrTjf9u5FxYFFeQwvAhC+GtvbGqVg2Vth+9onALGvvlZZJwCxSq40Cz9LSEKtyVuNfic6gHT1LIvZ7cSOgBCASL835LSgxUXoP/T1QGOBIyBNqxXD93085JxGdm3rQXQcvGcbA8j+T5ugTEFxU7AG+FXEuJDqdtVVTuMEIHKqzb8tAhD+mtpskQDEZulSKr54mYQak4wBZPNHDVG9pLgRkK6e5TC7nYt08VRiIa01IFdmBiNbFnEjIGxhKFsgKsqlRQBhC7TZQm1RLtM1IP7ViuE7gQAkIiYeXiZbth8Y0xSlC7wjigtT7dQ20K8ixhKAcPEvva9Jl5EAxEDDbdu2Yf369QgNDcXZs2eRmJiIGzduoEKFCmkqfe7cOYwePRr79+/X/d7X1xfz5s1DrVq1bPIMTWibZDOqFJ+YjGoTtxj9bMvHDVGtBAGIdHXlsZAWgFydGYysBCDyOIBDKwQgHERU2IToAPIwNh6eM43PjCIAUXjSWdk8RUCsFExlxQlADBzSp08f/Prrr3BxcUFCQgIYYJgDkCtXrsDDwwOFChXC0KFDdVYWL16MqKgoHD16FM7Ozla7mgDEaslSVUhISkbVCdoCkG5e5TCrrdgRENEBZFLLGniPIiDSHwAyWjBdA8IO6WOH9YlymQJIQPViWNFbnBSsyGcJqGeyZfvBMU1RSuQISKOKGBtMKVg87lF6X5OuIgGIgYb37t1DkSJFkCNHDkyYMAEzZ840CyAdOnTAli1bcPHiRZQtW1Zn5c6dO6hevTqCg4Oxbt06q71DE9pqyVJVSEx+Befxm41+vvVjP1QtkVe6cZVYMH3x6e5VDjMFB5Brs0KQJXMmlXhAejdMfTi5VQ30bUApWNKVlc+CqQ9X9fNEQ2eRAaQ4VvSuJ5/Adm7pyfOXcDfZsv3Q2KYomV/cFKxBjSphTHA1Oysrn3mKgMintT1aIgAxo2p6APLs2TMULlwYXbp0wY8//mhkoXfv3li7di0iIyORJ08eq3xGAGKVXGkWTn71GpXGbTL63bbhfqhSnABEurryWEgrBev6rBBkJgCRxwEcWtFiChYBCIeJI6OJqBcvUXua8ZlRBCAyOoBDU3+cvIvha08bWaKT0DkIK5MJAhAbAOTQoUPw8fHBsmXLMGjQICML7GeDBw8GK1O/fn2r3EgAYpVcaRZ+/fo1nMZqC0B61C+HGW3ETsESHUCmtKqBPhQBkf4AkNGCaQRkdT8v+DoXkbEH9m3KNAWrWY3i+LaXOBGQ6LhEuE013rL98Fh/lMif077CymjddI5+0LgSPm0uTgSEAETGyWSHpghAbACQDRs2gKVgbdy4Ea1atTKywH7WunVr3WL29u3bm3XZgwcPwP4ZXiydq0ePHrpF8O7u7nZwtzZMmj50/x3uB2eBIyA965fH9Da2bXygxhmRVgTkxuwQZMokbgrW1HdrordP2ptdqNFHGfVJixGQn/t7oUFlcQEksEZxfCMQgMTGJ8LF5MyoI+P8UTyfuAAyuHEljCYAyejxZdHv6YOxRTKlW0hIAGG7V127ds0idXLlyoVy5cqlKpteCtaqVavQq1cvbN26FYGBgUZ12U5aQUFBYGUYTJi7pkyZgqlTp6b5awIQi1xntpApgGwf4YfKxcRNwdICgMgVVpc28yyvbTpHCUAs104tJU19SACiFs9Y1o+0tmwnALFMO7WUojUgavGEbf0QEkBu3rwJJyfLFnQ2atQIu3fvtgpAKAJi22STq5bWAKSXd3lMay12BER0AJnWuiZ6eVMERK5nBI92TJ8zv/T3go/AEZCgmsXxdU9xUrDiXiaj+iTjHROPjvNHMYEjIB82qYRRQeKkYBGA8HiSKWdDSACJi4vDnj17LFKVbaPr6elpFYDQGhCLpFWsUGoAaYTKxazbEECxzlvQsOn4enuXx1QCEAuUU08RUx9Ob10TPQlA1OMgC3qSCkDe94JPJXFTsJrXLIHlPetaoIxjFEnrzKij4/1RLK+4KVhDmlTGJ0FVHcNBFvSSAMQCkVRcREgA4aG3lF2w1qxZg8ePH9MuWDwcYYMN0xeDHSMboVJRcQCk6oTNSEh6laKMaABy+k4UWi89YOR50SMgogHIwu2XsXD7lRQfFsmTHccnNLPhblZvFdEBhN2D7F7UXwQg6p2L5npmOkdFA5At58IxaHWoIn8raA2I9PuBAMSMhhmdA8IWmLM1IJcuXUKZMmV0VvTngLA1ICxNy9qLJrS1iqVdPmTRPlx4EJPyS9EA5NjNJ+i4/FDK+Pr4VMCUd2vyEU8FVtLayUw0ANkQehcj173dPpJtIsDW8ohyPUtIQq3JW4UGkFHrTmNd6N2UMf76fn14Vyosigtx9eEzBCx4m0kQXKsElvUQJwLCHMV2wWK7YemvY+MDUDRvDmF8uDvsIfqsPJYynqFNK2NkoDgRkKTkV6hscu6XXH8r6H1N+m1CAGKg4ZkzZ3Q7W7Fr+/btujSukSNHokCBArp/Q4YMSSkdFhamS91i54EMGzZM93N2EjqLfLCT0KtWtf4mpwktfUIzC2fuRuHdJW+/oO8c2QgVBYqAsDE2mr8Ltx6/0AkmGoCwMZm+oMv1R4XPDLTMiuHXyRltaqGHQADCFJi96SK+3ntdJ4aIEZCImHh4zdqR4uw1A+qjfkVxAET3bFl5FLvDHunGGOJSAl91FwtADlyNRPcVR1J8eHxCAIrkEQdA2MCcx29CYvJr3RiHNa2MEQIBCBvTygM3MPWvCyk+lOtvBb2vWfZ3Lr1SBCAG6vzwww/o27dvmnqVL18ebHG74cWAZfTo0Thw4M3Lrq+vL+bOnQtXV1ebPEMT2ibZUlUyBZBdnzSGU5HcfIyrxErQF3sRFhGr603fBhUwuZU4ERA2JtP93eX6oyKnew0BZGbbWujuJU4EhOk4f+slLN31ZjdCLQDI2gH14SUYgAxcdRxbz0fofNjCpSSWdhdre3hTAAmdEIDCggGIy+StiE1IegMg/s4Y0ayKnI85u7f148GbmLzxPAGI3ZXm3wABCH9NbbZIAGKzdEYVz96NRqsl+1N+tvuTxqhAAMJHXJmsmC4uJACRSXiOzXy2NQxLdl0VFkAexsTD0yACIiKADFoVii3nw4UFkINXI9HNIAJCAMLxASCTqZ8O3cSk/xGAyCQ312YIQLjKKc0YAYg0/fS1z92LRssvtQMg7zVwwqRWNfiIpxIrWgOQWW1d0M0r9XlEKnGHTd0QHkBi4+E5820K1m8DveHpVMgmrdRayQhAXEtiaTexIiAHr0Wi27dvU7BOTGyGQrmzq9UdNvXLMALykb8zhgsWAVl16CYmEoDYNDeUrkQAorQHDNonAOHjDFMA2TOqMcoXFjcFq5+vEya2FAtA/nfqHj5acyplQogeAZndzgVdPcUCkM+3heHLnQJHQEwAZN0gb3hUEAtAPlgdis3n3kRAWrqWxBLBAeTkxGYoKDCAfBzgjI8DxErBIgDh896khBUCECVUN9MmAQgfZ5gCyN5RTVCucC4+xlVixXANCAGISpxiZTcM14CICCALtoVhscAA8ig2AR4zt6d4XUQAGfxzKDadFRdADl17jK7fHk7xIQGIlQ8xFRRfdfgWJv55TvaPVfS+Jt35BCDSNeRmgSY0HynP349Gi8VvU7BEB5D+vk6YQBEQPpNHRiuGADKnnQu6CBYBER1AIp8loN6MtwCyfpA36gkWATEEkFZupfBl1zoy3iH2b+rw9cfo8s1bADk1qRkK5BI3BWt4QBV8FOBsf2FlbGH14VuYQAAio+L8miIA4aelZEsEIJIl1BkwBZB9o5ugbCFxIyDvN3TC+BZipWBtPH0fw349KftXLT4z0DIrhgAyt70LOnuIlYK14N/LWLzjzWGEIu6CZQogGz7wRt3yYqVgffjzCfxz9oHOh++6lcJiwQHk9KRA5M+VzbIb2EFKGa4BYTtgsZ2wRLoIQBzXmwQgKvIdAQgfZ1y4H4OQxftSjBGA8NFVTit/nb6PoQQgckrOva0v/r2MRQIDyONnCahrEAEREkB+OYF/zogLIEeuP0ZngwgIAQj3x4DdDf585BbG/0EpWHYX2g4NEIDYQVRbTRKA2Kqccb2LD2IQvEg7ADLAryLGhVTnI55KrGgNQOa1d0Unj7IqUZ9PN0QHkCfPX8J9+r8pYm34wAd1yxfkI55KrHxoACCta5fCoi5ipWAdvfEEnb4+lKL26cmByP+OuBGQkc2qYKhgEZBfjtzGuD/OpvhQrg1L6H1N+kOKAES6htws0ITmI6UpgOz/tAnKFBQ3BWugX0WMFQxA/j5zH0N+0U4K1rwOruhUTywAWbj9MhZuFzcFyxRAfh/sA/dyYgHIkF9O4O//IiBtapfCQsEB5MyUQOTLKS6AfBJYBUOaipWCRQDC571JCSsEIEqobqZNAhA+zrgUHoPmC99GQA6MaYrSBd7hY1wlVgx3wRIRQFjaB/v6qr/k+qolp3sN14CICCCLtl/BF9sv6yQVcQ3I0+cvUccgAiIigLA0SBaNZJeIAHLs5hN0XP42AkIAIucTkE9bvx69jbG/UwSEj5ryWiEAkVfvdFsjAOHjjLDwWAQt3JtiTHgAaVQRY4PFSsHSGoDM7+CKjoJFQEQHkKgXL1F72tsUrD8G+6COYBEQQwBpW6c0vuhcm89DWiVWjt98gg4GAHJ2SiDyChwBGRVUFR82qawS9fl0Y83R2xhDAMJHTJmtEIDILHh6zRGA8HGGKYAcHNMUpQSOgAxqVAljgqvxEU8lVjadfYDBP2snAvJZRzd0qFtGJerz6QbbAYvthCVqBMQUQP78sAFqly3ARzyVWGE70bEd6djVrk5pLBAcQM5NDUKeHFlVoj6fbhjugkUAwkdTZoXe16RrSQAiXUNuFmhC85HyckQsAr94GwE5NLYpSuYXNwVLRADZfPYBPiAA4XNDKGTlyx1X8LnAABL9IhFu07alqCsigHy05iT+d0pcAAm99QTtl71NwSIAUehhIaHZtcdu49MNlIIlQULFqhKAKCZ96oYJQPg440pELJppCEA+aFwJnzYXKwKiNQD5vKMb2gsWAREeQOIS4Tb1LYD878MGcBMsAmIEIO6lsaCTWClYobeeov2ygyl/eM5PDUJugSMgo5tXxeDGYqVg/XbsDkZvOJPiQ7nWC9L7mvT3NQIQ6Rpys0ATmo+UVx/GImDB2wjI4bH+KJE/Jx/jKrFiuAh9cONKGC0YgGw59wCDVmsnBWtBJze0cxcrBWvJziv4bJu4KVgx8YlwnfIWQDYOaQDXMmKlYH285iT+/C8C0t69DD7v5KaSJyCfbpy4/RTtvnoLIBemBSFXdnFTsNiHKvbBSqTrt+N3MHo9AYgj+pQAREVeIwDh4wxTADkyzh/F84kLIB82qYRRQWJFQLacC8eg1aGyf9XiMwMts2K4C9YXnd3Qto5YALJ011XM3xqmE0PEXbBMAeSvIb5wKZPfMuc7SKnha0/hj5P3dL1la5TYWiWRLlMAuTitOd7JnkWkIcJwDQhbK8hSdkW6CEAc15sEICryHQEIH2dcffgMAQv2pBg7Os4fxQhA+Igrk5Wt58MxcBUBiExy26UZ0QEkNj4RLgYREBEBZMTaU/hdYAA5efsp2hpEQAhA7PIosKvRdcfvYBRFQOyqsb2ME4DYS1kb7BKA2CBaGlWuPXoG/8+1AyBDmlTGJ0FV+YinEitaA5CFnWujTZ3SKlGfTzdEB5BnCUmoNXlrilh/D/VFrdJiRUAMAaRj3TKYL1gE5NSdKLRZeiDFh5emN0fObOJGQMYGV8NAwSIg60Pv4pN1p1N8SGtA+Dy/5bBCACKHyha2QQBioVAZFEsFIOP9USyvuClYQ5tWxshAsQBk2/lwDNBQ7/JIggAAIABJREFUBGRRl9poXVssAPlq91XM2yJuCpYmAOS3U/j9xJsUrE71ymBeB7FSsLQGIONCqmGAn1gpWAQgfN6blLBCAKKE6mbaJADh44zrj56hqUEE5Nj4ABTNm4OPcZVYMVyELiKA/HshAu//dFz2r1pyutdwDYiIALJs9zXM3XJJJ6mIa0CeJyShpuARkJG/ncaGE3eFBZDTd6LQWkMREBEBZEPoXYykCIicf7q4tUUAwk1K6YYIQKRryCzciHyOJp/tTjEmOoAMa1oZIwSLgBCA8LkXlLQiOoC8eJmEGpPepmD9M8wXNUuJlYJlCCCd65XF3A6uSk4p7m2fuRuFd5e8TcEKm9EcObKKm4I1PqQ63veryF1HJQ3+fuIuRvxGKVhK+sDWtglAbFXODvUIQPiIagogxycEoEgecSMgw/ydMaJZFT7iqcTK9gsR6K+hCMjirnXwrlsplajPpxvL91zDnM3iRkBMAWTTsIaoUSofH/FUYoXl1rMUF3Z18SiLOe3FBpDLM4KRPWtmlajPpxuGu2BNaFEd/RsSgPBQlt7XpKtIACJdQ24WaELzkfJm5HM0NoiAhE4IQGECED7iymRlx8UI9PtROylYIgLI13uuYbbAABL3MhnVJ21JuSMIQGR6OHBs5uzdaLRasj/FIgEIR3FlMvXHybsYvpYiIDLJzbUZAhCuckozRgAiTT997VuPn6PR/LcpWKIDyEf+zhguWAREawDyZdc6aCVYBER0AIlPTEa1iW8BZPNHDVG9pLgRkK6eZTG7nVgRkHP3otHyy7cAcmVmMLJloQgIn7/E8lj58+Q9fLz2VEpjtAuWPLrzaIUAhIeKnGwQgPAR0hRATkxshkK5s/MxrhIrhovQPw5wxscBYqVg7bwUgfd+0E4EZEm3OmjpKlYK1jd7r2HWJnFTsEwBZMvHDVGthMgAUg6z27mo5AnIpxumAHJ1ZjCyCgwgE1vWQD9fJz7iqcQKAYhKHGFDNwhAbBDNXlUIQPgoe/vxC/jN35Vi7OTEZihIAMJHXJms7Lr0EH1/OCb7Vy2ZhqdrxnAXLBEB5Nu91zFz00XdWEXcBYsARM67xT5tEYDYR1c5rf7v1D18tIYiIHJqzqstAhBeSnKwQwDCQUQAd568QMN52gGQ4QFV8FGAMx/xVGJFawCytJs7WriWVIn6fLohOoAkJCWj6oS3KVhbP/ZD1RJ5+YinEiuGi9C7eZXDrLZiRUDO349Gi8VvU7CuzQpBlsyZVKI+n24YLkKf1LIG3hMsAkIAwmeeKGGFAEQJ1c20SQDCxxmmAHJqUjMUyCVuChbbAYvthCXStSvsIfqu1E4E5Kvu7ghxEQtAVuy7jhn/iBsBeZn0ClUmbE657bYN90OV4uICSHevcpgpGIBcuB+DkMX7Unx4fVYIMgsMIJNb1UDfBmKlYG08fR/Dfj0pe7Sc3tekv3EQgEjXkJsFmtB8pDQFkNOTApE/VzY+xlVixXANiIgAsjvsIfoQgKhkttnWDQIQ23RTUy3DCAgBiJo8Y3lfDCMgBCCW65ZRSXpfy0ihjH9PAJKxRrKVoAnNR+q7T1/Ad+7bFCzRAWRksyoYKlgERGsAsqy7O4IpAsLnASCTlcTkV3Ae/zYC8u9wPzhTBEQm9fk0c/FBDIIXvY2A3JgdgkyZxE3BmtKqBvoIFgH56/R9DKUICJ8bQmYrBCAyC55ecwQgfJxxLyoODebsTDF2enIg8r8jbgTkk8AqGNJUrBSsPZcfoff3R2UPq/OZgZZZMVyEvryHO5rXEisF67v9NzD97ws6MURchJ6U/AqVDQBk+wg/VC5GKViWzX51lLoUHoPmC98CiFxbuMo5esMIyNR3a6K3TwU5m7d7W3+fuY8hv1AKlt2FtkMDBCB2ENVWkwQgtipnXM8UQM5MCUS+nOICyKigqviwSWU+4qnEyt7Lj9BLUwBSF81rlVCJ+ny68f3+G5imKQBphMrF8vARTyVWRE/B0hqATGtdE728CUB43F70viZdRQIQ6Rpys0ATmo+U96Pi4GMQASEA4aOrnFYIQORU2z5tiQ4gya9eo9K4TSnibR9BAGKfmWQ/q2HhsQhauDelAdEjICICyD9nHuDDX07I7kN6X5N+XxKASNeQmwWa0HykfBAdB+/Zb1Owzk4JRF6KgPARVyYr+648Qs/vtJOC9XXPugiqKVYEZOWBG5j6l7gpWK9evUZFAwDZMbIRKhWlCIhMjwguzVyOiEXgF9oBkOmta6KnYBGQTWcfYPDPBCBcbgiZjRCAyCx4es0RgPBxhimAnJsahDw5svIxrhIrhrtgjW5eFYMbi5WCtf9KJHp8d0T2r1pyutdwDcg3PesiUDAA+eHADUzREIDsHNkIFQlA5LyFJLelOQBpUws965eXrJuaDBCAqMkb1vWFAMQ6vexamgCEj7zh0fGoP3tHirHzU4OQmwCEj7gyWTlwNRLdVxCAyCS3XZr58eBNTN54XmdbxEXor1+/htPYtylYBCB2mUZ2NXolIhbNtBQBERBANp99gA8oAmLX+8RexglA7KWsDXYJQGwQLY0qETHx8JqlHQD5tHk1fNC4Eh/xVGJFawDyba96aFajuErU59MN0QGEqWQYxdr1SWM4FcnNRzyVWBF9EfrVh7EIWKCdFKwZbWqhh2ARkC3nHmDQakrBUskjw6puEIBYJZd9CxOA8NHXFEAuTAtCruzipmCNCa6GQY3EApCDVyPRTUMRkBW96iFAMAD56dBNTPqfuBEQUwDZ/UljVCAA4fMQl8mK1gBkZtta6O4lVgoWAYhMN4sdmiEAsYOotpokALFVOeN6D2Pi4WkQAbk4rTneyZ6Fj3GVWDFcAyIkgFyLRLdvtZOCJSKArDp0ExMJQFTyxLCtG+JHQJ4hYMGeFHFE3wVLTAAJx6DVobL7kN7XbHumGNYiAJGuITcLNKH5SPkwNh6eM9+mYIkOIGODq2GgaBEQjQHId73rwb+6WClYWgOQPaMao3xhSsHi8xSXx8q1R8/g/7l2AGRWWxd08yonj7gytbL1fDgGriIAkUlurs0QgHCVU5oxAhBp+ulrP4pNgMfM7SnGLk1vjpzZxI2AjAuphgF+YqVgHbr2GF2/PSz7Vy0+M9AyK4brB77vUw9NqwkGIIdvYeKf53RiiLgInY3L0Id7RzVBucK5LHO+g5QSPQJy/dEzNNUQgMxu54KunmIByLbz4RhAAOIgTxTjbhKAqMhtBCB8nEEAwkdHJa0cvv4YXb4hAFHSB1LbXn34FiYQgEiVUdH6BCCKys+lcZfJWxGbkKSzRQDCRVKdEXpfk64lAYh0DblZoAnNR8rIZwmoN0M7EZDxIdXxvl9FPuKpxIrWAGRlHw80qVZMJerz6YbWAGTf6CYoW4giIHxmjzxWbkQ+R5PPdqc0JvoakDntXNBFsAjIvxci8P5Px2X3Ib2vSb9HCUCka8jNAk1oPlI+fpaAugYAEjajOXJkFTcFa0KL6ujfUCwAOXL9MTprKAKysq8HmlQVC0B+PnIL4//QTgoWAQif57ecVm5GPkdjDQHI3PYu6OwhVgrW9gsR6E8AIudtw60tAhBuUko3RAAiXUNmwRRALs8IRvasmfkYV4kVw12wRASQozeeoNPXh2T/qiWnew3XD/zQ1wONBQOQX47cxrg/zuok1cIakP2fNkGZghQBkfMektqW1gBkXntXdPIoK1U2VdUnAFGVO6zqDAGIVXLZtzABCB99nzx/Cffp/6YYIwDho6ucVghA5FTbPm0RgNhHVzmtir4G5Nbj52g0XzspWCICyI6LEej3I6Vgyflc4NUWAQgvJTnYIQDhICKAp89foo4BgFyZGYxsWcSNgExsWQP9fJ34iKcSK8duPkHH5dqJgPz4nicaVSmqEvX5dOPXo7cx9nftREAOjGmK0gXe4SOeSqyIDiC3H7+A3/xdQkdaDRehz+vgik71xIqA7LwUgfd+IABRySPDqm4QgFgll30LE4Dw0dcUQK7ODEZWgQFkUssaeE8wADl+8wk6aAhAfnrPE36CAciao7cxRkMAcnBMU5QiAOHzEJfJitYAZH4HV3QkAOEyu+h9TbqMBCDSNeRmgSY0HymjXrxE7WlvU7AIQPjoKqcVAhA51bZPWwQg9tFVTquiR0DuPHmBhvO0EwEREUB2XXqIvj8ckz2KRe9r0p9EBCDSNeRmgSY0HymjXyTCbdq2FGPXZoUgS+ZMfIyrxIrhIvTJrWqgbwOxUrBCbz1B+2XaScFa1c8TDZ3FSsFae+w2Pt2gnRSsQ2ObomR+SsFSySPSom5oDUA+6+iGDnXLWKSNoxTaFfYQfVcSgDiKvwz7SQCiIq8RgPBxhimAXJ8VgswCA8iUVjXQRzgAeYr2yw7K/lWLzwy0zIrhLlir+3nB17mIZRUdpNRvx+5g9IYzut5qYResw2P9USJ/TgfxjmXdpAiIZTqpuZThGpDPO7qhPQEIF3fR+5p0GQlApGvIzQJNaD5SRsclwm3q2wjIjdkhyJRJ3AiIiABy4vZTtPuKAITPHaGMld+O38Ho9QQgyqjPp1XRAeTu0xfwnaudFCwRAWR32EP0oQgInxteZisEIDILnl5zBCB8nBETnwjXKdoBkKnv1kRvnwp8xFOJFa0ByM/9vdCgsmAREI0ByJFx/iiejyIgKnmEWNSNe1FxaDBnp9CRVsMIyIJObmjnLlYK1p7Lj9D7+6Oy+5De1yy6xdItRADynzwvXrzATz/9hI0bN+Ls2bN4/PgxKlSogJYtW2LcuHEoUKBAKiHPnTuH0aNHY//+/brf+fr6Yt68eahVq5ZNnqEJbZNsqSqZAsjNOS34GFaRFcM1INNa10Qvb7EA5OTtp2iroQjIL/294CMYgKw7fgejNBQBOTrOH8UIQFT0lMy4K1oDkC86u6FtHQKQjGdGxiXofS1jjTIqQQDyn0IMJlxdXdGwYUMEBQWhWLFiCA0NxYoVK3Qgwv47X758KXpeuXIFHh4eKFSoEIYOHar7+eLFixEVFYWjR4/C2dk5I+1T/Z4mtNWSpVkhNj4RLgYREAIQPrrKaeXUnSi0WXpA9q9aco7RcA2IiACyPvQuWAoPu7SwBoQARM67h09b96Pi4KOhCIiIALL38iP0oggInxtCZisEIP8JHhkZifv37+sgxPD6/vvv0a9fP3z++ecYMWJEyq86dOiALVu24OLFiyhb9s3BPnfu3EH16tURHByMdevWWe1KAhCrJUuzwrOEJNSavFXol1fDCMj01jXRU7AIiOYA5H0v+FQSKwVLcwAy3h/F8lIKFp+nuDxWHkTHwXu2dlKwFnaujTZ1Sssjrkyt7LvyCD2/oxQsmeTm2gwBSAZyxsTEIH/+/Hjvvffw3Xff6Uo/e/YMhQsXRpcuXfDjjz8aWejduzfWrl0LBjR58uSxylkEIFbJZbbw84Qk1NQSgLSphZ71y/MRTyVWTt+JQmsNRUB+fb8+vCsVVon6fLqxIfQuRmooAnJsfACK5s3BRzyVWBF9EXp4dDzqz94h9McqwzUgi7rURuvaYgHI/iuR6PHdEdl9SO9r0h9SBCAZaBgWFoZq1aphzJgxmD17tq70oUOH4OPjg2XLlmHQoEFGFtjPBg8erCtTv359qzxEE9oquQhAImJ1GkwXEEDO3I3Cu0u0k4IlIoD8fuIuRvymnRQsAhA+z285rRCAyKm2fdoiALGPrnJYJQDJQOVevXph9erVOHnyJNzc3HSlN2zYAJaCxRast2rVysgC+1nr1q2xfv16tG/f3qz1Bw8egP0zvFg6V48ePXTrTdzd3eXwv5BtvHiZhBqTtJOCNaNNLfQQLAKiNQBZM6A+6lcUKwKiNQA5PiEARfJQBMSR/qhExMTDaxZFQBzJZ6Z9PXA1Et1XUATEEX0oJIAkJibi2rVrFvkjV65cKFeuXJplv/nmGwwcOFC39oOtAdFfq1atAgOTrVu3IjAw0Kjutm3bdIvYWRkGE+auKVOmYOrUqWn+mgDEIteZLRT3MhnVJ21J+b3oi9Bntq2F7l5ipWCdvRuNVkve7C7HLhF9aLgIfe2A+vASDED+OHkXw9dqJwISOiEAhQlApD28Za79MCYenhoCkMVd6+Bdt1Iyq2zf5g5ejUQ3AhD7imwn60ICyM2bN+Hk5GSRZI0aNcLu3btTlf3zzz91UY6QkBD8/vvvyJo1a0oZioBYJK1ihbQGILPauqCbV9oQrZgTJDZ87l40Wn6pHQD5baA3PJ0KSVRNXdX/PHkPH689peuUFnbBOjGxGQrlzq4uJ0jsjehrQLQGIF92rYNWBCAS74o31SllXrqMQgJIXFwc9uzZY5E6bBtdT09Po7IsivHuu+/q1nls2rQJOXMa72xCa0AsklaxQvGJyag2UTsREAIQxaaapIYNIyAEIJKkVKyyoQ8JQBRzg80NP4yNh+dM7aRgCQkg1yLR7VtKwbL5JlCwopAAIkVPBi5sG10XFxfs2LEjzZ2sMtoFa82aNbqDDGkXLCmesL2u1gBkdjsXdPWkCIjtM0aZmoYvr+sGecOjglgRkP+duoeP1mgnAnJyYjMUpAiIMjeTja0+ik2Ax8ztKbVFTPU03AVrSbc6aOkqVgrWoWuP0fXbw7L7kCIgNt50BtUIQAzEOHLkCAICAnTpWwxEChYsaFZhtsCcrQG5dOkSypR5c7Ko/hwQtgaEpWlZe9GEtlaxtMtrDUDmtHNBF8EA5Pz9aLRYrJ0UrPWDvFGPAITPA0BGK4YQeWpSMxTIRSlYMsovuSmtAcjSbu5o4VpSsm5qMkAAoiZvWNcXApD/9Lp16xbq1KmD2NhYzJkzB8WLFzdSkv3/Zs2apfyMbc/LUrfYeSDDhg3T/ZydhM4iH+wk9KpVq1rnCcoptFovcxUSkpJRdYJ2UrAIQLhNHVkNGb68EoDIKj23xghAuEmpiKHIZwmoN0M7ERARAeTw9cfo8g1FQBS5gSQ2SgDyn4BsIXqTJk3MypnWYvUzZ85g9OjROHDgzXkFvr6+mDt3bqrT1C31EUVALFUq/XIvk16hyoTNKYVEDKsbnoQ+t70LOnuIlYJ14X4MQhbvE9qHhi+vGz7wRt3yYqVgbTx9H8N+PanzoRYWoZ+eFIj8ubLxeYipxIroi9AfP0tAXQ0ByFfd3RHiIlYE5Mj1x+hMAKKSJ4Z13SAAsU4vu5YmAOEjr9YARMQIyMUHMQhepCUA8UHd8uZTPvncGfJa+ev0fQzVEoBMDkT+dwhA5J1l0lrTGoAs6+6OYAIQaZPmv9r0viZdRgIQ6Rpys0ATmo+Uicmv4DxeOxEQAhA+80ZuK8YREAIQufXn0Z6hD08TgPCQVFYbT56/hPv0f4WOtBouQhcRQI7eeIJOXx+S3Yf0vib9ViUAka4hNws0oflImZT8CpU1BCAipmBdCo9B84XaiYD8PtgH7uXEioD8feY+hvyinRSsM1MCkS8nRUD4PMXlsfL0+UvU0RCALO/hjua1xErBOnbzCTouJwCR547h2woBCF89JVkjAJEkX0rl5FevUWncJtm/iPDpvWVWDNeAiBgBCQuPRdDCvUL70PDr+R+DfVBHMAD558wDfPjLCZ0PtbAG5OyUQOQlALHsAaaSUlEvXqL2NO1EQJb3qIvmtUqoRH0+3Th+8wk6EIDwEVNmKwQgMgueXnMEIHycQQDCR0clrVyOiEXgFwQgSvpAatubzj7A4J8JQKTqqGR90RehE4AoObv4tE0AwkdHJawQgCihupk2CUD4OOPVq9eoqKEIiIgpWFoDkD8/bIDaZQvwuQFUYkVrAHJuahDy5MiqEvX5dEN0AIl+kQi3aduEjrQargH5umddBNUUKwISeusJ2i+jFCw+d7y8VghA5NU73dYIQPg44/Xr13AaSylYfNRUxsqViFg001AE5H8fNoCbYACy+ewDfKChCMj5qUHITQCizAPDxlaj4xLhNlU7APJNz7oIFA5AnqL9soOyQyS9r9l40xlUIwCRriE3CzSh+UhJAMJHRyWtXH0Yi4AF2knBEhFAtpx7gEGrtZOCRQCi5BPDtrYJQGzTTU21Qm8RgKjJH9b0hQDEGrXsXJYAhJ/Ahgt86SBCfrrKZUlrALJxSAO4lhErBUtrAHJhWhByZacULLmeETzaiYlPhOsU7URAvu1VD81qFOchnWpsnLj9FO2+ogiIahxiRUcIQKwQy95FCUD4KUwAwk9LJSxdffgMAQv2yB5Wl3OshnP0ryG+cCmTX87m7d7WlnPhGLQ6VNeOFnbBujitOd7JnsXuusrZgOhrQGLjE+GiIQBZ0aseAgQDkJO3n6ItAYicjwVubRGAcJNSuiECEOka6i0QgPDTUglL1x49g//n2gGQv4f6olZpsQBk6/lwDFylHQC5NL05cmYjAFHieWFrm1oDkO9614N/dbEiIAQgts5+5esRgCjvg5QeEIDwcwYBCD8tlbBEAKKE6nzbJADhq6cS1kSPgDxLSEKtyVuFjrQa7oIlIoCcuhOFNksPyO5Del+T/kQiAJGuITcLNKG5SQkCEH5aKmHp+qNnaEoRECWk59bmtvPhGEAREG56KmFIdAB5npCEmhoCkO/71EPTamJFQE7fiUJrAhAlHg+S2yQAkSwhPwMEIPy0JADhp6USlm5EPkeTz3bL/lVLzrEaztF/hvmiZimxUrD+vRCB9386rpNUC2tAwmY0R46slIIl5z0ktS2tAcjKPh5oUq2YVNlUVZ8ARFXusKozBCBWyWXfwgQg/PQlAOGnpRKWCECUUJ1vmwQgfPVUwproEZAXL5NQY5J2UrBEBJAzd6Pw7hJKwVLi+SC1TQIQqQpyrE8Awk9MAhB+Wiph6WbkczTWUARk07CGqFEqnxJS263N7Rci0F9DEZDLM4KRPWtmu+mphGHRASTuZTKqT9oidKTVcA3Iyr4eaFJVrAjI2bvRaLVkv+w+pPc16U8kAhDpGnKzQBOam5S0BoSflIpYuvX4ORrN104K1uaPGqJ6SQIQRSabhEYNP3RcmRmMbFkIQCTIKXvV+MRkVJuoHQD5oa8HGgsGIOfuRaPllwQgst88HBokAOEgIi8TBCC8lAQBCD8pFbFEAKKI7Fwb1VoEhACE6/SRxRgBiCwy27URAhC7ymtX4wQgdpXXOuMEINbplV5pSsHip6USlm4/fgG/+btkD6vLOVbDObrl44aoVoIiIHLqz6MtQx9enRmMrBQB4SGrbDa0BiA/vueJRlWKyqavHA0RgMihsn3aIACxj642WSUAsUm2NCtpCUDmtHNBF89y/MRTgaU7T16g4TztAMjWj/1QtUReFSjPrwtai4BcmxWCLJkz8RNQBZZEXwOSkJSMqhO0k4L103ue8BMMQM7fj0aLxZSCpYLHhdVdIACxWjL7VSAA4actAQg/LZWwRACihOp82yQA4aunEtYIQJRQnW+bhovQCUD4aUvva9K1JACRriE3CzShuUlJa0D4SamIJa0ByLbhfqhSnCIgikw2CY0afui4PisEmSkCIkFN+au+THqFKhM2pzR8c04L+Tth5xYNAWRVP080dBYrBevC/RiELN4nuw/pfU36xCUAka4hNws0oblJqSkAETEF6+7TF/Cdq50UrH+H+8GZAITfA0AmS4YAcmN2CDJlohQsmaTn0kxi8is4jycA4SKmQkYuPohB8CICEIXkl9QsAYgk+fhWJgDhpyelYPHTUglL96Li0GDOTtm/ask5VsM5SgAip/L82iIA4aelEpYIQJRQnW+bBCB89ZTTGgGInGpn0BYBCD9naAlA5rZ3QWcPsRahaw1Ato/wQ+VilILF7wkgjyXRnzOirwFJSn6FyhQBkedmsVMrl8Jj0HwhRUDsJK9dzRKA2FVe64wTgFinV3qlRX8xCPpiL8IiYnUSiAgg96Pi4KOhCMj2EY1QuVgefjeACixpbRG6iOsHRAeQ5FevUWncJqEjraKvAQkLj0XQwr2y+5De16T/kSEAka4hNws0oblJqak1ICICyIPoOHjP1k4K1o6RjVCpKAEIvyeAPJZE/9BBACLPPLJnKwQg9lGX3tek60oAIl1DbhZoQnOTkgCEn5SKWCIAUUR2ro1SBISrnIoYEx1AXr16jYoUAVFkbvFq9HJELAK/oAgILz3ltEMAIqfaGbRFAMLPGaJ/mRQ9BSs8Oh71Z++QPazObwZmbMlwju4c2QgVKQKSsWgqKyH6c0Z0AHn9+jWcxlIKlspuK6u6cyUiFs0IQKzSTC2FCUDU4gkABCD8nCH6i4HoABIREw+vWdoBkF2fNIZTkdz8bgAVWKIIiAqcILELBCASBVRBddFTsAhAVDDJbOwCAYiNwtmjGgEIP1UJQPhpqYQlAhAlVOfbJgEIXz2VsCY6gDBNRf9bITqAXH0Yi4AFlIKlxPNBapsEIFIV5FifAISfmKL/URE9AvIwJh6eGoqA7P6kMSpQBITfA0AmS6I/ZwhAZJpIdmxGfAB5hoAFe1IUlGs3Onpfkz5pCUCka8jNAk1oblIK/1VLeACJjYfnTO2kYO0Z1RjlC1MKFr8ngDyWCEDk0dmerYjuQ9EB5NqjZ/D/nADEnveIvWwTgNhLWRvsEoDYIJqZKqL/USEA4TdXlLJkOEcJQJTygrR2RX/OUARE2vxQQ20CEPt4gd7XpOtKACJdQ24WaEJzk5IiIPykVMTSo9gEeMzcLntYXc7BGr687h3VBOUK55Kzebu3RWtA7C6x3RsgALG7xHZvQHQAuf7oGZpSBMTu88geDRCA2ENVG20SgNgoXBrVRP8yaRgBmdPOBV08y/ETTwWWIp8loN4M7QDIvtFNULYQAYgKpp5VXRD9OUMAYtV0UGVh0QHkRuRzNPlst+wfq+h9Tfp0JwCRriE3CzShuUmpqQgIAQi/eSOnJcOXVwIQOZXn1xYBCD8tlbIkug8JQOwzs+h9TbquBCDSNeRmgSY0Nyk1BSBz27vJGqP6AAAgAElEQVSgs4dYEZDHzxJQlyIg/G4IBSxRCpYConNukiIgnAVVwJzoAHIz8jkaUwREgZklvUkCEOkacrNAAMJNSk0BiIgRkCfPX8J9+r+yh9X5zcCMLRl+ed3/aROUKUgpWBmrpq4Son89JwBR13yzpTeiA8itx8/RaD6lYNkyN5SuQwCitAcM2icA4ecM0V8MRF8D8vT5S9QhAOF3QyhgiSIgCojOuUkCEM6CKmCOAMQ+otP7mnRdCUCka8jNAk1oblJqKgIiYgqW1gDkwJimKF3gHX43gAosEYCowAkSu0AAIlFAFVQXHUBuP34Bv/m7ZI+W0/ua9MlNACJdQ24WaEJzk5IAhJ+UiliKevEStadpJwXr4JimKEUAoshck9Ko6JFWAhAps0MddUUHkDtPXqDhPAIQdcw263pBAGKdXnYtTQDCT17RXwxEP4gw+kUi3KZtk/2rFr8ZmLElwzl6aGxTlMxPEZCMVVNXCdGfMwQg6ppvtvSGAMQW1TKuQ+9rGWuUUQkCkIwUkvH3NKH5iS36iwEBCL+5opQlAhCllOfXrujPGQIQfnNFKUsEIPZRnt7XpOtKACJdQ24WaEJzk5JSsPhJqYil6LhEuE3VTgTk8Fh/lMifUxGt7dUorQGxl7Ly2SUAkU9re7UkOoDcffoCvnMpBcte88eedglA7KmulbYJQKwULJ3ion+ZFD0CEhOfCNcp2gGQI+P8UTwfAQi/J4A8lkR/zhCAyDOP7NmK6AByLyoODebsTJHw5pwW9pQzxTa9r0mXmQBEuobcLNCE5iYlRUD4SamIJQIQRWTn2ihFQLjKqYgxAhBFZOfaKAEIVzkJQDjKSQDCUUyppghApCr4tr7oXyZFj4DExifCRUMRkKPj/FGMIiD8HgAyWRL9OUMAItNEsmMzogPI/ag4+FAExI4zyH6mCUDsp63VlglArJbMbAXRXwxEB5BnCUmoNXmr7GF1fjMwY0uGc/ToeH8Uy0spWBmrpq4Soj9nCEDUNd9s6Y3oAPIgOg7esykFy5a5oXQdAhClPWDQPgEIP2eI/mJAAMJvrihliQBEKeX5tSv6c4YAhN9cUcoSAYh9lKf3Nem6EoBI15CbBZrQ3KSkNSD8pFTE0vOEJNTUUATk2PgAFM2bQxGt7dUorQGxl7Ly2SUAkU9re7UkOoCER8ej/uwdskfL6X1N+owlAJGuITcLNKG5SUkAwk9KRSy9eJmEGpO0k4J1fEIAiuQhAFFksklolCIgEsRTSVXRfSg6gETExMNrFgGISm4nq7pBAGKVXPYtTADCT1/R/6iInoJFAMLvXlDKEkVAlFKeX7sUAeGnpVKWCEDsozy9r0nXlQDEQMN58+bhr7/+QlhYGKKjo1G8eHF4eXlh/PjxqF27diq1z507h9GjR2P//v263/n6+oLZqFWrlk2eoQltk2xpViIA4aelEpbiXiaj+qQtKU3Ltbe7nGM1nKOhEwJQmCIgcsrPpS3RnzMEIFymiaJGRAeQhzHx8KQIiKJzzNbGCUAMlOvYsSPy58+P6tWro2DBgrh79y5WrlyJ+/fvY/fu3fD29k4pfeXKFXh4eKBQoUIYOnSo7ueLFy9GVFQUjh49CmdnZ6t9QgBitWRmK4j+YmAYAZnTzgVdPMvxE08FluITk1FtonYA5MTEZiiUO7sKlOfXBYqA8NNSKUsEIEopz69d0QGEUrD4zRW5LRGAZKB4eHg4ypYtiw4dOuDXX39NKc3+/5YtW3Dx4kXd79l1584dHbwEBwdj3bp1VvuSAMRqyQhAABCA8Js3cloyhGQCEDmV59eW6B86CED4zRWlLBGA2Ed5el+TrisBSAYavnr1CgUKFECDBg2wefNmXelnz56hcOHC6NKlC3788UcjC71798batWsRGRmJPHnyWOUhmtBWyZVuYdFfDERfA6K1CMjJic1QkCIg/B4AMlkS/TlDACLTRLJjM6IDCKVg2XHy2Nk0AUgaAjN4YODBUq+++OIL/PTTT1i4cCE++ugjXelDhw7Bx8cHy5Ytw6BBg4wssJ8NHjxYV6Z+/fpWuY8AxCq5CEAiYnUazG3vgs4eYqVgJSQlo+oE7aRgnZrUDAVyUQoWvyeAPJYIQOTR2Z6tiO5DAhD7zB56X5OuKwFIGhpmypQp5adsTQhb4zF16lRkzpxZ9/MNGzboUrI2btyIVq1aGVlgP2vdujXWr1+P9u3bm/XQgwcPwP4ZXiydq0ePHggNDYW7u7t072rYguh/VESPgLxMeoUqE95EHNkl+iL005MCkT9XNqHuWFoD4vjupAiI4/uQAMQ+PiQAka6rkACSmJiIa9euWaROrly5UK6c8dfj7du3IykpCVevXtVFP1gkg+1ulTNnTp3NVatWoVevXti6dSsCAwON2tm2bRuCgoJ0ZRhMmLumTJmig5q0LgIQi1yXbiECEOkaKmmBAERJ9fm0TQDCR0clrRCAKKk+n7YJQPjoaGqFAES6rkICyM2bN+Hk5GSROo0aNdLtcGXuYtvxurq6omHDhli9erWuGEVALJJW0UIEIIrKL7nxxORXcB5PERDJQipogABEQfE5NU0AwklIBc0QgNhHfAIQ6boKCSBxcXHYs2ePReqwbXQ9PT3TLfvBBx/gm2++wfPnz3VREFoDYpG0ihYiAFFUfsmNJyW/QmUCEMk6KmmAAERJ9fm0TQDCR0clrRCA2Ed9AhDpugoJINJlMbbQp08f3W5XERERKFasWIa7YK1ZswaPHz+mXbB4O8IKewQgVoilwqIEICp0ipVdIgCxUjAVFicAUaFTrOwSAYiVgllYnADEQqHSKUYA8p84LLrBrty5cxvJxc72YKeg58uXDzdu3Ej5HVtgztaAXLp0CWXKlNH9XH8OCFsDwtK0rL1oQlurmPnyBCD8tFTCUvKr16g0blNK07QIXQkvSGuTAESafmqoTQCiBi9I6wMBiDT9zNWm9zXpuhKA/KfhqVOn0LRpU7DT0KtWraqLXoSFhelOQo+NjcUff/yBli1bpijOfsdSt9h5IMOGDdP9nJ2EziIf7CR0ZsPaiya0tYoRgDAFRNyG99Wr16hIAMLvhlDAEgGIAqJzbpIAhLOgCpgjALGP6PS+Jl1XApD/NGRnf0yaNAl79+7VRTJevHiB4sWLw9fXF6NGjULdunVTqf3/9s4FXMcq7eO3M41jqFEJkVNkmAkhJoVmakqnuRxLJqUTowmpqUxTcqj5JlFpVBNJ0vmESjrYRTEOFfooyjEx5BiR7/qv63v39W723va7n/U872H/1nV1xbaee631u9f77vV/1rrvtXTpUhsyZIhlZWW5f1PdUaNGuaD1whQmdGGo5f4MOyD+WCbDEgIkGdT9tokA8cszGdYQIMmg7rdNBIhfnjFrrNeCc0WABGfozQIT2htKQ4D4Y5kMS4cOHbI6wziClQz2vtpEgPgimTw7CJDksffVMgLEF8mcdlivBeeKAAnO0JsFJrQ3lAgQfyiTZinTRWT8+LiIMGnTLFDDmT5HESCBpkdKPIwACccNrNeCc0WABGfozQIT2htKBIg/lEmzlOmLOwRI0qaWt4YzfY4iQLxNlaQZQoCEg571WnCuCJDgDL1ZYEJ7Q4kA8YcyaZYyfXGHAEna1PLWcKbPUQSIt6mSNEMIkHDQs14LzhUBEpyhNwtMaG8oi5QAGXlJU+vW8mR/8FLEUqYv7uLHt/jOTlb5mNIpQt5PN+JjQKr+orQtvKOTH8MpZCXT52i8AOnR6mQbcXHTFKLvpyuZ7sN4ATKpb0trX7+6H3ApYmXzjh+t5YjZ2b2JKmU767XgEwABEpyhNwtMaG8obfD0JTZ94Trr06a2Db/wNH+GU8TS0nXb7cJxWVahbEmbN+wc+0WZkinSM3/duPjhLFv07Xa7p2sT69W6lj/DKWLppUXrbNC0JdbwlxVsxsCzrFixYinSMz/d2HfgoLUd+a5t2bXfpvZrbWfWrerHcApZGTNrhY2f85Wd37SGje/ZIoV65qcr67fvtQ6j5zhjHw4922pUKufHcApZ6T95oc38YpMNOOdUu7lT/RTqmZ+uZK3aYj0nzrfqFcpY1tCOVrpkcT+GU8SKEpZ0/p8PbOXmXTa2e3O7sNkJkfSM9VpwzAiQ4Ay9WWBCe0Npukl7+cad1viEilaieGYt7GKU1mzZ7QRI1fJl/IFLIUt79x+01Vt2W6MaFTJucR7DvGLTDqtZ5ZiMFJAa4/Y9+23r7v1Wt3r5FJpZ/rqidNHLNu6wBr+sYKVKZNbCLkZpw/a9Jm2cieJDY9x/4Gf73+922mknVMzY75lVm3dZ9fJlrNIxpfxN/hSytHvfAVu7bY81/GXFyHrFei04agRIcIbeLDChvaHEEAQgAAEIQAACEAiFAOu14FgRIMEZerPAhPaGEkMQgAAEIAABCEAgFAKs14JjRYAEZ+jNAhPaG0oMQQACEIAABCAAgVAIsF4LjhUBEpyhNwtMaG8oMQQBCEAAAhCAAARCIcB6LThWBEhwht4sMKG9ocQQBCAAAQhAAAIQCIUA67XgWBEgwRl6s8CE9oYSQxCAAAQgAAEIQCAUAqzXgmNFgARn6M0CE9obSgxBAAIQgAAEIACBUAiwXguOFQESnKE3C0xobygxBAEIQAACEIAABEIhwHotOFYESHCG3iwwob2hxBAEIAABCEAAAhAIhQDrteBYESDBGXqzwIT2hhJDEIAABCAAAQhAIBQCrNeCY0WABGfozQIT2htKDEEAAhCAAAQgAIFQCLBeC44VARKcoTcLTGhvKDEEAQhAAAIQgAAEQiHAei04VgRIcIbeLDChvaHEEAQgAAEIQAACEAiFAOu14FgRIMEZerPAhPaGEkMQgAAEIAABCEAgFAKs14JjRYAEZ+jNAhPaG0oMQQACEIAABCAAgVAIsF4LjhUBEpyhNwtMaG8oMQQBCEAAAhCAAARCIcB6LThWBEhwht4sMKG9ocQQBCAAAQhAAAIQCIUA67XgWBEgwRl6s8CE9oYSQxCAAAQgAAEIQCAUAqzXgmNFgARn6M1CVlaWtWvXzp5++mlr1KiRN7sYggAEIAABCEAAAhDwQ2D58uXWq1cvmzt3rrVt29aP0SJmBQGSQg6fMmWKm9AUCEAAAhCAAAQgAIHUJqAXxj179kztTqZo7xAgKeSYLVu22KxZs6x27dpWrly50HsWU/DsuISOOpQG8F8oWCM1ig8jxR1KY/gwFKyRGsWHkeIOpbGofbh3715bs2aNdenSxapVqxbKmDLdKAIk0z2cz/g4w5jezsd/6e0/9R4f4sP0J5D+I+BziA/Tn0D6jQABkn4+89ZjvnS9oUyKIfyXFOxeG8WHXnEmxRg+TAp2r43iQ684k2IMHyYFe6BGESCB8KX3w3xg8V96E0j/3vMZxIfpTyD9R8DnEB+mP4H0GwECJP185q3HfOl6Q5kUQ/gvKdi9NooPveJMijF8mBTsXhvFh15xJsUYPkwK9kCNIkAC4Uvvhzdu3GgTJkywa6+91mrUqJHegymCvcd/6e90fIgP059A+o+AzyE+TH8C6TcCBEj6+YweQwACEIAABCAAAQhAIG0JIEDS1nV0HAIQgAAEIAABCEAAAulHAAGSfj6jxxCAAAQgAAEIQAACEEhbAgiQtHUdHYcABCAAAQhAAAIQgED6EUCApJ/P6DEEIAABCEAAAhCAAATSlgACJG1dR8chAAEIQAACEIAABCCQfgQQIOnnM9fjgwcP2pgxY2zixIm2du1aq1mzpl199dU2ePBgK1GixFFH9fnnn9uQIUNs7ty5rm67du1s9OjR1qRJkyOeTaTuURumQjaBKHy4Z88emzRpkr366qv22Wef2datW6127dp2wQUX2G233WaVK1fGIwEIROHD3LrXoUMH++CDD6xnz5729NNPBxgBj0btw2effdbGjRtnS5cutUOHDlndunXtuuuuc+nQKYUjEKUPp0yZYg899JB9+eWXzn/16tWza665xv3+LV68eOEGwFOB1jRvvfWWPf/887Zw4UL3e+6nn36y1atXu991uRXWNKkx4RAgqeGHhHtx/fXX2yOPPGJXXXWVtWnTxj766CN78sknTT8fP358vvZWrlxpZ5xxhh177LF20003ubpjx4617du32yeffGKnnnpq9vOJ1E14EEX8gSh8qC/a008/3c466yzr0qWLHXfcce5LWsJVX876c8WKFYu4Jwo//Ch8eHjvJCjV7u7duxEghXdd9pNR+vDmm2+2Bx980P74xz+aRKQWsPqOLVu2rI0YMcLDaIqmiah8eO+999pf//pX91164YUXOv+98MILNmfOHPvLX/5i999/f9F0gIdRB/Fhnz59bOrUqda0aVPbt2+f6fdeXgKENY0HZ3kygQDxBDJKM1L4zZo1c+JBv8xiZeDAge7NzJIlS9wHMa9y2WWX2cyZM2358uVu50RFuyiNGjWy3/3udzZ9+vTsRxOpGyWDdG8rKh9u2bLFNmzY4ERIfHniiSfsT3/6kz3wwAOmRRElcQJR+TC+Z3pJ0KBBAxs0aJANGzYMAZK423I8EaUP33jjDbfz+Mwzz1j37t0D9pzHYwSi9KFe4NSqVcu9qCtWrJjrws8//2wtWrSwNWvWuJd4lMQJBPXh+vXrrVq1alamTBknECUU8xIgrGkS909YTyBAwiIbot3bb7/dvS37+uuvrU6dOtkt6QN3yimnuKM1+gDmVnbt2mVVq1a1bt262VNPPZWjypVXXmnTpk0zLVrLly9vidQNcbgZaToqH+YFb8eOHVapUiXr27evPf744xnJOOxBJcOHN9xwg7399tvuDZ9+2XIEK5iXo/Rh+/btTUciFyxY4N6c6/u1QoUKwQbA0xalD8uVK2fnnHOOvf766znIa0dEi2i97KEkTiCIDw9vLT8Bwpomcd+E+QQCJEy6IdnWl512OTZt2nREC8cff7w1b97c7XDkVj7++GN3ZEvHt/r375+jin6mbVDVad26tft/QeuGNNSMNRuVD/MCqPPLDRs2tFtvvdXuu+++jOUc5sCi9qGOy7Vs2dItfrRTqTewCJBgHo7Kh1r4SPAr1kNvanXkddu2bValShW3E6kXSqVKlQo2mCL6dFQ+FF7tYM2YMcMdtbrooouckNSJAS2gFdcj/1ISJxDEh4kIENY0ifsmzCcQIGHSDcm2jleVLl3and8/vGgrWAFYehuTW9F5VW1BKij5D3/4Q44q+pm+VBXMdemll7qzrQWtG9JQM9ZsVD7MC+AVV1zhgpcXLVrkjvNREicQpQ91zEMvBWrUqGGvvPKK6ywCJHGfHf5EVD5cvHixezEk8SFf3nHHHXbSSSe5c+svvvgiQjKAK6Pyobqol369e/e2d955J7vHit/517/+Zb169QowiqL9aBAfJiJAWNOk1jxDgKSWPwrUG2VN0U6HAs8PL9qx2Lx5s61atSpXW5MnTzYtPmfNmmWdO3fOUUeZJPQmQnX0ZZpI3QJ1nErZBKLyYW7IH3vsMZdxR7EfigGhFI5AlD589NFHXdzHsmXLso9dIkAK57f4p6LyobINKhGEirKXxf6sv+tIz7vvvmtffPGFNW7cOPigipiFqHworNq1Gjp0qO3fv99+//vfu5d9Sgoh/0lM6oUdJXECQXyYiABhTZO4b8J8AgESJt2QbAd5W5DIG4BE6oY01Iw1G5UPDwf48ssvu1+S+uWpN68lS5bMWMZhDywqH37//fcu8PzGG2+0u+++O3tYCJDgHo7Kh9qt/s1vfuMyzylWL778+9//dtkMH374YY7wFMKlUflQqX51BFKL5eeeey67pzqGpTT2OtaqZC6KE6EkRiCIDxMRIKxpEvNL2LURIGETDsF+kPOSiZyBTKRuCMPMaJNR+TAeona4lDpSu2RvvvmmS/1JKTyBqHyobHfKnPTee+/lWNwoXbaOTOo8uo72cKdL4r6Myoc6uqPjc61atbJ58+bl6Kji9RTTo8QhSiBCSYxAVD5Uqt2OHTu6RC1KoxxftJN8yy232KeffuqEJiUxAkF8mIgAYU2TmF/Cro0ACZtwCPb1S0qBw2FkwdIlWbqsriBZsOLrhjDMjDYZlQ9jEN9//323yNGbptmzZzv/UoIRiMqHXbt2zY77yKvHupRUCyBKYgSi8qF6FZ/yPL6XupOnX79+Lo5Al9lREiMQlQ91xKpHjx65plEeNWqUS+gRS+CS2AioHcSHiQiQo2XBYk0T7VxEgETL20tryoClgMa87gFRwKPufdD51K+++splX9Hbt1hRgLliQFasWOECIVVi94DoTYS2KQtT18vgioiRKH04f/58O/fcc13sgISIMu9QghOIyoda1CjP/eHl8ssvd7EEAwYMcJ/3+vXrBx9UEbMQlQ+FVbEDo0ePttdee81lU1LRsR7tSOqIluL28rq5uYi5JaHhRuVDJexQkpfzzjvPZcKKlQMHDrhdDx3B0nFJXu4k5D5XOagP41s82j0giax/Eh8JTyRCAAGSCK0UqqsUuhMmTHBnh9u2bWtZWVnuJnQFFytgVUUXI2nRqfs9dM44VvRFqbOsug9EixcVpYXUzocuWNJ588LUTSE8adGVKHz4zTffOLG6c+dOGzlypEteEF/0906dOqUFr1TsZBQ+zGvcxID4mRFR+VABzFqobty40XRp7IknnuhiCT788EPSYQd0ZVQ+lHDUhZK6xf6SSy4xiY9YNsG77rrLhg8fHnAkRffxID5cunSpy+ypogxletGmm+l1LFX/KX6ONU3qzS0ESOr5pEA90hef3qZp+37dunVuJ0Pb90OGDMkOLM5LgKgBfWBVV8JFRUF02kY+/MbsROsWqPNUcgSi8KHiBs4+++w8iesXqepQCkcgCh8iQArnm4I+FaUPJT50g71isH744QerV6+eWxxxf0RBvZV7vah8uG/fPpcsQJmvdARa2bCUuUz+4/hc8nwYS+SQWw90c73WQvElkfVPsFHxdH4EECDMDwhAAAIQgAAEIAABCEAgMgIIkMhQ0xAEIAABCEAAAhCAAAQggABhDkAAAhCAAAQgAAEIQAACkRFAgESGmoYgAAEIQAACEIAABCAAAQQIcwACEIAABCAAAQhAAAIQiIwAAiQy1DQEAQhAAAIQgAAEIAABCCBAmAMQgAAEIAABCEAAAhCAQGQEECCRoaYhCEAAAhCAAAQgAAEIQAABwhyAAAQgAAEIQAACEIAABCIjgACJDDUNQQACEIAABCAAAQhAAAIIEOYABCAAAQhAAAIQgAAEIBAZAQRIZKhpCAIQgIAfAn369LH33nvP1qxZ48egZyuTJk2yG2+80b755hurUqWKZ+vRmvv666+tQYMG9uabb1qnTp2ibZzWIAABCGQoAQRIhjqWYUEAAulN4D//+Y+9+uqrJrFRu3btHINJZQHy448/ugV779697Z577klvJ/x/78X7s88+swULFlixYsUyYkwMAgIQgEAyCSBAkkmftiEAAQjkQWDixInWr18/mzNnjv32t7/NUWvfvn128OBBO+aYY1KOn/p97bXX2tq1a+2EE05Iuf4VpkMSHmeccYbNmDHDzjvvvMKY4BkIQAACEIgjgABhOkAAAhBIQQL5CZAU7G52l1q1amUVK1a0t99+O5W7mXDf6tevb6effro9//zzCT/LAxCAAAQgkJMAAoQZAQEIQCDFCAwfPtz+9re/HdGrJ5980h3Jyu0Ilo5pnXTSSTZ27FgbNGiQffrpp1a1alUbOnSoi8dYvXq1DRgwwN5//30rU6aM26X4+9//fsSRoo8++sgdnfr4449t79691rBhQ2fvyiuvPCql9evXuz6MGTPGbrnllhz1tYuzatUq++CDD7L7oR0c9UNj3bp1qw0cONDtMmh3p1u3bvbQQw9Z6dKls+0sXbrU7rzzTps/f77997//tWrVqlnz5s3t3nvvtWbNmmXX+/bbb51N2dqyZYudeOKJ1qNHD/esxh5fdLRKHBRTs2PHDrdrc+6559oDDzxgFSpUyK4qhhKFP/zwwxE2jgqGChCAAAQgkIMAAoQJAQEIQCDFCGihLSHx+OOP22233WaNGjVyPWzTpo2dcsopeQqQ4sWLO9HQq1cvFzfy1FNPOSEi4SJRc8EFF9hpp51m06dPd0e79O9XXHFF9uhffvllu/zyy61FixZ22WWXuSNeikN56623bNSoUTZkyJB8ST377LPWvXt3t5jv0KHDEQJEi/3KlStb586d3W7CSy+95HZKJFimTJliTZo0cWOcPXu2vfDCC05ESDSoSEiIQ6VKlezqq6+24447zjZt2uQE1VVXXeUEi4qCxs8880wrVaqUqydBEWPQpUsXe/3117NF14cffmj6WdmyZd1xt7p169q6devsxRdfdPXiY28mT57sWM2dO9fatm2bYjOG7kAAAhBILwIIkPTyF72FAASKCIH8jmDltQOirFMSERdddFH2ol07Evv377fx48fbdddd536uQPGaNWuajhVlZWW5n0m4nHzyyda6dWsnOuKDrSVGlAVqw4YNTkDkVe666y67++67TTsQsh9ftAMisfDPf/7T7XSo/PTTT67N7777zgYPHuxETqw0bdrU7XJoV0XllVdesa5du7rdj5YtW+bZh/PPP98+//xzW7RokR177LHZ9caNG2c33XSTzZw504mOn3/+2e3ufP/997Z48WKrVatWDpuHDh3KwUCc2rVrZ4899pgTKxQIQAACECg8AQRI4dnxJAQgAIHQCBRGgEhoSCTEF+0qfPnll7Z79+4cx5kUTK1Fuhb/KhIdEi7aeWjfvn0OG6+99pr17dvX7QpogZ9Xuf766+2RRx6xnTt3Wvny5Y8QINpxUD+04xAr2pV544033M5FnTp1sn/ev39/mzBhgu3Zs8fKlSvnxItEjHaEcjtKpQe3b9/ujp39+c9/tmHDhuVoX2JG2bl0NEw7Lsoy9tIoei8AAATvSURBVOtf/9puv/32AmXrWrFihduBGTFixBG2Q5sEGIYABCCQoQQQIBnqWIYFAQikN4HCCJAaNWq42I34orf22hlRVqr4oiNLEhvahVAZPXq0ixfJrzzxxBPuuFNhBYiE0MaNG3M8ruNiOn514MABK1GiRPa/3XrrrW5HREeiFMOhHQnVfeaZZ5wg0VEtiSjFdsSybX3yySemIPj8io5R6ejZtGnT3LGt5557zh07O1pZtmyZO76GADkaKf4dAhCAwNEJIECOzogaEIAABCInUBgBouNWilE4XIBoEX/4pYVafCujkxb+KiNHjnRv9rWDUa9evVzH27hx43xT6x7tCJaC0NWX+BITIBIY8SUmQCScNK5YWbJkidsx0Y6IYk0UpK7jWR07drR58+a5+A/tnlx66aW5jkEiTUIiUQHCEazIPwI0CAEIZDABBEgGO5ehQQAC6UtAAegKos7tHpD8smAVVoBoN0SxHlOnTs0O6E6UXiwIPbc+x7JgBRUg8X1SrImyXymgXYJE8RzHH3+8XXPNNfboo4/m2/1Ej2DpdndlAiMIPdFZQX0IQAACRxJAgDArIAABCKQggdhiXhmZLr744hw9DEOA7Nq1ywVia4dAOwmHx3Boca+0t/ndBB5Lw6vjXAoqjy9BBYhiOKpUqZKjfe2aKK5DuyAKPFdRgLliTRYuXJidPSzWDwXfK05G95QoCF0xHZs3bzZlHTs8aP7wIPQbbrjBZSUjDW8KfljoEgQgkHYEECBp5zI6DAEIFAUCK1eudFmqdAO3slcp7kHxDQrUDkOAiKmOMikeQrsIakOCRAt0BasrSF0B5CVLlswXv/qo+zPeeecdrwJE2bMefPBBJ8Z0RExCSH1SVqv77rvPdGRLRcHsSpOrOz0UOK8gfPVb8Sc6cqajV7rnQyWWhldsY2l4FcQv0ScW8Wl41eavfvUrLiIsCh8+xggBCIROAAESOmIagAAEIFA4Akqd+49//MMFketyvoJcRFjYI1ixHmrnQAt6Lc63bdtm1atXN8V+KAWuslzltwMiGwpU12JesRux4HD9POgOiESQWCgWQ/d/6EJB7X5InB1+SaIC3RUsrqxd2pXRjoeEmzJ46UJB7eTEimJKdN+IjnBJqCjgvVOnTnb//fdn7wLpHhGl/tXFhgp8p0AAAhCAQDACCJBg/HgaAhCAAATiCOzbt8/t3PTu3btA6W3TAZ52g3SJ4oIFC44qwNJhPPQRAhCAQLIJIECS7QHahwAEIJBhBBSwrZ0GZd6KvwwwHYe5evVqJ6h0EaN2RigQgAAEIBCcAAIkOEMsQAACEIAABCAAAQhAAAIFJIAAKSAoqkEAAhCAAAQgAAEIQAACwQkgQIIzxAIEIAABCEAAAhCAAAQgUEACCJACgqIaBCAAAQhAAAIQgAAEIBCcAAIkOEMsQAACEIAABCAAAQhAAAIFJIAAKSAoqkEAAhCAAAQgAAEIQAACwQkgQIIzxAIEIAABCEAAAhCAAAQgUEACCJACgqIaBCAAAQhAAAIQgAAEIBCcAAIkOEMsQAACEIAABCAAAQhAAAIFJIAAKSAoqkEAAhCAAAQgAAEIQAACwQkgQIIzxAIEIAABCEAAAhCAAAQgUEACCJACgqIaBCAAAQhAAAIQgAAEIBCcAAIkOEMsQAACEIAABCAAAQhAAAIFJPB/D/3WWuIbWMEAAAAASUVORK5CYII=\" width=\"640\">"
      ],
      "text/plain": [
       "<IPython.core.display.HTML object>"
      ]
     },
     "metadata": {},
     "output_type": "display_data"
    },
    {
     "data": {
      "text/html": [
       "\n",
       "                <audio  controls=\"controls\" >\n",
       "                    <source src=\"data:audio/wav;base64,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\" type=\"audio/wav\" />\n",
       "                    Your browser does not support the audio element.\n",
       "                </audio>\n",
       "              "
      ],
      "text/plain": [
       "<IPython.lib.display.Audio object>"
      ]
     },
     "execution_count": 16,
     "metadata": {},
     "output_type": "execute_result"
    }
   ],
   "source": [
    "# generate samples, note conversion to float32 array\n",
    "F0 = 100 ; Fend = int(sr/2) ; s = np.zeros(len(t));\n",
    "for freq in range(F0, Fend+1, F0):\n",
    "    theta = t * 2*np.pi * freq\n",
    "    tmp = amp * np.sin(theta)\n",
    "    s = s+ tmp\n",
    "fig = plt.figure()\n",
    "ax = fig.add_subplot(111)\n",
    "ax.plot(t[0:1000], s[0:1000]);\n",
    "ax.set_xlabel('time (msec)')\n",
    "ipd.Audio(s, rate=sr)"
   ]
  },
  {
   "cell_type": "code",
   "execution_count": 17,
   "metadata": {},
   "outputs": [],
   "source": [
    "def hz2w(F, sr):\n",
    "    NyFreq = sr/2;\n",
    "    w = F/NyFreq *np.pi;\n",
    "    return w\n",
    "\n",
    "def resonance (srate, F, BW):\n",
    "    a2 = np.exp(-hz2w(BW,srate))\n",
    "    omega = F*2*np.pi/srate\n",
    "    a1 = -2*np.sqrt(a2)*np.cos(omega)\n",
    "    a = np.array([1, a1, a2])\n",
    "    b = np.array([sum(a)])\n",
    "    return a, b"
   ]
  },
  {
   "cell_type": "code",
   "execution_count": 18,
   "metadata": {},
   "outputs": [
    {
     "data": {
      "text/html": [
       "\n",
       "                <audio  controls=\"controls\" >\n",
       "                    <source src=\"data:audio/wav;base64,UklGRjQnAABXQVZFZm10IBAAAAABAAEAECcAACBOAAACABAAZGF0YRAnAADABDYJ+A5dFFoa8x/ZJVkr/DA8NoY7cEBVRd5JWE56UodWQFriXTNha2RYZylqtGwjb1JxZHM5dfN2dXjceQ97KHwRfeF9hn4Sf3Z/w3/sf/9/8H/Mf4t/NH/Efj9+o330fDB8WXtwenR5anhMdyN25nSgc0Zy5XBxb/htamzaajVpj2fUZRpkSWJ8YJZetly7WslYuVa0VI5SdlA5TgxMtklyRwBFo0IPQJQ92Do4OEk1ezJJLz0sqihFJRshKR3ZF9cSXAl0ANj8dPnb91326vWA9cv1E/bd9p33vvjP+Sn7b/zt/VX/5gBgAvoDewUUB5IIIgqYCxoNgQ7xD0YRoBLhEyMVTBZ0F4QYkhmIGnobVhwsHe4dpx5OH+sfdyD5IGsh0SEoInQisiLiIggjHiMrIygjHSMBI98iqyJxIiUi1iFyIQwhkSAVIIIf8R5HHp8d3RwgHEYbchp/GZQYhheCFlgVOxTyErgRTBDyDl8N4QsfCnYIewadBFcCNACI/Qb7u/ek9C3w/utW4zvbaNjL1fXUONSB1NHU0tXO1kfYtNl+2zXdMt8Y4TPjNeVe52zpl+um7crv0fHo8+D14/fI+bP7gf1R/wQBuAJQBOUFXwfVCDEKhgvEDPkNGA8sECwRIRICE9cTmhRQFfYVjRYWF48X+xdXGKgY5xgdGUEZXBlkGWYZUxk8GQ8Z3xiYGE8Y7heOFxMXmhYGFnUVxhQcFFITjxKoEcsQxg/NDqcNkAxGCw0Kmgg8B5gFDQQvAm0ARP48/Kr5QfcP9BHxseya6AjgA9hG1b3S/NFS0bDRE9Im0zPUv9U81xfZ3trr3ODeC+Eb41Llbuen6cPr9O0H8CryLvQ89i34I/r7+9b9lP9QAfICkAQUBpIH9whVCpsL2Az+DRsPIhAeEQYS4hKrE2gUFBWxFT8WvxYwF5IX6BctGGcYkBiwGL0Ywxi1GKIYeRhNGAoYxRdoFwsXlBYfFo4VABVUFK4T5hImEkIRaBBmD28OTA04DPAKuglJCO0GTAXDA+YBJwD//fn7afkC99Hz1fB37GHo0d/N1xLVi9LL0SPRgdHl0frSCdSV1RTX8Ni42sbcvN7o4PniMeVO54fppOvW7ervDvIT9CL2E/gK+uP7vv19/zoB3AJ7BAAGfgfkCEIKiQvGDO0NCg8SEA4R9xHTEp0TWhQGFaQVMxayFiQXhhfcFyIYXRiFGKYYsxi5GKwYmRhwGEQYAhi9F2AXAxeNFhgWhhX5FE0UpxPgEiASPBFiEGAPag5HDTIM6wq1CUQI6AZHBb4D4gEiAPv99vtl+f72zvPS8HTsXujO38rXD9WI0snRINF/0ePR99IG1JPVEtft2LbaxNy63ubg9+Iv5Uznhumi69Xt6e8M8hH0IPYS+Aj64vu9/Xz/OQHbAnoE/gV9B+MIQQqIC8UM7A0JDxEQDRH2EdISnBNZFAUVoxUyFrEWJBeGF9wXIRhcGIUYpRiyGLkYqxiYGHAYRBgBGL0XYBcDF4wWFxaGFfkUTRSnE+ASIBI8EWIQYA9qDkcNMgzrCrUJRAjoBkcFvgPiASIA+/31+2X5/vbN89Lwc+xe6M3fytcO1YjSyNEg0X7R49H30gbUk9UR1+3YttrE3Lre5uD34i/lTOeG6aLr1O3p7wzyEfQg9hH4CPri+739fP85AdsCegT+BX0H4whBCogLxQzsDQkPERANEfYR0hKcE1kUBRWjFTIWsRYkF4YX3BchGFwYhRilGLIYuRirGJgYcBhEGAEYvRdgFwMXjBYXFoYV+RRNFKcT4BIgEjwRYhBgD2oORw0yDOsKtQlECOgGRwW+A+IBIgD7/fX7Zfn+9s3z0vBz7F7ozd/K1w7ViNLI0SDRftHj0ffSBtST1RHX7di22sTcut7l4PfiL+VM54bpouvU7envDPIR9CD2EfgI+uL7vf18/zkB2wJ6BP4FfQfjCEEKiAvFDOwNCQ8REA0R9hHSEpwTWRQFFaMVMhaxFiQXhhfcFyEYXBiFGKUYshi5GKsYmBhwGEQYARi9F2AXAxeMFhcWhhX5FE0UpxPgEiASPBFiEGAPag5HDTIM6wq1CUQI6AZHBb4D4gEiAPv99ftl+f72zfPS8HPsXujN38rXDtWI0sjRINF+0ePR99IG1JPVEdft2LbaxNy63uXg9+Iv5Uznhumi69Tt6e8M8hH0IPYR+Aj64vu9/Xz/OQHbAnoE/gV9B+MIQQqIC8UM7A0JDxEQDRH2EdISnBNZFAUVoxUyFrEWJBeGF9wXIRhcGIUYpRiyGLkYqxiYGHAYRBgBGL0XYBcDF4wWFxaGFfkUTRSnE+ASIBI8EWIQYA9qDkcNMgzrCrUJRAjoBkcFvgPiASIA+/31+2X5/vbN89Lwc+xe6M3fytcO1YjSyNEg0X7R49H30gbUk9UR1+3YttrE3Lre5eD34i/lTOeG6aLr1O3p7wzyEfQg9hH4CPri+739fP85AdsCegT+BX0H4whBCogLxQzsDQkPERANEfYR0hKcE1kUBRWjFTIWsRYkF4YX3BchGFwYhRilGLIYuRirGJgYcBhEGAEYvRdgFwMXjBYXFoYV+RRNFKcT4BIgEjwRYhBgD2oORw0yDOsKtQlECOgGRwW+A+IBIgD7/fX7Zfn+9s3z0vBz7F7ozd/K1w7ViNLI0SDRftHj0ffSBtST1RHX7di22sTcut7l4PfiL+VM54bpouvU7envDPIR9CD2EfgI+uL7vf18/zkB2wJ6BP4FfQfjCEEKiAvFDOwNCQ8REA0R9hHSEpwTWRQFFaMVMhaxFiQXhhfcFyEYXBiFGKUYshi5GKsYmBhwGEQYARi9F2AXAxeMFhcWhhX5FE0UpxPgEiASPBFiEGAPag5HDTIM6wq1CUQI6AZHBb4D4gEiAPv99ftl+f72zfPS8HPsXujN38rXDtWI0sjRINF+0ePR99IG1JPVEdft2LbaxNy63uXg9+Iv5Uznhumi69Tt6e8M8hH0IPYR+Aj64vu9/Xz/OQHbAnoE/gV9B+MIQQqIC8UM7A0JDxEQDRH2EdISnBNZFAUVoxUyFrEWJBeGF9wXIRhcGIUYpRiyGLkYqxiYGHAYRBgBGL0XYBcDF4wWFxaGFfkUTRSnE+ASIBI8EWIQYA9qDkcNMgzrCrUJRAjoBkcFvgPiASIA+/31+2X5/vbN89Lwc+xe6M3fytcO1YjSyNEg0X7R49H30gbUk9UR1+3YttrE3Lre5eD34i/lTOeG6aLr1O3p7wzyEfQg9hH4CPri+739fP85AdsCegT+BX0H4whBCogLxQzsDQkPERANEfYR0hKcE1kUBRWjFTIWsRYkF4YX3BchGFwYhRilGLIYuRirGJgYcBhEGAEYvRdgFwMXjBYXFoYV+RRNFKcT4BIgEjwRYhBgD2oORw0yDOsKtQlECOgGRwW+A+IBIgD7/fX7Zfn+9s3z0vBz7F7ozd/K1w7ViNLI0SDRftHj0ffSBtST1RHX7di22sTcut7l4PfiL+VM54bpouvU7envDPIR9CD2EfgI+uL7vf18/zkB2wJ6BP4FfQfjCEEKiAvFDOwNCQ8REA0R9hHSEpwTWRQFFaMVMhaxFiQXhhfcFyEYXBiFGKUYshi5GKsYmBhwGEQYARi9F2AXAxeMFhcWhhX5FE0UpxPgEiASPBFiEGAPag5HDTIM6wq1CUQI6AZHBb4D4gEiAPv99ftl+f72zfPS8HPsXujN38rXDtWI0sjRINF+0ePR99IG1JPVEdft2LbaxNy63uXg9+Iv5Uznhumi69Tt6e8M8hH0IPYR+Aj64vu9/Xz/OQHbAnoE/gV9B+MIQQqIC8UM7A0JDxEQDRH2EdISnBNZFAUVoxUyFrEWJBeGF9wXIRhcGIUYpRiyGLkYqxiYGHAYRBgBGL0XYBcDF4wWFxaGFfkUTRSnE+ASIBI8EWIQYA9qDkcNMgzrCrUJRAjoBkcFvgPiASIA+/31+2X5/vbN89Lwc+xe6M3fytcO1YjSyNEg0X7R49H30gbUk9UR1+3YttrE3Lre5eD34i/lTOeG6aLr1O3p7wzyEfQg9hH4CPri+739fP85AdsCegT+BX0H4whBCogLxQzsDQkPERANEfYR0hKcE1kUBRWjFTIWsRYkF4YX3BchGFwYhRilGLIYuRirGJgYcBhEGAEYvRdgFwMXjBYXFoYV+RRNFKcT4BIgEjwRYhBgD2oORw0yDOsKtQlECOgGRwW+A+IBIgD7/fX7Zfn+9s3z0vBz7F7ozd/K1w7ViNLI0SDRftHj0ffSBtST1RHX7di22sTcut7l4PfiL+VM54bpouvU7envDPIR9CD2EfgI+uL7vf18/zkB2wJ6BP4FfQfjCEEKiAvFDOwNCQ8REA0R9hHSEpwTWRQFFaMVMhaxFiQXhhfcFyEYXBiFGKUYshi5GKsYmBhwGEQYARi9F2AXAxeMFhcWhhX5FE0UpxPgEiASPBFiEGAPag5HDTIM6wq1CUQI6AZHBb4D4gEiAPv99ftl+f72zfPS8HPsXujN38rXDtWI0sjRINF+0ePR99IG1JPVEdft2LbaxNy63uXg9+Iv5Uznhumi69Tt6e8M8hH0IPYR+Aj64vu9/Xz/OQHbAnoE/gV9B+MIQQqIC8UM7A0JDxEQDRH2EdISnBNZFAUVoxUyFrEWJBeGF9wXIRhcGIUYpRiyGLkYqxiYGHAYRBgBGL0XYBcDF4wWFxaGFfkUTRSnE+ASIBI8EWIQYA9qDkcNMgzrCrUJRAjoBkcFvgPiASIA+/31+2X5/vbN89Lwc+xe6M3fytcO1YjSyNEg0X7R49H30gbUk9UR1+3YttrE3Lre5eD34i/lTOeG6aLr1O3p7wzyEfQg9hH4CPri+739fP85AdsCegT+BX0H4whBCogLxQzsDQkPERANEfYR0hKcE1kUBRWjFTIWsRYkF4YX3BchGFwYhRilGLIYuRirGJgYcBhEGAEYvRdgFwMXjBYXFoYV+RRNFKcT4BIgEjwRYhBgD2oORw0yDOsKtQlECOgGRwW+A+IBIgD7/fX7Zfn+9s3z0vBz7F7ozd/K1w7ViNLI0SDRftHj0ffSBtST1RHX7di22sTcut7l4PfiL+VM54bpouvU7envDPIR9CD2EfgI+uL7vf18/zkB2wJ6BP4FfQfjCEEKiAvFDOwNCQ8REA0R9hHSEpwTWRQFFaMVMhaxFiQXhhfcFyEYXBiFGKUYshi5GKsYmBhwGEQYARi9F2AXAxeMFhcWhhX5FE0UpxPgEiASPBFiEGAPag5HDTIM6wq1CUQI6AZHBb4D4gEiAPv99ftl+f72zfPS8HPsXujN38rXDtWI0sjRINF+0ePR99IG1JPVEdft2LbaxNy63uXg9+Iv5Uznhumi69Tt6e8M8hH0IPYR+Aj64vu9/Xz/OQHbAnoE/gV9B+MIQQqIC8UM7A0JDxEQDRH2EdISnBNZFAUVoxUyFrEWJBeGF9wXIRhcGIUYpRiyGLkYqxiYGHAYRBgBGL0XYBcDF4wWFxaGFfkUTRSnE+ASIBI8EWIQYA9qDkcNMgzrCrUJRAjoBkcFvgPiASIA+/31+2X5/vbN89Lwc+xe6M3fytcO1YjSyNEg0X7R49H30gbUk9UR1+3YttrE3Lre5eD34i/lTOeG6aLr1O3p7wzyEfQg9hH4CPri+739fP85AdsCegT+BX0H4whBCogLxQzsDQkPERANEfYR0hKcE1kUBRWjFTIWsRYkF4YX3BchGFwYhRilGLIYuRirGJgYcBhEGAEYvRdgFwMXjBYXFoYV+RRNFKcT4BIgEjwRYhBgD2oORw0yDOsKtQlECOgGRwW+A+IBIgD7/fX7Zfn+9s3z0vBz7F7ozd/K1w7ViNLI0SDRftHj0ffSBtST1RHX7di22sTcut7l4PfiL+VM54bpouvU7envDPIR9CD2EfgI+uL7vf18/zkB2wJ6BP4FfQfjCEEKiAvFDOwNCQ8REA0R9hHSEpwTWRQFFaMVMhaxFiQXhhfcFyEYXBiFGKUYshi5GKsYmBhwGEQYARi9F2AXAxeMFhcWhhX5FE0UpxPgEiASPBFiEGAPag5HDTIM6wq1CUQI6AZHBb4D4gEiAPv99ftl+f72zfPS8HPsXujN38rXDtWI0sjRINF+0ePR99IG1JPVEdft2LbaxNy63uXg9+Iv5Uznhumi69Tt6e8M8hH0IPYR+Aj64vu9/Xz/OQHbAnoE/gV9B+MIQQqIC8UM7A0JDxEQDRH2EdISnBNZFAUVoxUyFrEWJBeGF9wXIRhcGIUYpRiyGLkYqxiYGHAYRBgBGL0XYBcDF4wWFxaGFfkUTRSnE+ASIBI8EWIQYA9qDkcNMgzrCrUJRAjoBkcFvgPiASIA+/31+2X5/vbN89Lwc+xe6M3fytcO1YjSyNEg0X7R49H30gbUk9UR1+3YttrE3Lre5eD34i/lTOeG6aLr1O3p7wzyEfQg9hH4CPri+739fP85AdsCegT+BX0H4whBCogLxQzsDQkPERANEfYR0hKcE1kUBRWjFTIWsRYkF4YX3BchGFwYhRilGLIYuRirGJgYcBhEGAEYvRdgFwMXjBYXFoYV+RRNFKcT4BIgEjwRYhBgD2oORw0yDOsKtQlECOgGRwW+A+IBIgD7/fX7Zfn+9s3z0vBz7F7ozd/K1w7ViNLI0SDRftHj0ffSBtST1RHX7di22sTcut7l4PfiL+VM54bpouvU7envDPIR9CD2EfgI+uL7vf18/zkB2wJ6BP4FfQfjCEEKiAvFDOwNCQ8REA0R9hHSEpwTWRQFFaMVMhaxFiQXhhfcFyEYXBiFGKUYshi5GKsYmBhwGEQYARi9F2AXAxeMFhcWhhX5FE0UpxPgEiASPBFiEGAPag5HDTIM6wq1CUQI6AZHBb4D4gEiAPv99ftl+f72zfPS8HPsXujN38rXDtWI0sjRINF+0ePR99IG1JPVEdft2LbaxNy63uXg9+Iv5Uznhumi69Tt6e8M8hH0IPYR+Aj64vu9/Xz/OQHbAnoE/gV9B+MIQQqIC8UM7A0JDxEQDRH2EdISnBNZFAUVoxUyFrEWJBeGF9wXIRhcGIUYpRiyGLkYqxiYGHAYRBgBGL0XYBcDF4wWFxaGFfkUTRSnE+ASIBI8EWIQYA9qDkcNMgzrCrUJRAjoBkcFvgPiASIA+/31+2X5/vbN89Lwc+xe6M3fytcO1YjSyNEg0X7R49H30gbUk9UR1+3YttrE3Lre5eD34i/lTOeG6aLr1O3p7wzyEfQg9hH4CPri+739fP85AdsCegT+BX0H4whBCogLxQzsDQkPERANEfYR0hKcE1kUBRWjFTIWsRYkF4YX3BchGFwYhRilGLIYuRirGJgYcBhEGAEYvRdgFwMXjBYXFoYV+RRNFKcT4BIgEjwRYhBgD2oORw0yDOsKtQlECOgGRwW+A+IBIgD7/fX7Zfn+9s3z0vBz7F7ozd/K1w7ViNLI0SDRftHj0ffSBtST1RHX7di22sTcut7l4PfiL+VM54bpouvU7envDPIR9CD2EfgI+uL7vf18/zkB2wJ6BP4FfQfjCEEKiAvFDOwNCQ8REA0R9hHSEpwTWRQFFaMVMhaxFiQXhhfcFyEYXBiFGKUYshi5GKsYmBhwGEQYARi9F2AXAxeMFhcWhhX5FE0UpxPgEiASPBFiEGAPag5HDTIM6wq1CUQI6AZHBb4D4gEiAPv99ftl+f72zfPS8HPsXujN38rXDtWI0sjRINF+0ePR99IG1JPVEdft2LbaxNy63uXg9+Iv5Uznhumi69Tt6e8M8hH0IPYR+Aj64vu9/Xz/OQHbAnoE/gV9B+MIQQqIC8UM7A0JDxEQDRH2EdISnBNZFAUVoxUyFrEWJBeGF9wXIRhcGIUYpRiyGLkYqxiYGHAYRBgBGL0XYBcDF4wWFxaGFfkUTRSnE+ASIBI8EWIQYA9qDkcNMgzrCrUJRAjoBkcFvgPiASIA+/31+2X5/vbN89Lwc+xe6M3fytcO1YjSyNEg0X7R49H30gbUk9UR1+3YttrE3Lre5eD34i/lTOeG6aLr1O3p7wzyEfQg9hH4CPri+739fP85AdsCegT+BX0H4whBCogLxQzsDQkPERANEfYR0hKcE1kUBRWjFTIWsRYkF4YX3BchGFwYhRilGLIYuRirGJgYcBhEGAEYvRdgFwMXjBYXFoYV+RRNFKcT4BIgEjwRYhBgD2oORw0yDOsKtQlECOgGRwW+A+IBIgD7/fX7Zfn+9s3z0vBz7F7ozd/K1w7ViNLI0SDRftHj0ffSBtST1RHX7di22sTcut7l4PfiL+VM54bpouvU7envDPIR9CD2EfgI+uL7vf18/zkB2wJ6BP4FfQfjCEEKiAvFDOwNCQ8REA0R9hHSEpwTWRQFFaMVMhaxFiQXhhfcFyEYXBiFGKUYshi5GKsYmBhwGEQYARi9F2AXAxeMFhcWhhX5FE0UpxPgEiASPBFiEGAPag5HDTIM6wq1CUQI6AZHBb4D4gEiAPv99ftl+f72zfPS8HPsXujN38rXDtWI0sjRINF+0ePR99IG1JPVEdft2LbaxNy63uXg9+Iv5Uznhumi69Tt6e8M8hH0IPYR+Aj64vu9/Xz/OQHbAnoE/gV9B+MIQQqIC8UM7A0JDxEQDRH2EdISnBNZFAUVoxUyFrEWJBeGF9wXIRhcGIUYpRiyGLkYqxiYGHAYRBgBGL0XYBcDF4wWFxaGFfkUTRSnE+ASIBI8EWIQYA9qDkcNMgzrCrUJRAjoBkcFvgPiASIA+/31+2X5/vbN89Lwc+xe6M3fytcO1YjSyNEg0X7R49H30gbUk9UR1+3YttrE3Lre5eD34i/lTOeG6aLr1O3p7wzyEfQg9hH4CPri+739fP85AdsCegT+BX0H4whBCogLxQzsDQkPERANEfYR0hKcE1kUBRWjFTIWsRYkF4YX3BchGFwYhRilGLIYuRirGJgYcBhEGAEYvRdgFwMXjBYXFoYV+RRNFKcT4BIgEjwRYhBgD2oORw0yDOsKtQlECOgGRwW+A+IBIgD7/fX7Zfn+9s3z0vBz7F7ozd/K1w7ViNLI0SDRftHj0ffSBtST1RHX7di22sTcut7l4PfiL+VM54bpouvU7envDPIR9CD2EfgI+uL7vf18/zkB2wJ6BP4FfQfjCEEKiAvFDOwNCQ8REA0R9hHSEpwTWRQFFaMVMhaxFiQXhhfcFyEYXBiFGKUYshi5GKsYmBhwGEQYARi9F2AXAxeMFhcWhhX5FE0UpxPgEiASPBFiEGAPag5HDTIM6wq1CUQI6AZHBb4D4gEiAPv99ftl+f72zfPS8HPsXujN38rXDtWI0sjRINF+0ePR99IG1JPVEdft2LbaxNy63uXg9+Iv5Uznhumi69Tt6e8M8hH0IPYR+Aj64vu9/Xz/OQHbAnoE/gV9B+MIQQqIC8UM7A0JDxEQDRH2EdISnBNZFAUVoxUyFrEWJBeGF9wXIRhcGIUYpRiyGLkYqxiYGHAYRBgBGL0XYBcDF4wWFxaGFfkUTRSnE+ASIBI8EWIQYA9qDkcNMgzrCrUJRAjoBkcFvgPiASIA+/31+2X5/vbN89Lwc+xe6M3fytcO1YjSyNEg0X7R49H30gbUk9UR1+3YttrE3Lre5eD34i/lTOeG6aLr1O3p7wzyEfQg9hH4CPri+739fP85AdsCegT+BX0H4whBCogLxQzsDQkPERANEfYR0hKcE1kUBRWjFTIWsRYkF4YX3BchGFwYhRilGLIYuRirGJgYcBhEGAEYvRdgFwMXjBYXFoYV+RRNFKcT4BIgEjwRYhBgD2oORw0yDOsKtQlECOgGRwW+A+IBIgD7/fX7Zfn+9s3z0vBz7F7ozd/K1w7ViNLI0SDRftHj0ffSBtST1RHX7di22sTcut7l4PfiL+VM54bpouvU7envDPIR9CD2EfgI+uL7vf18/zkB2wJ6BP4FfQfjCEEKiAvFDOwNCQ8REA0R9hHSEpwTWRQFFaMVMhaxFiQXhhfcFyEYXBiFGKUYshi5GKsYmBhwGEQYARi9F2AXAxeMFhcWhhX5FE0UpxPgEiASPBFiEGAPag5HDTIM6wq1CUQI6AZHBb4D4gEiAPv99ftl+f72zfPS8HPsXujN38rXDtWI0sjRINF+0ePR99IG1JPVEdft2LbaxNy63uXg9+Iv5Uznhumi69Tt6e8M8hH0IPYR+Aj64vu9/Xz/OQHbAnoE/gV9B+MIQQqIC8UM7A0JDxEQDRH2EdISnBNZFAUVoxUyFrEWJBeGF9wXIRhcGIUYpRiyGLkYqxiYGHAYRBgBGL0XYBcDF4wWFxaGFfkUTRSnE+ASIBI8EWIQYA9qDkcNMgzrCrUJRAjoBkcFvgPiASIA+/31+2X5/vbN89Lwc+xe6M3fytcO1YjSyNEg0X7R49H30gbUk9UR1+3YttrE3Lre5eD34i/lTOeG6aLr1O3p7wzyEfQg9hH4CPri+739fP85AdsCegT+BX0H4whBCogLxQzsDQkPERANEfYR0hKcE1kUBRWjFTIWsRYkF4YX3BchGFwYhRilGLIYuRirGJgYcBhEGAEYvRdgFwMXjBYXFoYV+RRNFKcT4BIgEjwRYhBgD2oORw0yDOsKtQlECOgGRwW+A+IBIgD7/fX7Zfn+9s3z0vBz7F7ozd/K1w7ViNLI0SDRftHj0ffSBtST1RHX7di22sTcut7l4PfiL+VM54bpouvU7envDPIR9CD2EfgI+uL7vf18/zkB2wJ6BP4FfQfjCEEKiAvFDOwNCQ8REA0R9hHSEpwTWRQFFaMVMhaxFiQXhhfcFyEYXBiFGKUYshi5GKsYmBhwGEQYARi9F2AXAxeMFhcWhhX5FE0UpxPgEiASPBFiEGAPag5HDTIM6wq1CUQI6AZHBb4D4gEiAPv99ftl+f72zfPS8HPsXujN38rXDtWI0sjRINF+0ePR99IG1JPVEdft2LbaxNy63uXg9+Iv5Uznhumi69Tt6e8M8hH0IPYR+Aj64vu9/Xz/OQHbAnoE/gV9B+MIQQqIC8UM7A0JDxEQDRH2EdISnBNZFAUVoxUyFrEWJBeGF9wXIRhcGIUYpRiyGLkYqxiYGHAYRBgBGL0XYBcDF4wWFxaGFfkUTRSnE+ASIBI8EWIQYA9qDkcNMgzrCrUJRAjoBkcFvgPiASIA+/31+2X5/vbN89Lwc+xe6M3fytcO1YjSyNEg0X7R49H30gbUk9UR1+3YttrE3Lre5eD34i/lTOeG6aLr1O3p7wzyEfQg9hH4CPri+739fP85AdsCegT+BX0H4whBCogLxQzsDQkPERANEfYR0hKcE1kUBRWjFTIWsRYkF4YX3BchGFwYhRilGLIYuRirGJgYcBhEGAEYvRdgFwMXjBYXFoYV+RRNFKcT4BIgEjwRYhBgD2oORw0yDOsKtQlECOgGRwW+A+IBIgD7/fX7Zfn+9s3z0vBz7F7ozd/K1w7ViNLI0SDRftHj0ffSBtST1RHX7di22sTcut7l4PfiL+VM54bpouvU7envDPIR9CD2EfgI+uL7vf18/zkB2wJ6BP4FfQfjCEEKiAvFDOwNCQ8REA0R9hHSEpwTWRQFFaMVMhaxFiQXhhfcFyEYXBiFGKUYshi5GKsYmBhwGEQYARi9F2AXAxeMFhcWhhX5FE0UpxPgEiASPBFiEGAPag5HDTIM6wq1CUQI6AZHBb4D4gEiAPv99ftl+f72zfPS8HPsXujN38rXDtWI0sjRINF+0ePR99IG1JPVEdft2LbaxNy63uXg9+Iv5Uznhumi69Tt6e8M8hH0IPYR+Aj64vu9/Xz/OQHbAnoE/gV9B+MIQQqIC8UM7A0JDxEQDRH2EdISnBNZFAUVoxUyFrEWJBeGF9wXIRhcGIUYpRiyGLkYqxiYGHAYRBgBGL0XYBcDF4wWFxaGFfkUTRSnE+ASIBI8EWIQYA9qDkcNMgzrCrUJRAjoBkcFvgPiASIA+/31+2X5/vbN89Lwc+xe6M3fytcO1YjSyNEg0X7R49H30gbUk9UR1+3YttrE3Lre5eD34i/lTOeG6aLr1O3p7wzyEfQg9hH4CPri+739fP85AdsCegT+BX0H4whBCogLxQzsDQkPERANEfYR0hKcE1kUBRWjFTIWsRYkF4YX3BchGFwYhRilGLIYuRirGJgYcBhEGAEYvRdgFwMXjBYXFoYV+RRNFKcT4BIgEjwRYhBgD2oORw0yDOsKtQlECOgGRwW+A+IBIgD7/fX7Zfn+9s3z0vBz7F7ozd/K1w7ViNLI0SDRftHj0ffSBtST1RHX7di22sTcut7l4PfiL+VM54bpouvU7envDPIR9CD2EfgI+uL7vf18/zkB2wJ6BP4FfQfjCEEKiAvFDOwNCQ8REA0R9hHSEpwTWRQFFaMVMhaxFiQXhhfcFyEYXBiFGKUYshi5GKsYmBhwGEQYARi9F2AXAxeMFhcWhhX5FE0UpxPgEiASPBFiEGAPag5HDTIM6wq1CUQI6AZHBb4D4gEiAPv99ftl+f72zfPS8HPsXujN38rXDtWI0sjRINF+0ePR99IG1JPVEdft2LbaxNy63uXg9+Iv5Uznhumi69Tt6e8M8hH0IPYR+Aj64vu9/Xz/OQHbAnoE/gV9B+MIQQqIC8UM7A0JDxEQDRH2EdISnBNZFAUVoxUyFrEWJBeGF9wXIRhcGIUYpRiyGLkYqxiYGHAYRBgBGL0XYBcDF4wWFxaGFfkUTRSnE+ASIBI8EWIQYA9qDkcNMgzrCrUJRAjoBkcFvgPiASIA+/31+2X5/vbN89Lwc+xe6M3fytcO1YjSyNEg0X7R49H30gbUk9UR1+3YttrE3Lre5eD34i/lTOeG6aLr1O3p7wzyEfQg9hH4CPri+739fP85AdsCegT+BX0H4whBCogLxQzsDQkPERANEfYR0hKcE1kUBRWjFTIWsRYkF4YX3BchGFwYhRilGLIYuRirGJgYcBhEGAEYvRdgFwMXjBYXFoYV+RRNFKcT4BIgEjwRYhBgD2oORw0yDOsKtQlECOgGRwW+A+IBIgD7/fX7Zfn+9s3z0vBz7F7ozd/K1w7ViNLI0SDRftHj0ffSBtST1RHX7di22sTcut7l4PfiL+VM54bpouvU7envDPIR9CD2EfgI+uL7vf18/zkB2wJ6BP4FfQfjCEEKiAvFDOwNCQ8REA0R9hHSEpwTWRQFFaMVMhaxFiQXhhfcFyEYXBiFGKUYshi5GKsYmBhwGEQYARi9F2AXAxeMFhcWhhX5FE0UpxPgEiASPBFiEGAPag5HDTIM6wq1CUQI6AZHBb4D4gEiAPv99ftl+f72zfPS8HPsXujN38rX\" type=\"audio/wav\" />\n",
       "                    Your browser does not support the audio element.\n",
       "                </audio>\n",
       "              "
      ],
      "text/plain": [
       "<IPython.lib.display.Audio object>"
      ]
     },
     "execution_count": 18,
     "metadata": {},
     "output_type": "execute_result"
    }
   ],
   "source": [
    "RG = 0   # RG is the frequency of the Glottal Resonator\n",
    "BWG = 100   # BWG is he bandwidth of the Glottal Resonator\n",
    "a, b=resonance(sr,RG,BWG)\n",
    "s = lfilter(b, a, s, axis=0)\n",
    "ipd.Audio(s, rate=sr)"
   ]
  },
  {
   "cell_type": "code",
   "execution_count": 19,
   "metadata": {},
   "outputs": [
    {
     "data": {
      "text/html": [
       "\n",
       "                <audio  controls=\"controls\" >\n",
       "                    <source src=\"data:audio/wav;base64,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\" type=\"audio/wav\" />\n",
       "                    Your browser does not support the audio element.\n",
       "                </audio>\n",
       "              "
      ],
      "text/plain": [
       "<IPython.lib.display.Audio object>"
      ]
     },
     "execution_count": 19,
     "metadata": {},
     "output_type": "execute_result"
    }
   ],
   "source": [
    "RG = 500\n",
    "BWG = 60\n",
    "a, b=resonance(sr,RG,BWG)\n",
    "s = lfilter(b, a, s, axis=0)\n",
    "ipd.Audio(s, rate=sr)"
   ]
  },
  {
   "cell_type": "code",
   "execution_count": 20,
   "metadata": {},
   "outputs": [
    {
     "data": {
      "text/html": [
       "\n",
       "                <audio  controls=\"controls\" >\n",
       "                    <source src=\"data:audio/wav;base64,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\" type=\"audio/wav\" />\n",
       "                    Your browser does not support the audio element.\n",
       "                </audio>\n",
       "              "
      ],
      "text/plain": [
       "<IPython.lib.display.Audio object>"
      ]
     },
     "execution_count": 20,
     "metadata": {},
     "output_type": "execute_result"
    }
   ],
   "source": [
    "RG = 1500\n",
    "BWG = 200\n",
    "a, b=resonance(sr,RG,BWG)\n",
    "s = lfilter(b, a, s, axis=0)\n",
    "ipd.Audio(s, rate=sr)"
   ]
  },
  {
   "cell_type": "code",
   "execution_count": 21,
   "metadata": {},
   "outputs": [
    {
     "data": {
      "text/html": [
       "\n",
       "                <audio  controls=\"controls\" >\n",
       "                    <source src=\"data:audio/wav;base64,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\" type=\"audio/wav\" />\n",
       "                    Your browser does not support the audio element.\n",
       "                </audio>\n",
       "              "
      ],
      "text/plain": [
       "<IPython.lib.display.Audio object>"
      ]
     },
     "execution_count": 21,
     "metadata": {},
     "output_type": "execute_result"
    }
   ],
   "source": [
    "RG = 2500\n",
    "BWG = 200\n",
    "a, b=resonance(sr,RG,BWG)\n",
    "s = lfilter(b, a, s, axis=0)\n",
    "ipd.Audio(s, rate=sr)"
   ]
  },
  {
   "cell_type": "code",
   "execution_count": 22,
   "metadata": {},
   "outputs": [
    {
     "data": {
      "text/html": [
       "\n",
       "                <audio  controls=\"controls\" >\n",
       "                    <source src=\"data:audio/wav;base64,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\" type=\"audio/wav\" />\n",
       "                    Your browser does not support the audio element.\n",
       "                </audio>\n",
       "              "
      ],
      "text/plain": [
       "<IPython.lib.display.Audio object>"
      ]
     },
     "execution_count": 22,
     "metadata": {},
     "output_type": "execute_result"
    }
   ],
   "source": [
    "RG = 3500\n",
    "BWG = 200\n",
    "a, b=resonance(sr,RG,BWG)\n",
    "s = lfilter(b, a, s, axis=0)\n",
    "ipd.Audio(s, rate=sr)"
   ]
  },
  {
   "cell_type": "code",
   "execution_count": 25,
   "metadata": {},
   "outputs": [
    {
     "data": {
      "text/html": [
       "\n",
       "                <audio  controls=\"controls\" >\n",
       "                    <source src=\"data:audio/wav;base64,UklGRjQnAABXQVZFZm10IBAAAAABAAEAECcAACBOAAACABAAZGF0YRAnAACTFLY5elMMYD9p5W2wbwlu/Wl3Y4tQoTOpHPcMKgAW91fxJe8Q8LXzLv+PEP4eICn8MKk1QTd6Nb0wWykGHRINu/4S83Hpj+Kb3r3du98w5B7scvYNAAAIVw5wEg8UDROZDwsKEQKF+FfvVee04APcetk/2Sbb6t595D/r2PGt91z8fv/IADAAxP3T+XX0R+4Y6Iri3t2N2rLYfNi12Ubc0t8P5C3o4Oui7lPwhfBk77Hs5ejN4yLexdeS0dHKesRkvN2zd54BgPyJT7iP3Vf3kQ8QJBo3vkYKWlRu02mzTic25yHPDaP7NusA3urQbcV4yX3bxu2x/u0PwB++LX84aEFrRzRDuTW7JoQXzAcE+fjryeEW2ojVEdj54Nnrk/feA3wPkxkqITgmQSgvJYUd3hMoCen9MPPJ6Yziqd2H2zbdXOJX6W3x+PkjAiYJYg56ETgS9Q8SC34E9fzu9ELtduY44bTdQ9wM3fnfLORK6ZnurvO/95D6ivvI+rn36/I/7KHkgdsY0ovGfbrNoZeAooj8tTvb8PXhD64mWTysTnRkxXqhdxVdT0QRL1QZBQUx8oniLtPOxYLI1tkb7KT9CxBvITox0T1rSM5PhUxuP0gwYSCHD0f/k/C25HPbmtU316XfgOqn9r8DcBDDG50k0yrOLV0r+iM3GgkPAQNI97/sWuRm3mHbb9xC4TromvCy+ZsCdwqQEHQU2BUGFFMPrQjRAEP45+9U6EziDt4B3F3cEN9C45ToRO7c84P47Pty/SP9Yvq29f3uKOer3crTtccdu+6hToAOiEK1gdpa9Y4PtCbHPINPrGVMfF556V4cRrgwuxobBury5OIy04nFCshF2YnrLP3BD2QhdTFVPjJJy1CnTaFAdjF1IXAQ+P8F8efkadtf1dnWNt8S6kr2ggNeEOIb7iRSK3IuGyzEJP0avg+ZA7r3Be105FfeMdsn3O7g5+dT8IH5iAKGCsIQxRRDFoIU1w8wCUgBpvgw8IDoWeL/3dzbKNzT3gXjX+gf7svzifgL/Kb9af20+g32VO925+zd+dPQxyO74aEygOeHFbVU2jP1cg+mJsk8lk/NZXp8lHkkX1VG7DDmGjkG+/Lm4ifTdMXuxyXZaesQ/awPWSF2MWE+SEnpUMtNyECcMZghjBALAA/x6ORh21DVxdYf3/vpNvZzA1YQ4Rv1JGArhi4zLN0kFxvVD6sDxvcL7XTkUd4m2xnc3uDX50Xwd/mBAoUKxhDOFFEWkhTpD0EJVwGz+DjwhOhZ4vvd1Nsd3Mfe+uJV6Bfux/OI+A38rP1y/b/6GfZf74Hn9N3/09LHI7veoSyA4IcNtUzaLPVsD6MmyDyYT9FlgHybeSxfXUbzMOsaPQb88ubiJdNwxenHH9lk6wv9qQ9WIXUxYj5KSe1Q0E3NQKExnSGQEA4AEPHo5F/bTdXB1hvf9+ky9nADVBDhG/UkYiuJLjcs4SQaG9gPrgPI9wztdORQ3iTbFtzb4NTnQ/B1+YAChQrGENAUUhaUFOsPQwlZAbT4OfCE6Fni+t3T2xzcxd744lToFu7G84j4Dvyt/XP9wPob9mHvguf23QDU08cju92hK4Dfhwy1S9or9WwPoybIPJhP0mWBfJx5LV9eRvQw7Bo9Bv3y5uIl03DF6Mce2WPrCv2oD1YhdTFiPktJ7lDRTc5AojGdIZAQDgAQ8ejkX9tN1cHWGt/26TL2cANUEOEb9SRiK4kuNyziJBsb2Q+uA8j3DO1z5FDeJNsW3Nvg0+dC8HX5gAKFCsYQ0BRTFpUU7A9ECVkBtfg58IToWeL63dLbG9zF3vjiU+gW7sbziPgO/K39c/3A+hv2Ye+C5/bdANTTxyO73aErgN+HDLVL2iv1aw+jJsg8mE/SZYF8nHktX15G9DDsGj0G/fLm4iXTcMXoxx7ZY+sK/agPViF1MWI+S0nuUNFNzkCiMZ0hkRAOABDx6ORf203VwdYa3/bpMvZvA1QQ4Rv1JGIriS43LOIkGxvZD64DyPcM7XPkUN4k2xbc2+DT50LwdfmAAoUKxhDQFFMWlRTsD0QJWgG1+DnwhOhZ4vrd0tsb3MXe+OJT6BbuxvOI+A78rf1z/cD6G/Zh74Ln9t0A1NPHI7vdoSuA34cMtUvaK/VrD6MmyDyYT9JlgXyceS1fXkb0MOwaPQb98ubiJdNwxejHHtlj6wr9qA9WIXUxYj5LSe5Q0U3OQKIxnSGREA4AEPHo5F/bTdXB1hrf9uky9m8DVBDhG/UkYiuJLjcs4iQbG9kPrgPI9wztc+RQ3iTbFtzb4NPnQvB1+YAChQrGENAUUxaVFOwPRAlaAbX4OfCE6Fni+t3S2xvcxd744lPoFu7G84j4Dvyt/XP9wPob9mHvguf23QDU08cju92hK4Dfhwy1S9or9WsPoybIPJhP0mWBfJx5LV9eRvQw7Bo9Bv3y5uIl03DF6Mce2WLrCv2oD1YhdTFiPktJ7lDRTc5AojGdIZEQDgAQ8ejkX9tN1cHWGt/26TL2bwNUEOEb9SRiK4kuNyziJBsb2Q+uA8j3DO1z5FDeJNsW3Nvg0+dC8HX5gAKFCsYQ0BRTFpUU7A9ECVoBtfg58IToWeL63dLbG9zF3vjiU+gW7sbziPgO/K39c/3A+hv2Ye+C5/bdANTTxyO73aErgN+HDLVL2iv1aw+jJsg8mE/SZYF8nHktX15G9DDsGj0G/fLm4iXTcMXoxx7ZYusK/agPViF1MWI+S0nuUNFNzkCiMZ0hkRAOABDx6ORf203VwdYa3/bpMvZvA1QQ4Rv1JGIriS43LOIkGxvZD64DyPcM7XPkUN4k2xbc2+DT50LwdfmAAoUKxhDQFFMWlRTsD0QJWgG1+DnwhOhZ4vrd0tsb3MXe+OJT6BbuxvOI+A78rf1z/cD6G/Zh74Ln9t0A1NPHI7vdoSuA34cMtUvaK/VrD6MmyDyYT9JlgXyceS1fXkb0MOwaPQb98ubiJdNwxejHHtli6wr9qA9WIXUxYj5LSe5Q0U3OQKIxnSGREA4AEPHo5F/bTdXB1hrf9uky9m8DVBDhG/UkYiuJLjcs4iQbG9kPrgPI9wztc+RQ3iTbFtzb4NPnQvB1+YAChQrGENAUUxaVFOwPRAlaAbX4OfCE6Fni+t3S2xvcxd744lPoFu7G84j4Dvyt/XP9wPob9mHvguf23QDU08cju92hK4Dfhwy1S9or9WsPoybIPJhP0mWBfJx5LV9eRvQw7Bo9Bv3y5uIl03DF6Mce2WLrCv2oD1YhdTFiPktJ7lDRTc5AojGdIZEQDgAQ8ejkX9tN1cHWGt/26TL2bwNUEOEb9SRiK4kuNyziJBsb2Q+uA8j3DO1z5FDeJNsW3Nvg0+dC8HX5gAKFCsYQ0BRTFpUU7A9ECVoBtfg58IToWeL63dLbG9zF3vjiU+gW7sbziPgO/K39c/3A+hv2Ye+C5/bdANTTxyO73aErgN+HDLVL2iv1aw+jJsg8mE/SZYF8nHktX15G9DDsGj0G/fLm4iXTcMXoxx7ZYusK/agPViF1MWI+S0nuUNFNzkCiMZ0hkRAOABDx6ORf203VwdYa3/bpMvZvA1QQ4Rv1JGIriS43LOIkGxvZD64DyPcM7XPkUN4k2xbc2+DT50LwdfmAAoUKxhDQFFMWlRTsD0QJWgG1+DnwhOhZ4vrd0tsb3MXe+OJT6BbuxvOI+A78rf1z/cD6G/Zh74Ln9t0A1NPHI7vdoSuA34cMtUvaK/VrD6MmyDyYT9JlgXyceS1fXkb0MOwaPQb98ubiJdNwxejHHtli6wr9qA9WIXUxYj5LSe5Q0U3OQKIxnSGREA4AEPHo5F/bTdXB1hrf9uky9m8DVBDhG/UkYiuJLjcs4iQbG9kPrgPI9wztc+RQ3iTbFtzb4NPnQvB1+YAChQrGENAUUxaVFOwPRAlaAbX4OfCE6Fni+t3S2xvcxd744lPoFu7G84j4Dvyt/XP9wPob9mHvguf23QDU08cju92hK4Dfhwy1S9or9WsPoybIPJhP0mWBfJx5LV9eRvQw7Bo9Bv3y5uIl03DF6Mce2WLrCv2oD1YhdTFiPktJ7lDRTc5AojGdIZEQDgAQ8ejkX9tN1cHWGt/26TL2bwNUEOEb9SRiK4kuNyziJBsb2Q+uA8j3DO1z5FDeJNsW3Nvg0+dC8HX5gAKFCsYQ0BRTFpUU7A9ECVoBtfg58IToWeL63dLbG9zF3vjiU+gW7sbziPgO/K39c/3A+hv2Ye+C5/bdANTTxyO73aErgN+HDLVL2iv1aw+jJsg8mE/SZYF8nHktX15G9DDsGj0G/fLm4iXTcMXoxx7ZYusK/agPViF1MWI+S0nuUNFNzkCiMZ0hkRAOABDx6ORf203VwdYa3/bpMvZvA1QQ4Rv1JGIriS43LOIkGxvZD64DyPcM7XPkUN4k2xbc2+DT50LwdfmAAoUKxhDQFFMWlRTsD0QJWgG1+DnwhOhZ4vrd0tsb3MXe+OJT6BbuxvOI+A78rf1z/cD6G/Zh74Ln9t0A1NPHI7vdoSuA34cMtUvaK/VrD6MmyDyYT9JlgXyceS1fXkb0MOwaPQb98ubiJdNwxejHHtli6wr9qA9WIXUxYj5LSe5Q0U3OQKIxnSGREA4AEPHo5F/bTdXB1hrf9uky9m8DVBDhG/UkYiuJLjcs4iQbG9kPrgPI9wztc+RQ3iTbFtzb4NPnQvB1+YAChQrGENAUUxaVFOwPRAlaAbX4OfCE6Fni+t3S2xvcxd744lPoFu7G84j4Dvyt/XP9wPob9mHvguf23QDU08cju92hK4Dfhwy1S9or9WsPoybIPJhP0mWBfJx5LV9eRvQw7Bo9Bv3y5uIl03DF6Mce2WLrCv2oD1YhdTFiPktJ7lDRTc5AojGdIZEQDgAQ8ejkX9tN1cHWGt/26TL2bwNUEOEb9SRiK4kuNyziJBsb2Q+uA8j3DO1z5FDeJNsW3Nvg0+dC8HX5gAKFCsYQ0BRTFpUU7A9ECVoBtfg58IToWeL63dLbG9zF3vjiU+gW7sbziPgO/K39c/3A+hv2Ye+C5/bdANTTxyO73aErgN+HDLVL2iv1aw+jJsg8mE/SZYF8nHktX15G9DDsGj0G/fLm4iXTcMXoxx7ZYusK/agPViF1MWI+S0nuUNFNzkCiMZ0hkRAOABDx6ORf203VwdYa3/bpMvZvA1QQ4Rv1JGIriS43LOIkGxvZD64DyPcM7XPkUN4k2xbc2+DT50LwdfmAAoUKxhDQFFMWlRTsD0QJWgG1+DnwhOhZ4vrd0tsb3MXe+OJT6BbuxvOI+A78rf1z/cD6G/Zh74Ln9t0A1NPHI7vdoSuA34cMtUvaK/VrD6MmyDyYT9JlgXyceS1fXkb0MOwaPQb98ubiJdNwxejHHtli6wr9qA9WIXUxYj5LSe5Q0U3OQKIxnSGREA4AEPHo5F/bTdXB1hrf9uky9m8DVBDhG/UkYiuJLjcs4iQbG9kPrgPI9wztc+RQ3iTbFtzb4NPnQvB1+YAChQrGENAUUxaVFOwPRAlaAbX4OfCE6Fni+t3S2xvcxd744lPoFu7G84j4Dvyt/XP9wPob9mHvguf23QDU08cju92hK4Dfhwy1S9or9WsPoybIPJhP0mWBfJx5LV9eRvQw7Bo9Bv3y5uIl03DF6Mce2WLrCv2oD1YhdTFiPktJ7lDRTc5AojGdIZEQDgAQ8ejkX9tN1cHWGt/26TL2bwNUEOEb9SRiK4kuNyziJBsb2Q+uA8j3DO1z5FDeJNsW3Nvg0+dC8HX5gAKFCsYQ0BRTFpUU7A9ECVoBtfg58IToWeL63dLbG9zF3vjiU+gW7sbziPgO/K39c/3A+hv2Ye+C5/bdANTTxyO73aErgN+HDLVL2iv1aw+jJsg8mE/SZYF8nHktX15G9DDsGj0G/fLm4iXTcMXoxx7ZYusK/agPViF1MWI+S0nuUNFNzkCiMZ0hkRAOABDx6ORf203VwdYa3/bpMvZvA1QQ4Rv1JGIriS43LOIkGxvZD64DyPcM7XPkUN4k2xbc2+DT50LwdfmAAoUKxhDQFFMWlRTsD0QJWgG1+DnwhOhZ4vrd0tsb3MXe+OJT6BbuxvOI+A78rf1z/cD6G/Zh74Ln9t0A1NPHI7vdoSuA34cMtUvaK/VrD6MmyDyYT9JlgXyceS1fXkb0MOwaPQb98ubiJdNwxejHHtli6wr9qA9WIXUxYj5LSe5Q0U3OQKIxnSGREA4AEPHo5F/bTdXB1hrf9uky9m8DVBDhG/UkYiuJLjcs4iQbG9kPrgPI9wztc+RQ3iTbFtzb4NPnQvB1+YAChQrGENAUUxaVFOwPRAlaAbX4OfCE6Fni+t3S2xvcxd744lPoFu7G84j4Dvyt/XP9wPob9mHvguf23QDU08cju92hK4Dfhwy1S9or9WsPoybIPJhP0mWBfJx5LV9eRvQw7Bo9Bv3y5uIl03DF6Mce2WLrCv2oD1YhdTFiPktJ7lDRTc5AojGdIZEQDgAQ8ejkX9tN1cHWGt/26TL2bwNUEOEb9SRiK4kuNyziJBsb2Q+uA8j3DO1z5FDeJNsW3Nvg0+dC8HX5gAKFCsYQ0BRTFpUU7A9ECVoBtfg58IToWeL63dLbG9zF3vjiU+gW7sbziPgO/K39c/3A+hv2Ye+C5/bdANTTxyO73aErgN+HDLVL2iv1aw+jJsg8mE/SZYF8nHktX15G9DDsGj0G/fLm4iXTcMXoxx7ZYusK/agPViF1MWI+S0nuUNFNzkCiMZ0hkRAOABDx6ORf203VwdYa3/bpMvZvA1QQ4Rv1JGIriS43LOIkGxvZD64DyPcM7XPkUN4k2xbc2+DT50LwdfmAAoUKxhDQFFMWlRTsD0QJWgG1+DnwhOhZ4vrd0tsb3MXe+OJT6BbuxvOI+A78rf1z/cD6G/Zh74Ln9t0A1NPHI7vdoSuA34cMtUvaK/VrD6MmyDyYT9JlgXyceS1fXkb0MOwaPQb98ubiJdNwxejHHtli6wr9qA9WIXUxYj5LSe5Q0U3OQKIxnSGREA4AEPHo5F/bTdXB1hrf9uky9m8DVBDhG/UkYiuJLjcs4iQbG9kPrgPI9wztc+RQ3iTbFtzb4NPnQvB1+YAChQrGENAUUxaVFOwPRAlaAbX4OfCE6Fni+t3S2xvcxd744lPoFu7G84j4Dvyt/XP9wPob9mHvguf23QDU08cju92hK4Dfhwy1S9or9WsPoybIPJhP0mWBfJx5LV9eRvQw7Bo9Bv3y5uIl03DF6Mce2WLrCv2oD1YhdTFiPktJ7lDRTc5AojGdIZEQDgAQ8ejkX9tN1cHWGt/26TL2bwNUEOEb9SRiK4kuNyziJBsb2Q+uA8j3DO1z5FDeJNsW3Nvg0+dC8HX5gAKFCsYQ0BRTFpUU7A9ECVoBtfg58IToWeL63dLbG9zF3vjiU+gW7sbziPgO/K39c/3A+hv2Ye+C5/bdANTTxyO73aErgN+HDLVL2iv1aw+jJsg8mE/SZYF8nHktX15G9DDsGj0G/fLm4iXTcMXoxx7ZYusK/agPViF1MWI+S0nuUNFNzkCiMZ0hkRAOABDx6ORf203VwdYa3/bpMvZvA1QQ4Rv1JGIriS43LOIkGxvZD64DyPcM7XPkUN4k2xbc2+DT50LwdfmAAoUKxhDQFFMWlRTsD0QJWgG1+DnwhOhZ4vrd0tsb3MXe+OJT6BbuxvOI+A78rf1z/cD6G/Zh74Ln9t0A1NPHI7vdoSuA34cMtUvaK/VrD6MmyDyYT9JlgXyceS1fXkb0MOwaPQb98ubiJdNwxejHHtli6wr9qA9WIXUxYj5LSe5Q0U3OQKIxnSGREA4AEPHo5F/bTdXB1hrf9uky9m8DVBDhG/UkYiuJLjcs4iQbG9kPrgPI9wztc+RQ3iTbFtzb4NPnQvB1+YAChQrGENAUUxaVFOwPRAlaAbX4OfCE6Fni+t3S2xvcxd744lPoFu7G84j4Dvyt/XP9wPob9mHvguf23QDU08cju92hK4Dfhwy1S9or9WsPoybIPJhP0mWBfJx5LV9eRvQw7Bo9Bv3y5uIl03DF6Mce2WLrCv2oD1YhdTFiPktJ7lDRTc5AojGdIZEQDgAQ8ejkX9tN1cHWGt/26TL2bwNUEOEb9SRiK4kuNyziJBsb2Q+uA8j3DO1z5FDeJNsW3Nvg0+dC8HX5gAKFCsYQ0BRTFpUU7A9ECVoBtfg58IToWeL63dLbG9zF3vjiU+gW7sbziPgO/K39c/3A+hv2Ye+C5/bdANTTxyO73aErgN+HDLVL2iv1aw+jJsg8mE/SZYF8nHktX15G9DDsGj0G/fLm4iXTcMXoxx7ZYusK/agPViF1MWI+S0nuUNFNzkCiMZ0hkRAOABDx6ORf203VwdYa3/bpMvZvA1QQ4Rv1JGIriS43LOIkGxvZD64DyPcM7XPkUN4k2xbc2+DT50LwdfmAAoUKxhDQFFMWlRTsD0QJWgG1+DnwhOhZ4vrd0tsb3MXe+OJT6BbuxvOI+A78rf1z/cD6G/Zh74Ln9t0A1NPHI7vdoSuA34cMtUvaK/VrD6MmyDyYT9JlgXyceS1fXkb0MOwaPQb98ubiJdNwxejHHtli6wr9qA9WIXUxYj5LSe5Q0U3OQKIxnSGREA4AEPHo5F/bTdXB1hrf9uky9m8DVBDhG/UkYiuJLjcs4iQbG9kPrgPI9wztc+RQ3iTbFtzb4NPnQvB1+YAChQrGENAUUxaVFOwPRAlaAbX4OfCE6Fni+t3S2xvcxd744lPoFu7G84j4Dvyt/XP9wPob9mHvguf23QDU08cju92hK4Dfhwy1S9or9WsPoybIPJhP0mWBfJx5LV9eRvQw7Bo9Bv3y5uIl03DF6Mce2WLrCv2oD1YhdTFiPktJ7lDRTc5AojGdIZEQDgAQ8ejkX9tN1cHWGt/26TL2bwNUEOEb9SRiK4kuNyziJBsb2Q+uA8j3DO1z5FDeJNsW3Nvg0+dC8HX5gAKFCsYQ0BRTFpUU7A9ECVoBtfg58IToWeL63dLbG9zF3vjiU+gW7sbziPgO/K39c/3A+hv2Ye+C5/bdANTTxyO73aErgN+HDLVL2iv1aw+jJsg8mE/SZYF8nHktX15G9DDsGj0G/fLm4iXTcMXoxx7ZYusK/agPViF1MWI+S0nuUNFNzkCiMZ0hkRAOABDx6ORf203VwdYa3/bpMvZvA1QQ4Rv1JGIriS43LOIkGxvZD64DyPcM7XPkUN4k2xbc2+DT50LwdfmAAoUKxhDQFFMWlRTsD0QJWgG1+DnwhOhZ4vrd0tsb3MXe+OJT6BbuxvOI+A78rf1z/cD6G/Zh74Ln9t0A1NPHI7vdoSuA34cMtUvaK/VrD6MmyDyYT9JlgXyceS1fXkb0MOwaPQb98ubiJdNwxejHHtli6wr9qA9WIXUxYj5LSe5Q0U3OQKIxnSGREA4AEPHo5F/bTdXB1hrf9uky9m8DVBDhG/UkYiuJLjcs4iQbG9kPrgPI9wztc+RQ3iTbFtzb4NPnQvB1+YAChQrGENAUUxaVFOwPRAlaAbX4OfCE6Fni+t3S2xvcxd744lPoFu7G84j4Dvyt/XP9wPob9mHvguf23QDU08cju92hK4Dfhwy1S9or9WsPoybIPJhP0mWBfJx5LV9eRvQw7Bo9Bv3y5uIl03DF6Mce2WLrCv2oD1YhdTFiPktJ7lDRTc5AojGdIZEQDgAQ8ejkX9tN1cHWGt/26TL2bwNUEOEb9SRiK4kuNyziJBsb2Q+uA8j3DO1z5FDeJNsW3Nvg0+dC8HX5gAKFCsYQ0BRTFpUU7A9ECVoBtfg58IToWeL63dLbG9zF3vjiU+gW7sbziPgO/K39c/3A+hv2Ye+C5/bdANTTxyO73aErgN+HDLVL2iv1aw+jJsg8mE/SZYF8nHktX15G9DDsGj0G/fLm4iXTcMXoxx7ZYusK/agPViF1MWI+S0nuUNFNzkCiMZ0hkRAOABDx6ORf203VwdYa3/bpMvZvA1QQ4Rv1JGIriS43LOIkGxvZD64DyPcM7XPkUN4k2xbc2+DT50LwdfmAAoUKxhDQFFMWlRTsD0QJWgG1+DnwhOhZ4vrd0tsb3MXe+OJT6BbuxvOI+A78rf1z/cD6G/Zh74Ln9t0A1NPHI7vdoSuA34cMtUvaK/VrD6MmyDyYT9JlgXyceS1fXkb0MOwaPQb98ubiJdNwxejHHtli6wr9qA9WIXUxYj5LSe5Q0U3OQKIxnSGREA4AEPHo5F/bTdXB1hrf9uky9m8DVBDhG/UkYiuJLjcs4iQbG9kPrgPI9wztc+RQ3iTbFtzb4NPnQvB1+YAChQrGENAUUxaVFOwPRAlaAbX4OfCE6Fni+t3S2xvcxd744lPoFu7G84j4Dvyt/XP9wPob9mHvguf23QDU08cju92hK4Dfhwy1S9or9WsPoybIPJhP0mWBfJx5LV9eRvQw7Bo9Bv3y5uIl03DF6Mce2WLrCv2oD1YhdTFiPktJ7lDRTc5AojGdIZEQDgAQ8ejkX9tN1cHWGt/26TL2bwNUEOEb9SRiK4kuNyziJBsb2Q+uA8j3DO1z5FDeJNsW3Nvg0+dC8HX5gAKFCsYQ0BRTFpUU7A9ECVoBtfg58IToWeL63dLbG9zF3vjiU+gW7sbziPgO/K39c/3A+hv2Ye+C5/bdANTTxyO73aErgN+HDLVL2iv1aw+jJsg8mE/SZYF8nHktX15G9DDsGj0G/fLm4iXTcMXoxx7ZYusK/agPViF1MWI+S0nuUNFNzkCiMZ0hkRAOABDx6ORf203VwdYa3/bpMvZvA1QQ4Rv1JGIriS43LOIkGxvZD64DyPcM7XPkUN4k2xbc2+DT50LwdfmAAoUKxhDQFFMWlRTsD0QJWgG1+DnwhOhZ4vrd0tsb3MXe+OJT6BbuxvOI+A78rf1z/cD6G/Zh74Ln9t0A1NPHI7vdoSuA34cMtUvaK/VrD6MmyDyYT9JlgXyceS1fXkb0MOwaPQb98ubiJdNwxejHHtli6wr9qA9WIXUxYj5LSe5Q0U3OQKIxnSGREA4AEPHo5F/bTdXB1hrf9uky9m8DVBDhG/UkYiuJLjcs4iQbG9kPrgPI9wztc+RQ3iTbFtzb4NPnQvB1+YAChQrGENAUUxaVFOwPRAlaAbX4OfCE6Fni+t3S2xvcxd744lPoFu7G84j4Dvyt/XP9wPob9mHvguf23QDU08cju92hK4Dfhwy1S9or9WsPoybIPJhP0mWBfJx5LV9eRvQw7Bo9Bv3y5uIl03DF6Mce2WLrCv2oD1YhdTFiPktJ7lDRTc5AojGdIZEQDgAQ8ejkX9tN1cHWGt/26TL2bwNUEOEb9SRiK4kuNyziJBsb2Q+uA8j3DO1z5FDeJNsW3Nvg0+dC8HX5gAKFCsYQ0BRTFpUU7A9ECVoBtfg58IToWeL63dLbG9zF3vjiU+gW7sbziPgO/K39c/3A+hv2Ye+C5/bdANTTxyO73aErgN+HDLVL2iv1aw+jJsg8mE/SZYF8nHktX15G9DDsGj0G/fLm4iXTcMXoxx7ZYusK/agPViF1MWI+S0nuUNFNzkCiMZ0hkRAOABDx6ORf203VwdYa3/bpMvZvA1QQ4Rv1JGIriS43LOIkGxvZD64DyPcM7XPkUN4k2xbc2+DT50LwdfmAAoUKxhDQFFMWlRTsD0QJWgG1+DnwhOhZ4vrd0tsb3MXe+OJT6BbuxvOI+A78rf1z/cD6G/Zh74Ln9t0A1NPHI7vdoSuA34cMtUvaK/VrD6MmyDyYT9JlgXyceS1fXkb0MOwaPQb98ubiJdNwxejHHtli6wr9qA9WIXUxYj5LSe5Q0U3OQKIxnSGREA4AEPHo5F/bTdXB1hrf9uky9m8DVBDhG/UkYiuJLjcs4iQbG9kPrgPI9wztc+RQ3iTbFtzb4NPnQvB1+YAChQrGENAUUxaVFOwPRAlaAbX4OfCE6Fni+t3S2xvcxd744lPoFu7G84j4Dvyt/XP9wPob9mHvguf23QDU08cju92hK4Dfhwy1S9or9WsPoybIPJhP0mWBfJx5LV9eRvQw7Bo9Bv3y5uIl03DF6Mce2WLrCv2oD1YhdTFiPktJ7lDRTc5AojGdIZEQDgAQ8ejkX9tN1cHWGt/26TL2bwNUEOEb9SRiK4kuNyziJBsb2Q+uA8j3DO1z5FDeJNsW3Nvg0+dC8HX5gAKFCsYQ0BRTFpUU7A9ECVoBtfg58IToWeL63dLbG9zF3vjiU+gW7sbziPgO/K39c/3A+hv2Ye+C5/bdANTTxyO73aErgN+HDLVL2iv1aw+jJsg8mE/SZYF8nHktX15G9DDsGj0G/fLm4iXTcMXoxx7ZYusK/agPViF1MWI+S0nuUNFNzkCiMZ0hkRAOABDx6ORf203VwdYa3/bpMvZvA1QQ4Rv1JGIriS43LOIkGxvZD64DyPcM7XPkUN4k2xbc2+DT50LwdfmAAoUKxhDQFFMWlRTsD0QJWgG1+DnwhOhZ4vrd0tsb3MXe+OJT6BbuxvOI+A78rf1z/cD6G/Zh74Ln9t0A1NPHI7vdoSuA34cMtUvaK/VrD6MmyDyYT9JlgXyceS1fXkb0MOwaPQb98ubiJdNwxejHHtli6wr9qA9WIXUxYj5LSe5Q0U3OQKIxnSGREA4AEPHo5F/bTdXB1hrf9uky9m8DVBDhG/UkYiuJLjcs4iQbG9kPrgPI9wztc+RQ3iTbFtzb4NPnQvB1+YAChQrGENAUUxaVFOwPRAlaAbX4OfCE6Fni+t3S2xvcxd744lPoFu7G84j4Dvyt/XP9wPob9mHvguf23QDU08cju92hK4Dfhwy1S9or9WsPoybIPJhP0mWBfJx5LV9eRvQw7Bo9Bv3y5uIl03DF6Mce2WLrCv2oD1YhdTFiPktJ7lDRTc5AojGdIZEQDgAQ8ejkX9tN1cHWGt/26TL2bwNUEOEb9SRiK4kuNyziJBsb2Q+uA8j3DO1z5FDeJNsW3Nvg0+dC8HX5gAKFCsYQ0BRTFpUU7A9ECVoBtfg58IToWeL63dLbG9zF3vjiU+gW7sbziPgO/K39c/3A+hv2Ye+C5/bdANTTxyO73aErgN+HDLVL2iv1aw+jJsg8mE/SZYF8nHktX15G9DDsGj0G/fLm4iXTcMXoxx7ZYusK/agPViF1MWI+S0nuUNFNzkCiMZ0hkRAOABDx6ORf203VwdYa3/bpMvZvA1QQ4Rv1JGIriS43LOIkGxvZD64DyPcM7XPkUN4k2xbc2+DT50LwdfmAAoUKxhDQFFMWlRTsD0QJWgG1+DnwhOhZ4vrd0tsb3MXe+OJT6BbuxvOI+A78rf1z/cD6G/Zh74Ln9t0A1NPHI7vdoSuA\" type=\"audio/wav\" />\n",
       "                    Your browser does not support the audio element.\n",
       "                </audio>\n",
       "              "
      ],
      "text/plain": [
       "<IPython.lib.display.Audio object>"
      ]
     },
     "execution_count": 25,
     "metadata": {},
     "output_type": "execute_result"
    }
   ],
   "source": [
    "s = lfilter(np.array([1, -1]), np.array([1]), s)\n",
    "ipd.Audio(s, rate=sr)"
   ]
  },
  {
   "cell_type": "markdown",
   "metadata": {},
   "source": [
    "# load wav"
   ]
  },
  {
   "cell_type": "code",
   "execution_count": 26,
   "metadata": {},
   "outputs": [],
   "source": [
    "from scipy.io import wavfile\n",
    "# sr, s = wavfile.read('a.wav')\n",
    "nSamp = len(s)\n",
    "dur = nSamp / sr\n",
    "t = np.linspace(1/sr, dur, nSamp)"
   ]
  },
  {
   "cell_type": "markdown",
   "metadata": {},
   "source": [
    "# Fourier tranform"
   ]
  },
  {
   "cell_type": "code",
   "execution_count": 28,
   "metadata": {},
   "outputs": [],
   "source": [
    "nFFT = nSamp\n",
    "amp = [];\n",
    "for n in range(0, nFFT):\n",
    "    omega = 2*np.pi*n/nFFT  #angular velocity\n",
    "    z = np.exp(omega*1j)**(np.arange(0,nSamp))\n",
    "    amp.append(np.abs(np.dot(s,z)))"
   ]
  },
  {
   "cell_type": "code",
   "execution_count": 29,
   "metadata": {},
   "outputs": [
    {
     "data": {
      "application/javascript": [
       "/* Put everything inside the global mpl namespace */\n",
       "window.mpl = {};\n",
       "\n",
       "\n",
       "mpl.get_websocket_type = function() {\n",
       "    if (typeof(WebSocket) !== 'undefined') {\n",
       "        return WebSocket;\n",
       "    } else if (typeof(MozWebSocket) !== 'undefined') {\n",
       "        return MozWebSocket;\n",
       "    } else {\n",
       "        alert('Your browser does not have WebSocket support. ' +\n",
       "              'Please try Chrome, Safari or Firefox ≥ 6. ' +\n",
       "              'Firefox 4 and 5 are also supported but you ' +\n",
       "              'have to enable WebSockets in about:config.');\n",
       "    };\n",
       "}\n",
       "\n",
       "mpl.figure = function(figure_id, websocket, ondownload, parent_element) {\n",
       "    this.id = figure_id;\n",
       "\n",
       "    this.ws = websocket;\n",
       "\n",
       "    this.supports_binary = (this.ws.binaryType != undefined);\n",
       "\n",
       "    if (!this.supports_binary) {\n",
       "        var warnings = document.getElementById(\"mpl-warnings\");\n",
       "        if (warnings) {\n",
       "            warnings.style.display = 'block';\n",
       "            warnings.textContent = (\n",
       "                \"This browser does not support binary websocket messages. \" +\n",
       "                    \"Performance may be slow.\");\n",
       "        }\n",
       "    }\n",
       "\n",
       "    this.imageObj = new Image();\n",
       "\n",
       "    this.context = undefined;\n",
       "    this.message = undefined;\n",
       "    this.canvas = undefined;\n",
       "    this.rubberband_canvas = undefined;\n",
       "    this.rubberband_context = undefined;\n",
       "    this.format_dropdown = undefined;\n",
       "\n",
       "    this.image_mode = 'full';\n",
       "\n",
       "    this.root = $('<div/>');\n",
       "    this._root_extra_style(this.root)\n",
       "    this.root.attr('style', 'display: inline-block');\n",
       "\n",
       "    $(parent_element).append(this.root);\n",
       "\n",
       "    this._init_header(this);\n",
       "    this._init_canvas(this);\n",
       "    this._init_toolbar(this);\n",
       "\n",
       "    var fig = this;\n",
       "\n",
       "    this.waiting = false;\n",
       "\n",
       "    this.ws.onopen =  function () {\n",
       "            fig.send_message(\"supports_binary\", {value: fig.supports_binary});\n",
       "            fig.send_message(\"send_image_mode\", {});\n",
       "            if (mpl.ratio != 1) {\n",
       "                fig.send_message(\"set_dpi_ratio\", {'dpi_ratio': mpl.ratio});\n",
       "            }\n",
       "            fig.send_message(\"refresh\", {});\n",
       "        }\n",
       "\n",
       "    this.imageObj.onload = function() {\n",
       "            if (fig.image_mode == 'full') {\n",
       "                // Full images could contain transparency (where diff images\n",
       "                // almost always do), so we need to clear the canvas so that\n",
       "                // there is no ghosting.\n",
       "                fig.context.clearRect(0, 0, fig.canvas.width, fig.canvas.height);\n",
       "            }\n",
       "            fig.context.drawImage(fig.imageObj, 0, 0);\n",
       "        };\n",
       "\n",
       "    this.imageObj.onunload = function() {\n",
       "        fig.ws.close();\n",
       "    }\n",
       "\n",
       "    this.ws.onmessage = this._make_on_message_function(this);\n",
       "\n",
       "    this.ondownload = ondownload;\n",
       "}\n",
       "\n",
       "mpl.figure.prototype._init_header = function() {\n",
       "    var titlebar = $(\n",
       "        '<div class=\"ui-dialog-titlebar ui-widget-header ui-corner-all ' +\n",
       "        'ui-helper-clearfix\"/>');\n",
       "    var titletext = $(\n",
       "        '<div class=\"ui-dialog-title\" style=\"width: 100%; ' +\n",
       "        'text-align: center; padding: 3px;\"/>');\n",
       "    titlebar.append(titletext)\n",
       "    this.root.append(titlebar);\n",
       "    this.header = titletext[0];\n",
       "}\n",
       "\n",
       "\n",
       "\n",
       "mpl.figure.prototype._canvas_extra_style = function(canvas_div) {\n",
       "\n",
       "}\n",
       "\n",
       "\n",
       "mpl.figure.prototype._root_extra_style = function(canvas_div) {\n",
       "\n",
       "}\n",
       "\n",
       "mpl.figure.prototype._init_canvas = function() {\n",
       "    var fig = this;\n",
       "\n",
       "    var canvas_div = $('<div/>');\n",
       "\n",
       "    canvas_div.attr('style', 'position: relative; clear: both; outline: 0');\n",
       "\n",
       "    function canvas_keyboard_event(event) {\n",
       "        return fig.key_event(event, event['data']);\n",
       "    }\n",
       "\n",
       "    canvas_div.keydown('key_press', canvas_keyboard_event);\n",
       "    canvas_div.keyup('key_release', canvas_keyboard_event);\n",
       "    this.canvas_div = canvas_div\n",
       "    this._canvas_extra_style(canvas_div)\n",
       "    this.root.append(canvas_div);\n",
       "\n",
       "    var canvas = $('<canvas/>');\n",
       "    canvas.addClass('mpl-canvas');\n",
       "    canvas.attr('style', \"left: 0; top: 0; z-index: 0; outline: 0\")\n",
       "\n",
       "    this.canvas = canvas[0];\n",
       "    this.context = canvas[0].getContext(\"2d\");\n",
       "\n",
       "    var backingStore = this.context.backingStorePixelRatio ||\n",
       "\tthis.context.webkitBackingStorePixelRatio ||\n",
       "\tthis.context.mozBackingStorePixelRatio ||\n",
       "\tthis.context.msBackingStorePixelRatio ||\n",
       "\tthis.context.oBackingStorePixelRatio ||\n",
       "\tthis.context.backingStorePixelRatio || 1;\n",
       "\n",
       "    mpl.ratio = (window.devicePixelRatio || 1) / backingStore;\n",
       "\n",
       "    var rubberband = $('<canvas/>');\n",
       "    rubberband.attr('style', \"position: absolute; left: 0; top: 0; z-index: 1;\")\n",
       "\n",
       "    var pass_mouse_events = true;\n",
       "\n",
       "    canvas_div.resizable({\n",
       "        start: function(event, ui) {\n",
       "            pass_mouse_events = false;\n",
       "        },\n",
       "        resize: function(event, ui) {\n",
       "            fig.request_resize(ui.size.width, ui.size.height);\n",
       "        },\n",
       "        stop: function(event, ui) {\n",
       "            pass_mouse_events = true;\n",
       "            fig.request_resize(ui.size.width, ui.size.height);\n",
       "        },\n",
       "    });\n",
       "\n",
       "    function mouse_event_fn(event) {\n",
       "        if (pass_mouse_events)\n",
       "            return fig.mouse_event(event, event['data']);\n",
       "    }\n",
       "\n",
       "    rubberband.mousedown('button_press', mouse_event_fn);\n",
       "    rubberband.mouseup('button_release', mouse_event_fn);\n",
       "    // Throttle sequential mouse events to 1 every 20ms.\n",
       "    rubberband.mousemove('motion_notify', mouse_event_fn);\n",
       "\n",
       "    rubberband.mouseenter('figure_enter', mouse_event_fn);\n",
       "    rubberband.mouseleave('figure_leave', mouse_event_fn);\n",
       "\n",
       "    canvas_div.on(\"wheel\", function (event) {\n",
       "        event = event.originalEvent;\n",
       "        event['data'] = 'scroll'\n",
       "        if (event.deltaY < 0) {\n",
       "            event.step = 1;\n",
       "        } else {\n",
       "            event.step = -1;\n",
       "        }\n",
       "        mouse_event_fn(event);\n",
       "    });\n",
       "\n",
       "    canvas_div.append(canvas);\n",
       "    canvas_div.append(rubberband);\n",
       "\n",
       "    this.rubberband = rubberband;\n",
       "    this.rubberband_canvas = rubberband[0];\n",
       "    this.rubberband_context = rubberband[0].getContext(\"2d\");\n",
       "    this.rubberband_context.strokeStyle = \"#000000\";\n",
       "\n",
       "    this._resize_canvas = function(width, height) {\n",
       "        // Keep the size of the canvas, canvas container, and rubber band\n",
       "        // canvas in synch.\n",
       "        canvas_div.css('width', width)\n",
       "        canvas_div.css('height', height)\n",
       "\n",
       "        canvas.attr('width', width * mpl.ratio);\n",
       "        canvas.attr('height', height * mpl.ratio);\n",
       "        canvas.attr('style', 'width: ' + width + 'px; height: ' + height + 'px;');\n",
       "\n",
       "        rubberband.attr('width', width);\n",
       "        rubberband.attr('height', height);\n",
       "    }\n",
       "\n",
       "    // Set the figure to an initial 600x600px, this will subsequently be updated\n",
       "    // upon first draw.\n",
       "    this._resize_canvas(600, 600);\n",
       "\n",
       "    // Disable right mouse context menu.\n",
       "    $(this.rubberband_canvas).bind(\"contextmenu\",function(e){\n",
       "        return false;\n",
       "    });\n",
       "\n",
       "    function set_focus () {\n",
       "        canvas.focus();\n",
       "        canvas_div.focus();\n",
       "    }\n",
       "\n",
       "    window.setTimeout(set_focus, 100);\n",
       "}\n",
       "\n",
       "mpl.figure.prototype._init_toolbar = function() {\n",
       "    var fig = this;\n",
       "\n",
       "    var nav_element = $('<div/>');\n",
       "    nav_element.attr('style', 'width: 100%');\n",
       "    this.root.append(nav_element);\n",
       "\n",
       "    // Define a callback function for later on.\n",
       "    function toolbar_event(event) {\n",
       "        return fig.toolbar_button_onclick(event['data']);\n",
       "    }\n",
       "    function toolbar_mouse_event(event) {\n",
       "        return fig.toolbar_button_onmouseover(event['data']);\n",
       "    }\n",
       "\n",
       "    for(var toolbar_ind in mpl.toolbar_items) {\n",
       "        var name = mpl.toolbar_items[toolbar_ind][0];\n",
       "        var tooltip = mpl.toolbar_items[toolbar_ind][1];\n",
       "        var image = mpl.toolbar_items[toolbar_ind][2];\n",
       "        var method_name = mpl.toolbar_items[toolbar_ind][3];\n",
       "\n",
       "        if (!name) {\n",
       "            // put a spacer in here.\n",
       "            continue;\n",
       "        }\n",
       "        var button = $('<button/>');\n",
       "        button.addClass('ui-button ui-widget ui-state-default ui-corner-all ' +\n",
       "                        'ui-button-icon-only');\n",
       "        button.attr('role', 'button');\n",
       "        button.attr('aria-disabled', 'false');\n",
       "        button.click(method_name, toolbar_event);\n",
       "        button.mouseover(tooltip, toolbar_mouse_event);\n",
       "\n",
       "        var icon_img = $('<span/>');\n",
       "        icon_img.addClass('ui-button-icon-primary ui-icon');\n",
       "        icon_img.addClass(image);\n",
       "        icon_img.addClass('ui-corner-all');\n",
       "\n",
       "        var tooltip_span = $('<span/>');\n",
       "        tooltip_span.addClass('ui-button-text');\n",
       "        tooltip_span.html(tooltip);\n",
       "\n",
       "        button.append(icon_img);\n",
       "        button.append(tooltip_span);\n",
       "\n",
       "        nav_element.append(button);\n",
       "    }\n",
       "\n",
       "    var fmt_picker_span = $('<span/>');\n",
       "\n",
       "    var fmt_picker = $('<select/>');\n",
       "    fmt_picker.addClass('mpl-toolbar-option ui-widget ui-widget-content');\n",
       "    fmt_picker_span.append(fmt_picker);\n",
       "    nav_element.append(fmt_picker_span);\n",
       "    this.format_dropdown = fmt_picker[0];\n",
       "\n",
       "    for (var ind in mpl.extensions) {\n",
       "        var fmt = mpl.extensions[ind];\n",
       "        var option = $(\n",
       "            '<option/>', {selected: fmt === mpl.default_extension}).html(fmt);\n",
       "        fmt_picker.append(option);\n",
       "    }\n",
       "\n",
       "    // Add hover states to the ui-buttons\n",
       "    $( \".ui-button\" ).hover(\n",
       "        function() { $(this).addClass(\"ui-state-hover\");},\n",
       "        function() { $(this).removeClass(\"ui-state-hover\");}\n",
       "    );\n",
       "\n",
       "    var status_bar = $('<span class=\"mpl-message\"/>');\n",
       "    nav_element.append(status_bar);\n",
       "    this.message = status_bar[0];\n",
       "}\n",
       "\n",
       "mpl.figure.prototype.request_resize = function(x_pixels, y_pixels) {\n",
       "    // Request matplotlib to resize the figure. Matplotlib will then trigger a resize in the client,\n",
       "    // which will in turn request a refresh of the image.\n",
       "    this.send_message('resize', {'width': x_pixels, 'height': y_pixels});\n",
       "}\n",
       "\n",
       "mpl.figure.prototype.send_message = function(type, properties) {\n",
       "    properties['type'] = type;\n",
       "    properties['figure_id'] = this.id;\n",
       "    this.ws.send(JSON.stringify(properties));\n",
       "}\n",
       "\n",
       "mpl.figure.prototype.send_draw_message = function() {\n",
       "    if (!this.waiting) {\n",
       "        this.waiting = true;\n",
       "        this.ws.send(JSON.stringify({type: \"draw\", figure_id: this.id}));\n",
       "    }\n",
       "}\n",
       "\n",
       "\n",
       "mpl.figure.prototype.handle_save = function(fig, msg) {\n",
       "    var format_dropdown = fig.format_dropdown;\n",
       "    var format = format_dropdown.options[format_dropdown.selectedIndex].value;\n",
       "    fig.ondownload(fig, format);\n",
       "}\n",
       "\n",
       "\n",
       "mpl.figure.prototype.handle_resize = function(fig, msg) {\n",
       "    var size = msg['size'];\n",
       "    if (size[0] != fig.canvas.width || size[1] != fig.canvas.height) {\n",
       "        fig._resize_canvas(size[0], size[1]);\n",
       "        fig.send_message(\"refresh\", {});\n",
       "    };\n",
       "}\n",
       "\n",
       "mpl.figure.prototype.handle_rubberband = function(fig, msg) {\n",
       "    var x0 = msg['x0'] / mpl.ratio;\n",
       "    var y0 = (fig.canvas.height - msg['y0']) / mpl.ratio;\n",
       "    var x1 = msg['x1'] / mpl.ratio;\n",
       "    var y1 = (fig.canvas.height - msg['y1']) / mpl.ratio;\n",
       "    x0 = Math.floor(x0) + 0.5;\n",
       "    y0 = Math.floor(y0) + 0.5;\n",
       "    x1 = Math.floor(x1) + 0.5;\n",
       "    y1 = Math.floor(y1) + 0.5;\n",
       "    var min_x = Math.min(x0, x1);\n",
       "    var min_y = Math.min(y0, y1);\n",
       "    var width = Math.abs(x1 - x0);\n",
       "    var height = Math.abs(y1 - y0);\n",
       "\n",
       "    fig.rubberband_context.clearRect(\n",
       "        0, 0, fig.canvas.width, fig.canvas.height);\n",
       "\n",
       "    fig.rubberband_context.strokeRect(min_x, min_y, width, height);\n",
       "}\n",
       "\n",
       "mpl.figure.prototype.handle_figure_label = function(fig, msg) {\n",
       "    // Updates the figure title.\n",
       "    fig.header.textContent = msg['label'];\n",
       "}\n",
       "\n",
       "mpl.figure.prototype.handle_cursor = function(fig, msg) {\n",
       "    var cursor = msg['cursor'];\n",
       "    switch(cursor)\n",
       "    {\n",
       "    case 0:\n",
       "        cursor = 'pointer';\n",
       "        break;\n",
       "    case 1:\n",
       "        cursor = 'default';\n",
       "        break;\n",
       "    case 2:\n",
       "        cursor = 'crosshair';\n",
       "        break;\n",
       "    case 3:\n",
       "        cursor = 'move';\n",
       "        break;\n",
       "    }\n",
       "    fig.rubberband_canvas.style.cursor = cursor;\n",
       "}\n",
       "\n",
       "mpl.figure.prototype.handle_message = function(fig, msg) {\n",
       "    fig.message.textContent = msg['message'];\n",
       "}\n",
       "\n",
       "mpl.figure.prototype.handle_draw = function(fig, msg) {\n",
       "    // Request the server to send over a new figure.\n",
       "    fig.send_draw_message();\n",
       "}\n",
       "\n",
       "mpl.figure.prototype.handle_image_mode = function(fig, msg) {\n",
       "    fig.image_mode = msg['mode'];\n",
       "}\n",
       "\n",
       "mpl.figure.prototype.updated_canvas_event = function() {\n",
       "    // Called whenever the canvas gets updated.\n",
       "    this.send_message(\"ack\", {});\n",
       "}\n",
       "\n",
       "// A function to construct a web socket function for onmessage handling.\n",
       "// Called in the figure constructor.\n",
       "mpl.figure.prototype._make_on_message_function = function(fig) {\n",
       "    return function socket_on_message(evt) {\n",
       "        if (evt.data instanceof Blob) {\n",
       "            /* FIXME: We get \"Resource interpreted as Image but\n",
       "             * transferred with MIME type text/plain:\" errors on\n",
       "             * Chrome.  But how to set the MIME type?  It doesn't seem\n",
       "             * to be part of the websocket stream */\n",
       "            evt.data.type = \"image/png\";\n",
       "\n",
       "            /* Free the memory for the previous frames */\n",
       "            if (fig.imageObj.src) {\n",
       "                (window.URL || window.webkitURL).revokeObjectURL(\n",
       "                    fig.imageObj.src);\n",
       "            }\n",
       "\n",
       "            fig.imageObj.src = (window.URL || window.webkitURL).createObjectURL(\n",
       "                evt.data);\n",
       "            fig.updated_canvas_event();\n",
       "            fig.waiting = false;\n",
       "            return;\n",
       "        }\n",
       "        else if (typeof evt.data === 'string' && evt.data.slice(0, 21) == \"data:image/png;base64\") {\n",
       "            fig.imageObj.src = evt.data;\n",
       "            fig.updated_canvas_event();\n",
       "            fig.waiting = false;\n",
       "            return;\n",
       "        }\n",
       "\n",
       "        var msg = JSON.parse(evt.data);\n",
       "        var msg_type = msg['type'];\n",
       "\n",
       "        // Call the  \"handle_{type}\" callback, which takes\n",
       "        // the figure and JSON message as its only arguments.\n",
       "        try {\n",
       "            var callback = fig[\"handle_\" + msg_type];\n",
       "        } catch (e) {\n",
       "            console.log(\"No handler for the '\" + msg_type + \"' message type: \", msg);\n",
       "            return;\n",
       "        }\n",
       "\n",
       "        if (callback) {\n",
       "            try {\n",
       "                // console.log(\"Handling '\" + msg_type + \"' message: \", msg);\n",
       "                callback(fig, msg);\n",
       "            } catch (e) {\n",
       "                console.log(\"Exception inside the 'handler_\" + msg_type + \"' callback:\", e, e.stack, msg);\n",
       "            }\n",
       "        }\n",
       "    };\n",
       "}\n",
       "\n",
       "// from http://stackoverflow.com/questions/1114465/getting-mouse-location-in-canvas\n",
       "mpl.findpos = function(e) {\n",
       "    //this section is from http://www.quirksmode.org/js/events_properties.html\n",
       "    var targ;\n",
       "    if (!e)\n",
       "        e = window.event;\n",
       "    if (e.target)\n",
       "        targ = e.target;\n",
       "    else if (e.srcElement)\n",
       "        targ = e.srcElement;\n",
       "    if (targ.nodeType == 3) // defeat Safari bug\n",
       "        targ = targ.parentNode;\n",
       "\n",
       "    // jQuery normalizes the pageX and pageY\n",
       "    // pageX,Y are the mouse positions relative to the document\n",
       "    // offset() returns the position of the element relative to the document\n",
       "    var x = e.pageX - $(targ).offset().left;\n",
       "    var y = e.pageY - $(targ).offset().top;\n",
       "\n",
       "    return {\"x\": x, \"y\": y};\n",
       "};\n",
       "\n",
       "/*\n",
       " * return a copy of an object with only non-object keys\n",
       " * we need this to avoid circular references\n",
       " * http://stackoverflow.com/a/24161582/3208463\n",
       " */\n",
       "function simpleKeys (original) {\n",
       "  return Object.keys(original).reduce(function (obj, key) {\n",
       "    if (typeof original[key] !== 'object')\n",
       "        obj[key] = original[key]\n",
       "    return obj;\n",
       "  }, {});\n",
       "}\n",
       "\n",
       "mpl.figure.prototype.mouse_event = function(event, name) {\n",
       "    var canvas_pos = mpl.findpos(event)\n",
       "\n",
       "    if (name === 'button_press')\n",
       "    {\n",
       "        this.canvas.focus();\n",
       "        this.canvas_div.focus();\n",
       "    }\n",
       "\n",
       "    var x = canvas_pos.x * mpl.ratio;\n",
       "    var y = canvas_pos.y * mpl.ratio;\n",
       "\n",
       "    this.send_message(name, {x: x, y: y, button: event.button,\n",
       "                             step: event.step,\n",
       "                             guiEvent: simpleKeys(event)});\n",
       "\n",
       "    /* This prevents the web browser from automatically changing to\n",
       "     * the text insertion cursor when the button is pressed.  We want\n",
       "     * to control all of the cursor setting manually through the\n",
       "     * 'cursor' event from matplotlib */\n",
       "    event.preventDefault();\n",
       "    return false;\n",
       "}\n",
       "\n",
       "mpl.figure.prototype._key_event_extra = function(event, name) {\n",
       "    // Handle any extra behaviour associated with a key event\n",
       "}\n",
       "\n",
       "mpl.figure.prototype.key_event = function(event, name) {\n",
       "\n",
       "    // Prevent repeat events\n",
       "    if (name == 'key_press')\n",
       "    {\n",
       "        if (event.which === this._key)\n",
       "            return;\n",
       "        else\n",
       "            this._key = event.which;\n",
       "    }\n",
       "    if (name == 'key_release')\n",
       "        this._key = null;\n",
       "\n",
       "    var value = '';\n",
       "    if (event.ctrlKey && event.which != 17)\n",
       "        value += \"ctrl+\";\n",
       "    if (event.altKey && event.which != 18)\n",
       "        value += \"alt+\";\n",
       "    if (event.shiftKey && event.which != 16)\n",
       "        value += \"shift+\";\n",
       "\n",
       "    value += 'k';\n",
       "    value += event.which.toString();\n",
       "\n",
       "    this._key_event_extra(event, name);\n",
       "\n",
       "    this.send_message(name, {key: value,\n",
       "                             guiEvent: simpleKeys(event)});\n",
       "    return false;\n",
       "}\n",
       "\n",
       "mpl.figure.prototype.toolbar_button_onclick = function(name) {\n",
       "    if (name == 'download') {\n",
       "        this.handle_save(this, null);\n",
       "    } else {\n",
       "        this.send_message(\"toolbar_button\", {name: name});\n",
       "    }\n",
       "};\n",
       "\n",
       "mpl.figure.prototype.toolbar_button_onmouseover = function(tooltip) {\n",
       "    this.message.textContent = tooltip;\n",
       "};\n",
       "mpl.toolbar_items = [[\"Home\", \"Reset original view\", \"fa fa-home icon-home\", \"home\"], [\"Back\", \"Back to previous view\", \"fa fa-arrow-left icon-arrow-left\", \"back\"], [\"Forward\", \"Forward to next view\", \"fa fa-arrow-right icon-arrow-right\", \"forward\"], [\"\", \"\", \"\", \"\"], [\"Pan\", \"Pan axes with left mouse, zoom with right\", \"fa fa-arrows icon-move\", \"pan\"], [\"Zoom\", \"Zoom to rectangle\", \"fa fa-square-o icon-check-empty\", \"zoom\"], [\"\", \"\", \"\", \"\"], [\"Download\", \"Download plot\", \"fa fa-floppy-o icon-save\", \"download\"]];\n",
       "\n",
       "mpl.extensions = [\"eps\", \"jpeg\", \"pdf\", \"png\", \"ps\", \"raw\", \"svg\", \"tif\"];\n",
       "\n",
       "mpl.default_extension = \"png\";var comm_websocket_adapter = function(comm) {\n",
       "    // Create a \"websocket\"-like object which calls the given IPython comm\n",
       "    // object with the appropriate methods. Currently this is a non binary\n",
       "    // socket, so there is still some room for performance tuning.\n",
       "    var ws = {};\n",
       "\n",
       "    ws.close = function() {\n",
       "        comm.close()\n",
       "    };\n",
       "    ws.send = function(m) {\n",
       "        //console.log('sending', m);\n",
       "        comm.send(m);\n",
       "    };\n",
       "    // Register the callback with on_msg.\n",
       "    comm.on_msg(function(msg) {\n",
       "        //console.log('receiving', msg['content']['data'], msg);\n",
       "        // Pass the mpl event to the overridden (by mpl) onmessage function.\n",
       "        ws.onmessage(msg['content']['data'])\n",
       "    });\n",
       "    return ws;\n",
       "}\n",
       "\n",
       "mpl.mpl_figure_comm = function(comm, msg) {\n",
       "    // This is the function which gets called when the mpl process\n",
       "    // starts-up an IPython Comm through the \"matplotlib\" channel.\n",
       "\n",
       "    var id = msg.content.data.id;\n",
       "    // Get hold of the div created by the display call when the Comm\n",
       "    // socket was opened in Python.\n",
       "    var element = $(\"#\" + id);\n",
       "    var ws_proxy = comm_websocket_adapter(comm)\n",
       "\n",
       "    function ondownload(figure, format) {\n",
       "        window.open(figure.imageObj.src);\n",
       "    }\n",
       "\n",
       "    var fig = new mpl.figure(id, ws_proxy,\n",
       "                           ondownload,\n",
       "                           element.get(0));\n",
       "\n",
       "    // Call onopen now - mpl needs it, as it is assuming we've passed it a real\n",
       "    // web socket which is closed, not our websocket->open comm proxy.\n",
       "    ws_proxy.onopen();\n",
       "\n",
       "    fig.parent_element = element.get(0);\n",
       "    fig.cell_info = mpl.find_output_cell(\"<div id='\" + id + \"'></div>\");\n",
       "    if (!fig.cell_info) {\n",
       "        console.error(\"Failed to find cell for figure\", id, fig);\n",
       "        return;\n",
       "    }\n",
       "\n",
       "    var output_index = fig.cell_info[2]\n",
       "    var cell = fig.cell_info[0];\n",
       "\n",
       "};\n",
       "\n",
       "mpl.figure.prototype.handle_close = function(fig, msg) {\n",
       "    var width = fig.canvas.width/mpl.ratio\n",
       "    fig.root.unbind('remove')\n",
       "\n",
       "    // Update the output cell to use the data from the current canvas.\n",
       "    fig.push_to_output();\n",
       "    var dataURL = fig.canvas.toDataURL();\n",
       "    // Re-enable the keyboard manager in IPython - without this line, in FF,\n",
       "    // the notebook keyboard shortcuts fail.\n",
       "    IPython.keyboard_manager.enable()\n",
       "    $(fig.parent_element).html('<img src=\"' + dataURL + '\" width=\"' + width + '\">');\n",
       "    fig.close_ws(fig, msg);\n",
       "}\n",
       "\n",
       "mpl.figure.prototype.close_ws = function(fig, msg){\n",
       "    fig.send_message('closing', msg);\n",
       "    // fig.ws.close()\n",
       "}\n",
       "\n",
       "mpl.figure.prototype.push_to_output = function(remove_interactive) {\n",
       "    // Turn the data on the canvas into data in the output cell.\n",
       "    var width = this.canvas.width/mpl.ratio\n",
       "    var dataURL = this.canvas.toDataURL();\n",
       "    this.cell_info[1]['text/html'] = '<img src=\"' + dataURL + '\" width=\"' + width + '\">';\n",
       "}\n",
       "\n",
       "mpl.figure.prototype.updated_canvas_event = function() {\n",
       "    // Tell IPython that the notebook contents must change.\n",
       "    IPython.notebook.set_dirty(true);\n",
       "    this.send_message(\"ack\", {});\n",
       "    var fig = this;\n",
       "    // Wait a second, then push the new image to the DOM so\n",
       "    // that it is saved nicely (might be nice to debounce this).\n",
       "    setTimeout(function () { fig.push_to_output() }, 1000);\n",
       "}\n",
       "\n",
       "mpl.figure.prototype._init_toolbar = function() {\n",
       "    var fig = this;\n",
       "\n",
       "    var nav_element = $('<div/>');\n",
       "    nav_element.attr('style', 'width: 100%');\n",
       "    this.root.append(nav_element);\n",
       "\n",
       "    // Define a callback function for later on.\n",
       "    function toolbar_event(event) {\n",
       "        return fig.toolbar_button_onclick(event['data']);\n",
       "    }\n",
       "    function toolbar_mouse_event(event) {\n",
       "        return fig.toolbar_button_onmouseover(event['data']);\n",
       "    }\n",
       "\n",
       "    for(var toolbar_ind in mpl.toolbar_items){\n",
       "        var name = mpl.toolbar_items[toolbar_ind][0];\n",
       "        var tooltip = mpl.toolbar_items[toolbar_ind][1];\n",
       "        var image = mpl.toolbar_items[toolbar_ind][2];\n",
       "        var method_name = mpl.toolbar_items[toolbar_ind][3];\n",
       "\n",
       "        if (!name) { continue; };\n",
       "\n",
       "        var button = $('<button class=\"btn btn-default\" href=\"#\" title=\"' + name + '\"><i class=\"fa ' + image + ' fa-lg\"></i></button>');\n",
       "        button.click(method_name, toolbar_event);\n",
       "        button.mouseover(tooltip, toolbar_mouse_event);\n",
       "        nav_element.append(button);\n",
       "    }\n",
       "\n",
       "    // Add the status bar.\n",
       "    var status_bar = $('<span class=\"mpl-message\" style=\"text-align:right; float: right;\"/>');\n",
       "    nav_element.append(status_bar);\n",
       "    this.message = status_bar[0];\n",
       "\n",
       "    // Add the close button to the window.\n",
       "    var buttongrp = $('<div class=\"btn-group inline pull-right\"></div>');\n",
       "    var button = $('<button class=\"btn btn-mini btn-primary\" href=\"#\" title=\"Stop Interaction\"><i class=\"fa fa-power-off icon-remove icon-large\"></i></button>');\n",
       "    button.click(function (evt) { fig.handle_close(fig, {}); } );\n",
       "    button.mouseover('Stop Interaction', toolbar_mouse_event);\n",
       "    buttongrp.append(button);\n",
       "    var titlebar = this.root.find($('.ui-dialog-titlebar'));\n",
       "    titlebar.prepend(buttongrp);\n",
       "}\n",
       "\n",
       "mpl.figure.prototype._root_extra_style = function(el){\n",
       "    var fig = this\n",
       "    el.on(\"remove\", function(){\n",
       "\tfig.close_ws(fig, {});\n",
       "    });\n",
       "}\n",
       "\n",
       "mpl.figure.prototype._canvas_extra_style = function(el){\n",
       "    // this is important to make the div 'focusable\n",
       "    el.attr('tabindex', 0)\n",
       "    // reach out to IPython and tell the keyboard manager to turn it's self\n",
       "    // off when our div gets focus\n",
       "\n",
       "    // location in version 3\n",
       "    if (IPython.notebook.keyboard_manager) {\n",
       "        IPython.notebook.keyboard_manager.register_events(el);\n",
       "    }\n",
       "    else {\n",
       "        // location in version 2\n",
       "        IPython.keyboard_manager.register_events(el);\n",
       "    }\n",
       "\n",
       "}\n",
       "\n",
       "mpl.figure.prototype._key_event_extra = function(event, name) {\n",
       "    var manager = IPython.notebook.keyboard_manager;\n",
       "    if (!manager)\n",
       "        manager = IPython.keyboard_manager;\n",
       "\n",
       "    // Check for shift+enter\n",
       "    if (event.shiftKey && event.which == 13) {\n",
       "        this.canvas_div.blur();\n",
       "        event.shiftKey = false;\n",
       "        // Send a \"J\" for go to next cell\n",
       "        event.which = 74;\n",
       "        event.keyCode = 74;\n",
       "        manager.command_mode();\n",
       "        manager.handle_keydown(event);\n",
       "    }\n",
       "}\n",
       "\n",
       "mpl.figure.prototype.handle_save = function(fig, msg) {\n",
       "    fig.ondownload(fig, null);\n",
       "}\n",
       "\n",
       "\n",
       "mpl.find_output_cell = function(html_output) {\n",
       "    // Return the cell and output element which can be found *uniquely* in the notebook.\n",
       "    // Note - this is a bit hacky, but it is done because the \"notebook_saving.Notebook\"\n",
       "    // IPython event is triggered only after the cells have been serialised, which for\n",
       "    // our purposes (turning an active figure into a static one), is too late.\n",
       "    var cells = IPython.notebook.get_cells();\n",
       "    var ncells = cells.length;\n",
       "    for (var i=0; i<ncells; i++) {\n",
       "        var cell = cells[i];\n",
       "        if (cell.cell_type === 'code'){\n",
       "            for (var j=0; j<cell.output_area.outputs.length; j++) {\n",
       "                var data = cell.output_area.outputs[j];\n",
       "                if (data.data) {\n",
       "                    // IPython >= 3 moved mimebundle to data attribute of output\n",
       "                    data = data.data;\n",
       "                }\n",
       "                if (data['text/html'] == html_output) {\n",
       "                    return [cell, data, j];\n",
       "                }\n",
       "            }\n",
       "        }\n",
       "    }\n",
       "}\n",
       "\n",
       "// Register the function which deals with the matplotlib target/channel.\n",
       "// The kernel may be null if the page has been refreshed.\n",
       "if (IPython.notebook.kernel != null) {\n",
       "    IPython.notebook.kernel.comm_manager.register_target('matplotlib', mpl.mpl_figure_comm);\n",
       "}\n"
      ],
      "text/plain": [
       "<IPython.core.display.Javascript object>"
      ]
     },
     "metadata": {},
     "output_type": "display_data"
    },
    {
     "data": {
      "text/html": [
       "<img src=\"data:image/png;base64,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\" width=\"640\">"
      ],
      "text/plain": [
       "<IPython.core.display.HTML object>"
      ]
     },
     "metadata": {},
     "output_type": "display_data"
    },
    {
     "data": {
      "text/plain": [
       "Text(0, 0.5, 'amplitude')"
      ]
     },
     "execution_count": 29,
     "metadata": {},
     "output_type": "execute_result"
    }
   ],
   "source": [
    "fig = plt.figure()\n",
    "ax = fig.add_subplot(111)\n",
    "freq = np.arange(1, nFFT+1)*sr/nFFT;\n",
    "ax.plot(freq, amp)\n",
    "ax.set_xlabel('frequency (Hz)')\n",
    "ax.set_ylabel('amplitude')"
   ]
  },
  {
   "cell_type": "markdown",
   "metadata": {},
   "source": [
    "# define helper functions"
   ]
  },
  {
   "cell_type": "code",
   "execution_count": 30,
   "metadata": {},
   "outputs": [],
   "source": [
    "def frame_signal(signal, srate, win_size, win_step):\n",
    "    frame_size = int(win_size * srate)\n",
    "    frame_step = int(win_step * srate)\n",
    "    \n",
    "    # Get number of frames\n",
    "    num_frames = int(np.cell(np.abs(len(singal) - frame_size) / frame_step))\n",
    "    # Pad signal\n",
    "    pad_len = num_frames * frame_step + frame_size\n",
    "    pad = np.zeros((pad_len - len(signal)))\n",
    "    signal_padded = np.append(signal, pad)\n",
    "    # Get within-frame sample indices\n",
    "    idx1 = np.tile(np.arange(0, frame_size), (num_frames, 1))\n",
    "    # Get vectors of frame_step increments\n",
    "    idx2 = np.tile(np.arange(0, num_frames * frame_step, frame_step), (frame_size, 1)).T\n",
    "    # Get total indices divided by each frame\n",
    "    indices = idx1 + idx2\n",
    "    # Get frames divided by each frame based on indices\n",
    "    frames = signal_padded[indices.astype(np.int32, copy=False)]\n",
    "#     if cutoff is not None:\n",
    "#         cutoff_bin = round(cutoff * nfft / (srate))  # hz -> bin\n",
    "#         frames = frames[:, :cutoff_bin]\n",
    "    return frames\n",
    "\n",
    "def get_window(win_size, srate, win_type, win_samp=None):\n",
    "    '''Get window samples for win_size'''\n",
    "    if win_samp is None:\n",
    "        win_samp = int(win_size * srate)  # sec -> sample\n",
    "        \n",
    "    if win_type == 'rect':\n",
    "        return np.kaiser(win_samp, 0)\n",
    "    elif win_type == 'hamming':\n",
    "        return np.hamming(win_samp)\n",
    "    elif win_type == 'hanning':\n",
    "        return np.hanning(win_samp)\n",
    "    elif win_type == 'kaiser':\n",
    "        return np.kaiser(win_samp, 14)\n",
    "    elif win_type == 'blackman':\n",
    "        return np.blackman(win_samp)\n",
    "    \n",
    "def plot_spectrogram(S):\n",
    "    fig, ax = plt.supblots(facecolor='white', figsize=(14, 6))\n",
    "    im = ax.imshow(S.T, aspect='auto', origin='lower', cmap=plt.get_cmap('Greys'))\n",
    "    divider = make_axes_locatable(ax)\n",
    "    cax = divider.append_axes('right', size='5%', pad=0.05)\n",
    "    cbar = fig.colorbar(im, cax=cax)\n",
    "    return fig, ax\n",
    "\n",
    "def preemphasis(s, pre_emp=0.97):\n",
    "    # Emphasize high frequency range of the waveform by increasing power(squared amplitude).\n",
    "    s = lfilter([1, -pre_emp], [1], s)\n",
    "    return s"
   ]
  },
  {
   "cell_type": "markdown",
   "metadata": {},
   "source": [
    "# preprocessing signal"
   ]
  },
  {
   "cell_type": "code",
   "execution_count": 33,
   "metadata": {},
   "outputs": [
    {
     "ename": "AttributeError",
     "evalue": "module 'numpy' has no attribute 'cell'",
     "output_type": "error",
     "traceback": [
      "\u001b[1;31m---------------------------------------------------------------------------\u001b[0m",
      "\u001b[1;31mAttributeError\u001b[0m                            Traceback (most recent call last)",
      "\u001b[1;32m<ipython-input-33-837db5fce543>\u001b[0m in \u001b[0;36m<module>\u001b[1;34m\u001b[0m\n\u001b[0;32m      8\u001b[0m \u001b[0ms\u001b[0m \u001b[1;33m=\u001b[0m \u001b[0mpreemphasis\u001b[0m\u001b[1;33m(\u001b[0m\u001b[0ms\u001b[0m\u001b[1;33m)\u001b[0m\u001b[1;33m\u001b[0m\u001b[1;33m\u001b[0m\u001b[0m\n\u001b[0;32m      9\u001b[0m \u001b[1;31m# Frame signal\u001b[0m\u001b[1;33m\u001b[0m\u001b[1;33m\u001b[0m\u001b[1;33m\u001b[0m\u001b[0m\n\u001b[1;32m---> 10\u001b[1;33m \u001b[0mframes\u001b[0m \u001b[1;33m=\u001b[0m \u001b[0mframe_signal\u001b[0m\u001b[1;33m(\u001b[0m\u001b[0ms\u001b[0m\u001b[1;33m,\u001b[0m \u001b[0msr\u001b[0m\u001b[1;33m,\u001b[0m \u001b[0mwin_size\u001b[0m\u001b[1;33m,\u001b[0m \u001b[0mwin_step\u001b[0m\u001b[1;33m)\u001b[0m\u001b[1;33m\u001b[0m\u001b[1;33m\u001b[0m\u001b[0m\n\u001b[0m\u001b[0;32m     11\u001b[0m \u001b[1;31m# Apply window function\u001b[0m\u001b[1;33m\u001b[0m\u001b[1;33m\u001b[0m\u001b[1;33m\u001b[0m\u001b[0m\n\u001b[0;32m     12\u001b[0m \u001b[0mframes\u001b[0m \u001b[1;33m*=\u001b[0m \u001b[0mget_window\u001b[0m\u001b[1;33m(\u001b[0m\u001b[0mwin_size\u001b[0m\u001b[1;33m,\u001b[0m \u001b[0msr\u001b[0m\u001b[1;33m,\u001b[0m \u001b[0mwin_type\u001b[0m\u001b[1;33m)\u001b[0m\u001b[1;33m\u001b[0m\u001b[1;33m\u001b[0m\u001b[0m\n",
      "\u001b[1;32m<ipython-input-30-f4e031aa049a>\u001b[0m in \u001b[0;36mframe_signal\u001b[1;34m(signal, srate, win_size, win_step)\u001b[0m\n\u001b[0;32m      4\u001b[0m \u001b[1;33m\u001b[0m\u001b[0m\n\u001b[0;32m      5\u001b[0m     \u001b[1;31m# Get number of frames\u001b[0m\u001b[1;33m\u001b[0m\u001b[1;33m\u001b[0m\u001b[1;33m\u001b[0m\u001b[0m\n\u001b[1;32m----> 6\u001b[1;33m     \u001b[0mnum_frames\u001b[0m \u001b[1;33m=\u001b[0m \u001b[0mint\u001b[0m\u001b[1;33m(\u001b[0m\u001b[0mnp\u001b[0m\u001b[1;33m.\u001b[0m\u001b[0mcell\u001b[0m\u001b[1;33m(\u001b[0m\u001b[0mnp\u001b[0m\u001b[1;33m.\u001b[0m\u001b[0mabs\u001b[0m\u001b[1;33m(\u001b[0m\u001b[0mlen\u001b[0m\u001b[1;33m(\u001b[0m\u001b[0msingal\u001b[0m\u001b[1;33m)\u001b[0m \u001b[1;33m-\u001b[0m \u001b[0mframe_size\u001b[0m\u001b[1;33m)\u001b[0m \u001b[1;33m/\u001b[0m \u001b[0mframe_step\u001b[0m\u001b[1;33m)\u001b[0m\u001b[1;33m)\u001b[0m\u001b[1;33m\u001b[0m\u001b[1;33m\u001b[0m\u001b[0m\n\u001b[0m\u001b[0;32m      7\u001b[0m     \u001b[1;31m# Pad signal\u001b[0m\u001b[1;33m\u001b[0m\u001b[1;33m\u001b[0m\u001b[1;33m\u001b[0m\u001b[0m\n\u001b[0;32m      8\u001b[0m     \u001b[0mpad_len\u001b[0m \u001b[1;33m=\u001b[0m \u001b[0mnum_frames\u001b[0m \u001b[1;33m*\u001b[0m \u001b[0mframe_step\u001b[0m \u001b[1;33m+\u001b[0m \u001b[0mframe_size\u001b[0m\u001b[1;33m\u001b[0m\u001b[1;33m\u001b[0m\u001b[0m\n",
      "\u001b[1;31mAttributeError\u001b[0m: module 'numpy' has no attribute 'cell'"
     ]
    }
   ],
   "source": [
    "max_freq = None  # cutoff freq\n",
    "win_size = 0.008 # sec\n",
    "win_step = 0.001 # sec\n",
    "win_type = 'hanning'  # options: 'rect', 'hamming', 'hanning', 'kaiser', 'blackman'\n",
    "nfft = 1024\n",
    "\n",
    "# Emphasize signal\n",
    "s = preemphasis(s)\n",
    "# Frame signal\n",
    "frames = frame_signal(s, sr, win_size, win_step)\n",
    "# Apply window function\n",
    "frames *= get_window(win_size, sr, win_type)\n",
    "print('frames:', frames.shape)"
   ]
  },
  {
   "cell_type": "code",
   "execution_count": null,
   "metadata": {},
   "outputs": [],
   "source": []
  }
 ],
 "metadata": {
  "kernelspec": {
   "display_name": "Python 3",
   "language": "python",
   "name": "python3"
  },
  "language_info": {
   "codemirror_mode": {
    "name": "ipython",
    "version": 3
   },
   "file_extension": ".py",
   "mimetype": "text/x-python",
   "name": "python",
   "nbconvert_exporter": "python",
   "pygments_lexer": "ipython3",
   "version": "3.7.3"
  }
 },
 "nbformat": 4,
 "nbformat_minor": 2
}
